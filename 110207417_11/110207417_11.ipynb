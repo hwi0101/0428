{
 "cells": [
  {
   "cell_type": "markdown",
   "metadata": {},
   "source": [
    "# Chapter 10\n",
    "\n",
    "# Lists\n",
    "\n",
    "This chapter presents one of Python's most useful built-in types, lists.\n",
    "You will also learn more about objects and what can happen when you have\n",
    "more than one name for the same object."
   ]
  },
  {
   "cell_type": "markdown",
   "metadata": {},
   "source": [
    "## 10.1 A list is a sequence\n",
    "\n",
    "Like a string, a **list (串列)** is a sequence of values.  In a string, the\n",
    "values are characters; in a list, they can be any type.  The values in\n",
    "a list are called **elements (元素)** or sometimes **items (項目)**.\n",
    "\n",
    "There are several ways to create a new list; the simplest is to\n",
    "enclose the elements in square brackets ([ and ]):\n",
    "\n",
    "```\n",
    "[10, 20, 30, 40]\n",
    "['crunchy frog', 'ram bladder', 'lark vomit']\n",
    "```\n",
    "\n",
    "The first example is a list of four integers.  The second is a list of\n",
    "three strings.  The elements of a list don't have to be the same type.\n",
    "The following list contains a string, a float, an integer, and\n",
    "(lo!) another list:\n",
    "\n",
    "```\n",
    "['spam', 2.0, 5, [10, 20]]\n",
    "```\n",
    "\n",
    "A list within another list is **nested**.\n",
    "\n",
    "A list that contains no elements is\n",
    "called an empty list; you can create one with empty\n",
    "brackets, [].\n",
    "\n",
    "As you might expect, you can assign list values to variables:\n",
    "\n",
    "```\n",
    ">>> cheeses = ['Cheddar', 'Edam', 'Gouda']\n",
    ">>> numbers = [42, 123]\n",
    ">>> empty = []\n",
    ">>> print(cheeses, numbers, empty)\n",
    "['Cheddar', 'Edam', 'Gouda'] [42, 123] []\n",
    "```"
   ]
  },
  {
   "cell_type": "markdown",
   "metadata": {},
   "source": [
    "## 10.2 Lists are mutable\n",
    "\n",
    "The syntax for accessing the elements of a list is the same as for\n",
    "accessing the characters of a string---the bracket operator.  The\n",
    "expression inside the brackets specifies the index.  Remember that the\n",
    "indices start at 0:\n",
    "\n",
    "```\n",
    ">>> cheeses[0]\n",
    "'Cheddar'\n",
    "```\n",
    "\n",
    "Unlike strings, lists are mutable.  When the bracket operator appears\n",
    "on the left side of an assignment, it identifies the element of the\n",
    "list that will be assigned.\n",
    "\n",
    "```\n",
    ">>> numbers = [42, 123]\n",
    ">>> numbers[1] = 5\n",
    ">>> numbers\n",
    "[42, 5]\n",
    "```\n",
    "\n",
    "The one-eth element of `numbers`, which\n",
    "used to be 123, is now 5.\n",
    "\n",
    "Figure 10.1 shows \n",
    "the state diagram for `cheeses`, `numbers` and `empty`.\n",
    "\n",
    "Lists are represented by boxes with the word \"list\" outside\n",
    "and the elements of the list inside.  `cheeses` refers to\n",
    "a list with three elements indexed 0, 1 and 2.\n",
    "`numbers` contains two elements; the diagram shows that the\n",
    "value of the second element has been reassigned from 123 to 5.\n",
    "`empty` refers to a list with no elements.\n",
    "\n",
    "List indices work the same way as string indices:\n",
    "\n",
    "- Any integer expression can be used as an index.\n",
    "\n",
    "- If you try to read or write an element that does not exist, you\n",
    "get an `IndexError`.\n",
    "\n",
    "- If an index has a negative value, it counts backward from the\n",
    "end of the list.\n",
    "\n",
    "The `in` operator also works on lists.\n",
    "\n",
    "```\n",
    ">>> cheeses = ['Cheddar', 'Edam', 'Gouda']\n",
    ">>> 'Edam' in cheeses\n",
    "True\n",
    ">>> 'Brie' in cheeses\n",
    "False\n",
    "```\n",
    "\n",
    "<img src=\"fig10_1.png\">"
   ]
  },
  {
   "cell_type": "markdown",
   "metadata": {},
   "source": [
    "## 10.3 Traversing a list\n",
    "\n",
    "The most common way to traverse the elements of a list is\n",
    "with a `for` loop.  The syntax is the same as for strings:\n",
    "\n",
    "```\n",
    "for cheese in cheeses:\n",
    "    print(cheese)\n",
    "```\n",
    "\n",
    "This works well if you only need to read the elements of the\n",
    "list.  But if you want to write or update the elements, you\n",
    "need the indices.  A common way to do that is to combine\n",
    "the built-in functions `range` and `len`:\n",
    "\n",
    "```\n",
    "for i in range(len(numbers)):\n",
    "    numbers[i] = numbers[i] * 2\n",
    "```\n",
    "\n",
    "This loop traverses the list and updates each element.  `len`\n",
    "returns the number of elements in the list.  `range` returns\n",
    "a list of indices from 0 to $n-1$, where $n$ is the length of\n",
    "the list.  Each time through the loop `i` gets the index\n",
    "of the next element.  The assignment statement in the body uses\n",
    "`i` to read the old value of the element and to assign the\n",
    "new value.\n",
    "\n",
    "A `for` loop over an empty list never runs the body:\n",
    "\n",
    "```\n",
    "for x in []:\n",
    "    print('This never happens.')\n",
    "```\n",
    "\n",
    "Although a list can contain another list, the nested\n",
    "list still counts as a single element.  The length of this list is\n",
    "four:\n",
    "\n",
    "```\n",
    "['spam', 1, ['Brie', 'Roquefort', 'Pol le Veq'], [1, 2, 3]]\n",
    "```"
   ]
  },
  {
   "cell_type": "code",
   "execution_count": 1,
   "metadata": {},
   "outputs": [
    {
     "data": {
      "text/plain": [
       "[10, 20, 30, 40]"
      ]
     },
     "execution_count": 1,
     "metadata": {},
     "output_type": "execute_result"
    }
   ],
   "source": [
    "[10, 20, 30, 40]"
   ]
  },
  {
   "cell_type": "code",
   "execution_count": 2,
   "metadata": {},
   "outputs": [
    {
     "data": {
      "text/plain": [
       "['crunchy frog', 'ram bladder', 'lark vomit']"
      ]
     },
     "execution_count": 2,
     "metadata": {},
     "output_type": "execute_result"
    }
   ],
   "source": [
    "['crunchy frog', 'ram bladder', 'lark vomit']"
   ]
  },
  {
   "cell_type": "code",
   "execution_count": 1,
   "metadata": {},
   "outputs": [
    {
     "data": {
      "text/plain": [
       "['spam', 2.0, 5, [10, 20]]"
      ]
     },
     "execution_count": 1,
     "metadata": {},
     "output_type": "execute_result"
    }
   ],
   "source": [
    "['spam', 2.0, 5, [10, 20]]"
   ]
  },
  {
   "cell_type": "code",
   "execution_count": 2,
   "metadata": {},
   "outputs": [
    {
     "name": "stdout",
     "output_type": "stream",
     "text": [
      "['Cheddar', 'Edam', 'Gouda'] [17, 123] []\n"
     ]
    }
   ],
   "source": [
    "cheeses = ['Cheddar', 'Edam', 'Gouda']\n",
    "numbers = [17, 123]\n",
    "empty = []\n",
    "print(cheeses, numbers, empty)"
   ]
  },
  {
   "cell_type": "code",
   "execution_count": 3,
   "metadata": {},
   "outputs": [
    {
     "name": "stdout",
     "output_type": "stream",
     "text": [
      "Cheddar\n",
      "[17, 5]\n"
     ]
    }
   ],
   "source": [
    "numbers = [17, 123]\n",
    "numbers[1] = 5\n",
    "print(cheeses[0])\n",
    "print(numbers)"
   ]
  },
  {
   "cell_type": "code",
   "execution_count": 4,
   "metadata": {},
   "outputs": [
    {
     "data": {
      "text/plain": [
       "True"
      ]
     },
     "execution_count": 4,
     "metadata": {},
     "output_type": "execute_result"
    }
   ],
   "source": [
    "'Edam' in cheeses"
   ]
  },
  {
   "cell_type": "code",
   "execution_count": 5,
   "metadata": {},
   "outputs": [
    {
     "data": {
      "text/plain": [
       "False"
      ]
     },
     "execution_count": 5,
     "metadata": {},
     "output_type": "execute_result"
    }
   ],
   "source": [
    "'Brie' in cheeses"
   ]
  },
  {
   "cell_type": "code",
   "execution_count": 6,
   "metadata": {},
   "outputs": [
    {
     "name": "stdout",
     "output_type": "stream",
     "text": [
      "Cheddar\n",
      "Edam\n",
      "Gouda\n"
     ]
    }
   ],
   "source": [
    "for cheese in cheeses:\n",
    "    print(cheese)"
   ]
  },
  {
   "cell_type": "code",
   "execution_count": 7,
   "metadata": {},
   "outputs": [
    {
     "name": "stdout",
     "output_type": "stream",
     "text": [
      "34\n",
      "246\n",
      "[34, 246]\n"
     ]
    }
   ],
   "source": [
    "numbers = [17, 123]\n",
    "for i in range(len(numbers)):\n",
    "    numbers[i] = numbers[i] * 2\n",
    "    print(numbers[i])\n",
    "    \n",
    "print(numbers)"
   ]
  },
  {
   "cell_type": "code",
   "execution_count": 8,
   "metadata": {},
   "outputs": [],
   "source": [
    "for x in []:\n",
    "    print('This never happens.')"
   ]
  },
  {
   "cell_type": "code",
   "execution_count": 9,
   "metadata": {},
   "outputs": [
    {
     "name": "stdout",
     "output_type": "stream",
     "text": [
      "length of t:  4\n",
      "spam\n",
      "1\n",
      "['Brie', 'Roquefort', 'Pol le Veq']\n",
      "[1, 2, 3]\n"
     ]
    }
   ],
   "source": [
    "t = ['spam', 1, ['Brie', 'Roquefort', 'Pol le Veq'], [1, 2, 3]]\n",
    "print('length of t: ', len(t))\n",
    "for i in t:\n",
    "    print(i)"
   ]
  },
  {
   "cell_type": "code",
   "execution_count": 1,
   "metadata": {},
   "outputs": [
    {
     "name": "stdout",
     "output_type": "stream",
     "text": [
      "length of t:  4\n",
      "spam , type =  <class 'str'>\n",
      "1 , type =  <class 'int'>\n",
      "['Brie', 'Roquefort', 'Pol le Veq'] , type =  <class 'list'>\n",
      "Brie\n",
      "Roquefort\n",
      "Pol le Veq\n",
      "[1, 2, 3] , type =  <class 'list'>\n",
      "1\n",
      "2\n",
      "3\n"
     ]
    }
   ],
   "source": [
    "t = ['spam', 1, ['Brie', 'Roquefort', 'Pol le Veq'], [1, 2, 3]]\n",
    "print('length of t: ', len(t))\n",
    "for i in t:\n",
    "    print(i, \", type = \", type(i))\n",
    "    \n",
    "    if isinstance(i,list):\n",
    "        for j in i:\n",
    "            print(j)"
   ]
  },
  {
   "cell_type": "markdown",
   "metadata": {},
   "source": [
    "## 10.4 List operations\n",
    "\n",
    "The `+` operator concatenates lists:\n",
    "\n",
    "```\n",
    ">>> a = [1, 2, 3]\n",
    ">>> b = [4, 5, 6]\n",
    ">>> c = a + b\n",
    ">>> c\n",
    "[1, 2, 3, 4, 5, 6]\n",
    "```\n",
    "\n",
    "The `*` operator repeats a list a given number of times:\n",
    "\n",
    "```\n",
    ">>> [0] * 4\n",
    "[0, 0, 0, 0]\n",
    ">>> [1, 2, 3] * 3\n",
    "[1, 2, 3, 1, 2, 3, 1, 2, 3]\n",
    "```\n",
    "\n",
    "The first example repeats `[0]` four times.  The second example\n",
    "repeats the list `[1, 2, 3]` three times."
   ]
  },
  {
   "cell_type": "code",
   "execution_count": 11,
   "metadata": {
    "scrolled": true
   },
   "outputs": [
    {
     "name": "stdout",
     "output_type": "stream",
     "text": [
      "[1, 2, 3, 4, 5, 6]\n",
      "[0, 0, 0, 0]\n",
      "[1, 2, 3, 1, 2, 3, 1, 2, 3]\n"
     ]
    }
   ],
   "source": [
    "a = [1, 2, 3]\n",
    "b = [4, 5, 6]\n",
    "c = a + b\n",
    "d = [0] * 4\n",
    "e = [1,2,3] * 3\n",
    "print(c)\n",
    "print(d)\n",
    "print(e)"
   ]
  },
  {
   "cell_type": "markdown",
   "metadata": {},
   "source": [
    "## 10.5 List slices\n",
    "\n",
    "The slice operator also works on lists:\n",
    "\n",
    "```\n",
    ">>> t = ['a', 'b', 'c', 'd', 'e', 'f']\n",
    ">>> t[1:3]\n",
    "['b', 'c']\n",
    ">>> t[:4]\n",
    "['a', 'b', 'c', 'd']\n",
    ">>> t[3:]\n",
    "['d', 'e', 'f']\n",
    "```\n",
    "\n",
    "If you omit the first index, the slice starts at the beginning.\n",
    "If you omit the second, the slice goes to the end.  So if you\n",
    "omit both, the slice is a copy of the whole list.\n",
    "\n",
    "```\n",
    ">>> t[:]\n",
    "['a', 'b', 'c', 'd', 'e', 'f']\n",
    "```\n",
    "\n",
    "Since lists are mutable, it is often useful to make a copy\n",
    "before performing operations that modify lists.\n",
    "\n",
    "A slice operator on the left side of an assignment\n",
    "can update multiple elements:\n",
    "\n",
    "```\n",
    ">>> t = ['a', 'b', 'c', 'd', 'e', 'f']\n",
    ">>> t[1:3] = ['x', 'y']\n",
    ">>> t\n",
    "['a', 'x', 'y', 'd', 'e', 'f']\n",
    "```"
   ]
  },
  {
   "cell_type": "code",
   "execution_count": 14,
   "metadata": {},
   "outputs": [
    {
     "name": "stdout",
     "output_type": "stream",
     "text": [
      "['b', 'c']\n",
      "['a', 'b', 'c', 'd']\n",
      "['d', 'e', 'f']\n",
      "['a', 'b', 'c', 'd', 'e', 'f']\n"
     ]
    }
   ],
   "source": [
    "t = ['a', 'b', 'c', 'd', 'e', 'f']\n",
    "print(t[1:3])\n",
    "print(t[:4])\n",
    "print(t[3:])\n",
    "print(t[:])"
   ]
  },
  {
   "cell_type": "code",
   "execution_count": 15,
   "metadata": {},
   "outputs": [
    {
     "name": "stdout",
     "output_type": "stream",
     "text": [
      "['a', 'x', 'y', 'd', 'e', 'f']\n"
     ]
    }
   ],
   "source": [
    "t[1:3] = ['x', 'y']\n",
    "print(t)"
   ]
  },
  {
   "cell_type": "markdown",
   "metadata": {},
   "source": [
    "## 10.6 List methods\n",
    "\n",
    "Python provides methods that operate on lists.  For example,\n",
    "`append` adds a new element to the end of a list:\n",
    "\n",
    "```\n",
    ">>> t = ['a', 'b', 'c']\n",
    ">>> t.append('d')\n",
    ">>> t\n",
    "['a', 'b', 'c', 'd']\n",
    "```\n",
    "\n",
    "`extend` takes a list as an argument and appends all of\n",
    "the elements:\n",
    "\n",
    "```\n",
    ">>> t1 = ['a', 'b', 'c']\n",
    ">>> t2 = ['d', 'e']\n",
    ">>> t1.extend(t2)\n",
    ">>> t1\n",
    "['a', 'b', 'c', 'd', 'e']\n",
    "```\n",
    "\n",
    "This example leaves `t2` unmodified.\n",
    "\n",
    "`sort` arranges the elements of the list from low to high:\n",
    "\n",
    "```\n",
    ">>> t = ['d', 'c', 'e', 'b', 'a']\n",
    ">>> t.sort()\n",
    ">>> t\n",
    "['a', 'b', 'c', 'd', 'e']\n",
    "```\n",
    "\n",
    "<font color=\"red\">Most list methods are void; they modify the list and return <code>None</code>.\n",
    "If you accidentally write <code>t = t.sort()</code>, you will be disappointed\n",
    "with the result.</font>\n"
   ]
  },
  {
   "cell_type": "code",
   "execution_count": 10,
   "metadata": {},
   "outputs": [
    {
     "name": "stdout",
     "output_type": "stream",
     "text": [
      "['a', 'b', 'c', 'd']\n"
     ]
    }
   ],
   "source": [
    "t = ['a', 'b', 'c']\n",
    "t.append('d')\n",
    "print(t)"
   ]
  },
  {
   "cell_type": "code",
   "execution_count": 11,
   "metadata": {},
   "outputs": [
    {
     "name": "stdout",
     "output_type": "stream",
     "text": [
      "['a', 'b', 'c', 'd', 'e']\n"
     ]
    }
   ],
   "source": [
    "t1 = ['a', 'b', 'c']\n",
    "t2 = ['d', 'e']\n",
    "t1.extend(t2)\n",
    "print(t1)"
   ]
  },
  {
   "cell_type": "code",
   "execution_count": 12,
   "metadata": {},
   "outputs": [
    {
     "name": "stdout",
     "output_type": "stream",
     "text": [
      "['a', 'b', 'c', ['d', 'e']]\n"
     ]
    }
   ],
   "source": [
    "t1 = ['a', 'b', 'c']\n",
    "t2 = ['d', 'e']\n",
    "t1.append(t2)\n",
    "print(t1)"
   ]
  },
  {
   "cell_type": "code",
   "execution_count": 13,
   "metadata": {},
   "outputs": [
    {
     "name": "stdout",
     "output_type": "stream",
     "text": [
      "['a', 'b', 'c', 'd', 'e']\n",
      "None\n"
     ]
    }
   ],
   "source": [
    "t = ['d', 'c', 'e', 'b', 'a']\n",
    "t.sort()\n",
    "print(t)\n",
    "\n",
    "x = ['d', 'c', 'e', 'b', 'a']\n",
    "x = x.sort()\n",
    "print(x)"
   ]
  },
  {
   "cell_type": "code",
   "execution_count": 14,
   "metadata": {},
   "outputs": [
    {
     "name": "stdout",
     "output_type": "stream",
     "text": [
      "['e', 'd', 'c', 'b', 'a']\n"
     ]
    }
   ],
   "source": [
    "t = ['d', 'c', 'e', 'b', 'a']\n",
    "t.sort(reverse=True)\n",
    "print(t)"
   ]
  },
  {
   "cell_type": "markdown",
   "metadata": {},
   "source": [
    "## 10.7 Map, filter and reduce\n",
    "\n",
    "To add up all the numbers in a list, you can use a loop like this:\n",
    "\n",
    "```\n",
    "def add_all(t):\n",
    "    total = 0\n",
    "    for x in t:\n",
    "        total += x\n",
    "    return total\n",
    "```\n",
    "\n",
    "`total` is initialized to 0.  Each time through the loop,\n",
    "`x` gets one element from the list.  The `+=` operator\n",
    "provides a short way to update a variable.  This \n",
    "**augmented assignment statement (擴增的指派陳述句)**,\n",
    "\n",
    "```\n",
    "total += x\n",
    "```\n",
    "\n",
    "is equivalent to\n",
    "\n",
    "```\n",
    "total = total + x\n",
    "```\n",
    "\n",
    "As the loop runs, `total` accumulates the sum of the\n",
    "elements; a variable used this way is sometimes called an\n",
    "**accumulator (累加器)**.\n",
    "\n",
    "Adding up the elements of a list is such a common operation\n",
    "that Python provides it as a built-in function, `sum`:\n",
    "\n",
    "```\n",
    ">>> t = [1, 2, 3]\n",
    ">>> sum(t)\n",
    "6\n",
    "```\n",
    "\n",
    "An operation like this that combines a sequence of elements into\n",
    "a single value is sometimes called **reduce (縮減)**.\n",
    "\n",
    "Sometimes you want to traverse one list while building\n",
    "another.  For example, the following function takes a list of strings\n",
    "and returns a new list that contains capitalized strings:\n",
    "\n",
    "```\n",
    "def capitalize_all(t):\n",
    "    res = []\n",
    "    for s in t:\n",
    "        res.append(s.capitalize())\n",
    "    return res\n",
    "```\n",
    "\n",
    "`res` is initialized with an empty list; each time through\n",
    "the loop, we append the next element.  So `res` is another\n",
    "kind of accumulator.\n",
    "\n",
    "An operation like \"capitalize_all\" is sometimes called a **map (映射)**\n",
    "because it \"maps\" a function (in this case the method `capitalize`) \n",
    "onto each of the elements in a sequence.\n",
    "\n",
    "Another common operation is to select some of the elements from\n",
    "a list and return a sublist.  For example, the following\n",
    "function takes a list of strings and returns a list that contains\n",
    "only the uppercase strings:\n",
    "\n",
    "```\n",
    "def only_upper(t):\n",
    "    res = []\n",
    "    for s in t:\n",
    "        if s.isupper():\n",
    "            res.append(s)\n",
    "    return res\n",
    "```\n",
    "\n",
    "`isupper` is a string method that returns `True` if\n",
    "the string contains only upper case letters.\n",
    "\n",
    "An operation like `only_upper` is called a **filter (過濾器)** because\n",
    "it selects some of the elements and filters out the others.\n",
    "\n",
    "Most common list operations can be expressed as a combination\n",
    "of map, filter and reduce."
   ]
  },
  {
   "cell_type": "code",
   "execution_count": 15,
   "metadata": {},
   "outputs": [
    {
     "name": "stdout",
     "output_type": "stream",
     "text": [
      "total=  1\n",
      "total=  3\n",
      "total=  6\n",
      "6\n",
      "6\n"
     ]
    }
   ],
   "source": [
    "def add_all(t):\n",
    "    total = 0\n",
    "    for x in t:\n",
    "        total += x\n",
    "        print(\"total= \",total)\n",
    "    return total\n",
    "\n",
    "t = [1, 2, 3]\n",
    "print(add_all(t))\n",
    "print(sum(t))"
   ]
  },
  {
   "cell_type": "raw",
   "metadata": {},
   "source": [
    "Exercise 10.1. Write a function called nested_sum that takes a nested list of integers and add up\n",
    "the elements from all of the nested lists."
   ]
  },
  {
   "cell_type": "code",
   "execution_count": 11,
   "metadata": {},
   "outputs": [
    {
     "ename": "TypeError",
     "evalue": "unsupported operand type(s) for +: 'int' and 'list'",
     "output_type": "error",
     "traceback": [
      "\u001b[1;31m---------------------------------------------------------------------------\u001b[0m",
      "\u001b[1;31mTypeError\u001b[0m                                 Traceback (most recent call last)",
      "\u001b[1;32m<ipython-input-11-888b3f4c090c>\u001b[0m in \u001b[0;36m<module>\u001b[1;34m\u001b[0m\n\u001b[0;32m      1\u001b[0m \u001b[0mt\u001b[0m \u001b[1;33m=\u001b[0m \u001b[1;33m[\u001b[0m\u001b[1;36m1\u001b[0m\u001b[1;33m,\u001b[0m \u001b[1;36m2\u001b[0m\u001b[1;33m,\u001b[0m \u001b[1;36m3\u001b[0m\u001b[1;33m,\u001b[0m \u001b[1;33m[\u001b[0m\u001b[1;36m4\u001b[0m\u001b[1;33m,\u001b[0m\u001b[1;36m5\u001b[0m\u001b[1;33m]\u001b[0m\u001b[1;33m]\u001b[0m\u001b[1;33m\u001b[0m\u001b[1;33m\u001b[0m\u001b[0m\n\u001b[0;32m      2\u001b[0m \u001b[1;33m\u001b[0m\u001b[0m\n\u001b[1;32m----> 3\u001b[1;33m \u001b[0mprint\u001b[0m\u001b[1;33m(\u001b[0m\u001b[0msum\u001b[0m\u001b[1;33m(\u001b[0m\u001b[0mt\u001b[0m\u001b[1;33m)\u001b[0m\u001b[1;33m)\u001b[0m\u001b[1;33m\u001b[0m\u001b[1;33m\u001b[0m\u001b[0m\n\u001b[0m",
      "\u001b[1;31mTypeError\u001b[0m: unsupported operand type(s) for +: 'int' and 'list'"
     ]
    }
   ],
   "source": [
    "t = [1, 2, 3, [4,5]]\n",
    "\n",
    "print(sum(t))"
   ]
  },
  {
   "cell_type": "code",
   "execution_count": 17,
   "metadata": {},
   "outputs": [
    {
     "name": "stdout",
     "output_type": "stream",
     "text": [
      "['P']\n",
      "['P', 'E']\n",
      "['P', 'E', 'T']\n",
      "['P', 'E', 'T', 'E']\n",
      "['P', 'E', 'T', 'E', 'R']\n",
      "['P', 'E', 'T', 'E', 'R']\n",
      "['Peter pan']\n",
      "['Peter pan', 'John smith']\n",
      "['Peter pan', 'John smith', 'Mary jane']\n",
      "['Peter pan', 'John smith', 'Mary jane']\n"
     ]
    }
   ],
   "source": [
    "def capitalize_all(t):\n",
    "    res = []\n",
    "    for s in t:\n",
    "        res.append(s.capitalize())\n",
    "        print(res)\n",
    "    return res\n",
    "\n",
    "s = 'peter'\n",
    "print(capitalize_all(s))\n",
    "\n",
    "t = [\"peter pan\", \"john smith\", \"mary jane\"]\n",
    "print(capitalize_all(t))"
   ]
  },
  {
   "cell_type": "code",
   "execution_count": 18,
   "metadata": {},
   "outputs": [
    {
     "name": "stdout",
     "output_type": "stream",
     "text": [
      "['P', 'P']\n"
     ]
    }
   ],
   "source": [
    "def only_upper(t):\n",
    "    res = []\n",
    "    for s in t:\n",
    "        if s.isupper():\n",
    "            res.append(s)\n",
    "    return res\n",
    "\n",
    "s = 'Peter Pan'\n",
    "print(only_upper(s))"
   ]
  },
  {
   "cell_type": "markdown",
   "metadata": {},
   "source": [
    "## 10.8 Deleting elements\n",
    "\n",
    "There are several ways to delete elements from a list.  If you\n",
    "know the index of the element you want, you can use\n",
    "\n",
    "```\n",
    ">>> t = ['a', 'b', 'c']\n",
    ">>> x = t.pop(1)\n",
    ">>> t\n",
    "['a', 'c']\n",
    ">>> x\n",
    "'b'\n",
    "```\n",
    "\n",
    "`pop` modifies the list and returns the element that was removed.\n",
    "If you don't provide an index, it deletes and returns the\n",
    "last element.\n",
    "\n",
    "If you don't need the removed value, you can use the `del`\n",
    "operator:\n",
    "\n",
    "```\n",
    ">>> t = ['a', 'b', 'c']\n",
    ">>> del t[1]\n",
    ">>> t\n",
    "['a', 'c']\n",
    "```\n",
    "\n",
    "If you know the element you want to remove (but not the index), you\n",
    "can use `remove`:\n",
    "\n",
    "```\n",
    ">>> t = ['a', 'b', 'c']\n",
    ">>> t.remove('b')\n",
    ">>> t\n",
    "['a', 'c']\n",
    "```\n",
    "\n",
    "The return value from `remove` is `None`.\n",
    "\n",
    "To remove more than one element, you can use `del` with\n",
    "a slice index:\n",
    "\n",
    "```\n",
    ">>> t = ['a', 'b', 'c', 'd', 'e', 'f']\n",
    ">>> del t[1:5]\n",
    ">>> t\n",
    "['a', 'f']\n",
    "```\n",
    "\n",
    "As usual, the slice selects all the elements up to but not\n",
    "including the second index.\n"
   ]
  },
  {
   "cell_type": "code",
   "execution_count": 21,
   "metadata": {},
   "outputs": [
    {
     "name": "stdout",
     "output_type": "stream",
     "text": [
      "['a', 'c']\n",
      "b\n"
     ]
    }
   ],
   "source": [
    "t = ['a', 'b', 'c']\n",
    "x = t.pop(1)\n",
    "print(t)\n",
    "print(x)"
   ]
  },
  {
   "cell_type": "code",
   "execution_count": 22,
   "metadata": {},
   "outputs": [
    {
     "name": "stdout",
     "output_type": "stream",
     "text": [
      "['a', 'c']\n"
     ]
    }
   ],
   "source": [
    "t = ['a', 'b', 'c']\n",
    "del t[1]\n",
    "print(t)"
   ]
  },
  {
   "cell_type": "code",
   "execution_count": 23,
   "metadata": {},
   "outputs": [
    {
     "name": "stdout",
     "output_type": "stream",
     "text": [
      "['a', 'c']\n"
     ]
    }
   ],
   "source": [
    "t = ['a', 'b', 'c']\n",
    "t.remove('b')\n",
    "print(t)"
   ]
  },
  {
   "cell_type": "code",
   "execution_count": 24,
   "metadata": {},
   "outputs": [
    {
     "name": "stdout",
     "output_type": "stream",
     "text": [
      "['a', 'f']\n"
     ]
    }
   ],
   "source": [
    "t = ['a', 'b', 'c', 'd', 'e', 'f']\n",
    "del t[1:5]\n",
    "print(t)"
   ]
  },
  {
   "cell_type": "markdown",
   "metadata": {},
   "source": [
    "## 10.9 Lists and strings\n",
    "\n",
    "A string is a sequence of characters and a list is a sequence\n",
    "of values, but a list of characters is not the same as a\n",
    "string.  To convert from a string to a list of characters,\n",
    "you can use `list`:\n",
    "\n",
    "```\n",
    ">>> s = 'spam'\n",
    ">>> t = list(s)\n",
    ">>> t\n",
    "['s', 'p', 'a', 'm']\n",
    "```\n",
    "\n",
    "Because `list` is the name of a built-in function, you should\n",
    "avoid using it as a variable name.  I also avoid `l` because\n",
    "it looks too much like `1`.  So that's why I use `t`.\n",
    "\n",
    "The `list` function breaks a string into individual letters.  If\n",
    "you want to break a string into words, you can use the `split`\n",
    "method:\n",
    "\n",
    "```\n",
    ">>> s = 'pining for the fjords'\n",
    ">>> t = s.split()\n",
    ">>> t\n",
    "['pining', 'for', 'the', 'fjords']\n",
    "```\n",
    "An optional argument called a **delimiter** specifies which\n",
    "characters to use as word boundaries.\n",
    "The following example\n",
    "uses a hyphen as a delimiter:\n",
    "\n",
    "```\n",
    ">>> s = 'spam-spam-spam'\n",
    ">>> delimiter = '-'\n",
    ">>> t = s.split(delimiter)\n",
    ">>> t\n",
    "['spam', 'spam', 'spam']\n",
    "```\n",
    "\n",
    "`join` is the inverse of `split`.  It\n",
    "takes a list of strings and\n",
    "concatenates the elements.  `join` is a string method,\n",
    "so you have to invoke it on the delimiter and pass the\n",
    "list as a parameter:\n",
    "\n",
    "```\n",
    ">>> t = ['pining', 'for', 'the', 'fjords']\n",
    ">>> delimiter = ' '\n",
    ">>> s = delimiter.join(t)\n",
    ">>> s\n",
    "'pining for the fjords'\n",
    "```\n",
    "\n",
    "In this case the delimiter is a space character, so\n",
    "`join` puts a space between words.  To concatenate\n",
    "strings without spaces, you can use the empty string,\n",
    "'', as a delimiter. "
   ]
  },
  {
   "cell_type": "code",
   "execution_count": 25,
   "metadata": {},
   "outputs": [
    {
     "name": "stdout",
     "output_type": "stream",
     "text": [
      "['s', 'p', 'a', 'm']\n"
     ]
    }
   ],
   "source": [
    "s = 'spam'\n",
    "t = list(s)\n",
    "print(t)"
   ]
  },
  {
   "cell_type": "code",
   "execution_count": 26,
   "metadata": {},
   "outputs": [
    {
     "name": "stdout",
     "output_type": "stream",
     "text": [
      "['pining', 'for', 'the', 'fjords']\n"
     ]
    }
   ],
   "source": [
    "s = 'pining for the fjords'\n",
    "t = s.split()\n",
    "print(t)"
   ]
  },
  {
   "cell_type": "code",
   "execution_count": 27,
   "metadata": {},
   "outputs": [
    {
     "data": {
      "text/plain": [
       "['spam', 'spam', 'spam']"
      ]
     },
     "execution_count": 27,
     "metadata": {},
     "output_type": "execute_result"
    }
   ],
   "source": [
    "s = 'spam-spam-spam'\n",
    "delimiter = '-'\n",
    "s.split(delimiter)"
   ]
  },
  {
   "cell_type": "code",
   "execution_count": 28,
   "metadata": {},
   "outputs": [
    {
     "data": {
      "text/plain": [
       "'pining-for-the-fjords'"
      ]
     },
     "execution_count": 28,
     "metadata": {},
     "output_type": "execute_result"
    }
   ],
   "source": [
    "t = ['pining', 'for', 'the', 'fjords']\n",
    "delimiter = '-'\n",
    "delimiter.join(t)"
   ]
  },
  {
   "cell_type": "code",
   "execution_count": 19,
   "metadata": {},
   "outputs": [
    {
     "name": "stdout",
     "output_type": "stream",
     "text": [
      "peter disney.com.us\n"
     ]
    }
   ],
   "source": [
    "email = 'peter@disney.com.us'\n",
    "\n",
    "name, company = email.split('@')\n",
    "print(name, company)"
   ]
  },
  {
   "cell_type": "markdown",
   "metadata": {},
   "source": [
    "## 10.10 Objects and values\n",
    "\n",
    "If we run these assignment statements:\n",
    "\n",
    "```\n",
    "a = 'banana'\n",
    "b = 'banana'\n",
    "```\n",
    "\n",
    "We know that `a` and `b` both refer to a\n",
    "string, but we don't\n",
    "know whether they refer to the *same* string.\n",
    "There are two possible states, shown in Figure 10.2.\n",
    "\n",
    "In one case, `a` and `b` refer to two different objects that\n",
    "have the same value.  In the second case, they refer to the same\n",
    "object.\n",
    "\n",
    "To check whether two variables refer to the same object, you can\n",
    "use the `is` operator.\n",
    "\n",
    "```\n",
    ">>> a = 'banana'\n",
    ">>> b = 'banana'\n",
    ">>> a is b\n",
    "True\n",
    "```\n",
    "\n",
    "In this example, Python only created one string object, and both `a`\n",
    "and `b` refer to it.  But when you create two lists, you get\n",
    "two objects:\n",
    "\n",
    "```\n",
    ">>> a = [1, 2, 3]\n",
    ">>> b = [1, 2, 3]\n",
    ">>> a is b\n",
    "False\n",
    "```\n",
    "\n",
    "So the state diagram looks like Figure 10.3.\n",
    "\n",
    "In this case we would say that the two lists are **equivalent (相等的)**,\n",
    "because they have the same elements, but not **identical (完全相同)**, because\n",
    "they are not the same object.  If two objects are identical, they are\n",
    "also equivalent, but if they are equivalent, they are not necessarily\n",
    "identical.\n",
    "\n",
    "Until now, we have been using **\"object (物件)\"** and **\"value (值)\"**\n",
    "interchangeably, but it is more precise to say that an object has a\n",
    "value.  If you evaluate `[1, 2, 3]`, you get a list\n",
    "object whose value is a sequence of integers.  If another\n",
    "list has the same elements, we say it has the same value, but\n",
    "it is not the same object.\n",
    "\n",
    "<img src=\"fig10_2.png\">\n",
    "<img src=\"fig10_3.png\">"
   ]
  },
  {
   "cell_type": "code",
   "execution_count": 9,
   "metadata": {},
   "outputs": [
    {
     "data": {
      "text/plain": [
       "True"
      ]
     },
     "execution_count": 9,
     "metadata": {},
     "output_type": "execute_result"
    }
   ],
   "source": [
    "a = 'banana'\n",
    "b = 'banana'\n",
    "a is b"
   ]
  },
  {
   "cell_type": "code",
   "execution_count": 30,
   "metadata": {},
   "outputs": [
    {
     "data": {
      "text/plain": [
       "False"
      ]
     },
     "execution_count": 30,
     "metadata": {},
     "output_type": "execute_result"
    }
   ],
   "source": [
    "c = [1,2,3]\n",
    "d = [1,2,3]\n",
    "c is d"
   ]
  },
  {
   "cell_type": "markdown",
   "metadata": {},
   "source": [
    "## 10.11 Aliasing\n",
    "\n",
    "If `a` refers to an object and you assign `b = a`,\n",
    "then both variables refer to the same object:\n",
    "\n",
    "```\n",
    ">>> a = [1, 2, 3]\n",
    ">>> b = a\n",
    ">>> b is a\n",
    "True\n",
    "```\n",
    "\n",
    "The state diagram looks like Figure 10.4.\n",
    "\n",
    "The association of a variable with an object is called a \n",
    "**reference (參考)**.  In this example, there are two references to the same\n",
    "object.\n",
    "\n",
    "An object with more than one reference has more\n",
    "than one name, so we say that the object is **aliased (具有別名)**.\n",
    "\n",
    "If the aliased object is mutable, changes made with one alias affect\n",
    "the other:\n",
    "\n",
    "```\n",
    ">>> b[0] = 42\n",
    ">>> a\n",
    "[42, 2, 3]\n",
    "```\n",
    "\n",
    "Although this behavior can be useful, it is error-prone.  In general,\n",
    "it is safer to avoid aliasing when you are working with mutable\n",
    "objects.\n",
    "\n",
    "For immutable objects like strings, aliasing is not as much of a\n",
    "problem.  In this example:\n",
    "\n",
    "```\n",
    "a = 'banana'\n",
    "b = 'banana'\n",
    "```\n",
    "\n",
    "It almost never makes a difference whether `a` and `b` refer\n",
    "to the same string or not.\n",
    "\n",
    "<img src=\"fig10_4.png\">"
   ]
  },
  {
   "cell_type": "code",
   "execution_count": 20,
   "metadata": {},
   "outputs": [
    {
     "data": {
      "text/plain": [
       "True"
      ]
     },
     "execution_count": 20,
     "metadata": {},
     "output_type": "execute_result"
    }
   ],
   "source": [
    "a = [1, 2, 3]\n",
    "b = a\n",
    "b is a"
   ]
  },
  {
   "cell_type": "code",
   "execution_count": 21,
   "metadata": {},
   "outputs": [
    {
     "name": "stdout",
     "output_type": "stream",
     "text": [
      "[17, 2, 3]\n",
      "[17, 2, 3]\n",
      "True\n"
     ]
    }
   ],
   "source": [
    "a = [1, 2, 3]\n",
    "b = a\n",
    "b[0] = 17\n",
    "print(a)\n",
    "print(b)\n",
    "print(a is b)"
   ]
  },
  {
   "cell_type": "code",
   "execution_count": 23,
   "metadata": {},
   "outputs": [
    {
     "name": "stdout",
     "output_type": "stream",
     "text": [
      "False\n",
      "[1, 2, 3]\n",
      "[17, 2, 3]\n",
      "False\n"
     ]
    }
   ],
   "source": [
    "a = [1, 2, 3]\n",
    "b = a[:]\n",
    "print(a is b)\n",
    "b[0] = 17\n",
    "print(a)\n",
    "print(b)\n",
    "print(a is b)"
   ]
  },
  {
   "cell_type": "markdown",
   "metadata": {},
   "source": [
    "## 10.12 List arguments\n",
    "\n",
    "When you pass a list to a function, the function gets a reference to\n",
    "the list.  If the function modifies the list, the caller sees\n",
    "the change.  For example, `delete_head` removes the first element\n",
    "from a list:\n",
    "\n",
    "```\n",
    "def delete_head(t):\n",
    "    del t[0]\n",
    "```\n",
    "\n",
    "Here's how it is used:\n",
    "\n",
    "```\n",
    ">>> letters = ['a', 'b', 'c']\n",
    ">>> delete_head(letters)\n",
    ">>> letters\n",
    "['b', 'c']\n",
    "```\n",
    "\n",
    "The parameter `t` and the variable `letters` are\n",
    "aliases for the same object.  The stack diagram looks like\n",
    "Figure 10.5.\n",
    "\n",
    "Since the list is shared by two frames, I drew\n",
    "it between them.\n",
    "\n",
    "It is important to distinguish between operations that\n",
    "modify lists and operations that create new lists.  For\n",
    "example, the `append` method modifies a list, but the\n",
    "`+` operator creates a new list.\n",
    "\n",
    "Here's an example using `append`:\n",
    "\n",
    "```\n",
    ">>> t1 = [1, 2]\n",
    ">>> t2 = t1.append(3)\n",
    ">>> t1\n",
    "[1, 2, 3]\n",
    ">>> t2\n",
    "None\n",
    "```\n",
    "\n",
    "The return value from `append` is `None`.\n",
    "\n",
    "Here's an example using the `+` operator:\n",
    "\n",
    "```\n",
    ">>> t3 = t1 + [4]\n",
    ">>> t1\n",
    "[1, 2, 3]\n",
    ">>> t3\n",
    "[1, 2, 3, 4]\n",
    "```\n",
    "\n",
    "The result of the operator is a new list, and the original list is\n",
    "unchanged.\n",
    "\n",
    "This difference is important when you write functions that\n",
    "are supposed to modify lists.  For example, this function\n",
    "*does not* delete the head of a list:\n",
    "\n",
    "```\n",
    "def bad_delete_head(t):\n",
    "    t = t[1:]              # WRONG!\n",
    "```\n",
    "\n",
    "The slice operator creates a new list and the assignment\n",
    "makes `t` refer to it, but that doesn't affect the caller.\n",
    "\n",
    "```\n",
    ">>> t4 = [1, 2, 3]\n",
    ">>> bad_delete_head(t4)\n",
    ">>> t4\n",
    "[1, 2, 3]\n",
    "```\n",
    "\n",
    "At the beginning of `bad_delete_head`, `t` and `t4`\n",
    "refer to the same list.  At the end, `t` refers to a new list,\n",
    "but `t4` still refers to the original, unmodified list.\n",
    "\n",
    "An alternative is to write a function that creates and\n",
    "returns a new list.  For\n",
    "example, `tail` returns all but the first\n",
    "element of a list:\n",
    "\n",
    "```\n",
    "def tail(t):\n",
    "    return t[1:]\n",
    "```\n",
    "\n",
    "This function leaves the original list unmodified.\n",
    "Here's how it is used:\n",
    "\n",
    "```}\n",
    ">>> letters = ['a', 'b', 'c']\n",
    ">>> rest = tail(letters)\n",
    ">>> rest\n",
    "['b', 'c']\n",
    "```"
   ]
  },
  {
   "cell_type": "code",
   "execution_count": 33,
   "metadata": {},
   "outputs": [
    {
     "name": "stdout",
     "output_type": "stream",
     "text": [
      "['b', 'c']\n"
     ]
    }
   ],
   "source": [
    "def delete_head(t):\n",
    "    del t[0]\n",
    "    \n",
    "letters = ['a', 'b', 'c']\n",
    "delete_head(letters)\n",
    "print(letters)"
   ]
  },
  {
   "cell_type": "code",
   "execution_count": 34,
   "metadata": {},
   "outputs": [
    {
     "name": "stdout",
     "output_type": "stream",
     "text": [
      "[1, 2, 3]\n",
      "None\n"
     ]
    }
   ],
   "source": [
    "t1 = [1, 2]\n",
    "t2 = t1.append(3)\n",
    "print(t1)\n",
    "print(t2)"
   ]
  },
  {
   "cell_type": "code",
   "execution_count": 35,
   "metadata": {},
   "outputs": [
    {
     "name": "stdout",
     "output_type": "stream",
     "text": [
      "[1, 2, 3, 4]\n"
     ]
    }
   ],
   "source": [
    "t3 = t1 + [4]\n",
    "print(t3)"
   ]
  },
  {
   "cell_type": "code",
   "execution_count": 38,
   "metadata": {},
   "outputs": [
    {
     "name": "stdout",
     "output_type": "stream",
     "text": [
      "[4, 5]\n",
      "[3, 4, 5]\n"
     ]
    }
   ],
   "source": [
    "def bad_delete_head(t):\n",
    "    t = t[1:]    # WRONG!\n",
    "    print(t)\n",
    "    \n",
    "x = [3,4,5]\n",
    "bad_delete_head(x)\n",
    "print(x)"
   ]
  },
  {
   "cell_type": "code",
   "execution_count": 39,
   "metadata": {},
   "outputs": [
    {
     "name": "stdout",
     "output_type": "stream",
     "text": [
      "['b', 'c']\n",
      "['a', 'b', 'c']\n"
     ]
    }
   ],
   "source": [
    "def tail(t):\n",
    "    return t[1:]\n",
    "\n",
    "letters = ['a', 'b', 'c']\n",
    "rest = tail(letters)\n",
    "print(rest)\n",
    "print(letters)"
   ]
  },
  {
   "cell_type": "code",
   "execution_count": 41,
   "metadata": {},
   "outputs": [
    {
     "name": "stdout",
     "output_type": "stream",
     "text": [
      "['105207401', 'nccu', 'edu', 'tw']\n",
      "['105207401', 'nccu', 'edu', 'tw']\n"
     ]
    }
   ],
   "source": [
    "def fun(s):\n",
    "    a, b = s.split(\"@\")\n",
    "    c = b.split(\".\")\n",
    "    t = [a]\n",
    "    t.extend(c)\n",
    "    return t\n",
    "\n",
    "def my_split(s, d1, d2):\n",
    "    a, b = s.split(d1)\n",
    "    c = b.split(d2)\n",
    "    t = [a]\n",
    "    t.extend(c)\n",
    "    return t\n",
    "\n",
    "s = \"105207401@nccu.edu.tw\"\n",
    "print(fun(s))\n",
    "print(my_split(s, \"@\", \".\"))"
   ]
  },
  {
   "cell_type": "code",
   "execution_count": 43,
   "metadata": {},
   "outputs": [
    {
     "name": "stdout",
     "output_type": "stream",
     "text": [
      "c =  ['nccu', 'edu', 'tw']\n",
      "['105207401', 'nccu', 'edu', 'tw']\n",
      "['105207401', 'nccu', 'edu', 'tw']\n"
     ]
    }
   ],
   "source": [
    "def fun(s):\n",
    "    a, b = s.split(\"@\")\n",
    "    c = b.split(\".\")\n",
    "    print('c = ', c)\n",
    "    t = [a]\n",
    "    t.extend(c)\n",
    "    return t\n",
    "\n",
    "def my_split(s, d1, d2):\n",
    "    a, b = s.split(d1)\n",
    "    c = b.split(d2)\n",
    "    t = [a]\n",
    "    t.extend(c)\n",
    "    return t\n",
    "\n",
    "s = \"105207401@nccu.edu.tw\"\n",
    "print(fun(s))\n",
    "print(my_split(s, \"@\", \".\"))\n"
   ]
  },
  {
   "cell_type": "code",
   "execution_count": 7,
   "metadata": {},
   "outputs": [
    {
     "name": "stdout",
     "output_type": "stream",
     "text": [
      "['Peter', 'Pan']\n",
      "['John', 'Smith']\n",
      "['Mary', 'Jane']\n"
     ]
    }
   ],
   "source": [
    "# data format: \"firstname lastname\"\n",
    "\n",
    "def capitalize_all(t):\n",
    "    res = []\n",
    "    for s in t:\n",
    "        res.append(s.capitalize())\n",
    "        #print(res)\n",
    "    return res\n",
    "\n",
    "t = [\"peter pan\", \"john smith\", \"mary jane\"]\n",
    "\n",
    "for s in t:\n",
    "    #firstname, lastname = s.split()\n",
    "    x = s.split()\n",
    "    #print(firstname, lastname)\n",
    "    print(capitalize_all(x))\n",
    "    \n",
    "#print capitalize_all(t)"
   ]
  },
  {
   "cell_type": "code",
   "execution_count": 44,
   "metadata": {},
   "outputs": [
    {
     "name": "stdout",
     "output_type": "stream",
     "text": [
      "Peter Pan\n",
      "John Smith\n",
      "Mary Jane\n"
     ]
    }
   ],
   "source": [
    "# data format: \"firstname lastname\"\n",
    "\n",
    "def capitalize_all(t):\n",
    "    res = []\n",
    "    for s in t:\n",
    "        res.append(s.capitalize())\n",
    "        #print(res)\n",
    "    return res\n",
    "\n",
    "t = [\"peter pan\", \"john smith\", \"mary jane\"]\n",
    "\n",
    "for s in t:\n",
    "    x = s.split()\n",
    "    a = capitalize_all(x)\n",
    "    result = a[0] + ' ' + a[1]\n",
    "    print(result)\n",
    "    \n",
    "#print capitalize_all(t)"
   ]
  },
  {
   "cell_type": "code",
   "execution_count": 9,
   "metadata": {},
   "outputs": [
    {
     "name": "stdout",
     "output_type": "stream",
     "text": [
      "Pan, Peter\n",
      "Smith, John\n",
      "Jane, Mary\n"
     ]
    }
   ],
   "source": [
    "# data format: \"firstname lastname\"\n",
    "\n",
    "def capitalize_all(t):\n",
    "    res = []\n",
    "    for s in t:\n",
    "        res.append(s.capitalize())\n",
    "        #print(res)\n",
    "    return res\n",
    "\n",
    "t = [\"peter pan\", \"john smith\", \"mary jane\"]\n",
    "\n",
    "for s in t:\n",
    "    x = s.split()\n",
    "    a = capitalize_all(x)\n",
    "    result = a[1] + ', ' + a[0]\n",
    "    print(result)\n",
    "    \n",
    "#print capitalize_all(t)"
   ]
  },
  {
   "cell_type": "code",
   "execution_count": 45,
   "metadata": {},
   "outputs": [
    {
     "name": "stdout",
     "output_type": "stream",
     "text": [
      "Peter Pan\n",
      "Peter-Pan\n",
      "John Junior Smith\n",
      "John-Junior-Smith\n",
      "Mary Jane\n",
      "Mary-Jane\n"
     ]
    }
   ],
   "source": [
    "# data format: \"firstname lastname\"\n",
    "\n",
    "def capitalize_all(t):\n",
    "    res = []\n",
    "    for s in t:\n",
    "        res.append(s.capitalize())\n",
    "        #print(res)\n",
    "    return res\n",
    "\n",
    "t = [\"peter pan\", \"john junior smith\", \"mary jane\"]\n",
    "\n",
    "for s in t:\n",
    "    x = s.split()\n",
    "    a = capitalize_all(x)\n",
    "    #result = a[1] + ', ' + a[0]\n",
    "    print(\" \".join(a))\n",
    "    print(\"-\".join(a))\n",
    "    \n",
    "#print capitalize_all(t)"
   ]
  },
  {
   "cell_type": "code",
   "execution_count": 46,
   "metadata": {},
   "outputs": [
    {
     "name": "stdout",
     "output_type": "stream",
     "text": [
      "Peter Pan\n",
      "John Junior Smith\n",
      "Mary N1 N2 N3 N4 Jane\n"
     ]
    }
   ],
   "source": [
    "# data format: \"firstname lastname\"\n",
    "\n",
    "def capitalize_all(t):\n",
    "    res = []\n",
    "    for s in t:\n",
    "        res.append(s.capitalize())\n",
    "        #print(res)\n",
    "    return res\n",
    "\n",
    "def myJoin(delimiter, t):\n",
    "    res = t[0]\n",
    "    \n",
    "    for a in t[1:]:\n",
    "        res = res + delimiter + a\n",
    "        \n",
    "    return res\n",
    "    \n",
    "t = [\"peter pan\", \"john junior smith\", \"mary n1 n2 n3 n4 jane\"]\n",
    "\n",
    "for s in t:\n",
    "    x = s.split()\n",
    "    a = capitalize_all(x)\n",
    "    result = myJoin(' ', a)\n",
    "    print(result)\n",
    "    \n",
    "#print capitalize_all(t)"
   ]
  },
  {
   "cell_type": "markdown",
   "metadata": {},
   "source": [
    "### 產生隨機樣本，並計算平均值"
   ]
  },
  {
   "cell_type": "code",
   "execution_count": 24,
   "metadata": {},
   "outputs": [
    {
     "name": "stdout",
     "output_type": "stream",
     "text": [
      "num_records =  39\n",
      "scores:  [99, 98, 93, 90, 90, 90, 88, 85, 84, 82, 82, 79, 79, 78, 77, 74, 72, 71, 71, 69, 69, 66, 64, 62, 61, 60, 58, 57, 53, 52, 51, 48, 44, 38, 36, 35, 34, 34, 31]\n",
      "count =  39\n",
      "total =  2604\n",
      "average =  66.76923076923077\n"
     ]
    }
   ],
   "source": [
    "import random\n",
    "\n",
    "fout = open('data.csv', 'w')\n",
    "\n",
    "num_records = random.randint(30, 50)\n",
    "print('num_records = ', num_records)\n",
    "\n",
    "for i in range(num_records):\n",
    "    id = i + 1\n",
    "    score = random.randint(30, 100)\n",
    "    fout.write('Student{:02d},{}\\n'.format(id, score))\n",
    "\n",
    "fout.close()\n",
    "\n",
    "fin = open('data.csv')\n",
    "\n",
    "count = 0\n",
    "total = 0\n",
    "l = []\n",
    "for line in fin:\n",
    "    s = line.strip()\n",
    "    #print s\n",
    "    \n",
    "    t = s.split(',')\n",
    "    #print 't = ', t\n",
    "    #print t[0], t[1]\n",
    "\n",
    "    x = int(t[1])\n",
    "    l.append(x)\n",
    "    count += 1\n",
    "    \n",
    "    #total += int(t[1])\n",
    "    total += x\n",
    "    \n",
    "fin.close()    \n",
    "\n",
    "l.sort(reverse=True)\n",
    "print(\"scores: \", l)\n",
    "print(\"count = \", count)\n",
    "print(\"total = \", total)\n",
    "\n",
    "print(\"average = \", 1.0 * total / count)"
   ]
  },
  {
   "cell_type": "markdown",
   "metadata": {
    "collapsed": true
   },
   "source": [
    "## 10.13 Debugging\n",
    "\n",
    "Careless use of lists (and other mutable objects)\n",
    "can lead to long hours of debugging.  Here are some common\n",
    "pitfalls and ways to avoid them:\n",
    "\n",
    "1. <font color=\"red\">Most list methods modify the argument and\n",
    "return `None`.  This is the opposite of the string methods,\n",
    "which return a new string and leave the original alone.</font>\n",
    "\n",
    "&nbsp;&nbsp;&nbsp;&nbsp;&nbsp;&nbsp;&nbsp;If you are used to writing string code like this:\n",
    "\n",
    "```\n",
    "word = word.strip()\n",
    "```\n",
    "\n",
    "&nbsp;&nbsp;&nbsp;&nbsp;&nbsp;&nbsp;&nbsp;It is tempting to write list code like this:\n",
    "\n",
    "```\n",
    "t = t.sort()           # WRONG!\n",
    "```\n",
    "\n",
    "&nbsp;&nbsp;&nbsp;&nbsp;&nbsp;&nbsp;&nbsp;Because `sort` returns `None`, the\n",
    "next operation you perform with `t` is likely to fail.\n",
    "\n",
    "&nbsp;&nbsp;&nbsp;&nbsp;&nbsp;&nbsp;&nbsp;Before using list methods and operators, you should read the\n",
    "documentation carefully and then test them in interactive mode.\n",
    "\n",
    "2. Pick an idiom and stick with it.\n",
    "\n",
    "    Part of the problem with lists is that there are too many\n",
    "    ways to do things.  For example, to remove an element from\n",
    "a list, you can use `pop`, `remove`, `del`,\n",
    "or even a slice assignment.\n",
    "\n",
    "&nbsp;&nbsp;&nbsp;&nbsp;&nbsp;&nbsp;&nbsp;To add an element, you can use the `append` method or\n",
    "the `+` operator.  Assuming that `t` is a list and\n",
    "`x` is a list element, these are correct: \n",
    "\n",
    "```\n",
    "t.append(x)\n",
    "t = t + [x]\n",
    "t += [x]\n",
    "```\n",
    "\n",
    "&nbsp;&nbsp;&nbsp;&nbsp;&nbsp;&nbsp;&nbsp;And these are wrong:\n",
    "\n",
    "```\n",
    "t.append([x])          # WRONG!\n",
    "t = t.append(x)        # WRONG!\n",
    "t + [x]                # WRONG!\n",
    "t = t + x              # WRONG!\n",
    "```\n",
    "\n",
    "&nbsp;&nbsp;&nbsp;&nbsp;&nbsp;&nbsp;&nbsp;Try out each of these examples in interactive mode to make sure\n",
    "you understand what they do.\n",
    "\n",
    "&nbsp;&nbsp;&nbsp;&nbsp;&nbsp;&nbsp;&nbsp;Notice that only the last one causes a runtime error; the other three are legal, but they\n",
    "do the wrong thing.\n",
    "\n",
    "\n",
    "3. Make copies to avoid aliasing.\n",
    "\n",
    "    If you want to use a method like `sort` that modifies\n",
    "the argument, but you need to keep the original list as\n",
    "well, you can make a copy.\n",
    "\n",
    "```\n",
    ">>> t = [3, 1, 2]\n",
    ">>> t2 = t[:]\n",
    ">>> t2.sort()\n",
    ">>> t\n",
    "[3, 1, 2]\n",
    ">>> t2\n",
    "[1, 2, 3]\n",
    "```\n",
    "\n",
    "&nbsp;&nbsp;&nbsp;&nbsp;&nbsp;&nbsp;&nbsp;In this example you could also use the built-in function `sorted`,\n",
    "which returns a new, sorted list and leaves the original alone.\n",
    "\n",
    "```\n",
    ">>> t2 = sorted(t)\n",
    ">>> t\n",
    "[3, 1, 2]\n",
    ">>> t2\n",
    "[1, 2, 3]\n",
    "```\n",
    "\n"
   ]
  },
  {
   "cell_type": "markdown",
   "metadata": {},
   "source": [
    "## 10.14 Glossary\n",
    "\n",
    "- **list:** A sequence of values.\n",
    "\n",
    "- **element:** One of the values in a list (or other sequence),\n",
    "also called items.\n",
    "\n",
    "- **nested list:** A list that is an element of another list.\n",
    "\n",
    "- **accumulator:** A variable used in a loop to add up or\n",
    "accumulate a result.\n",
    "\n",
    "- **augmented assignment:** A statement that updates the value\n",
    "of a variable using an operator like \"+=\".\n",
    "\n",
    "- **reduce:** A processing pattern that traverses a sequence \n",
    "and accumulates the elements into a single result.\n",
    "\n",
    "- **map:** A processing pattern that traverses a sequence and\n",
    "performs an operation on each element.\n",
    "\n",
    "- **filter:** A processing pattern that traverses a list and\n",
    "selects the elements that satisfy some criterion.\n",
    "\n",
    "- **object:** Something a variable can refer to.  An object\n",
    "has a type and a value.\n",
    "\n",
    "- **equivalent:** Having the same value.\n",
    "\n",
    "- **identical:** Being the same object (which implies equivalence).\n",
    "\n",
    "- **reference**] The association between a variable and its value.\n",
    "\n",
    "- **aliasing:** A circumstance where two or more variables refer to the same\n",
    "object.\n",
    "\n",
    "- **delimiter:** A character or string used to indicate where a\n",
    "string should be split."
   ]
  },
  {
   "cell_type": "markdown",
   "metadata": {},
   "source": [
    "## 10.15 Exercises\n",
    "\n",
    "You can download solutions to these exercises from\n",
    "http://thinkpython2.com/code/list_exercises.py.\n",
    "\n",
    "### Exercise 10.1\n",
    "\n",
    "Write a function called `nested_sum` that takes a list of lists\n",
    "of integers and adds up the elements from all of the nested lists.\n",
    "For example:\n",
    "\n",
    "```\n",
    ">>> t = [[1, 2], [3], [4, 5, 6]]\n",
    ">>> nested_sum(t)\n",
    "21\n",
    "```\n",
    "\n",
    "### Exercise 10.2\n",
    "\n",
    "Write a function called `cumsum` that takes a list of numbers and\n",
    "returns the cumulative sum; that is, a new list where the $i$th\n",
    "element is the sum of the first $i+1$ elements from the original list.\n",
    "For example:\n",
    "\n",
    "```\n",
    ">>> t = [1, 2, 3]\n",
    ">>> cumsum(t)\n",
    "[1, 3, 6]\n",
    "```\n",
    "\n",
    "### Exercise 10.3\n",
    "\n",
    "Write a function called `middle` that takes a list and\n",
    "returns a new list that contains all but the first and last\n",
    "elements.  For example:\n",
    "\n",
    "```\n",
    ">>> t = [1, 2, 3, 4]\n",
    ">>> middle(t)\n",
    "[2, 3]\n",
    "```\n",
    "\n",
    "### Exercise 10.4\n",
    "\n",
    "Write a function called `chop` that takes a list, modifies it\n",
    "by removing the first and last elements, and returns `None`.\n",
    "For example:\n",
    "\n",
    "```\n",
    ">>> t = [1, 2, 3, 4]\n",
    ">>> chop(t)\n",
    ">>> t\n",
    "[2, 3]\n",
    "```\n",
    "\n",
    "### Exercise 10.5\n",
    "\n",
    "Write a function called `is_sorted` that takes a list as a\n",
    "parameter and returns `True` if the list is sorted in ascending\n",
    "order and `False` otherwise.  For example:\n",
    "\n",
    "```\n",
    ">>> is_sorted([1, 2, 2])\n",
    "True\n",
    ">>> is_sorted(['b', 'a'])\n",
    "False\n",
    "```\n",
    "\n",
    "\n",
    "### Exercise 10.6\n",
    "\n",
    "Two words are anagrams if you can rearrange the letters from one\n",
    "to spell the other.  Write a function called \"is_anagram\"\n",
    "that takes two strings and returns `True` if they are anagrams.\n",
    "\n",
    "### Exercise 10.7\n",
    "\n",
    "Write a function called `has_duplicates` that takes\n",
    "a list and returns `True` if there is any element that\n",
    "appears more than once.  It should not modify the original\n",
    "list.\n",
    "\n",
    "### Exercise 10.8\n",
    "\n",
    "This exercise pertains to the so-called Birthday Paradox, which you\n",
    "can read about at http://en.wikipedia.org/wiki/Birthday_paradox.\n",
    "\n",
    "If there are 23 students in your class, what are the chances\n",
    "that two of you have the same birthday?  You can estimate this\n",
    "probability by generating random samples of 23 birthdays\n",
    "and checking for matches.  Hint: you can generate random birthdays\n",
    "with the `randint` function in the `random` module.\n",
    "\n",
    "You can download my\n",
    "solution from http://thinkpython2.com/code/birthday.py.\n",
    "\n",
    "\n",
    "### Exercise 10.9\n",
    "\n",
    "Write a function that reads the file `words.txt` and builds\n",
    "a list with one element per word.  Write two versions of\n",
    "this function, one using the `append` method and the\n",
    "other using the idiom `t = t + [x]`.  Which one takes\n",
    "longer to run?  Why?\n",
    "\n",
    "Solution: http://thinkpython2.com/code/wordlist.py.\n",
    "\n",
    "\n",
    "\n",
    "### Exercise 10.10\n",
    "\n",
    "To check whether a word is in the word list, you could use\n",
    "the `in` operator, but it would be slow because it searches\n",
    "through the words in order.\n",
    "\n",
    "Because the words are in alphabetical order, we can speed things up\n",
    "with a bisection search (also known as binary search), which is\n",
    "similar to what you do when you look a word up in the dictionary \n",
    "(the book, not the data structure).  You\n",
    "start in the middle and check to see whether the word you are looking\n",
    "for comes before the word in the middle of the list.  If so, you\n",
    "search the first half of the list the same way.  Otherwise you search\n",
    "the second half.\n",
    "\n",
    "Either way, you cut the remaining search space in half.  If the\n",
    "word list has 113,809 words, it will take about 17 steps to\n",
    "find the word or conclude that it's not there.\n",
    "\n",
    "Write a function called `in_bisect` that takes a sorted list\n",
    "and a target value and returns `True` if the word is\n",
    "in the list and `False` if it's not.\n",
    "\n",
    "Or you could read the documentation of the `bisect` module\n",
    "and use that!  Solution: http://thinkpython2.com/code/inlist.py.\n",
    "\n",
    "\n",
    "\n",
    "### Exercise 10.11\n",
    "\n",
    "Two words are a `reverse pair` if each is the reverse of the\n",
    "other.  Write a program that finds all the reverse pairs in the\n",
    "word list.  Solution: http://thinkpython2.com/code/reverse_pair.py.\n",
    "\n",
    "### Exercise 10.12\n",
    "\n",
    "Two words \"interlock\" if taking alternating letters from each forms\n",
    "a new word.  For example, \"shoe\" and \"cold\"\n",
    "interlock to form \"schooled\".\n",
    "Solution: http://thinkpython2.com/code/interlock.py.\n",
    "Credit: This exercise is inspired by an example at http://puzzlers.org.\n",
    "\n",
    "1. Write a program that finds all pairs of words that interlock.\n",
    "  Hint: don't enumerate all pairs!\n",
    "\n",
    "2. Can you find any words that are three-way interlocked; that is,\n",
    "  every third letter forms a word, starting from the first, second or\n",
    "  third?\n"
   ]
  },
  {
   "cell_type": "code",
   "execution_count": 1,
   "metadata": {},
   "outputs": [
    {
     "name": "stdout",
     "output_type": "stream",
     "text": [
      "PeterPan\n"
     ]
    }
   ],
   "source": [
    "s = 'PeterPan'\n",
    "print(s[:])"
   ]
  },
  {
   "cell_type": "code",
   "execution_count": 2,
   "metadata": {},
   "outputs": [
    {
     "name": "stdout",
     "output_type": "stream",
     "text": [
      "Ptra\n"
     ]
    }
   ],
   "source": [
    "s = 'PeterPan'\n",
    "print(s[::2])"
   ]
  },
  {
   "cell_type": "code",
   "execution_count": 3,
   "metadata": {},
   "outputs": [
    {
     "name": "stdout",
     "output_type": "stream",
     "text": [
      "[1, 4, 7, 10]\n"
     ]
    }
   ],
   "source": [
    "t = [1,2,3,4,5,6,7,8,9,10]\n",
    "print(t[::3])"
   ]
  },
  {
   "cell_type": "markdown",
   "metadata": {},
   "source": [
    "## <font color=\"red\">練習1</font>\n",
    "\n",
    "1. 利用 random 產生 300 個 $1 \\le n \\le 100$ 的整數構成數列 $X$ (為一個 list)，並計算 $X$ 數列之：\n",
    "  - mean: 平均數\n",
    "  - median: 中位數\n",
    "  - minimum: 最小值\n",
    "  - maximum: 最大值\n",
    "  - standard deviation: 標準差\n",
    "  - $X$ 排序後列出最大的5個值\n",
    "  - $X$ 排序後列出最小的5個值\n",
    "  \n",
    "  \n",
    "2. 不可使用現成的工具求出以上的敘述性統計值，需自己設計程式執行計算。\n",
    "3. Python 的 statistics 有許多函式可用於檢查你寫的程式是否正確。\n",
    "4. standard deviation 的公式如下：\n",
    "\n",
    "$$\n",
    "\\sigma = \\sqrt{\\frac{1}{N} \\sum_{i=1}^{N} (x_i - \\bar{x})^2}\n",
    "$$"
   ]
  },
  {
   "cell_type": "code",
   "execution_count": 94,
   "metadata": {},
   "outputs": [
    {
     "name": "stdout",
     "output_type": "stream",
     "text": [
      "51.3421926910299\n",
      "52\n",
      "1\n",
      "None\n",
      "100\n",
      "None\n",
      "0.14510736765632606\n",
      "None\n",
      "1 1 1 2 2\n",
      "None\n",
      "98 98 99 100 100\n",
      "None\n",
      "51.3421926910299\n",
      "52.0\n",
      "1\n",
      "100\n",
      "28.71730434100723\n"
     ]
    }
   ],
   "source": [
    "import random\n",
    "import math\n",
    "import numpy as np\n",
    "\n",
    "x=[random.randint(1,100) for i in range(0,301)]\n",
    "\n",
    "\n",
    "def averagenum(num):\n",
    "    nsum = 0\n",
    "    for i in range(len(num)):\n",
    "        nsum += num[i]\n",
    "    return nsum / len(num)\n",
    "\n",
    "def mediannum(num):\n",
    "    listnum = [num[i] for i in range(len(num))]\n",
    "    listnum.sort()\n",
    "    lnum = len(num)\n",
    "    if lnum % 2 == 1:\n",
    "        i = int((lnum + 1) / 2)-1\n",
    "        return listnum[i]\n",
    "    else:\n",
    "        i = int(lnum / 2)-1\n",
    "        return (listnum[i] + listnum[i + 1]) / 2\n",
    "    \n",
    "def minnum(num):\n",
    "    \n",
    "    min_val = x[0]\n",
    "    for i in range(len(x)):\n",
    "        if x[i] < min_val:\n",
    "            min_val = x[i]\n",
    "    print(min_val)\n",
    "            \n",
    "def maxnum(num):\n",
    "    \n",
    "    max_val = x[0]\n",
    "    for i in range(len(x)):\n",
    "        if x[i] > max_val:\n",
    "            max_val = x[i]\n",
    "    print(max_val)\n",
    "    \n",
    "def standard(num):\n",
    "    total=(x[i]-sum(x)/300)**2/300\n",
    "    num=math.sqrt(total)\n",
    "    print(num)\n",
    "    \n",
    "def fivemax(num):\n",
    "    x.sort()\n",
    "    print(x[0],x[1],x[2],x[3],x[4])\n",
    "    \n",
    "def fivemin(num):\n",
    "    x.sort()\n",
    "    print(x[295],x[296],x[297],x[298],x[299])    \n",
    "    \n",
    "    \n",
    "\n",
    "print (averagenum(x))\n",
    "print (mediannum(x))        \n",
    "print (minnum(x))\n",
    "print (maxnum(x))        \n",
    "print (standard(x))\n",
    "print (fivemax(x))\n",
    "print (fivemin(x))\n",
    "\n",
    "\n",
    "print(np.mean(x))\n",
    "print(np.median(x))\n",
    "print(min(x))\n",
    "print(max(x))\n",
    "print(np.std(x))\n"
   ]
  },
  {
   "cell_type": "code",
   "execution_count": 71,
   "metadata": {},
   "outputs": [
    {
     "ename": "IndentationError",
     "evalue": "unexpected indent (Temp/ipykernel_4808/3491936258.py, line 2)",
     "output_type": "error",
     "traceback": [
      "\u001b[1;36m  File \u001b[1;32m\"C:\\Users\\hwi0101\\AppData\\Local\\Temp/ipykernel_4808/3491936258.py\"\u001b[1;36m, line \u001b[1;32m2\u001b[0m\n\u001b[1;33m    indexMin=0\u001b[0m\n\u001b[1;37m    ^\u001b[0m\n\u001b[1;31mIndentationError\u001b[0m\u001b[1;31m:\u001b[0m unexpected indent\n"
     ]
    }
   ],
   "source": [
    "indexMax=0\n",
    "    indexMin=0\n",
    "    i=0\n",
    "    while i <len(x):\n",
    "        if x[i]>theMax:\n",
    "            theMax=x[i]\n",
    "            print(x[i])\n",
    "        if theMin>x[i]:\n",
    "            print (x[i])\n",
    "        i=i+1"
   ]
  },
  {
   "cell_type": "code",
   "execution_count": 17,
   "metadata": {},
   "outputs": [
    {
     "name": "stdout",
     "output_type": "stream",
     "text": [
      "120\n",
      "1\n",
      "15\n"
     ]
    }
   ],
   "source": [
    "t = []\n",
    "for i in range(1,16):\n",
    "    t.append(i)\n",
    "    \n",
    "print(sum(t))\n",
    "print(min(t))\n",
    "print(max(t))\n"
   ]
  },
  {
   "cell_type": "markdown",
   "metadata": {},
   "source": [
    "## Python 的 mathematical statistics functions\n",
    "\n",
    "參考資料：<br>\n",
    "https://docs.python.org/3/library/statistics.html\n",
    "\n",
    "<img src=\"statistics.png\">"
   ]
  },
  {
   "cell_type": "code",
   "execution_count": 34,
   "metadata": {},
   "outputs": [
    {
     "name": "stdout",
     "output_type": "stream",
     "text": [
      "t =  [5, 6, 6, 9, 11, 11, 12, 13, 14, 18]\n",
      "Standard Deviation of t is 4.089281382128433 \n",
      "Mean of t is 10.5 \n",
      "Median of t is 11.0 \n"
     ]
    }
   ],
   "source": [
    "# Python code to demonstrate stdev() function\n",
    " \n",
    "# importing Statistics module\n",
    "import statistics\n",
    "\n",
    "# importing random module\n",
    "import random\n",
    " \n",
    "# creating a simple data - set\n",
    "t = []\n",
    "for i in range(1,11):\n",
    "    t.append(random.randint(5,20))\n",
    "\n",
    "t.sort()\n",
    "print('t = ', t)\n",
    " \n",
    "# print standard deviation, mean\n",
    "\n",
    "print(\"Standard Deviation of t is % s \" % (statistics.stdev(t)))\n",
    "print(\"Mean of t is % s \" % (statistics.mean(t)))\n",
    "print(\"Median of t is % s \" % (statistics.median(t)))"
   ]
  },
  {
   "cell_type": "code",
   "execution_count": null,
   "metadata": {},
   "outputs": [],
   "source": []
  }
 ],
 "metadata": {
  "anaconda-cloud": {},
  "kernelspec": {
   "display_name": "Python 3 (ipykernel)",
   "language": "python",
   "name": "python3"
  },
  "language_info": {
   "codemirror_mode": {
    "name": "ipython",
    "version": 3
   },
   "file_extension": ".py",
   "mimetype": "text/x-python",
   "name": "python",
   "nbconvert_exporter": "python",
   "pygments_lexer": "ipython3",
   "version": "3.9.7"
  }
 },
 "nbformat": 4,
 "nbformat_minor": 1
}
