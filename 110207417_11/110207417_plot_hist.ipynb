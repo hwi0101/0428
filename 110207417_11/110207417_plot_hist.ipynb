{
 "cells": [
  {
   "cell_type": "markdown",
   "id": "28ba9753",
   "metadata": {},
   "source": [
    "# 以 matplotlib 畫 histogram (直方圖)\n",
    "\n",
    "參考資料： <br>\n",
    "https://www.w3schools.com/python/matplotlib_histograms.asp\n",
    "\n",
    "NumPy random sampling (numpy.random) <br>\n",
    "https://numpy.org/doc/stable/reference/random/index.html\n",
    "\n",
    "numpy.random.normal <br>\n",
    "https://numpy.org/doc/stable/reference/random/generated/numpy.random.normal.html\n",
    "\n",
    "統計量和參數 <br>\n",
    "https://www.ibm.com/docs/zh-tw/spss-statistics/SaaS?topic=properties-statistics-parameters\n",
    "\n",
    "Matplotlib資料視覺化-2 柱狀圖與直方圖 <br>\n",
    "https://medium.com/seaniap/matplotlib%E8%B3%87%E6%96%99%E8%A6%96%E8%A6%BA%E5%8C%96-2-%E6%9F%B1%E7%8B%80%E5%9C%96%E8%88%87%E7%9B%B4%E6%96%B9%E5%9C%96-316c7f17f199\n"
   ]
  },
  {
   "cell_type": "markdown",
   "id": "bd754190",
   "metadata": {},
   "source": [
    "## 隨機取樣"
   ]
  },
  {
   "cell_type": "code",
   "execution_count": 1,
   "id": "79d2766e",
   "metadata": {},
   "outputs": [
    {
     "name": "stdout",
     "output_type": "stream",
     "text": [
      "[170.13228995 181.37080813 182.30767199 157.99958019 169.80824208\n",
      " 173.41047824 170.70745101 144.78883318 159.74741637 195.05321485\n",
      " 162.94715929 175.84112056 202.34465491 166.40791824 177.55722722\n",
      " 163.9794361  159.61648249 166.73833891 156.96835946 175.61460876\n",
      " 176.48527478 180.28659018 162.07657935 170.43223808 166.74741186\n",
      " 179.75147846 174.26959736 174.31015928 164.40659825 171.17579541\n",
      " 177.98886233 162.44138497 144.3622722  162.88165829 187.41137675\n",
      " 143.84913825 156.71440684 168.70255315 182.01530024 168.51927936\n",
      " 181.31673411 174.93016772 174.43300158 157.62961375 193.89612079\n",
      " 186.16916433 172.06346003 172.45507118 182.40126687 166.96373257\n",
      " 172.55094306 175.30114992 168.52762264 152.32610486 182.442744\n",
      " 171.24655185 174.00597845 173.52229979 173.79627969 171.75937937\n",
      " 177.18443655 173.09188913 153.13704508 173.00363004 171.85756893\n",
      " 165.83015987 153.2932338  168.36133929 160.14769306 170.29609502\n",
      " 170.03731142 150.83384692 178.18872647 153.32000137 163.6731512\n",
      " 169.71498432 162.84829533 174.85686297 183.14289456 170.27341572\n",
      " 187.71778368 163.34442566 170.68013695 175.35626557 175.53351152\n",
      " 144.5471368  182.99916813 165.02152924 173.24284297 175.51400064\n",
      " 172.74745322 179.80819636 167.38632614 174.07492326 149.5342194\n",
      " 179.18741476 185.27825026 173.41036513 158.7732235  161.23365393\n",
      " 186.18990404 190.29264936 177.38863831 184.13679613 179.90290816\n",
      " 160.6371061  182.70672769 179.02498533 172.45277588 174.101283\n",
      " 158.28505266 156.94419227 171.90917295 151.71096521 178.94877549\n",
      " 187.62113052 179.87370963 178.57220972 172.96539846 165.35290423\n",
      " 150.0395557  182.97671789 176.68199169 166.44249414 163.27157794\n",
      " 185.55088165 183.7704019  175.76004741 157.2623923  165.14772195\n",
      " 177.67599208 164.39426442 167.55653609 168.47788897 178.37685095\n",
      " 161.05642969 163.29264174 178.0596329  173.58177873 159.59257826\n",
      " 170.17580194 161.87463397 180.34649167 184.55797735 183.4918047\n",
      " 177.46909144 159.47741651 172.50653973 159.3914311  161.62196115\n",
      " 167.81160975 188.47395173 161.33555888 181.23632334 161.3324951\n",
      " 167.79940254 171.47034482 161.60161316 165.6128696  163.2666575\n",
      " 159.14065042 176.13232231 161.24215792 181.52104847 155.44631358\n",
      " 165.06628501 174.48537958 160.18157811 158.01380135 174.82424586\n",
      " 162.18469181 172.20983185 155.33720315 146.57080136 171.13993206\n",
      " 169.36244237 169.00022406 183.7587224  157.39440322 166.53202229\n",
      " 182.31713183 159.53962284 159.96430299 166.89753984 173.83431229\n",
      " 174.98893588 165.33701349 161.7592442  158.48017601 163.55434853\n",
      " 173.20609911 156.04433566 176.62250311 186.36010616 171.18155306\n",
      " 171.49042486 160.7434397  157.82644909 161.38108385 170.6449072\n",
      " 167.16961676 157.68834749 195.06868007 190.53586888 180.86766992\n",
      " 175.19112459 159.44893655 183.99071067 171.87321213 169.44871485\n",
      " 155.4269073  172.53265837 171.36834151 156.73636363 168.45448575\n",
      " 172.75428161 172.18568162 167.48016522 162.2982082  186.25158843\n",
      " 172.80860385 180.64966344 157.81627977 167.83500052 159.00737562\n",
      " 161.58527886 164.47110403 164.21562571 196.15247833 189.30467027\n",
      " 167.98499199 150.39641115 183.18762682 166.89567664 169.14560613\n",
      " 182.3370634  181.79144698 154.72889979 158.80231932 191.59165933\n",
      " 164.88137463 177.48466841 160.10067843 179.7374153  166.80005652\n",
      " 165.24296885 175.79699214 151.84826688 185.04757489 170.66981745]\n"
     ]
    }
   ],
   "source": [
    "import numpy as np    # 載入 numpy \n",
    "\n",
    "mu = 170    # 平均值\n",
    "sigma = 10  # 標準差\n",
    "size = 250  # 樣本數\n",
    "\n",
    "x = np.random.normal(mu, sigma, size)\n",
    "\n",
    "print(x)"
   ]
  },
  {
   "cell_type": "markdown",
   "id": "3abef93e",
   "metadata": {},
   "source": [
    "## 畫出 histogram\n",
    "\n",
    "參考資料： <br>\n",
    "Matplotlib資料視覺化-2 柱狀圖與直方圖 <br>\n",
    "https://medium.com/seaniap/matplotlib%E8%B3%87%E6%96%99%E8%A6%96%E8%A6%BA%E5%8C%96-2-%E6%9F%B1%E7%8B%80%E5%9C%96%E8%88%87%E7%9B%B4%E6%96%B9%E5%9C%96-316c7f17f199\n",
    "\n",
    "Bin Size in Matplotlib Histogram <br>\n",
    "https://www.geeksforgeeks.org/bin-size-in-matplotlib-histogram/\n",
    "\n",
    "matplotlib.pyplot.hist <br>\n",
    "https://matplotlib.org/3.5.0/api/_as_gen/matplotlib.pyplot.hist.html#\n",
    "\n",
    "<img src=\"hist.png\">\n",
    "<img src=\"hist2.png\">"
   ]
  },
  {
   "cell_type": "code",
   "execution_count": 2,
   "id": "7f609803",
   "metadata": {},
   "outputs": [
    {
     "data": {
      "image/png": "[encoded data removed]",
      "text/plain": [
       "<Figure size 432x288 with 1 Axes>"
      ]
     },
     "metadata": {
      "needs_background": "light"
     },
     "output_type": "display_data"
    }
   ],
   "source": [
    "import matplotlib.pyplot as plt    # 載入 matplotlib.pyplot\n",
    "import numpy as np    # 載入 numpy\n",
    "\n",
    "mu = 170    # 平均值\n",
    "sigma = 10  # 標準差\n",
    "size = 250  # 樣本數\n",
    "\n",
    "x = np.random.normal(mu, sigma, size)\n",
    "\n",
    "plt.hist(x)   # pyplot.hist() 預設組別 (bin) 為 10\n",
    "plt.show() "
   ]
  },
  {
   "cell_type": "markdown",
   "id": "4b4ebe95",
   "metadata": {},
   "source": [
    "### 由於為隨機取樣，以下的程式和上面的程式完全相同，畫出來的圖因為數據不同而有可能不一樣"
   ]
  },
  {
   "cell_type": "code",
   "execution_count": 3,
   "id": "fbc7715b",
   "metadata": {},
   "outputs": [
    {
     "data": {
      "image/png": "[encoded data removed]",
      "text/plain": [
       "<Figure size 432x288 with 1 Axes>"
      ]
     },
     "metadata": {
      "needs_background": "light"
     },
     "output_type": "display_data"
    }
   ],
   "source": [
    "import matplotlib.pyplot as plt    # 載入 matplotlib.pyplot\n",
    "import numpy as np    # 載入 numpy\n",
    "\n",
    "mu = 170    # 平均值\n",
    "sigma = 10  # 標準差\n",
    "size = 250  # 樣本數\n",
    "\n",
    "x = np.random.normal(mu, sigma, size)\n",
    "\n",
    "plt.hist(x)   # pyplot.hist() 預設組別 (bin) 為 10\n",
    "plt.show() "
   ]
  },
  {
   "cell_type": "markdown",
   "id": "2bdcd7a5",
   "metadata": {},
   "source": [
    "## 畫出 histogram 和 normal distribution (常態分佈) 曲線\n",
    "\n",
    "參考資料： <br>\n",
    "numpy.random.normal <br>\n",
    "https://numpy.org/doc/stable/reference/random/generated/numpy.random.normal.html"
   ]
  },
  {
   "cell_type": "code",
   "execution_count": 4,
   "id": "70974ef9",
   "metadata": {},
   "outputs": [
    {
     "data": {
      "image/png": "[encoded data removed]",
      "text/plain": [
       "<Figure size 432x288 with 1 Axes>"
      ]
     },
     "metadata": {
      "needs_background": "light"
     },
     "output_type": "display_data"
    }
   ],
   "source": [
    "import matplotlib.pyplot as plt    # 載入 matplotlib.pyplot\n",
    "import numpy as np    # 載入 numpy\n",
    "\n",
    "mu = 0    # 平均值\n",
    "sigma = 0.1  # 標準差\n",
    "size = 1000  # 樣本數\n",
    "\n",
    "x = np.random.normal(mu, sigma, size)\n",
    "\n",
    "count, bins, ignored = plt.hist(x, 30, density=True)   # 傳回 count, bins, ignored\n",
    "\n",
    "plt.plot(bins, 1/(sigma * np.sqrt(2 * np.pi)) *\n",
    "         np.exp( - (bins - mu)**2 / (2 * sigma**2) ),\n",
    "         linewidth=2, color='r')\n",
    "\n",
    "plt.show() "
   ]
  },
  {
   "cell_type": "markdown",
   "id": "1714c1ab",
   "metadata": {},
   "source": [
    "## 模擬骰子\n",
    "\n",
    "利用 random 產生介於 1 至 6 的整數，模擬丟擲一個骰子 $6 \\times 10^n$ 次，$1 <= n <= 7$。"
   ]
  },
  {
   "cell_type": "markdown",
   "id": "6030aec5",
   "metadata": {},
   "source": [
    "### 以下範例用 chained conditional 判斷條件以統計次數"
   ]
  },
  {
   "cell_type": "code",
   "execution_count": 5,
   "id": "0ae5e079",
   "metadata": {},
   "outputs": [
    {
     "name": "stdout",
     "output_type": "stream",
     "text": [
      "       N        1        2        3        4        5        6\n",
      "      60        5       12        9       16        7       11\n",
      "     600      106      102       96      125      129      102\n",
      "    6000     1116     1050     1135     1137     1118     1104\n",
      "   60000    10930    11109    11015    11134    11143    11329\n",
      "  600000   110922   111215   110589   111178   111443   111313\n",
      " 6000000  1110882  1111107  1112028  1110109  1112135  1110399\n",
      "60000000 11113834 11112555 11113658 11109505 11109433 11107675\n"
     ]
    }
   ],
   "source": [
    "import random\n",
    "a=b=c=d=e=f=0\n",
    "r=1\n",
    "print('{:>8} {:>8} {:>8} {:>8} {:>8} {:>8} {:>8}'.format('N',1,2,3,4,5,6))\n",
    "\n",
    "for r in [1,2,3,4,5,6,7]:\n",
    "    for i in range(0, 6*10**r):\n",
    "        n=random.randint(1, 6)\n",
    "        if n==1:\n",
    "            a+=1\n",
    "        elif n==2:\n",
    "            b+=1\n",
    "        elif n==3:\n",
    "            c+=1\n",
    "        elif n==4:\n",
    "            d+=1\n",
    "        elif n==5:\n",
    "            e+=1\n",
    "        else:\n",
    "            f+=1\n",
    "    print('{:>8} {:>8} {:>8} {:>8} {:>8} {:>8} {:>8}'.format(6*10**r,a,b,c,d,e,f))\n"
   ]
  },
  {
   "cell_type": "markdown",
   "id": "d6d92579",
   "metadata": {},
   "source": [
    "### 以下範例用 list 統計次數"
   ]
  },
  {
   "cell_type": "code",
   "execution_count": 6,
   "id": "cd543e21",
   "metadata": {},
   "outputs": [
    {
     "name": "stdout",
     "output_type": "stream",
     "text": [
      "       N        1        2        3        4        5        6\n",
      "      60       15        3       13       12       12        5\n",
      "     600       91       94      110       99       98      108\n",
      "    6000      970      996     1035     1019     1035      945\n",
      "   60000    10021    10045     9976    10106    10065     9787\n",
      "  600000   100001    99867    99931   100082    99602   100517\n",
      " 6000000  1000117  1000277  1000159  1000507   999015   999925\n",
      "60000000  9995487 10004821  9995752  9999724 10003351 10000865\n"
     ]
    }
   ],
   "source": [
    "import random\n",
    "\n",
    "print('{:>8} {:>8} {:>8} {:>8} {:>8} {:>8} {:>8}'.format('N',1,2,3,4,5,6))\n",
    "\n",
    "for i in range(1,8):\n",
    "    n = 6 * 10 ** i\n",
    "    t = [n] + [0] * 6\n",
    "\n",
    "    for j in range(n):\n",
    "        \n",
    "        r = random.randint(1,6)\n",
    "        t[r] += 1\n",
    "        \n",
    "    print('{:>8} {:>8} {:>8} {:>8} {:>8} {:>8} {:>8}'.format(t[0],t[1],t[2],t[3],t[4],t[5],t[6]))\n",
    "        "
   ]
  },
  {
   "cell_type": "markdown",
   "id": "2718fa39",
   "metadata": {},
   "source": [
    "## 以下範例使用 numpy 產生隨機樣本\n",
    "\n",
    "參考資料： <br>\n",
    "numpy.random.randint <br>\n",
    "https://numpy.org/doc/stable/reference/random/generated/numpy.random.randint.html\n",
    "\n",
    "<img src=\"randint.png\">"
   ]
  },
  {
   "cell_type": "code",
   "execution_count": 7,
   "id": "9acdd097",
   "metadata": {},
   "outputs": [
    {
     "name": "stdout",
     "output_type": "stream",
     "text": [
      "a1 =  [0 0 0 0 0 1 0 1 1 0]\n",
      "a2 =  [0 0 0 0 0 0 0 0 0 0]\n",
      "a3 =  [2 2 3 3 2 1 2 3 2 2]\n"
     ]
    }
   ],
   "source": [
    "import numpy as np\n",
    "\n",
    "a1 = np.random.randint(2, size=10)\n",
    "print('a1 = ', a1)\n",
    "\n",
    "a2 = np.random.randint(1, size=10)\n",
    "print('a2 = ', a2)\n",
    "\n",
    "a3 = np.random.randint(1, 4, size=10)  # 包含 low, 不包含 high\n",
    "print('a3 = ', a3)"
   ]
  },
  {
   "cell_type": "markdown",
   "id": "79a24054",
   "metadata": {},
   "source": [
    "### 利用隨機產生的 1~6 整數畫直方圖"
   ]
  },
  {
   "cell_type": "code",
   "execution_count": 8,
   "id": "9194c1b3",
   "metadata": {},
   "outputs": [
    {
     "name": "stdout",
     "output_type": "stream",
     "text": [
      "60\n",
      "(60,)\n",
      "[1 5 5 2 6 6 2 4 4 3 1 5 2 3 5 6 4 6 1 6 2 2 5 5 6 5 5 4 6 6 5 4 6 6 5 6 5\n",
      " 5 3 2 2 4 1 1 4 5 3 6 1 2 1 1 1 3 1 2 3 6 1 3]\n"
     ]
    },
    {
     "data": {
      "image/png": "[encoded data removed]",
      "text/plain": [
       "<Figure size 432x288 with 1 Axes>"
      ]
     },
     "metadata": {
      "needs_background": "light"
     },
     "output_type": "display_data"
    }
   ],
   "source": [
    "import matplotlib.pyplot as plt\n",
    "import numpy as np\n",
    "\n",
    "t = np.random.randint(1, 7, 6*10**1)\n",
    "print(len(t))\n",
    "print(t.shape)\n",
    "print(t)\n",
    "plt.hist(t,bins=[1,2,3,4,5,6,7])\n",
    "plt.show() "
   ]
  },
  {
   "cell_type": "code",
   "execution_count": 9,
   "id": "97e629d9",
   "metadata": {},
   "outputs": [
    {
     "name": "stdout",
     "output_type": "stream",
     "text": [
      "6000\n",
      "(6000,)\n"
     ]
    },
    {
     "data": {
      "image/png": "[encoded data removed]",
      "text/plain": [
       "<Figure size 432x288 with 1 Axes>"
      ]
     },
     "metadata": {
      "needs_background": "light"
     },
     "output_type": "display_data"
    }
   ],
   "source": [
    "import matplotlib.pyplot as plt\n",
    "import numpy as np\n",
    "\n",
    "t = np.random.randint(1, 7, 6*10**3)\n",
    "print(len(t))\n",
    "print(t.shape)\n",
    "plt.hist(t,bins=[1,2,3,4,5,6,7])\n",
    "plt.show() "
   ]
  },
  {
   "cell_type": "code",
   "execution_count": 10,
   "id": "cfe84cc9",
   "metadata": {},
   "outputs": [
    {
     "name": "stdout",
     "output_type": "stream",
     "text": [
      "600000\n",
      "(600000,)\n"
     ]
    },
    {
     "data": {
      "image/png": "[encoded data removed]",
      "text/plain": [
       "<Figure size 432x288 with 1 Axes>"
      ]
     },
     "metadata": {
      "needs_background": "light"
     },
     "output_type": "display_data"
    }
   ],
   "source": [
    "import matplotlib.pyplot as plt\n",
    "import numpy as np\n",
    "\n",
    "t = np.random.randint(1, 7, 6*10**5)\n",
    "print(len(t))\n",
    "print(t.shape)\n",
    "plt.hist(t,bins=[1,2,3,4,5,6,7])\n",
    "plt.show() "
   ]
  },
  {
   "cell_type": "markdown",
   "id": "33a117c6",
   "metadata": {},
   "source": [
    "## <font color=\"red\">練習2</font>\n",
    "\n",
    "1. 利用 numpy.random 產生介於 1 至 6 的整數，模擬丟擲一個骰子 $6 \\times 10^n$ 次，$1 <= n <= 6$。\n",
    "2. 參考 plot 筆記本的做法，將模擬結果畫出 2x3 的直方圖(兩列、三行)。"
   ]
  },
  {
   "cell_type": "code",
   "execution_count": 13,
   "id": "a06f062e",
   "metadata": {},
   "outputs": [
    {
     "name": "stdout",
     "output_type": "stream",
     "text": [
      "600\n",
      "(600,)\n",
      "[4 5 6 1 3 6 1 5 5 6 6 3 1 4 2 2 4 5 4 4 5 2 2 1 2 1 4 4 4 4 4 2 6 5 2 1 6\n",
      " 6 2 3 1 6 1 1 6 1 2 6 3 3 3 6 3 2 1 4 4 6 3 2 6 5 3 5 1 6 6 3 5 6 5 2 2 2\n",
      " 1 1 2 3 1 2 6 4 6 1 5 2 2 4 4 2 3 3 3 3 6 4 4 1 6 3 3 2 6 5 5 5 6 2 3 4 2\n",
      " 6 6 3 4 4 2 1 5 5 5 2 1 6 5 3 6 2 1 2 6 5 2 5 2 1 4 3 2 6 2 4 6 3 1 6 3 6\n",
      " 3 3 4 1 4 6 4 2 3 1 6 5 1 1 1 3 6 1 3 6 6 6 1 5 3 5 6 1 3 2 6 5 4 2 2 1 6\n",
      " 5 1 4 1 1 4 5 2 6 2 3 5 2 2 3 3 5 6 2 6 4 5 2 4 2 1 3 1 4 6 2 3 4 2 5 5 5\n",
      " 5 4 5 6 3 3 6 3 2 4 1 5 4 3 3 4 6 5 2 5 2 3 2 1 4 2 2 2 6 2 6 4 6 1 3 1 6\n",
      " 3 2 2 4 4 4 4 6 3 3 2 2 2 2 5 3 3 6 1 6 1 6 6 3 2 6 1 5 4 4 2 4 5 6 3 3 1\n",
      " 6 4 4 2 4 6 2 5 2 6 4 2 5 2 6 4 2 3 5 4 6 3 6 2 2 4 4 6 1 5 2 5 4 4 2 5 5\n",
      " 2 1 4 5 2 6 2 6 5 4 5 2 5 1 2 1 2 4 2 1 3 4 2 4 1 6 4 4 5 3 2 3 6 5 2 5 4\n",
      " 4 4 6 2 5 4 6 2 3 4 2 4 4 6 5 2 6 4 1 1 1 1 6 5 1 2 2 3 1 6 3 3 2 5 2 2 5\n",
      " 3 3 4 3 2 3 6 3 3 1 2 4 5 5 4 4 5 4 1 1 1 3 2 3 6 3 3 5 4 6 1 4 5 2 6 2 3\n",
      " 4 3 5 3 5 4 3 3 1 2 6 6 3 4 1 4 6 1 5 2 3 2 4 5 3 6 5 5 3 4 2 6 3 5 5 2 6\n",
      " 5 4 5 6 6 1 3 4 4 3 2 4 3 3 6 6 6 6 3 5 3 3 2 4 3 4 3 6 1 3 2 4 1 2 2 5 2\n",
      " 6 2 5 6 4 5 1 3 4 1 1 2 1 2 2 5 4 4 1 3 1 6 1 3 6 4 4 3 3 4 2 4 1 3 3 5 4\n",
      " 3 6 3 6 4 3 1 1 5 6 5 4 4 1 6 4 4 1 1 3 1 2 6 1 1 3 3 3 2 4 6 5 2 2 1 1 2\n",
      " 2 4 6 4 4 3 2 3]\n"
     ]
    },
    {
     "data": {
      "image/png": "[encoded data removed]",
      "text/plain": [
       "<Figure size 432x288 with 1 Axes>"
      ]
     },
     "metadata": {
      "needs_background": "light"
     },
     "output_type": "display_data"
    }
   ],
   "source": [
    "import matplotlib.pyplot as plt\n",
    "import numpy as np\n",
    "\n",
    "n = np.random.randint(1,7)\n",
    "t = np.random.randint(1, 7, 6*10**n)\n",
    "print(len(t))\n",
    "print(t.shape)\n",
    "print(t)\n",
    "plt.hist(t,bins=[1,2,3,4,5,6,7])\n",
    "plt.show() \n",
    "   \n",
    "\n"
   ]
  },
  {
   "cell_type": "code",
   "execution_count": null,
   "id": "8c7735de",
   "metadata": {},
   "outputs": [],
   "source": []
  }
 ],
 "metadata": {
  "kernelspec": {
   "display_name": "Python 3 (ipykernel)",
   "language": "python",
   "name": "python3"
  },
  "language_info": {
   "codemirror_mode": {
    "name": "ipython",
    "version": 3
   },
   "file_extension": ".py",
   "mimetype": "text/x-python",
   "name": "python",
   "nbconvert_exporter": "python",
   "pygments_lexer": "ipython3",
   "version": "3.9.7"
  }
 },
 "nbformat": 4,
 "nbformat_minor": 5
}
