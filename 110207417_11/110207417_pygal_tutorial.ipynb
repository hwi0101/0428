{
 "cells": [
  {
   "cell_type": "markdown",
   "metadata": {},
   "source": [
    "# Pygal 範例\n",
    "\n",
    "參考資料：<br>\n",
    "Pygal first steps <br>\n",
    "https://www.pygal.org/en/stable/documentation/first_steps.html\n",
    "\n",
    "Pygal Bar<br>\n",
    "https://www.pygal.org/en/stable/documentation/types/bar.html\n",
    "\n",
    "Pygal Documentation <br>\n",
    "https://www.pygal.org/en/stable/documentation/\n",
    "\n",
    "巴都萬數列（Padovan Sequence）<br>\n",
    "https://zh.m.wikipedia.org/zh-tw/%E5%B7%B4%E9%83%BD%E8%90%AC%E6%95%B8%E5%88%97\n",
    "\n",
    "費氏數列 (Fibonacci) <br>\n",
    "https://zh.wikipedia.org/zh-tw/%E6%96%90%E6%B3%A2%E9%82%A3%E5%A5%91%E6%95%B0\n",
    "\n",
    "python圖表之pygal入門篇 <br>\n",
    "https://www.twblogs.net/a/5ba185b42b71771a4da927a8\n",
    "\n",
    "## 安裝pygal\n",
    "\n",
    "pip install pygal\n",
    "\n",
    "<img src=\"install_pygal.png\">"
   ]
  },
  {
   "cell_type": "code",
   "execution_count": 1,
   "metadata": {},
   "outputs": [
    {
     "ename": "ModuleNotFoundError",
     "evalue": "No module named 'pygal'",
     "output_type": "error",
     "traceback": [
      "\u001b[1;31m---------------------------------------------------------------------------\u001b[0m",
      "\u001b[1;31mModuleNotFoundError\u001b[0m                       Traceback (most recent call last)",
      "\u001b[1;32m~\\AppData\\Local\\Temp/ipykernel_13652/2222761251.py\u001b[0m in \u001b[0;36m<module>\u001b[1;34m\u001b[0m\n\u001b[1;32m----> 1\u001b[1;33m \u001b[1;32mimport\u001b[0m \u001b[0mpygal\u001b[0m                                                       \u001b[1;31m# First import pygal\u001b[0m\u001b[1;33m\u001b[0m\u001b[1;33m\u001b[0m\u001b[0m\n\u001b[0m\u001b[0;32m      2\u001b[0m \u001b[0mbar_chart\u001b[0m \u001b[1;33m=\u001b[0m \u001b[0mpygal\u001b[0m\u001b[1;33m.\u001b[0m\u001b[0mBar\u001b[0m\u001b[1;33m(\u001b[0m\u001b[1;33m)\u001b[0m                                            \u001b[1;31m# Then create a bar graph object\u001b[0m\u001b[1;33m\u001b[0m\u001b[1;33m\u001b[0m\u001b[0m\n\u001b[0;32m      3\u001b[0m \u001b[0mbar_chart\u001b[0m\u001b[1;33m.\u001b[0m\u001b[0madd\u001b[0m\u001b[1;33m(\u001b[0m\u001b[1;34m'Fibonacci'\u001b[0m\u001b[1;33m,\u001b[0m \u001b[1;33m[\u001b[0m\u001b[1;36m0\u001b[0m\u001b[1;33m,\u001b[0m \u001b[1;36m1\u001b[0m\u001b[1;33m,\u001b[0m \u001b[1;36m1\u001b[0m\u001b[1;33m,\u001b[0m \u001b[1;36m2\u001b[0m\u001b[1;33m,\u001b[0m \u001b[1;36m3\u001b[0m\u001b[1;33m,\u001b[0m \u001b[1;36m5\u001b[0m\u001b[1;33m,\u001b[0m \u001b[1;36m8\u001b[0m\u001b[1;33m,\u001b[0m \u001b[1;36m13\u001b[0m\u001b[1;33m,\u001b[0m \u001b[1;36m21\u001b[0m\u001b[1;33m,\u001b[0m \u001b[1;36m34\u001b[0m\u001b[1;33m,\u001b[0m \u001b[1;36m55\u001b[0m\u001b[1;33m]\u001b[0m\u001b[1;33m)\u001b[0m  \u001b[1;31m# Add some values\u001b[0m\u001b[1;33m\u001b[0m\u001b[1;33m\u001b[0m\u001b[0m\n\u001b[0;32m      4\u001b[0m \u001b[0mbar_chart\u001b[0m\u001b[1;33m.\u001b[0m\u001b[0mrender_to_file\u001b[0m\u001b[1;33m(\u001b[0m\u001b[1;34m'bar_chart.svg'\u001b[0m\u001b[1;33m)\u001b[0m                          \u001b[1;31m# Save the svg to a file\u001b[0m\u001b[1;33m\u001b[0m\u001b[1;33m\u001b[0m\u001b[0m\n",
      "\u001b[1;31mModuleNotFoundError\u001b[0m: No module named 'pygal'"
     ]
    }
   ],
   "source": [
    "import pygal                                                       # First import pygal\n",
    "bar_chart = pygal.Bar()                                            # Then create a bar graph object\n",
    "bar_chart.add('Fibonacci', [0, 1, 1, 2, 3, 5, 8, 13, 21, 34, 55])  # Add some values\n",
    "bar_chart.render_to_file('bar_chart.svg')                          # Save the svg to a file"
   ]
  },
  {
   "cell_type": "markdown",
   "metadata": {},
   "source": [
    "## 畫出長條圖\n",
    "\n",
    "此程式產生一個 SVG 檔案，檔名是：bar_chart.svg\n",
    "\n",
    "在 HTML 中可以插入 SVG 檔，例如：\n",
    "\n",
    "~~~~\n",
    "<object type=\"image/svg+xml\" data=\"bar_chart.svg\"></object>\n",
    "~~~~\n",
    "\n",
    "<img src=\"bar_chart.svg\">"
   ]
  },
  {
   "cell_type": "code",
   "execution_count": 3,
   "metadata": {},
   "outputs": [],
   "source": [
    "bar_chart = pygal.Bar()\n",
    "bar_chart.add('Fibonacci', [0, 1, 1, 2, 3, 5, 8, 13, 21, 34, 55])\n",
    "bar_chart.add('Padovan', [1, 1, 1, 2, 2, 3, 4, 5, 7, 9, 12])\n",
    "bar_chart.render_to_file('bar_chart2.svg')"
   ]
  },
  {
   "cell_type": "markdown",
   "metadata": {},
   "source": [
    "此程式把兩個序列的資料畫在同一張圖內，將產生一個 SVG 檔案，檔名是：bar_chart2.svg\n",
    "\n",
    "<img src=\"bar_chart2.svg\">"
   ]
  },
  {
   "cell_type": "code",
   "execution_count": 4,
   "metadata": {},
   "outputs": [],
   "source": [
    "bar_chart = pygal.StackedBar()\n",
    "bar_chart.add('Fibonacci', [0, 1, 1, 2, 3, 5, 8, 13, 21, 34, 55])\n",
    "bar_chart.add('Padovan', [1, 1, 1, 2, 2, 3, 4, 5, 7, 9, 12])\n",
    "bar_chart.render_to_file('bar_chart3.svg')"
   ]
  },
  {
   "cell_type": "markdown",
   "metadata": {},
   "source": [
    "### 此程式把兩個序列的資料重疊畫在同一張圖內，將產生一個 SVG 檔案，檔名是：bar_chart3.svg\n",
    "\n",
    "<img src=\"bar_chart3.svg\">"
   ]
  },
  {
   "cell_type": "code",
   "execution_count": 3,
   "metadata": {},
   "outputs": [
    {
     "ename": "NameError",
     "evalue": "name 'pygal' is not defined",
     "output_type": "error",
     "traceback": [
      "\u001b[1;31m---------------------------------------------------------------------------\u001b[0m",
      "\u001b[1;31mNameError\u001b[0m                                 Traceback (most recent call last)",
      "\u001b[1;32m~\\AppData\\Local\\Temp/ipykernel_7072/81869447.py\u001b[0m in \u001b[0;36m<module>\u001b[1;34m\u001b[0m\n\u001b[1;32m----> 1\u001b[1;33m \u001b[0mbar_chart\u001b[0m \u001b[1;33m=\u001b[0m \u001b[0mpygal\u001b[0m\u001b[1;33m.\u001b[0m\u001b[0mHorizontalStackedBar\u001b[0m\u001b[1;33m(\u001b[0m\u001b[1;33m)\u001b[0m\u001b[1;33m\u001b[0m\u001b[1;33m\u001b[0m\u001b[0m\n\u001b[0m\u001b[0;32m      2\u001b[0m \u001b[0mbar_chart\u001b[0m\u001b[1;33m.\u001b[0m\u001b[0madd\u001b[0m\u001b[1;33m(\u001b[0m\u001b[1;34m'Fibonacci'\u001b[0m\u001b[1;33m,\u001b[0m \u001b[1;33m[\u001b[0m\u001b[1;36m0\u001b[0m\u001b[1;33m,\u001b[0m \u001b[1;36m1\u001b[0m\u001b[1;33m,\u001b[0m \u001b[1;36m1\u001b[0m\u001b[1;33m,\u001b[0m \u001b[1;36m2\u001b[0m\u001b[1;33m,\u001b[0m \u001b[1;36m3\u001b[0m\u001b[1;33m,\u001b[0m \u001b[1;36m5\u001b[0m\u001b[1;33m,\u001b[0m \u001b[1;36m8\u001b[0m\u001b[1;33m,\u001b[0m \u001b[1;36m13\u001b[0m\u001b[1;33m,\u001b[0m \u001b[1;36m21\u001b[0m\u001b[1;33m,\u001b[0m \u001b[1;36m34\u001b[0m\u001b[1;33m,\u001b[0m \u001b[1;36m55\u001b[0m\u001b[1;33m]\u001b[0m\u001b[1;33m)\u001b[0m\u001b[1;33m\u001b[0m\u001b[1;33m\u001b[0m\u001b[0m\n\u001b[0;32m      3\u001b[0m \u001b[0mbar_chart\u001b[0m\u001b[1;33m.\u001b[0m\u001b[0madd\u001b[0m\u001b[1;33m(\u001b[0m\u001b[1;34m'Padovan'\u001b[0m\u001b[1;33m,\u001b[0m \u001b[1;33m[\u001b[0m\u001b[1;36m1\u001b[0m\u001b[1;33m,\u001b[0m \u001b[1;36m1\u001b[0m\u001b[1;33m,\u001b[0m \u001b[1;36m1\u001b[0m\u001b[1;33m,\u001b[0m \u001b[1;36m2\u001b[0m\u001b[1;33m,\u001b[0m \u001b[1;36m2\u001b[0m\u001b[1;33m,\u001b[0m \u001b[1;36m3\u001b[0m\u001b[1;33m,\u001b[0m \u001b[1;36m4\u001b[0m\u001b[1;33m,\u001b[0m \u001b[1;36m5\u001b[0m\u001b[1;33m,\u001b[0m \u001b[1;36m7\u001b[0m\u001b[1;33m,\u001b[0m \u001b[1;36m9\u001b[0m\u001b[1;33m,\u001b[0m \u001b[1;36m12\u001b[0m\u001b[1;33m]\u001b[0m\u001b[1;33m)\u001b[0m\u001b[1;33m\u001b[0m\u001b[1;33m\u001b[0m\u001b[0m\n\u001b[0;32m      4\u001b[0m \u001b[0mbar_chart\u001b[0m\u001b[1;33m.\u001b[0m\u001b[0mrender_to_file\u001b[0m\u001b[1;33m(\u001b[0m\u001b[1;34m'bar_chart4.svg'\u001b[0m\u001b[1;33m)\u001b[0m\u001b[1;33m\u001b[0m\u001b[1;33m\u001b[0m\u001b[0m\n",
      "\u001b[1;31mNameError\u001b[0m: name 'pygal' is not defined"
     ]
    }
   ],
   "source": [
    "bar_chart = pygal.HorizontalStackedBar()\n",
    "bar_chart.add('Fibonacci', [0, 1, 1, 2, 3, 5, 8, 13, 21, 34, 55])\n",
    "bar_chart.add('Padovan', [1, 1, 1, 2, 2, 3, 4, 5, 7, 9, 12])\n",
    "bar_chart.render_to_file('bar_chart4.svg')"
   ]
  },
  {
   "cell_type": "markdown",
   "metadata": {},
   "source": [
    "### HorizontalStackedBar (水平重疊的長條圖)\n",
    "### 此程式把兩個序列的資料水平重疊畫在同一張圖內，將產生一個 SVG 檔案，檔名是：bar_chart4.svg\n",
    "\n",
    "<img src=\"bar_chart4.svg\">"
   ]
  },
  {
   "cell_type": "code",
   "execution_count": 182,
   "metadata": {},
   "outputs": [],
   "source": [
    "import pygal\n",
    "\n",
    "bar_chart = pygal.HorizontalStackedBar()\n",
    "bar_chart.title = \"Remarquable sequences\"\n",
    "bar_chart.x_labels = map(str, range(11))\n",
    "bar_chart.add('Fibonacci', [0, 1, 1, 2, 3, 5, 8, 13, 21, 34, 55])\n",
    "bar_chart.add('Padovan', [1, 1, 1, 2, 2, 3, 4, 5, 7, 9, 12])\n",
    "bar_chart.render_to_file('bar_chart5.svg')"
   ]
  },
  {
   "cell_type": "markdown",
   "metadata": {},
   "source": [
    "## 加上標題與標籤文字\n",
    "\n",
    "- bar_chart.title: 標題\n",
    "- bar_chart.x_labels: x 軸的標籤文字\n",
    "- bar_chart.add: 加入圖例的標籤文字，及資料\n",
    "\n",
    "<div >\n",
    "<img src=\"bar_chart5.svg\" />\n",
    "</div>"
   ]
  },
  {
   "cell_type": "markdown",
   "metadata": {},
   "source": [
    "## map(str, range(11)) 為將 0~10 的整數產生對應的字串"
   ]
  },
  {
   "cell_type": "code",
   "execution_count": 3,
   "metadata": {},
   "outputs": [
    {
     "name": "stdout",
     "output_type": "stream",
     "text": [
      "<map object at 0x00000188167556D0>\n",
      "0, type: <class 'str'>\n",
      "1, type: <class 'str'>\n",
      "2, type: <class 'str'>\n",
      "3, type: <class 'str'>\n",
      "4, type: <class 'str'>\n",
      "5, type: <class 'str'>\n",
      "6, type: <class 'str'>\n",
      "7, type: <class 'str'>\n",
      "8, type: <class 'str'>\n",
      "9, type: <class 'str'>\n",
      "10, type: <class 'str'>\n"
     ]
    }
   ],
   "source": [
    "t = map(str, range(11))\n",
    "print(t)\n",
    "for x in t:\n",
    "    print('{}, type: {}'.format(x, type(x)))"
   ]
  },
  {
   "cell_type": "code",
   "execution_count": 9,
   "metadata": {},
   "outputs": [],
   "source": [
    "bar_chart = pygal.HorizontalBar()\n",
    "bar_chart.title = 'Browser usage in February 2012 (in %)'\n",
    "bar_chart.add('IE', 19.5)\n",
    "bar_chart.add('Firefox', 36.6)\n",
    "bar_chart.add('Chrome', 36.3)\n",
    "bar_chart.add('Safari', 4.5)\n",
    "bar_chart.add('Opera', 2.3)\n",
    "bar_chart.render_to_file('bar_chart6.svg')"
   ]
  },
  {
   "cell_type": "markdown",
   "metadata": {},
   "source": [
    "### 水平的長條圖，畫出瀏覽器的市占率\n",
    "\n",
    "<div >\n",
    "<img src=\"bar_chart6.svg\" />\n",
    "</div>"
   ]
  },
  {
   "cell_type": "markdown",
   "metadata": {},
   "source": [
    "## <font color=\"red\">練習3</font>\n",
    "\n",
    "1. 利用 pygal 畫出長條圖，將長條圖放進一個 HTML 檔案中，以便於透過瀏覽器展示結果。\n",
    "2. 資料來源為 \"pop202201.txt\" (源自 \"111年1-12月各區人口數.ods\")。\n",
    "3. HTML 的格式可參考 \"pygal_example.html\" 和 \"pygal_example2.html\"。\n",
    "4. 其結果如下圖。\n",
    "\n",
    "<font color=\"red\">提示：需要3個list，即：(1)x軸的標籤文字，(2)男性的人口數，(3)女性的人口數</font>\n",
    "<img src=\"pop.png\">\n",
    "<img src=\"pop_figure.png\">"
   ]
  },
  {
   "cell_type": "code",
   "execution_count": 191,
   "metadata": {},
   "outputs": [
    {
     "name": "stdout",
     "output_type": "stream",
     "text": [
      "[90081.0, 97951.0, 135471.0, 99484.0, 71337.0, 58198.0, 85994.0, 124536.0, 56230.0, 131412.0, 129518.0, 117205.0]\n",
      "[102430.0, 108258.0, 154948.0, 115079.0, 78625.0, 62026.0, 89967.0, 136105.0, 59154.0, 144435.0, 139090.0, 126891.0]\n",
      "['松山區', '信義區', '大安區', '中山區', '中正區', '大同區', '萬華區', '文山區', '南港區', '內湖區', '士林區', '北投區']\n"
     ]
    }
   ],
   "source": [
    "import pygal \n",
    "\n",
    "\n",
    "def bb(f):\n",
    "     \n",
    "        \n",
    "        file = open('pop202201.txt', 'r',encoding=\"utf-8\")\n",
    "        \n",
    "        f = file.readline()\n",
    "        num = file.readline().split()\n",
    "        \n",
    "        s = (num[0])    \n",
    "        x = float(num[1])\n",
    "        y = float(num[2])\n",
    "        \n",
    "        num1 = file.readline().split()\n",
    "        \n",
    "        s1 = (num1[0])    \n",
    "        x1 = float(num1[1])\n",
    "        y1 = float(num1[2])\n",
    "        \n",
    "        num2 = file.readline().split()\n",
    "        \n",
    "        s2 = (num2[0])     \n",
    "        x2 = float(num2[1])\n",
    "        y2 = float(num2[2])\n",
    "        \n",
    "        num3 = file.readline().split()\n",
    "        s3 = (num3[0])    \n",
    "        x3 = float(num3[1])\n",
    "        y3 = float(num3[2])\n",
    "        \n",
    "        \n",
    "        num4 = file.readline().split()\n",
    "          \n",
    "        s4 = (num4[0])\n",
    "        x4 = float(num4[1])\n",
    "        y4 = float(num4[2])\n",
    "        \n",
    "        num5 = file.readline().split()\n",
    "        \n",
    "        s5 = (num5[0])    \n",
    "        x5 = float(num5[1])\n",
    "        y5 = float(num5[2])\n",
    "        \n",
    "        num6 = file.readline().split()\n",
    "        \n",
    "        s6 = (num6[0])    \n",
    "        x6 = float(num6[1])\n",
    "        y6 = float(num6[2])\n",
    "        \n",
    "        num7 = file.readline().split()\n",
    "        \n",
    "        s7 = (num7[0])    \n",
    "        x7 = float(num7[1])\n",
    "        y7 = float(num7[2])\n",
    "        \n",
    "        num8 = file.readline().split()\n",
    "        \n",
    "        s8 = (num8[0])    \n",
    "        x8 = float(num8[1])\n",
    "        y8 = float(num8[2])\n",
    "        \n",
    "        num9 = file.readline().split()\n",
    "        \n",
    "        s9 = (num9[0])    \n",
    "        x9 = float(num9[1])\n",
    "        y9 = float(num9[2])\n",
    "        \n",
    "        \n",
    "        num10 = file.readline().split()\n",
    "        \n",
    "        s10 = (num10[0])    \n",
    "        x10 = float(num10[1])\n",
    "        y10 = float(num10[2])\n",
    "        \n",
    "        num11 = file.readline().split()\n",
    "        \n",
    "        s11 = (num11[0])    \n",
    "        x11 = float(num11[1])\n",
    "        y11 = float(num11[2])\n",
    "        \n",
    "\n",
    "        xsum=[]  \n",
    "        xsum.append(x)\n",
    "        xsum.append(x1)\n",
    "        xsum.append(x2)\n",
    "        xsum.append(x3)\n",
    "        xsum.append(x4)\n",
    "        xsum.append(x5)\n",
    "        xsum.append(x6)\n",
    "        xsum.append(x7)\n",
    "        xsum.append(x8)\n",
    "        xsum.append(x9)\n",
    "        xsum.append(x10)\n",
    "        xsum.append(x11)\n",
    "        \n",
    "        ysum=[]  \n",
    "        ysum.append(y)\n",
    "        ysum.append(y1)\n",
    "        ysum.append(y2)\n",
    "        ysum.append(y3)\n",
    "        ysum.append(y4)\n",
    "        ysum.append(y5)\n",
    "        ysum.append(y6)\n",
    "        ysum.append(y7)\n",
    "        ysum.append(y8)\n",
    "        ysum.append(y9)\n",
    "        ysum.append(y10)\n",
    "        ysum.append(y11)\n",
    "        \n",
    "        ssum=[]\n",
    "        ssum.append(s)\n",
    "        ssum.append(s1)\n",
    "        ssum.append(s2)\n",
    "        ssum.append(s3)\n",
    "        ssum.append(s4)\n",
    "        ssum.append(s5)\n",
    "        ssum.append(s6)\n",
    "        ssum.append(s7)\n",
    "        ssum.append(s8)\n",
    "        ssum.append(s9)\n",
    "        ssum.append(s10)\n",
    "        ssum.append(s11)\n",
    "        \n",
    "        print(xsum)\n",
    "        print(ysum)\n",
    "        print(ssum)\n",
    "        \n",
    "        \n",
    "        bar_chart = pygal.HorizontalStackedBar()\n",
    "        bar_chart.title = \"111年1-12月各區人口數\"\n",
    "        bar_chart.x_labels = ssum\n",
    "        bar_chart.add('男', xsum)\n",
    "        bar_chart.add('女', ysum)\n",
    "        bar_chart.render_to_file('bar_chart13.svg')\n",
    "\n",
    "        \n",
    "        \n",
    "\n",
    "            \n",
    "            \n",
    "           \n",
    "            \n",
    "bb(f)"
   ]
  },
  {
   "cell_type": "markdown",
   "metadata": {},
   "source": [
    "<img src=\"bar_chart13.svg\" />"
   ]
  }
 ],
 "metadata": {
  "kernelspec": {
   "display_name": "Python 3 (ipykernel)",
   "language": "python",
   "name": "python3"
  },
  "language_info": {
   "codemirror_mode": {
    "name": "ipython",
    "version": 3
   },
   "file_extension": ".py",
   "mimetype": "text/x-python",
   "name": "python",
   "nbconvert_exporter": "python",
   "pygments_lexer": "ipython3",
   "version": "3.9.7"
  }
 },
 "nbformat": 4,
 "nbformat_minor": 2
}
