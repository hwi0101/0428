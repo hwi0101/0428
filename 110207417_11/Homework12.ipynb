{
 "cells": [
  {
   "cell_type": "markdown",
   "id": "0b0a3ea0",
   "metadata": {},
   "source": [
    "## <font color=\"red\">練習1</font>"
   ]
  },
  {
   "cell_type": "code",
   "execution_count": null,
   "id": "8197673d",
   "metadata": {},
   "outputs": [],
   "source": []
  },
  {
   "cell_type": "code",
   "execution_count": 5,
   "id": "e597ca35",
   "metadata": {},
   "outputs": [],
   "source": [
    "import random\n",
    "\n",
    "file = open('n.txt')\n",
    "names = []\n",
    "\n",
    "\n",
    "for lines in file:\n",
    "    line = lines.strip()\n",
    "    na = line.split()\n",
    "    names.extend(na)\n",
    "\n",
    "namedict = dict()\n",
    "\n",
    "for i in range(150):\n",
    "    lnames = random.choice(names)\n",
    "    fnames = random.choice(names)\n",
    "    namedict[i+1] = lnames, fnames\n",
    "\n",
    "gradict = dict()\n",
    "\n",
    "for i in range(150):\n",
    "    num = random.randint(3,8)\n",
    "    credit_grade_tuple = tuple()\n",
    "    for _ in range(num):\n",
    "        credit_grade_tuple += random.randint(1, 4), random.randint(0, 100)\n",
    "    gradict[i+1] = credit_grade_tuple\n",
    "\n",
    "\n",
    "out_file = 'work.csv'\n",
    "\n",
    "fout = open(out_file, 'w')\n",
    "for i in range(150):\n",
    "    res_str = f\"{namedict[i+1][0]}, {namedict[i+1][1]},\"\n",
    "    for _ in gradict[i+1]:\n",
    "        res_str += f\"{_}, \"\n",
    "    res_str += \"\\n\"\n",
    "    fout.write(res_str)\n",
    "\n",
    "fout.close()"
   ]
  },
  {
   "cell_type": "markdown",
   "id": "4091e9ae",
   "metadata": {},
   "source": [
    "## <font color=\"red\">練習2</font>"
   ]
  },
  {
   "cell_type": "code",
   "execution_count": 60,
   "id": "8ca0dc57",
   "metadata": {
    "scrolled": true
   },
   "outputs": [
    {
     "data": {
      "image/png": "[encoded data removed]",
      "text/plain": [
       "<Figure size 1296x432 with 2 Axes>"
      ]
     },
     "metadata": {
      "needs_background": "light"
     },
     "output_type": "display_data"
    }
   ],
   "source": [
    "import matplotlib.pyplot as plt\n",
    "\n",
    "tcredit = []\n",
    "tgrade = []\n",
    "average = []\n",
    "tgpa = []\n",
    "\n",
    "for i in range(150):\n",
    "    tog = toc = tgp = 0\n",
    "    nu = len(gradict[i+1])\n",
    "    numb = nu/2\n",
    "    for n in range(int(numb)):\n",
    "        g = gradict[i+1][2*n+1]\n",
    "        c = gradict[i+1][2*n]\n",
    "        tog = tog+g*gradict[i+1][2*n]\n",
    "        toc = toc+c\n",
    "        if g >= 90:\n",
    "            gp = c*4.3\n",
    "        elif g >= 85:\n",
    "            gp = c*4.0\n",
    "        elif g >= 80:\n",
    "            gp = c*3.7\n",
    "        elif g >= 77:\n",
    "            gp = c*3.3\n",
    "        elif g >= 73:\n",
    "            gp = c*3.0\n",
    "        elif g >= 70:\n",
    "            gp = c*2.7\n",
    "        elif g >= 67:\n",
    "            gp = c*2.3\n",
    "        elif g >= 63:\n",
    "            gp = c*2.0\n",
    "        elif g >= 60:\n",
    "            gp = c*1.7\n",
    "        elif g >= 50:\n",
    "            gp = c*1.0\n",
    "        elif g >= 1:\n",
    "            gp = c*0\n",
    "        elif g == 0:\n",
    "            gp = c*0\n",
    "        tgp = tgp +gp \n",
    "        \n",
    "    credit = toc\n",
    "    ave = '%.1f'%(tog/toc)\n",
    "    gpa = '%.1f'%(tgp/credit)\n",
    "    tcredit.append(credit)\n",
    "    average.append(ave)\n",
    "    tgpa.append(gpa)\n",
    "\n",
    "faverage = []\n",
    "fgpa = []\n",
    "\n",
    "for item in average:\n",
    "    faverage.append(float(item))\n",
    "    \n",
    "for item in tgpa:\n",
    "    fgpa.append(float(item))\n",
    "    \n",
    "fig = plt.figure(figsize=(18, 6))    \n",
    "    \n",
    "ax1 = fig.add_subplot(121)\n",
    "ax2 = fig.add_subplot(122) \n",
    "\n",
    "ax1.hist(faverage)\n",
    "ax1.set_title(\"Average\")\n",
    "\n",
    "ax2.hist(fgpa)\n",
    "ax2.set_title(\"GPA\")\n",
    "\n",
    "plt.show()"
   ]
  },
  {
   "cell_type": "code",
   "execution_count": null,
   "id": "ea33826a",
   "metadata": {},
   "outputs": [],
   "source": []
  }
 ],
 "metadata": {
  "kernelspec": {
   "display_name": "Python 3 (ipykernel)",
   "language": "python",
   "name": "python3"
  },
  "language_info": {
   "codemirror_mode": {
    "name": "ipython",
    "version": 3
   },
   "file_extension": ".py",
   "mimetype": "text/x-python",
   "name": "python",
   "nbconvert_exporter": "python",
   "pygments_lexer": "ipython3",
   "version": "3.9.7"
  }
 },
 "nbformat": 4,
 "nbformat_minor": 5
}
