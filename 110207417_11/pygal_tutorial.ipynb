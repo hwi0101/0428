{
 "cells": [
  {
   "cell_type": "markdown",
   "metadata": {},
   "source": [
    "# Pygal 範例\n",
    "\n",
    "參考資料：<br>\n",
    "Pygal first steps <br>\n",
    "https://www.pygal.org/en/stable/documentation/first_steps.html\n",
    "\n",
    "Pygal Bar<br>\n",
    "https://www.pygal.org/en/stable/documentation/types/bar.html\n",
    "\n",
    "Pygal Documentation <br>\n",
    "https://www.pygal.org/en/stable/documentation/\n",
    "\n",
    "巴都萬數列（Padovan Sequence）<br>\n",
    "https://zh.m.wikipedia.org/zh-tw/%E5%B7%B4%E9%83%BD%E8%90%AC%E6%95%B8%E5%88%97\n",
    "\n",
    "費氏數列 (Fibonacci) <br>\n",
    "https://zh.wikipedia.org/zh-tw/%E6%96%90%E6%B3%A2%E9%82%A3%E5%A5%91%E6%95%B0\n",
    "\n",
    "python圖表之pygal入門篇 <br>\n",
    "https://www.twblogs.net/a/5ba185b42b71771a4da927a8\n",
    "\n",
    "## 安裝pygal\n",
    "\n",
    "pip install pygal\n",
    "\n",
    "<img src=\"install_pygal.png\">"
   ]
  },
  {
   "cell_type": "code",
   "execution_count": 1,
   "metadata": {},
   "outputs": [
    {
     "ename": "ModuleNotFoundError",
     "evalue": "No module named 'pygal'",
     "output_type": "error",
     "traceback": [
      "\u001b[1;31m---------------------------------------------------------------------------\u001b[0m",
      "\u001b[1;31mModuleNotFoundError\u001b[0m                       Traceback (most recent call last)",
      "\u001b[1;32m~\\AppData\\Local\\Temp/ipykernel_13652/2222761251.py\u001b[0m in \u001b[0;36m<module>\u001b[1;34m\u001b[0m\n\u001b[1;32m----> 1\u001b[1;33m \u001b[1;32mimport\u001b[0m \u001b[0mpygal\u001b[0m                                                       \u001b[1;31m# First import pygal\u001b[0m\u001b[1;33m\u001b[0m\u001b[1;33m\u001b[0m\u001b[0m\n\u001b[0m\u001b[0;32m      2\u001b[0m \u001b[0mbar_chart\u001b[0m \u001b[1;33m=\u001b[0m \u001b[0mpygal\u001b[0m\u001b[1;33m.\u001b[0m\u001b[0mBar\u001b[0m\u001b[1;33m(\u001b[0m\u001b[1;33m)\u001b[0m                                            \u001b[1;31m# Then create a bar graph object\u001b[0m\u001b[1;33m\u001b[0m\u001b[1;33m\u001b[0m\u001b[0m\n\u001b[0;32m      3\u001b[0m \u001b[0mbar_chart\u001b[0m\u001b[1;33m.\u001b[0m\u001b[0madd\u001b[0m\u001b[1;33m(\u001b[0m\u001b[1;34m'Fibonacci'\u001b[0m\u001b[1;33m,\u001b[0m \u001b[1;33m[\u001b[0m\u001b[1;36m0\u001b[0m\u001b[1;33m,\u001b[0m \u001b[1;36m1\u001b[0m\u001b[1;33m,\u001b[0m \u001b[1;36m1\u001b[0m\u001b[1;33m,\u001b[0m \u001b[1;36m2\u001b[0m\u001b[1;33m,\u001b[0m \u001b[1;36m3\u001b[0m\u001b[1;33m,\u001b[0m \u001b[1;36m5\u001b[0m\u001b[1;33m,\u001b[0m \u001b[1;36m8\u001b[0m\u001b[1;33m,\u001b[0m \u001b[1;36m13\u001b[0m\u001b[1;33m,\u001b[0m \u001b[1;36m21\u001b[0m\u001b[1;33m,\u001b[0m \u001b[1;36m34\u001b[0m\u001b[1;33m,\u001b[0m \u001b[1;36m55\u001b[0m\u001b[1;33m]\u001b[0m\u001b[1;33m)\u001b[0m  \u001b[1;31m# Add some values\u001b[0m\u001b[1;33m\u001b[0m\u001b[1;33m\u001b[0m\u001b[0m\n\u001b[0;32m      4\u001b[0m \u001b[0mbar_chart\u001b[0m\u001b[1;33m.\u001b[0m\u001b[0mrender_to_file\u001b[0m\u001b[1;33m(\u001b[0m\u001b[1;34m'bar_chart.svg'\u001b[0m\u001b[1;33m)\u001b[0m                          \u001b[1;31m# Save the svg to a file\u001b[0m\u001b[1;33m\u001b[0m\u001b[1;33m\u001b[0m\u001b[0m\n",
      "\u001b[1;31mModuleNotFoundError\u001b[0m: No module named 'pygal'"
     ]
    }
   ],
   "source": [
    "import pygal                                                       # First import pygal\n",
    "bar_chart = pygal.Bar()                                            # Then create a bar graph object\n",
    "bar_chart.add('Fibonacci', [0, 1, 1, 2, 3, 5, 8, 13, 21, 34, 55])  # Add some values\n",
    "bar_chart.render_to_file('bar_chart.svg')                          # Save the svg to a file"
   ]
  },
  {
   "cell_type": "markdown",
   "metadata": {},
   "source": [
    "## 畫出長條圖\n",
    "\n",
    "此程式產生一個 SVG 檔案，檔名是：bar_chart.svg\n",
    "\n",
    "在 HTML 中可以插入 SVG 檔，例如：\n",
    "\n",
    "~~~~\n",
    "<object type=\"image/svg+xml\" data=\"bar_chart.svg\"></object>\n",
    "~~~~\n",
    "\n",
    "<img src=\"bar_chart.svg\">"
   ]
  },
  {
   "cell_type": "code",
   "execution_count": 3,
   "metadata": {},
   "outputs": [],
   "source": [
    "bar_chart = pygal.Bar()\n",
    "bar_chart.add('Fibonacci', [0, 1, 1, 2, 3, 5, 8, 13, 21, 34, 55])\n",
    "bar_chart.add('Padovan', [1, 1, 1, 2, 2, 3, 4, 5, 7, 9, 12])\n",
    "bar_chart.render_to_file('bar_chart2.svg')"
   ]
  },
  {
   "cell_type": "markdown",
   "metadata": {},
   "source": [
    "此程式把兩個序列的資料畫在同一張圖內，將產生一個 SVG 檔案，檔名是：bar_chart2.svg\n",
    "\n",
    "<img src=\"bar_chart2.svg\">"
   ]
  },
  {
   "cell_type": "code",
   "execution_count": 4,
   "metadata": {},
   "outputs": [],
   "source": [
    "bar_chart = pygal.StackedBar()\n",
    "bar_chart.add('Fibonacci', [0, 1, 1, 2, 3, 5, 8, 13, 21, 34, 55])\n",
    "bar_chart.add('Padovan', [1, 1, 1, 2, 2, 3, 4, 5, 7, 9, 12])\n",
    "bar_chart.render_to_file('bar_chart3.svg')"
   ]
  },
  {
   "cell_type": "markdown",
   "metadata": {},
   "source": [
    "### 此程式把兩個序列的資料重疊畫在同一張圖內，將產生一個 SVG 檔案，檔名是：bar_chart3.svg\n",
    "\n",
    "<img src=\"bar_chart3.svg\">"
   ]
  },
  {
   "cell_type": "code",
   "execution_count": 5,
   "metadata": {},
   "outputs": [],
   "source": [
    "bar_chart = pygal.HorizontalStackedBar()\n",
    "bar_chart.add('Fibonacci', [0, 1, 1, 2, 3, 5, 8, 13, 21, 34, 55])\n",
    "bar_chart.add('Padovan', [1, 1, 1, 2, 2, 3, 4, 5, 7, 9, 12])\n",
    "bar_chart.render_to_file('bar_chart4.svg')"
   ]
  },
  {
   "cell_type": "markdown",
   "metadata": {},
   "source": [
    "### HorizontalStackedBar (水平重疊的長條圖)\n",
    "### 此程式把兩個序列的資料水平重疊畫在同一張圖內，將產生一個 SVG 檔案，檔名是：bar_chart4.svg\n",
    "\n",
    "<img src=\"bar_chart4.svg\">"
   ]
  },
  {
   "cell_type": "code",
   "execution_count": 8,
   "metadata": {},
   "outputs": [],
   "source": [
    "bar_chart = pygal.HorizontalStackedBar()\n",
    "bar_chart.title = \"Remarquable sequences\"\n",
    "bar_chart.x_labels = map(str, range(11))\n",
    "bar_chart.add('Fibonacci', [0, 1, 1, 2, 3, 5, 8, 13, 21, 34, 55])\n",
    "bar_chart.add('Padovan', [1, 1, 1, 2, 2, 3, 4, 5, 7, 9, 12])\n",
    "bar_chart.render_to_file('bar_chart5.svg')"
   ]
  },
  {
   "cell_type": "markdown",
   "metadata": {},
   "source": [
    "## 加上標題與標籤文字\n",
    "\n",
    "- bar_chart.title: 標題\n",
    "- bar_chart.x_labels: x 軸的標籤文字\n",
    "- bar_chart.add: 加入圖例的標籤文字，及資料\n",
    "\n",
    "<div >\n",
    "<img src=\"bar_chart5.svg\" />\n",
    "</div>"
   ]
  },
  {
   "cell_type": "markdown",
   "metadata": {},
   "source": [
    "## map(str, range(11)) 為將 0~10 的整數產生對應的字串"
   ]
  },
  {
   "cell_type": "code",
   "execution_count": 3,
   "metadata": {},
   "outputs": [
    {
     "name": "stdout",
     "output_type": "stream",
     "text": [
      "<map object at 0x00000188167556D0>\n",
      "0, type: <class 'str'>\n",
      "1, type: <class 'str'>\n",
      "2, type: <class 'str'>\n",
      "3, type: <class 'str'>\n",
      "4, type: <class 'str'>\n",
      "5, type: <class 'str'>\n",
      "6, type: <class 'str'>\n",
      "7, type: <class 'str'>\n",
      "8, type: <class 'str'>\n",
      "9, type: <class 'str'>\n",
      "10, type: <class 'str'>\n"
     ]
    }
   ],
   "source": [
    "t = map(str, range(11))\n",
    "print(t)\n",
    "for x in t:\n",
    "    print('{}, type: {}'.format(x, type(x)))"
   ]
  },
  {
   "cell_type": "code",
   "execution_count": 9,
   "metadata": {},
   "outputs": [],
   "source": [
    "bar_chart = pygal.HorizontalBar()\n",
    "bar_chart.title = 'Browser usage in February 2012 (in %)'\n",
    "bar_chart.add('IE', 19.5)\n",
    "bar_chart.add('Firefox', 36.6)\n",
    "bar_chart.add('Chrome', 36.3)\n",
    "bar_chart.add('Safari', 4.5)\n",
    "bar_chart.add('Opera', 2.3)\n",
    "bar_chart.render_to_file('bar_chart6.svg')"
   ]
  },
  {
   "cell_type": "markdown",
   "metadata": {},
   "source": [
    "### 水平的長條圖，畫出瀏覽器的市占率\n",
    "\n",
    "<div >\n",
    "<img src=\"bar_chart6.svg\" />\n",
    "</div>"
   ]
  },
  {
   "cell_type": "markdown",
   "metadata": {},
   "source": [
    "## <font color=\"red\">練習3</font>\n",
    "\n",
    "1. 利用 pygal 畫出長條圖，將長條圖放進一個 HTML 檔案中，以便於透過瀏覽器展示結果。\n",
    "2. 資料來源為 \"pop202201.txt\" (源自 \"111年1-12月各區人口數.ods\")。\n",
    "3. HTML 的格式可參考 \"pygal_example.html\" 和 \"pygal_example2.html\"。\n",
    "4. 其結果如下圖。\n",
    "\n",
    "<font color=\"red\">提示：需要3個list，即：(1)x軸的標籤文字，(2)男性的人口數，(3)女性的人口數</font>\n",
    "<img src=\"pop.png\">\n",
    "<img src=\"pop_figure.png\">"
   ]
  },
  {
   "cell_type": "code",
   "execution_count": null,
   "metadata": {},
   "outputs": [],
   "source": []
  },
  {
   "cell_type": "code",
   "execution_count": null,
   "metadata": {},
   "outputs": [],
   "source": []
  }
 ],
 "metadata": {
  "kernelspec": {
   "display_name": "Python 3 (ipykernel)",
   "language": "python",
   "name": "python3"
  },
  "language_info": {
   "codemirror_mode": {
    "name": "ipython",
    "version": 3
   },
   "file_extension": ".py",
   "mimetype": "text/x-python",
   "name": "python",
   "nbconvert_exporter": "python",
   "pygments_lexer": "ipython3",
   "version": "3.9.7"
  }
 },
 "nbformat": 4,
 "nbformat_minor": 2
}
