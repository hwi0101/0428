{
 "cells": [
  {
   "cell_type": "markdown",
   "metadata": {},
   "source": [
    "# Chapter 11\n",
    "# Dictionaries\n",
    "\n",
    "\n",
    "This chapter presents another built-in type called a dictionary.\n",
    "Dictionaries are one of Python's best features; they are the\n",
    "building blocks of many efficient and elegant algorithms.\n"
   ]
  },
  {
   "cell_type": "markdown",
   "metadata": {},
   "source": [
    "## 11.1 A dictionary is a mapping\n",
    "\n",
    "A **dictionary** is like a list, but more general.  In a list,\n",
    "the indices have to be integers; in a dictionary they can\n",
    "be (almost) any type.\n",
    "\n",
    "A dictionary contains a collection of indices, which are called \n",
    "**keys (鍵)**, and a collection of **values (值)**.  Each key is associated with a\n",
    "single value.  The association of a key and a value is called a\n",
    "**key-value pair (鍵值對)** or sometimes an **item (項目)**.\n",
    "\n",
    "In mathematical language, a dictionary represents a **mapping (映射)**\n",
    "from keys to values, so you can also say that each key\n",
    "\"maps to\" a value (**每一個鍵映射到一個值**).\n",
    "As an example, we'll build a dictionary that maps from English\n",
    "to Spanish words, so the keys and the values are all strings.\n",
    "\n",
    "The function `dict` creates a new dictionary with no items.\n",
    "Because `dict` is the name of a built-in function, you\n",
    "should avoid using it as a variable name.\n",
    "\n",
    "```\n",
    ">>> eng2sp = dict()\n",
    ">>> eng2sp\n",
    "{}\n",
    "```\n",
    "\n",
    "The squiggly-brackets, {}, represent an empty dictionary.\n",
    "To add items to the dictionary, you can use square brackets:\n",
    "\n",
    "```\n",
    ">>> eng2sp['one'] = 'uno'\n",
    "```\n",
    "\n",
    "This line creates an item that maps from the key\n",
    "'one' to the value 'uno'.  If we print the\n",
    "dictionary again, we see a key-value pair with a colon\n",
    "between the key and value:\n",
    "\n",
    "```\n",
    ">>> eng2sp\n",
    "{'one': 'uno'}\n",
    "```\n",
    "\n",
    "This output format is also an input format.  For example,\n",
    "you can create a new dictionary with three items:\n",
    "\n",
    "```\n",
    ">>> eng2sp = {'one': 'uno', 'two': 'dos', 'three': 'tres'}\n",
    "```\n",
    "\n",
    "But if you print `eng2sp`, you might be surprised:\n",
    "\n",
    "```\n",
    ">>> eng2sp\n",
    "{'one': 'uno', 'three': 'tres', 'two': 'dos'}\n",
    "```\n",
    "\n",
    "<font color=\"red\">The order of the key-value pairs might not be the same.  If\n",
    "you type the same example on your computer, you might get a\n",
    "different result.  In general, the order of items in\n",
    "a dictionary is unpredictable.\n",
    "\n",
    "But that's not a problem because\n",
    "the elements of a dictionary are never indexed with integer indices.\n",
    "Instead, you use the keys to look up the corresponding values:</font>\n",
    "\n",
    "```\n",
    ">>> eng2sp['two']\n",
    "'dos'\n",
    "```\n",
    "\n",
    "The key 'two' always maps to the value 'dos' so the order\n",
    "of the items doesn't matter.\n",
    "\n",
    "If the key isn't in the dictionary, you get an exception:\n",
    "\n",
    "```\n",
    ">>> eng2sp['four']\n",
    "KeyError: 'four'\n",
    "```\n",
    "\n",
    "The `len` function works on dictionaries; it returns the\n",
    "number of key-value pairs:\n",
    "\n",
    "```\n",
    ">>> len(eng2sp)\n",
    "3\n",
    "```\n",
    "\n",
    "<font color=\"red\">The <code>in</code> operator works on dictionaries, too; it tells you whether\n",
    "something appears as a <code>key</code> in the dictionary (appearing\n",
    "as a value is not good enough).</font>\n",
    "\n",
    "```\n",
    ">>> 'one' in eng2sp\n",
    "True\n",
    ">>> 'uno' in eng2sp\n",
    "False\n",
    "```\n",
    "\n",
    "To see whether something appears as a value in a dictionary, you\n",
    "can use the method `values`, which returns a collection of\n",
    "values, and then use the `in` operator:\n",
    "\n",
    "```\n",
    ">>> vals = eng2sp.values()\n",
    ">>> 'uno' in vals\n",
    "True\n",
    "```\n",
    "\n",
    "<font color=\"red\">The <code>in</code> operator uses different algorithms for lists and\n",
    "dictionaries.  For lists, it searches the elements of the list in\n",
    "order, as in Sectio 8.6.  As the list gets longer, the search\n",
    "time gets longer in direct proportion.\n",
    "\n",
    "Python dictionaries use a data structure\n",
    "called a **hashtable (雜湊表、散列表)** that has a remarkable property: the\n",
    "<code>in</code> operator takes about the same amount of time no matter how\n",
    "many items are in the dictionary.</font>  I explain how that's possible\n",
    "in Section B.4, but the explanation might not make\n",
    "sense until you've read a few more chapters."
   ]
  },
  {
   "cell_type": "code",
   "execution_count": 9,
   "metadata": {},
   "outputs": [],
   "source": [
    "eng2sp['one'] = 'uno'"
   ]
  },
  {
   "cell_type": "code",
   "execution_count": 1,
   "metadata": {},
   "outputs": [
    {
     "name": "stdout",
     "output_type": "stream",
     "text": [
      "{}\n",
      "<class 'dict'>\n"
     ]
    }
   ],
   "source": [
    "eng2sp = dict()\n",
    "print(eng2sp)\n",
    "print(type(eng2sp))"
   ]
  },
  {
   "cell_type": "code",
   "execution_count": 3,
   "metadata": {},
   "outputs": [
    {
     "name": "stdout",
     "output_type": "stream",
     "text": [
      "[1, 2.3, 'Peter']\n",
      "<class 'list'>\n"
     ]
    }
   ],
   "source": [
    "t = [1,2.3,\"Peter\"]\n",
    "print(t)\n",
    "print(type(t))"
   ]
  },
  {
   "cell_type": "code",
   "execution_count": 4,
   "metadata": {},
   "outputs": [
    {
     "name": "stdout",
     "output_type": "stream",
     "text": [
      "Peter\n",
      "<class 'str'>\n",
      "2.3\n",
      "<class 'float'>\n"
     ]
    }
   ],
   "source": [
    "print(t[2])\n",
    "print(type(t[2]))\n",
    "print(t[1])\n",
    "print(type(t[1]))"
   ]
  },
  {
   "cell_type": "code",
   "execution_count": 5,
   "metadata": {},
   "outputs": [
    {
     "data": {
      "text/plain": [
       "'Peter'"
      ]
     },
     "execution_count": 5,
     "metadata": {},
     "output_type": "execute_result"
    }
   ],
   "source": [
    "t[2]"
   ]
  },
  {
   "cell_type": "code",
   "execution_count": 8,
   "metadata": {},
   "outputs": [
    {
     "name": "stdout",
     "output_type": "stream",
     "text": [
      "['Peter']\n"
     ]
    }
   ],
   "source": [
    "t1 = []\n",
    "t1.append('Peter')\n",
    "print(t1)"
   ]
  },
  {
   "cell_type": "code",
   "execution_count": 9,
   "metadata": {},
   "outputs": [
    {
     "name": "stdout",
     "output_type": "stream",
     "text": [
      "['Peter']\n"
     ]
    }
   ],
   "source": [
    "t2 = list()\n",
    "t2.append('Peter')\n",
    "print(t2)"
   ]
  },
  {
   "cell_type": "code",
   "execution_count": 7,
   "metadata": {},
   "outputs": [
    {
     "data": {
      "text/plain": [
       "['Peter']"
      ]
     },
     "execution_count": 7,
     "metadata": {},
     "output_type": "execute_result"
    }
   ],
   "source": [
    "t1"
   ]
  },
  {
   "cell_type": "code",
   "execution_count": 8,
   "metadata": {},
   "outputs": [],
   "source": [
    "eng2sp['one'] = 'uno'"
   ]
  },
  {
   "cell_type": "code",
   "execution_count": 6,
   "metadata": {},
   "outputs": [
    {
     "name": "stdout",
     "output_type": "stream",
     "text": [
      "{'one': 'uno', 'two': 'dos', 'three': 'tres'}\n",
      "<class 'dict'>\n"
     ]
    }
   ],
   "source": [
    "print(eng2sp)\n",
    "print(type(eng2sp))"
   ]
  },
  {
   "cell_type": "code",
   "execution_count": 5,
   "metadata": {},
   "outputs": [],
   "source": [
    "eng2sp = {'one': 'uno', 'two': 'dos', 'three': 'tres'}"
   ]
  },
  {
   "cell_type": "code",
   "execution_count": 13,
   "metadata": {},
   "outputs": [
    {
     "name": "stdout",
     "output_type": "stream",
     "text": [
      "{'one': 'uno', 'two': 'dos', 'three': 'tres'}\n"
     ]
    }
   ],
   "source": [
    "print(eng2sp)"
   ]
  },
  {
   "cell_type": "code",
   "execution_count": 14,
   "metadata": {},
   "outputs": [],
   "source": [
    "eng2sp = {'one': 'uno', 'two': 'dos', 'three': 'tres', 'four':'4', 'five':'5'}"
   ]
  },
  {
   "cell_type": "code",
   "execution_count": 15,
   "metadata": {},
   "outputs": [
    {
     "name": "stdout",
     "output_type": "stream",
     "text": [
      "{'one': 'uno', 'two': 'dos', 'three': 'tres', 'four': '4', 'five': '5'}\n"
     ]
    }
   ],
   "source": [
    "print(eng2sp)"
   ]
  },
  {
   "cell_type": "code",
   "execution_count": 11,
   "metadata": {},
   "outputs": [
    {
     "name": "stdout",
     "output_type": "stream",
     "text": [
      "{'one': 'uno', 'two': '2', 'three': 'tres', 'four': '4', 'five': '5'}\n"
     ]
    }
   ],
   "source": [
    "eng2sp = {'one': 'uno', 'two': 'dos', 'three': 'tres', 'four':'4', 'five':'5', 'two':'2'}\n",
    "print(eng2sp)"
   ]
  },
  {
   "cell_type": "code",
   "execution_count": 12,
   "metadata": {},
   "outputs": [
    {
     "data": {
      "text/plain": [
       "'5'"
      ]
     },
     "execution_count": 12,
     "metadata": {},
     "output_type": "execute_result"
    }
   ],
   "source": [
    "eng2sp['five']"
   ]
  },
  {
   "cell_type": "code",
   "execution_count": 15,
   "metadata": {},
   "outputs": [],
   "source": [
    "eng2sp2= {'one': 'uno', 'two': 'dos', 'three': 'tres'}"
   ]
  },
  {
   "cell_type": "code",
   "execution_count": 19,
   "metadata": {},
   "outputs": [
    {
     "name": "stdout",
     "output_type": "stream",
     "text": [
      "{'one': 'uno', 'two': 'dos', 'three': 'tres'}\n"
     ]
    }
   ],
   "source": [
    "print(eng2sp2)"
   ]
  },
  {
   "cell_type": "code",
   "execution_count": 14,
   "metadata": {},
   "outputs": [
    {
     "ename": "KeyError",
     "evalue": "'six'",
     "output_type": "error",
     "traceback": [
      "\u001b[1;31m---------------------------------------------------------------------------\u001b[0m",
      "\u001b[1;31mKeyError\u001b[0m                                  Traceback (most recent call last)",
      "\u001b[1;32m~\\AppData\\Local\\Temp/ipykernel_20296/805124400.py\u001b[0m in \u001b[0;36m<module>\u001b[1;34m\u001b[0m\n\u001b[1;32m----> 1\u001b[1;33m \u001b[0mprint\u001b[0m\u001b[1;33m(\u001b[0m\u001b[0meng2sp\u001b[0m\u001b[1;33m[\u001b[0m\u001b[1;34m'six'\u001b[0m\u001b[1;33m]\u001b[0m\u001b[1;33m)\u001b[0m\u001b[1;33m\u001b[0m\u001b[1;33m\u001b[0m\u001b[0m\n\u001b[0m",
      "\u001b[1;31mKeyError\u001b[0m: 'six'"
     ]
    }
   ],
   "source": [
    "print(eng2sp['six'])"
   ]
  },
  {
   "cell_type": "code",
   "execution_count": 21,
   "metadata": {},
   "outputs": [
    {
     "name": "stdout",
     "output_type": "stream",
     "text": [
      "3\n",
      "5\n"
     ]
    }
   ],
   "source": [
    "print(len(t))\n",
    "print(len(eng2sp))"
   ]
  },
  {
   "cell_type": "code",
   "execution_count": 17,
   "metadata": {},
   "outputs": [
    {
     "data": {
      "text/plain": [
       "True"
      ]
     },
     "execution_count": 17,
     "metadata": {},
     "output_type": "execute_result"
    }
   ],
   "source": [
    "'one' in eng2sp"
   ]
  },
  {
   "cell_type": "code",
   "execution_count": 16,
   "metadata": {},
   "outputs": [
    {
     "data": {
      "text/plain": [
       "False"
      ]
     },
     "execution_count": 16,
     "metadata": {},
     "output_type": "execute_result"
    }
   ],
   "source": [
    "'uno' in eng2sp"
   ]
  },
  {
   "cell_type": "code",
   "execution_count": 19,
   "metadata": {},
   "outputs": [
    {
     "data": {
      "text/plain": [
       "True"
      ]
     },
     "execution_count": 19,
     "metadata": {},
     "output_type": "execute_result"
    }
   ],
   "source": [
    "'two' in eng2sp"
   ]
  },
  {
   "cell_type": "code",
   "execution_count": 21,
   "metadata": {},
   "outputs": [
    {
     "data": {
      "text/plain": [
       "True"
      ]
     },
     "execution_count": 21,
     "metadata": {},
     "output_type": "execute_result"
    }
   ],
   "source": [
    "eng2sp = {'one': 'uno', 'two': 'dos', 'three': 'tres', 'four':'4', 'five':'5'}\n",
    "vals = eng2sp.values()\n",
    "'uno' in vals"
   ]
  },
  {
   "cell_type": "code",
   "execution_count": 22,
   "metadata": {},
   "outputs": [
    {
     "data": {
      "text/plain": [
       "dict_values(['uno', 'dos', 'tres', '4', '5'])"
      ]
     },
     "execution_count": 22,
     "metadata": {},
     "output_type": "execute_result"
    }
   ],
   "source": [
    "vals"
   ]
  },
  {
   "cell_type": "code",
   "execution_count": 23,
   "metadata": {},
   "outputs": [
    {
     "data": {
      "text/plain": [
       "dict_values"
      ]
     },
     "execution_count": 23,
     "metadata": {},
     "output_type": "execute_result"
    }
   ],
   "source": [
    "type(vals)"
   ]
  },
  {
   "cell_type": "markdown",
   "metadata": {},
   "source": [
    "### 讀取 words.txt 的內容，利用 dictionary 儲存資料，紀錄查詢資料所需的時間"
   ]
  },
  {
   "cell_type": "code",
   "execution_count": 28,
   "metadata": {},
   "outputs": [
    {
     "name": "stdout",
     "output_type": "stream",
     "text": [
      "2022-05-25 09:59:12.770620\n",
      "<class 'dict'>\n",
      "113809\n",
      "True\n",
      "True\n",
      "False\n",
      "True\n",
      "False\n",
      "2022-05-25 09:59:12.908535\n",
      "862085\n"
     ]
    }
   ],
   "source": [
    "import datetime\n",
    "\n",
    "def make_word_list():\n",
    "    d = {}\n",
    "    fin = open('words.txt')\n",
    "    for line in fin:\n",
    "        word = line.strip()\n",
    "        d[word] = ' '\n",
    "    return d\n",
    "\n",
    "time_start = datetime.datetime.now()\n",
    "print(time_start)\n",
    "words = make_word_list()\n",
    "print(type(words))\n",
    "print(len(words))\n",
    "print('any' in words)\n",
    "print('some' in words)\n",
    "print('aaaa' in words)\n",
    "print('zyme' in words)\n",
    "print('zzz' in words)\n",
    "time_end = datetime.datetime.now()\n",
    "print(time_end)\n",
    "time_elapsed = time_start - time_end\n",
    "print(time_elapsed.microseconds)"
   ]
  },
  {
   "cell_type": "markdown",
   "metadata": {},
   "source": [
    "## 讀取 words.txt 的內容，利用 list 儲存資料，紀錄查詢資料所需的時間"
   ]
  },
  {
   "cell_type": "code",
   "execution_count": 29,
   "metadata": {},
   "outputs": [
    {
     "name": "stdout",
     "output_type": "stream",
     "text": [
      "2022-05-25 09:59:17.532721\n",
      "<class 'list'>\n",
      "113809\n",
      "True\n",
      "True\n",
      "False\n",
      "True\n",
      "False\n",
      "2022-05-25 09:59:17.662534\n",
      "870187\n"
     ]
    }
   ],
   "source": [
    "import datetime\n",
    "\n",
    "def make_word_list():\n",
    "    t = []\n",
    "    fin = open('words.txt')\n",
    "    for line in fin:\n",
    "        word = line.strip()\n",
    "        t.append(word)\n",
    "    return t\n",
    "\n",
    "time_start = datetime.datetime.now()\n",
    "print(time_start)\n",
    "words = make_word_list()\n",
    "print(type(words))\n",
    "print(len(words))\n",
    "print('any' in words)\n",
    "print('some' in words)\n",
    "print('aaaa' in words)\n",
    "print('zyme' in words)\n",
    "print('zzz' in words)\n",
    "time_end = datetime.datetime.now()\n",
    "print(time_end)\n",
    "time_elapsed = time_start - time_end\n",
    "print(time_elapsed.microseconds)"
   ]
  },
  {
   "cell_type": "markdown",
   "metadata": {},
   "source": [
    "## 11.2 Dictionary as a collection of counters\n",
    "\n",
    "Suppose you are given a string and you want to count how many\n",
    "times each letter appears.  There are several ways you could do it:\n",
    "\n",
    "1. You could create 26 variables, one for each letter of the\n",
    "alphabet.  Then you could traverse the string and, for each\n",
    "character, increment the corresponding counter, probably using\n",
    "a chained conditional.\n",
    "\n",
    "2. You could create a list with 26 elements.  Then you could\n",
    "convert each character to a number (using the built-in function\n",
    "`ord`), use the number as an index into the list, and increment\n",
    "the appropriate counter.\n",
    "\n",
    "3. You could create a dictionary with characters as keys\n",
    "and counters as the corresponding values.  The first time you\n",
    "see a character, you would add an item to the dictionary.  After\n",
    "that you would increment the value of an existing item.\n",
    "\n",
    "Each of these options performs the same computation, but each\n",
    "of them implements that computation in a different way.\n",
    "\n",
    "An **implementation** is a way of performing a computation;\n",
    "some implementations are better than others.  For example,\n",
    "an advantage of the dictionary implementation is that we don't\n",
    "have to know ahead of time which letters appear in the string\n",
    "and we only have to make room for the letters that do appear.\n",
    "\n",
    "Here is what the code might look like:\n",
    "\n",
    "```\n",
    "def histogram(s):\n",
    "    d = dict()\n",
    "    for c in s:\n",
    "        if c not in d:\n",
    "            d[c] = 1\n",
    "        else:\n",
    "            d[c] += 1\n",
    "    return d\n",
    "```\n",
    "\n",
    "The name of the function is `histogram`, which is a statistical\n",
    "term for a collection of counters (or frequencies).\n",
    "\n",
    "The first line of the\n",
    "function creates an empty dictionary.  The `for` loop traverses\n",
    "the string.  Each time through the loop, if the character `c` is\n",
    "not in the dictionary, we create a new item with key `c` and the\n",
    "initial value 1 (since we have seen this letter once).  If `c` is\n",
    "already in the dictionary we increment `d[c]`.\n",
    "\n",
    "Here's how it works:\n",
    "\n",
    "```\n",
    ">>> h = histogram('brontosaurus')\n",
    ">>> h\n",
    "{'a': 1, 'b': 1, 'o': 2, 'n': 1, 's': 2, 'r': 2, 'u': 2, 't': 1}\n",
    "```\n",
    "\n",
    "The histogram indicates that the letters 'a' and 'b'\n",
    "appear once; 'o' appears twice, and so on.\n",
    "\n",
    "Dictionaries have a method called `get` that takes a key\n",
    "and a default value.  If the key appears in the dictionary,\n",
    "`get` returns the corresponding value; otherwise it returns\n",
    "the default value.  For example:\n",
    "\n",
    "```\n",
    ">>> h = histogram('a')\n",
    ">>> h\n",
    "{'a': 1}\n",
    ">>> h.get('a', 0)\n",
    "1\n",
    ">>> h.get('c', 0)\n",
    "0\n",
    "```\n",
    "\n",
    "As an exercise, use `get` to write `histogram` more concisely.  You\n",
    "should be able to eliminate the `if` statement.\n",
    "\n",
    "參考資料：<br>\n",
    "https://www.asciitable.com/\n",
    "\n",
    "<img src=\"ascii.gif\">"
   ]
  },
  {
   "cell_type": "markdown",
   "metadata": {},
   "source": [
    "### 利用 list 統計一個字串中的個別英文字母出現的次數"
   ]
  },
  {
   "cell_type": "code",
   "execution_count": 30,
   "metadata": {},
   "outputs": [
    {
     "name": "stdout",
     "output_type": "stream",
     "text": [
      "97\n"
     ]
    }
   ],
   "source": [
    "c = 'a'\n",
    "print(ord(c))"
   ]
  },
  {
   "cell_type": "code",
   "execution_count": 33,
   "metadata": {},
   "outputs": [
    {
     "name": "stdout",
     "output_type": "stream",
     "text": [
      "65\n",
      "66\n"
     ]
    }
   ],
   "source": [
    "c = 'A'\n",
    "print(ord(c))\n",
    "print(ord('B'))"
   ]
  },
  {
   "cell_type": "code",
   "execution_count": 34,
   "metadata": {},
   "outputs": [
    {
     "name": "stdout",
     "output_type": "stream",
     "text": [
      "Peter Pan [0, 0, 0, 0, 0, 0, 0, 0, 0, 0, 0, 0, 0, 0, 0, 0, 0, 0, 0, 0, 0, 0, 0, 0, 0, 0]\n"
     ]
    }
   ],
   "source": [
    "s = 'Peter Pan'\n",
    "\n",
    "t = [0] * 26\n",
    "print(s , t)"
   ]
  },
  {
   "cell_type": "code",
   "execution_count": 35,
   "metadata": {},
   "outputs": [
    {
     "name": "stdout",
     "output_type": "stream",
     "text": [
      "[1, 0, 0, 0, 2, 0, 0, 0, 0, 0, 0, 0, 0, 1, 0, 2, 0, 1, 0, 1, 0, 0, 0, 0, 0, 0]\n",
      "a 1\n",
      "e 2\n",
      "n 1\n",
      "p 2\n",
      "r 1\n",
      "t 1\n",
      "A 1\n",
      "E 2\n",
      "N 1\n",
      "P 2\n",
      "R 1\n",
      "T 1\n"
     ]
    }
   ],
   "source": [
    "s = 'Pan, Peter'\n",
    "\n",
    "t = [0] * 26\n",
    "for c in s:\n",
    "    c2 = c.upper()\n",
    "    #ind = ord(c2) - 65\n",
    "    ind = ord(c2) - ord('A')\n",
    "    \n",
    "    if ind < 0 or ind > 25:\n",
    "        continue\n",
    "    #print(ind)\n",
    "    t[ind] += 1\n",
    "    \n",
    "print(t)\n",
    "\n",
    "for i in range(26):\n",
    "    if t[i] > 0:\n",
    "        print(chr(i+97), t[i])\n",
    "        \n",
    "for i in range(26):\n",
    "    if t[i] > 0:\n",
    "        print(chr(i+65), t[i])"
   ]
  },
  {
   "cell_type": "markdown",
   "metadata": {},
   "source": [
    "### 利用 dictionary 設計 histogram() \n",
    "\n",
    "### 注意 get() 的用法"
   ]
  },
  {
   "cell_type": "code",
   "execution_count": 36,
   "metadata": {},
   "outputs": [
    {
     "name": "stdout",
     "output_type": "stream",
     "text": [
      "t =  [68, 60, 93, 79, 88, 98, 81, 99, 93, 95]\n",
      "{68: 1, 60: 1, 93: 2, 79: 1, 88: 1, 98: 1, 81: 1, 99: 1, 95: 1}\n"
     ]
    }
   ],
   "source": [
    "import random\n",
    "\n",
    "def histogram(s):\n",
    "    d = dict()\n",
    "    for c in s:\n",
    "        if c not in d:\n",
    "            d[c] = 1\n",
    "        else:\n",
    "            d[c] += 1\n",
    "            \n",
    "    return d\n",
    "\n",
    "\n",
    "t = []\n",
    "for i in range(10):\n",
    "    n = random.randint(60,100)\n",
    "    t.append(n)\n",
    "    \n",
    "print('t = ', t)\n",
    "result = histogram(t)\n",
    "print(result)"
   ]
  },
  {
   "cell_type": "code",
   "execution_count": 1,
   "metadata": {},
   "outputs": [
    {
     "name": "stdout",
     "output_type": "stream",
     "text": [
      "t =  [85, 60, 91, 63, 73, 81, 92, 85, 80, 61]\n",
      "{85: 2, 60: 1, 91: 1, 63: 1, 73: 1, 81: 1, 92: 1, 80: 1, 61: 1}\n"
     ]
    }
   ],
   "source": [
    "import random\n",
    "\n",
    "def histogram(s):\n",
    "    d = dict()\n",
    "    for c in s:\n",
    "        if c not in d:\n",
    "            d[c] = 1\n",
    "        else:\n",
    "            d[c] += 1\n",
    "            \n",
    "    return d\n",
    "\n",
    "\n",
    "t = []\n",
    "for i in range(10):\n",
    "    n = random.randint(60,100)\n",
    "    t.append(n)\n",
    "    \n",
    "print('t = ', t)\n",
    "result = histogram(t)\n",
    "print(result)"
   ]
  },
  {
   "cell_type": "code",
   "execution_count": 37,
   "metadata": {},
   "outputs": [
    {
     "name": "stdout",
     "output_type": "stream",
     "text": [
      "{'P': 2, 'e': 7, 't': 3, 'r': 2, ' ': 15, 'a': 8, 'n': 3, 'i': 2, 's': 1, 'h': 1, 'v': 2, 'l': 1, 'o': 4, 'f': 2, 'u': 1, 'd': 2, 'y': 2, '.': 1, 'S': 1, 'w': 1, '!': 2, 'H': 1, 'c': 1}\n"
     ]
    }
   ],
   "source": [
    "def histogram(s):\n",
    "    d = dict()\n",
    "    for c in s:\n",
    "        if c not in d:\n",
    "            d[c] = 1\n",
    "        else:\n",
    "            d[c] += 1\n",
    "            \n",
    "    return d\n",
    "\n",
    "s = 'Peter Pan is have a lot of fun today. So are we! Have a nice day!'\n",
    "result = histogram(s)\n",
    "print(result)"
   ]
  },
  {
   "cell_type": "code",
   "execution_count": 38,
   "metadata": {},
   "outputs": [
    {
     "name": "stdout",
     "output_type": "stream",
     "text": [
      "{'a': 1}\n",
      "1\n",
      "0\n"
     ]
    }
   ],
   "source": [
    "h = histogram('a')\n",
    "print(h)\n",
    "print(h.get('a', 0))\n",
    "print(h.get('b', 0))"
   ]
  },
  {
   "cell_type": "code",
   "execution_count": 39,
   "metadata": {},
   "outputs": [
    {
     "name": "stdout",
     "output_type": "stream",
     "text": [
      "{'P': 2, 'e': 2, 't': 1, 'r': 1, ' ': 1, 'a': 1, 'n': 1}\n"
     ]
    }
   ],
   "source": [
    "# a different version of histogram() using get() method\n",
    "\n",
    "def histogram(s):\n",
    "    d = dict()\n",
    "    for c in s:\n",
    "        d[c] = d.get(c, 0) + 1\n",
    "            \n",
    "    return d\n",
    "\n",
    "s = 'Peter Pan'\n",
    "result = histogram(s)\n",
    "print(result)"
   ]
  },
  {
   "cell_type": "code",
   "execution_count": 32,
   "metadata": {},
   "outputs": [
    {
     "name": "stdout",
     "output_type": "stream",
     "text": [
      "  1\n",
      "P 2\n",
      "a 1\n",
      "e 2\n",
      "n 1\n",
      "r 1\n",
      "t 1\n"
     ]
    }
   ],
   "source": [
    "# a different version of histogram() using get() method\n",
    "\n",
    "def histogram(s):\n",
    "    d = dict()\n",
    "    for c in s:\n",
    "        d[c] = d.get(c, 0) + 1\n",
    "            \n",
    "    return d\n",
    "\n",
    "s = 'Peter Pan'\n",
    "result = histogram(s)\n",
    "for key in sorted(result):\n",
    "    print(key, result[key])"
   ]
  },
  {
   "cell_type": "code",
   "execution_count": 40,
   "metadata": {},
   "outputs": [
    {
     "name": "stdout",
     "output_type": "stream",
     "text": [
      "{'P': 2, 'E': 7, 'T': 3, 'R': 2, 'A': 8, 'N': 3, 'I': 2, 'S': 2, 'H': 2, 'V': 2, 'L': 1, 'O': 4, 'F': 2, 'U': 1, 'D': 2, 'Y': 2, 'W': 1, 'C': 1}\n"
     ]
    }
   ],
   "source": [
    "# 把大小寫的字母視為相同\n",
    "# 排除標點符號\n",
    "# 英文 A 的 ASCII 編碼 65\n",
    "# 英文 a 的 ASCII 編碼 97\n",
    "def histogram(s):\n",
    "    d = dict()\n",
    "    for c in s:\n",
    "        n = ord(c)\n",
    "        if (n >= 65 and n <= 90) or (n >= 97 and n <= 122):\n",
    "            if n >= 97:\n",
    "                c = chr(n-32)\n",
    "                \n",
    "            if c not in d:\n",
    "                d[c] = 1\n",
    "            else:\n",
    "                d[c] += 1\n",
    "            \n",
    "    return d\n",
    "\n",
    "s = 'Peter Pan is have a lot of fun today. So are we! Have a nice day!'\n",
    "result = histogram(s)\n",
    "print(result)"
   ]
  },
  {
   "cell_type": "markdown",
   "metadata": {},
   "source": [
    "## 11.3 Looping and dictionaries\n",
    "\n",
    "If you use a dictionary in a `for` statement, it traverses\n",
    "the keys of the dictionary.  For example, `print_hist`\n",
    "prints each key and the corresponding value:\n",
    "\n",
    "```\n",
    "def print_hist(h):\n",
    "    for c in h:\n",
    "        print(c, h[c])\n",
    "```\n",
    "\n",
    "Here's what the output looks like:\n",
    "\n",
    "```\n",
    ">>> h = histogram('parrot')\n",
    ">>> print_hist(h)\n",
    "a 1\n",
    "p 1\n",
    "r 2\n",
    "t 1\n",
    "o 1\n",
    "```\n",
    "\n",
    "<font color=\"red\">Again, the keys are in no particular order.  To traverse the keys\n",
    "    in sorted order, you can use the built-in function <code>sorted</code>:</font>\n",
    "\n",
    "```\n",
    ">>> for key in sorted(h):\n",
    "...     print(key, h[key])\n",
    "a 1\n",
    "o 1\n",
    "p 1\n",
    "r 2\n",
    "t 1\n",
    "```"
   ]
  },
  {
   "cell_type": "code",
   "execution_count": 33,
   "metadata": {},
   "outputs": [
    {
     "name": "stdout",
     "output_type": "stream",
     "text": [
      "p 1\n",
      "a 1\n",
      "r 2\n",
      "o 1\n",
      "t 1\n"
     ]
    }
   ],
   "source": [
    "def print_hist(h):\n",
    "    for c in h:\n",
    "        print(c, h[c])\n",
    "        \n",
    "h = histogram('parrot')\n",
    "print_hist(h)"
   ]
  },
  {
   "cell_type": "code",
   "execution_count": 34,
   "metadata": {
    "scrolled": true
   },
   "outputs": [
    {
     "name": "stdout",
     "output_type": "stream",
     "text": [
      "a 1\n",
      "o 1\n",
      "p 1\n",
      "r 2\n",
      "t 1\n"
     ]
    }
   ],
   "source": [
    "def print_hist(h):\n",
    "    for c in h:\n",
    "        print(c, h[c])\n",
    "        \n",
    "h = histogram('parrot')\n",
    "for key in sorted(h):\n",
    "    print(key, h[key])"
   ]
  },
  {
   "cell_type": "markdown",
   "metadata": {},
   "source": [
    "## 11.4 Reverse lookup\n",
    "\n",
    "Given a dictionary `d` and a key `k`, it is easy to\n",
    "find the corresponding value `v = d[k]`.  This operation\n",
    "is called a **lookup (查找)**.\n",
    "\n",
    "But what if you have `v` and you want to find `k`?\n",
    "You have two problems: first, there might be more than one\n",
    "key that maps to the value `v`.  Depending on the application,\n",
    "you might be able to pick one, or you might have to make\n",
    "a list that contains all of them.  Second, there is no\n",
    "simple syntax to do a **reverse lookup (反向查找)**; you have to search.\n",
    "\n",
    "Here is a function that takes a value and returns the first\n",
    "key that maps to that value:\n",
    "\n",
    "```\n",
    "def reverse_lookup(d, v):\n",
    "    for k in d:\n",
    "        if d[k] == v:\n",
    "            return k\n",
    "    raise LookupError()\n",
    "```\n",
    "\n",
    "This function is yet another example of the search pattern, but it\n",
    "uses a feature we haven't seen before, **raise (引起、引發)**.  The \n",
    "**raise statement** causes an **exception (異常)**; in this case it causes a\n",
    "**LookupError (查找錯誤)**, which is a built-in exception used to indicate\n",
    "that a lookup operation failed.\n",
    "\n",
    "If we get to the end of the loop, that means `v`\n",
    "doesn't appear in the dictionary as a value, so we raise an\n",
    "exception.\n",
    "\n",
    "Here is an example of a successful reverse lookup:\n",
    "\n",
    "```\n",
    ">>> h = histogram('parrot')\n",
    ">>> key = reverse_lookup(h, 2)\n",
    ">>> key\n",
    "'r'\n",
    "```\n",
    "\n",
    "And an unsuccessful one:\n",
    "\n",
    "```\n",
    ">>> key = reverse_lookup(h, 3)\n",
    "Traceback (most recent call last):\n",
    "  File \"<stdin>\", line 1, in <module>\n",
    "  File \"<stdin>\", line 5, in reverse_lookup\n",
    "LookupError\n",
    "```\n",
    "\n",
    "The effect when you raise an exception is the same as when\n",
    "Python raises one: it prints a traceback and an error message.\n",
    "\n",
    "When you raise an exception, you can provide a detailed error message as an optional argument.  For example:\n",
    "\n",
    "```\n",
    ">>> raise LookupError('value does not appear in the dictionary')\n",
    "Traceback (most recent call last):\n",
    "  File \"<stdin>\", line 1, in ?\n",
    "LookupError: value does not appear in the dictionary\n",
    "```\n",
    "\n",
    "A reverse lookup is much slower than a forward lookup; if you\n",
    "have to do it often, or if the dictionary gets big, the performance\n",
    "of your program will suffer."
   ]
  },
  {
   "cell_type": "code",
   "execution_count": 35,
   "metadata": {},
   "outputs": [
    {
     "name": "stdout",
     "output_type": "stream",
     "text": [
      "r\n"
     ]
    }
   ],
   "source": [
    "def reverse_lookup(d, v):\n",
    "    for k in d:\n",
    "        if d[k] == v:\n",
    "            return k\n",
    "    raise LookupError()\n",
    "    \n",
    "h = histogram('parrot')\n",
    "key = reverse_lookup(h, 2)\n",
    "print(key)"
   ]
  },
  {
   "cell_type": "code",
   "execution_count": 36,
   "metadata": {},
   "outputs": [
    {
     "ename": "LookupError",
     "evalue": "",
     "output_type": "error",
     "traceback": [
      "\u001b[1;31m---------------------------------------------------------------------------\u001b[0m",
      "\u001b[1;31mLookupError\u001b[0m                               Traceback (most recent call last)",
      "\u001b[1;32m<ipython-input-36-a9dd9a7a13ae>\u001b[0m in \u001b[0;36m<module>\u001b[1;34m\u001b[0m\n\u001b[1;32m----> 1\u001b[1;33m \u001b[0mkey\u001b[0m \u001b[1;33m=\u001b[0m \u001b[0mreverse_lookup\u001b[0m\u001b[1;33m(\u001b[0m\u001b[0mh\u001b[0m\u001b[1;33m,\u001b[0m \u001b[1;36m3\u001b[0m\u001b[1;33m)\u001b[0m\u001b[1;33m\u001b[0m\u001b[1;33m\u001b[0m\u001b[0m\n\u001b[0m",
      "\u001b[1;32m<ipython-input-35-00c9fd1ccc0a>\u001b[0m in \u001b[0;36mreverse_lookup\u001b[1;34m(d, v)\u001b[0m\n\u001b[0;32m      3\u001b[0m         \u001b[1;32mif\u001b[0m \u001b[0md\u001b[0m\u001b[1;33m[\u001b[0m\u001b[0mk\u001b[0m\u001b[1;33m]\u001b[0m \u001b[1;33m==\u001b[0m \u001b[0mv\u001b[0m\u001b[1;33m:\u001b[0m\u001b[1;33m\u001b[0m\u001b[1;33m\u001b[0m\u001b[0m\n\u001b[0;32m      4\u001b[0m             \u001b[1;32mreturn\u001b[0m \u001b[0mk\u001b[0m\u001b[1;33m\u001b[0m\u001b[1;33m\u001b[0m\u001b[0m\n\u001b[1;32m----> 5\u001b[1;33m     \u001b[1;32mraise\u001b[0m \u001b[0mLookupError\u001b[0m\u001b[1;33m(\u001b[0m\u001b[1;33m)\u001b[0m\u001b[1;33m\u001b[0m\u001b[1;33m\u001b[0m\u001b[0m\n\u001b[0m\u001b[0;32m      6\u001b[0m \u001b[1;33m\u001b[0m\u001b[0m\n\u001b[0;32m      7\u001b[0m \u001b[0mh\u001b[0m \u001b[1;33m=\u001b[0m \u001b[0mhistogram\u001b[0m\u001b[1;33m(\u001b[0m\u001b[1;34m'parrot'\u001b[0m\u001b[1;33m)\u001b[0m\u001b[1;33m\u001b[0m\u001b[1;33m\u001b[0m\u001b[0m\n",
      "\u001b[1;31mLookupError\u001b[0m: "
     ]
    }
   ],
   "source": [
    "key = reverse_lookup(h, 3)"
   ]
  },
  {
   "cell_type": "markdown",
   "metadata": {},
   "source": [
    "### raise statement 可以接受一個比較詳細的錯誤訊息，讓錯誤發生的時候可以提供更多資訊"
   ]
  },
  {
   "cell_type": "code",
   "execution_count": 37,
   "metadata": {},
   "outputs": [
    {
     "name": "stdout",
     "output_type": "stream",
     "text": [
      "r\n"
     ]
    },
    {
     "ename": "LookupError",
     "evalue": "value does not appear in the dictionary",
     "output_type": "error",
     "traceback": [
      "\u001b[1;31m---------------------------------------------------------------------------\u001b[0m",
      "\u001b[1;31mLookupError\u001b[0m                               Traceback (most recent call last)",
      "\u001b[1;32m<ipython-input-37-b3c3a4b2f2f5>\u001b[0m in \u001b[0;36m<module>\u001b[1;34m\u001b[0m\n\u001b[0;32m      8\u001b[0m \u001b[0mkey\u001b[0m \u001b[1;33m=\u001b[0m \u001b[0mreverse_lookup_new\u001b[0m\u001b[1;33m(\u001b[0m\u001b[0mh\u001b[0m\u001b[1;33m,\u001b[0m \u001b[1;36m2\u001b[0m\u001b[1;33m)\u001b[0m\u001b[1;33m\u001b[0m\u001b[1;33m\u001b[0m\u001b[0m\n\u001b[0;32m      9\u001b[0m \u001b[0mprint\u001b[0m\u001b[1;33m(\u001b[0m\u001b[0mkey\u001b[0m\u001b[1;33m)\u001b[0m\u001b[1;33m\u001b[0m\u001b[1;33m\u001b[0m\u001b[0m\n\u001b[1;32m---> 10\u001b[1;33m \u001b[0mkey\u001b[0m \u001b[1;33m=\u001b[0m \u001b[0mreverse_lookup_new\u001b[0m\u001b[1;33m(\u001b[0m\u001b[0mh\u001b[0m\u001b[1;33m,\u001b[0m \u001b[1;36m3\u001b[0m\u001b[1;33m)\u001b[0m\u001b[1;33m\u001b[0m\u001b[1;33m\u001b[0m\u001b[0m\n\u001b[0m\u001b[0;32m     11\u001b[0m \u001b[0mprint\u001b[0m\u001b[1;33m(\u001b[0m\u001b[0mkey\u001b[0m\u001b[1;33m)\u001b[0m\u001b[1;33m\u001b[0m\u001b[1;33m\u001b[0m\u001b[0m\n",
      "\u001b[1;32m<ipython-input-37-b3c3a4b2f2f5>\u001b[0m in \u001b[0;36mreverse_lookup_new\u001b[1;34m(d, v)\u001b[0m\n\u001b[0;32m      3\u001b[0m         \u001b[1;32mif\u001b[0m \u001b[0md\u001b[0m\u001b[1;33m[\u001b[0m\u001b[0mk\u001b[0m\u001b[1;33m]\u001b[0m \u001b[1;33m==\u001b[0m \u001b[0mv\u001b[0m\u001b[1;33m:\u001b[0m\u001b[1;33m\u001b[0m\u001b[1;33m\u001b[0m\u001b[0m\n\u001b[0;32m      4\u001b[0m             \u001b[1;32mreturn\u001b[0m \u001b[0mk\u001b[0m\u001b[1;33m\u001b[0m\u001b[1;33m\u001b[0m\u001b[0m\n\u001b[1;32m----> 5\u001b[1;33m     \u001b[1;32mraise\u001b[0m \u001b[0mLookupError\u001b[0m\u001b[1;33m(\u001b[0m\u001b[1;34m'value does not appear in the dictionary'\u001b[0m\u001b[1;33m)\u001b[0m\u001b[1;33m\u001b[0m\u001b[1;33m\u001b[0m\u001b[0m\n\u001b[0m\u001b[0;32m      6\u001b[0m \u001b[1;33m\u001b[0m\u001b[0m\n\u001b[0;32m      7\u001b[0m \u001b[0mh\u001b[0m \u001b[1;33m=\u001b[0m \u001b[0mhistogram\u001b[0m\u001b[1;33m(\u001b[0m\u001b[1;34m'parrot'\u001b[0m\u001b[1;33m)\u001b[0m\u001b[1;33m\u001b[0m\u001b[1;33m\u001b[0m\u001b[0m\n",
      "\u001b[1;31mLookupError\u001b[0m: value does not appear in the dictionary"
     ]
    }
   ],
   "source": [
    "def reverse_lookup_new(d, v):\n",
    "    for k in d:\n",
    "        if d[k] == v:\n",
    "            return k\n",
    "    raise LookupError('value does not appear in the dictionary')\n",
    "    \n",
    "h = histogram('parrot')\n",
    "key = reverse_lookup_new(h, 2)\n",
    "print(key)\n",
    "key = reverse_lookup_new(h, 3)\n",
    "print(key)"
   ]
  },
  {
   "cell_type": "code",
   "execution_count": 38,
   "metadata": {},
   "outputs": [
    {
     "name": "stdout",
     "output_type": "stream",
     "text": [
      "r\n"
     ]
    },
    {
     "ename": "LookupError",
     "evalue": "引數不在dictionary 中",
     "output_type": "error",
     "traceback": [
      "\u001b[1;31m---------------------------------------------------------------------------\u001b[0m",
      "\u001b[1;31mLookupError\u001b[0m                               Traceback (most recent call last)",
      "\u001b[1;32m<ipython-input-38-a51404399e7e>\u001b[0m in \u001b[0;36m<module>\u001b[1;34m\u001b[0m\n\u001b[0;32m      8\u001b[0m \u001b[0mkey\u001b[0m \u001b[1;33m=\u001b[0m \u001b[0mreverse_lookup_new\u001b[0m\u001b[1;33m(\u001b[0m\u001b[0mh\u001b[0m\u001b[1;33m,\u001b[0m \u001b[1;36m2\u001b[0m\u001b[1;33m)\u001b[0m\u001b[1;33m\u001b[0m\u001b[1;33m\u001b[0m\u001b[0m\n\u001b[0;32m      9\u001b[0m \u001b[0mprint\u001b[0m\u001b[1;33m(\u001b[0m\u001b[0mkey\u001b[0m\u001b[1;33m)\u001b[0m\u001b[1;33m\u001b[0m\u001b[1;33m\u001b[0m\u001b[0m\n\u001b[1;32m---> 10\u001b[1;33m \u001b[0mkey\u001b[0m \u001b[1;33m=\u001b[0m \u001b[0mreverse_lookup_new\u001b[0m\u001b[1;33m(\u001b[0m\u001b[0mh\u001b[0m\u001b[1;33m,\u001b[0m \u001b[1;36m3\u001b[0m\u001b[1;33m)\u001b[0m\u001b[1;33m\u001b[0m\u001b[1;33m\u001b[0m\u001b[0m\n\u001b[0m\u001b[0;32m     11\u001b[0m \u001b[0mprint\u001b[0m\u001b[1;33m(\u001b[0m\u001b[0mkey\u001b[0m\u001b[1;33m)\u001b[0m\u001b[1;33m\u001b[0m\u001b[1;33m\u001b[0m\u001b[0m\n",
      "\u001b[1;32m<ipython-input-38-a51404399e7e>\u001b[0m in \u001b[0;36mreverse_lookup_new\u001b[1;34m(d, v)\u001b[0m\n\u001b[0;32m      3\u001b[0m         \u001b[1;32mif\u001b[0m \u001b[0md\u001b[0m\u001b[1;33m[\u001b[0m\u001b[0mk\u001b[0m\u001b[1;33m]\u001b[0m \u001b[1;33m==\u001b[0m \u001b[0mv\u001b[0m\u001b[1;33m:\u001b[0m\u001b[1;33m\u001b[0m\u001b[1;33m\u001b[0m\u001b[0m\n\u001b[0;32m      4\u001b[0m             \u001b[1;32mreturn\u001b[0m \u001b[0mk\u001b[0m\u001b[1;33m\u001b[0m\u001b[1;33m\u001b[0m\u001b[0m\n\u001b[1;32m----> 5\u001b[1;33m     \u001b[1;32mraise\u001b[0m \u001b[0mLookupError\u001b[0m\u001b[1;33m(\u001b[0m\u001b[1;34m'引數不在dictionary 中'\u001b[0m\u001b[1;33m)\u001b[0m\u001b[1;33m\u001b[0m\u001b[1;33m\u001b[0m\u001b[0m\n\u001b[0m\u001b[0;32m      6\u001b[0m \u001b[1;33m\u001b[0m\u001b[0m\n\u001b[0;32m      7\u001b[0m \u001b[0mh\u001b[0m \u001b[1;33m=\u001b[0m \u001b[0mhistogram\u001b[0m\u001b[1;33m(\u001b[0m\u001b[1;34m'parrot'\u001b[0m\u001b[1;33m)\u001b[0m\u001b[1;33m\u001b[0m\u001b[1;33m\u001b[0m\u001b[0m\n",
      "\u001b[1;31mLookupError\u001b[0m: 引數不在dictionary 中"
     ]
    }
   ],
   "source": [
    "def reverse_lookup_new(d, v):\n",
    "    for k in d:\n",
    "        if d[k] == v:\n",
    "            return k\n",
    "    raise LookupError('引數不在dictionary 中')\n",
    "    \n",
    "h = histogram('parrot')\n",
    "key = reverse_lookup_new(h, 2)\n",
    "print(key)\n",
    "key = reverse_lookup_new(h, 3)\n",
    "print(key)"
   ]
  },
  {
   "cell_type": "markdown",
   "metadata": {},
   "source": [
    "## 11.5 Dictionaries and lists\n",
    "\n",
    "Lists can appear as values in a dictionary.  For example, if you\n",
    "are given a dictionary that maps from letters to frequencies, you\n",
    "might want to invert it; that is, create a dictionary that maps\n",
    "from frequencies to letters.  Since there might be several letters\n",
    "with the same frequency, each value in the inverted dictionary\n",
    "should be a list of letters.\n",
    "\n",
    "Here is a function that inverts a dictionary:\n",
    "\n",
    "```\n",
    "def invert_dict(d):\n",
    "    inverse = dict()\n",
    "    for key in d:\n",
    "        val = d[key]\n",
    "        if val not in inverse:\n",
    "            inverse[val] = [key]\n",
    "        else:\n",
    "            inverse[val].append(key)\n",
    "    return inverse\n",
    "```\n",
    "\n",
    "Each time through the loop, `key` gets a key from `d` and \n",
    "`val` gets the corresponding value.  If `val` is not in \n",
    "`inverse`, that means we haven't seen it before, so we create a new\n",
    "item and initialize it with a **singleton (單個物件)** (a list that contains a\n",
    "single element).  Otherwise we have seen this value before, so we\n",
    "append the corresponding key to the list.\n",
    "\n",
    "Here is an example:\n",
    "\n",
    "```\n",
    ">>> hist = histogram('parrot')\n",
    ">>> hist\n",
    "{'a': 1, 'p': 1, 'r': 2, 't': 1, 'o': 1}\n",
    ">>> inverse = invert_dict(hist)\n",
    ">>> inverse\n",
    "{1: ['a', 'p', 't', 'o'], 2: ['r']}\n",
    "```\n",
    "\n",
    "Figure 11.1 is a state diagram showing `hist` and `inverse`.\n",
    "A dictionary is represented as a box with the type `dict` above it\n",
    "and the key-value pairs inside.  If the values are integers, floats or\n",
    "strings, I draw them inside the box, but I usually draw lists\n",
    "outside the box, just to keep the diagram simple.\n",
    "\n",
    "<img src=\"fig11_1.png\">\n",
    "\n",
    "Lists can be values in a dictionary, as this example shows, but they\n",
    "cannot be keys.  Here's what happens if you try:\n",
    "\n",
    "```\n",
    ">>> t = [1, 2, 3]\n",
    ">>> d = dict()\n",
    ">>> d[t] = 'oops'\n",
    "Traceback (most recent call last):\n",
    "  File \"<stdin>\", line 1, in ?\n",
    "TypeError: list objects are unhashable\n",
    "```\n",
    "\n",
    "I mentioned earlier that a dictionary is implemented using\n",
    "a hashtable and that means that the keys have to be **hashable (可散列的)**.\n",
    "\n",
    "<font color=\"red\">A **hash (散列、雜湊)** is a function that takes a value (of any kind)\n",
    "and returns an integer.  Dictionaries use these integers,\n",
    "called hash values, to store and look up key-value pairs.\n",
    "\n",
    "This system works fine if the keys are immutable.  But if the\n",
    "keys are mutable, like lists, bad things happen.</font>\n",
    "\n",
    "For example, when you create a key-value pair, Python hashes the key and \n",
    "stores it in the corresponding location.  If you modify the\n",
    "key and then hash it again, it would go to a different location.\n",
    "In that case you might have two entries for the same key,\n",
    "or you might not be able to find a key.  Either way, the\n",
    "dictionary wouldn't work correctly.\n",
    "\n",
    "That's why keys have to be hashable, and why mutable types like\n",
    "lists aren't.  The simplest way to get around this limitation is to\n",
    "use tuples, which we will see in the next chapter.\n",
    "\n",
    "Since dictionaries are mutable, they can't be used as keys,\n",
    "but they *can* be used as values.\n"
   ]
  },
  {
   "cell_type": "code",
   "execution_count": 39,
   "metadata": {},
   "outputs": [
    {
     "name": "stdout",
     "output_type": "stream",
     "text": [
      "{'p': 1, 'a': 1, 'r': 2, 'o': 1, 't': 1}\n"
     ]
    }
   ],
   "source": [
    "def invert_dict(d):\n",
    "    inverse = dict()\n",
    "    for key in d:\n",
    "        val = d[key]\n",
    "        if val not in inverse:\n",
    "            inverse[val] = [key]  # add a list to the dictionary\n",
    "        else:\n",
    "            inverse[val].append(key)\n",
    "    return inverse\n",
    "\n",
    "hist = histogram('parrot')\n",
    "print(hist)"
   ]
  },
  {
   "cell_type": "code",
   "execution_count": 40,
   "metadata": {},
   "outputs": [
    {
     "name": "stdout",
     "output_type": "stream",
     "text": [
      "{1: ['p', 'a', 'o', 't'], 2: ['r']}\n"
     ]
    }
   ],
   "source": [
    "inverse = invert_dict(hist)\n",
    "print(inverse)"
   ]
  },
  {
   "cell_type": "code",
   "execution_count": 41,
   "metadata": {},
   "outputs": [
    {
     "name": "stdout",
     "output_type": "stream",
     "text": [
      "{'p': 1, 'a': 1, 'r': 2, 'o': 1, 't': 1}\n",
      "in invert_dict2, inverse = {1: ['p']}\n",
      "in invert_dict2, inverse = {1: ['p', 'a']}\n",
      "in invert_dict2, inverse = {1: ['p', 'a'], 2: ['r']}\n",
      "in invert_dict2, inverse = {1: ['p', 'a', 'o'], 2: ['r']}\n",
      "in invert_dict2, inverse = {1: ['p', 'a', 'o', 't'], 2: ['r']}\n",
      "{1: ['p', 'a', 'o', 't'], 2: ['r']}\n"
     ]
    }
   ],
   "source": [
    "def invert_dict2(d):\n",
    "    inverse = dict()\n",
    "    for key in d:\n",
    "        val = d[key]\n",
    "        if val not in inverse:\n",
    "            inverse[val] = [key]  # add a list to the dictionary\n",
    "        else:\n",
    "            inverse[val].append(key)\n",
    "            \n",
    "        print('in invert_dict2, inverse =', inverse)  # to show the content of inverse\n",
    "    return inverse\n",
    "\n",
    "hist = histogram('parrot')\n",
    "print(hist)\n",
    "inv = invert_dict2(hist)\n",
    "print(inv)"
   ]
  },
  {
   "cell_type": "code",
   "execution_count": 46,
   "metadata": {},
   "outputs": [
    {
     "ename": "TypeError",
     "evalue": "unhashable type: 'list'",
     "output_type": "error",
     "traceback": [
      "\u001b[1;31m---------------------------------------------------------------------------\u001b[0m",
      "\u001b[1;31mTypeError\u001b[0m                                 Traceback (most recent call last)",
      "\u001b[1;32m<ipython-input-46-e3ea20954cd2>\u001b[0m in \u001b[0;36m<module>\u001b[1;34m\u001b[0m\n\u001b[0;32m      1\u001b[0m \u001b[0mt\u001b[0m \u001b[1;33m=\u001b[0m \u001b[1;33m[\u001b[0m\u001b[1;36m1\u001b[0m\u001b[1;33m,\u001b[0m \u001b[1;36m2\u001b[0m\u001b[1;33m,\u001b[0m \u001b[1;36m3\u001b[0m\u001b[1;33m]\u001b[0m\u001b[1;33m\u001b[0m\u001b[1;33m\u001b[0m\u001b[0m\n\u001b[0;32m      2\u001b[0m \u001b[0md\u001b[0m \u001b[1;33m=\u001b[0m \u001b[0mdict\u001b[0m\u001b[1;33m(\u001b[0m\u001b[1;33m)\u001b[0m\u001b[1;33m\u001b[0m\u001b[1;33m\u001b[0m\u001b[0m\n\u001b[1;32m----> 3\u001b[1;33m \u001b[0md\u001b[0m\u001b[1;33m[\u001b[0m\u001b[0mt\u001b[0m\u001b[1;33m]\u001b[0m \u001b[1;33m=\u001b[0m \u001b[1;34m'oops'\u001b[0m\u001b[1;33m\u001b[0m\u001b[1;33m\u001b[0m\u001b[0m\n\u001b[0m",
      "\u001b[1;31mTypeError\u001b[0m: unhashable type: 'list'"
     ]
    }
   ],
   "source": [
    "t = [1, 2, 3]\n",
    "d = dict()\n",
    "d[t] = 'oops'"
   ]
  },
  {
   "cell_type": "markdown",
   "metadata": {},
   "source": [
    "## 11.6 Memos\n",
    "\n",
    "If you played with the `fibonacci` function from\n",
    "Section 6.7, you might have noticed that the bigger\n",
    "the argument you provide, the longer the function takes to run.\n",
    "Furthermore, the run time increases quickly.\n",
    "\n",
    "To understand why, consider Figure 11.2, which shows\n",
    "the **call graph** for `fibonacci` with `n=4`:\n",
    "\n",
    "<img src=\"fig11_2.png\">\n",
    "\n",
    "A call graph shows a set of function frames, with lines connecting each\n",
    "frame to the frames of the functions it calls.  At the top of the\n",
    "graph, `fibonacci` with `n=4` calls `fibonacci` with \n",
    "`n=3` and `n=2`.  In turn, `fibonacci` with `n=3` calls\n",
    "`fibonacci` with `n=2` and `n=1`.  And so on.\n",
    "\n",
    "Count how many times `fibonacci(0)` and `fibonacci(1)` are\n",
    "called.  This is an inefficient solution to the problem, and it gets\n",
    "worse as the argument gets bigger.\n",
    "\n",
    "One solution is to keep track of values that have already been\n",
    "computed by storing them in a dictionary.  A previously computed value\n",
    "that is stored for later use is called a **memo (備忘錄)**.  Here is a\n",
    "\"memoized\" version of `fibonacci`:\n",
    "\n",
    "```\n",
    "known = {0:0, 1:1}\n",
    "\n",
    "def fibonacci(n):\n",
    "    if n in known:\n",
    "        return known[n]\n",
    "\n",
    "    res = fibonacci(n-1) + fibonacci(n-2)\n",
    "    known[n] = res\n",
    "    return res\n",
    "```\n",
    "\n",
    "`known` is a dictionary that keeps track of the Fibonacci\n",
    "numbers we already know.  It starts with\n",
    "two items: 0 maps to 0 and 1 maps to 1.\n",
    "\n",
    "Whenever `fibonacci` is called, it checks `known`.\n",
    "If the result is already there, it can return\n",
    "immediately.  Otherwise it has to \n",
    "compute the new value, add it to the dictionary, and return it.\n",
    "\n",
    "If you run this version of `fibonacci` and compare it with\n",
    "the original, you will find that it is much faster."
   ]
  },
  {
   "cell_type": "markdown",
   "metadata": {},
   "source": [
    "### fibonacci2(n) 沒有使用 dictionary 紀錄先前已經計算好的 fibonacci2(n-1) 和 fibonacci2(n-2)\n",
    "### 當 n 愈大的時候，需要的計算時間愈長"
   ]
  },
  {
   "cell_type": "code",
   "execution_count": 43,
   "metadata": {},
   "outputs": [
    {
     "name": "stdout",
     "output_type": "stream",
     "text": [
      "55\n"
     ]
    }
   ],
   "source": [
    "def fibonacci2(n):\n",
    "    if n == 0:\n",
    "        return 0\n",
    "    elif n == 1:\n",
    "        return 1\n",
    "    else:\n",
    "        return fibonacci2(n-1) + fibonacci2(n-2)\n",
    "    \n",
    "print(fibonacci2(10))"
   ]
  },
  {
   "cell_type": "markdown",
   "metadata": {},
   "source": [
    "### fibonacci(n) 使用 dictionary 紀錄先前已經計算好的 fibonacci(n-1) 和 fibonacci(n-2)\n",
    "### 當 n 愈大的時候，需要的計算時間幾乎沒有影響"
   ]
  },
  {
   "cell_type": "code",
   "execution_count": 44,
   "metadata": {},
   "outputs": [
    {
     "name": "stdout",
     "output_type": "stream",
     "text": [
      "fibonacci(1) = 1\n",
      "fibonacci(2) = 1\n",
      "fibonacci(3) = 2\n",
      "fibonacci(4) = 3\n",
      "fibonacci(5) = 5\n",
      "fibonacci(6) = 8\n",
      "fibonacci(7) = 13\n",
      "fibonacci(8) = 21\n",
      "fibonacci(9) = 34\n",
      "fibonacci(10) = 55\n",
      "fibonacci(11) = 89\n",
      "fibonacci(12) = 144\n",
      "fibonacci(13) = 233\n",
      "fibonacci(14) = 377\n",
      "fibonacci(15) = 610\n",
      "fibonacci(16) = 987\n",
      "fibonacci(17) = 1597\n",
      "fibonacci(18) = 2584\n",
      "fibonacci(19) = 4181\n",
      "fibonacci(20) = 6765\n",
      "fibonacci(21) = 10946\n",
      "fibonacci(22) = 17711\n",
      "fibonacci(23) = 28657\n",
      "fibonacci(24) = 46368\n",
      "fibonacci(25) = 75025\n",
      "fibonacci(26) = 121393\n",
      "fibonacci(27) = 196418\n",
      "fibonacci(28) = 317811\n",
      "fibonacci(29) = 514229\n",
      "fibonacci(30) = 832040\n",
      "fibonacci(31) = 1346269\n",
      "fibonacci(32) = 2178309\n",
      "fibonacci(33) = 3524578\n",
      "fibonacci(34) = 5702887\n",
      "fibonacci(35) = 9227465\n",
      "fibonacci(36) = 14930352\n",
      "fibonacci(37) = 24157817\n",
      "fibonacci(38) = 39088169\n",
      "fibonacci(39) = 63245986\n",
      "fibonacci(40) = 102334155\n",
      "fibonacci(41) = 165580141\n",
      "fibonacci(42) = 267914296\n",
      "fibonacci(43) = 433494437\n",
      "fibonacci(44) = 701408733\n",
      "fibonacci(45) = 1134903170\n",
      "fibonacci(46) = 1836311903\n",
      "fibonacci(47) = 2971215073\n",
      "fibonacci(48) = 4807526976\n",
      "fibonacci(49) = 7778742049\n",
      "fibonacci(50) = 12586269025\n",
      "fibonacci(51) = 20365011074\n",
      "fibonacci(52) = 32951280099\n",
      "fibonacci(53) = 53316291173\n",
      "fibonacci(54) = 86267571272\n",
      "fibonacci(55) = 139583862445\n",
      "fibonacci(56) = 225851433717\n",
      "fibonacci(57) = 365435296162\n",
      "fibonacci(58) = 591286729879\n",
      "fibonacci(59) = 956722026041\n",
      "fibonacci(60) = 1548008755920\n",
      "fibonacci(61) = 2504730781961\n",
      "fibonacci(62) = 4052739537881\n",
      "fibonacci(63) = 6557470319842\n",
      "fibonacci(64) = 10610209857723\n",
      "fibonacci(65) = 17167680177565\n",
      "fibonacci(66) = 27777890035288\n",
      "fibonacci(67) = 44945570212853\n",
      "fibonacci(68) = 72723460248141\n",
      "fibonacci(69) = 117669030460994\n",
      "fibonacci(70) = 190392490709135\n",
      "fibonacci(71) = 308061521170129\n",
      "fibonacci(72) = 498454011879264\n",
      "fibonacci(73) = 806515533049393\n",
      "fibonacci(74) = 1304969544928657\n",
      "fibonacci(75) = 2111485077978050\n",
      "fibonacci(76) = 3416454622906707\n",
      "fibonacci(77) = 5527939700884757\n",
      "fibonacci(78) = 8944394323791464\n",
      "fibonacci(79) = 14472334024676221\n",
      "fibonacci(80) = 23416728348467685\n",
      "fibonacci(81) = 37889062373143906\n",
      "fibonacci(82) = 61305790721611591\n",
      "fibonacci(83) = 99194853094755497\n",
      "fibonacci(84) = 160500643816367088\n",
      "fibonacci(85) = 259695496911122585\n",
      "fibonacci(86) = 420196140727489673\n",
      "fibonacci(87) = 679891637638612258\n",
      "fibonacci(88) = 1100087778366101931\n",
      "fibonacci(89) = 1779979416004714189\n",
      "fibonacci(90) = 2880067194370816120\n",
      "fibonacci(91) = 4660046610375530309\n",
      "fibonacci(92) = 7540113804746346429\n",
      "fibonacci(93) = 12200160415121876738\n",
      "fibonacci(94) = 19740274219868223167\n",
      "fibonacci(95) = 31940434634990099905\n",
      "fibonacci(96) = 51680708854858323072\n",
      "fibonacci(97) = 83621143489848422977\n",
      "fibonacci(98) = 135301852344706746049\n",
      "fibonacci(99) = 218922995834555169026\n",
      "fibonacci(100) = 354224848179261915075\n",
      "fibonacci(101) = 573147844013817084101\n",
      "fibonacci(102) = 927372692193078999176\n",
      "fibonacci(103) = 1500520536206896083277\n",
      "fibonacci(104) = 2427893228399975082453\n",
      "fibonacci(105) = 3928413764606871165730\n",
      "fibonacci(106) = 6356306993006846248183\n",
      "fibonacci(107) = 10284720757613717413913\n",
      "fibonacci(108) = 16641027750620563662096\n",
      "fibonacci(109) = 26925748508234281076009\n",
      "fibonacci(110) = 43566776258854844738105\n",
      "fibonacci(111) = 70492524767089125814114\n",
      "fibonacci(112) = 114059301025943970552219\n",
      "fibonacci(113) = 184551825793033096366333\n",
      "fibonacci(114) = 298611126818977066918552\n",
      "fibonacci(115) = 483162952612010163284885\n",
      "fibonacci(116) = 781774079430987230203437\n",
      "fibonacci(117) = 1264937032042997393488322\n",
      "fibonacci(118) = 2046711111473984623691759\n",
      "fibonacci(119) = 3311648143516982017180081\n",
      "fibonacci(120) = 5358359254990966640871840\n",
      "fibonacci(121) = 8670007398507948658051921\n",
      "fibonacci(122) = 14028366653498915298923761\n",
      "fibonacci(123) = 22698374052006863956975682\n",
      "fibonacci(124) = 36726740705505779255899443\n",
      "fibonacci(125) = 59425114757512643212875125\n",
      "fibonacci(126) = 96151855463018422468774568\n",
      "fibonacci(127) = 155576970220531065681649693\n",
      "fibonacci(128) = 251728825683549488150424261\n",
      "fibonacci(129) = 407305795904080553832073954\n",
      "fibonacci(130) = 659034621587630041982498215\n",
      "fibonacci(131) = 1066340417491710595814572169\n",
      "fibonacci(132) = 1725375039079340637797070384\n",
      "fibonacci(133) = 2791715456571051233611642553\n",
      "fibonacci(134) = 4517090495650391871408712937\n",
      "fibonacci(135) = 7308805952221443105020355490\n",
      "fibonacci(136) = 11825896447871834976429068427\n",
      "fibonacci(137) = 19134702400093278081449423917\n",
      "fibonacci(138) = 30960598847965113057878492344\n",
      "fibonacci(139) = 50095301248058391139327916261\n",
      "fibonacci(140) = 81055900096023504197206408605\n",
      "fibonacci(141) = 131151201344081895336534324866\n",
      "fibonacci(142) = 212207101440105399533740733471\n",
      "fibonacci(143) = 343358302784187294870275058337\n",
      "fibonacci(144) = 555565404224292694404015791808\n",
      "fibonacci(145) = 898923707008479989274290850145\n",
      "fibonacci(146) = 1454489111232772683678306641953\n",
      "fibonacci(147) = 2353412818241252672952597492098\n",
      "fibonacci(148) = 3807901929474025356630904134051\n",
      "fibonacci(149) = 6161314747715278029583501626149\n"
     ]
    }
   ],
   "source": [
    "known = {0:0, 1:1}\n",
    "\n",
    "def fibonacci(n):\n",
    "    if n in known:\n",
    "        return known[n]\n",
    "\n",
    "    res = fibonacci(n-1) + fibonacci(n-2)\n",
    "    known[n] = res\n",
    "    return res\n",
    "\n",
    "for i in range(1,150):\n",
    "    print('fibonacci({}) = {}'.format(i,fibonacci(i)))"
   ]
  },
  {
   "cell_type": "markdown",
   "metadata": {},
   "source": [
    "## 11.7 Global variables\n",
    "\n",
    "In the previous example, `known` is created outside the function,\n",
    "so it belongs to the special frame called \"\\_\\_main\\_\\_\".\n",
    "Variables in \"\\_\\_main\\_\\_\" are sometimes called **global (全域的)**\n",
    "because they can be accessed from any function.  Unlike local\n",
    "variables, which disappear when their function ends, global variables\n",
    "persist from one function call to the next.\n",
    "\n",
    "It is common to use global variables for **flags (旗標)**; that is, \n",
    "boolean variables that indicate (\"flag\") whether a condition\n",
    "is true.  For example, some programs use\n",
    "a flag named `verbose` to control the level of detail in the\n",
    "output:\n",
    "\n",
    "```\n",
    "verbose = True\n",
    "\n",
    "def example1():\n",
    "    if verbose:\n",
    "        print('Running example1')\n",
    "```\n",
    "\n",
    "If you try to reassign a global variable, you might be surprised.\n",
    "The following example is supposed to keep track of whether the\n",
    "function has been called:\n",
    "\n",
    "```\n",
    "been_called = False\n",
    "\n",
    "def example2():\n",
    "    been_called = True         # WRONG\n",
    "```\n",
    "\n",
    "But if you run it you will see that the value of \"been_called\"\n",
    "doesn't change.  The problem is that `example2` creates a new local\n",
    "variable named \"been_called\".  <font color=\"red\">The local variable goes away when\n",
    "the function ends, and has no effect on the global variable.\n",
    "\n",
    "To reassign a global variable inside a function you have to\n",
    "**declare (宣告)** the global variable before you use it:</font>\n",
    "\n",
    "```\n",
    "been_called = False\n",
    "\n",
    "def example2():\n",
    "    global been_called \n",
    "    been_called = True\n",
    "```\n",
    "\n",
    "<font color=\"red\">The **global statement** tells the interpreter\n",
    "something like, \"In this function, when I say <code>been_called</code>, I\n",
    "mean the global variable; don't create a local one.\"</font>\n",
    "\n",
    "Here's an example that tries to update a global variable:\n",
    "\n",
    "```\n",
    "count = 0\n",
    "\n",
    "def example3():\n",
    "    count = count + 1          # WRONG\n",
    "```\n",
    "\n",
    "If you run it you get:\n",
    "\n",
    "```\n",
    "UnboundLocalError: local variable 'count' referenced before assignment\n",
    "```\n",
    "\n",
    "Python assumes that `count` is local, and under that assumption\n",
    "you are reading it before writing it.  The solution, again,\n",
    "is to declare `count` global.\n",
    "\n",
    "```\n",
    "def example3():\n",
    "    global count\n",
    "    count += 1\n",
    "```\n",
    "\n",
    "<font color=\"red\">If a global variable refers to a mutable value, you can modify\n",
    "the value without declaring the variable:</font>\n",
    "\n",
    "```\n",
    "known = {0:0, 1:1}\n",
    "\n",
    "def example4():\n",
    "    known[2] = 1\n",
    "```\n",
    "\n",
    "So you can add, remove and replace elements of a global list or\n",
    "dictionary, but if you want to reassign the variable, you\n",
    "have to declare it:\n",
    "\n",
    "```\n",
    "def example5():\n",
    "    global known\n",
    "    known = dict()\n",
    "```\n",
    "\n",
    "Global variables can be useful, but if you have a lot of them,\n",
    "and you modify them frequently, they can make programs\n",
    "hard to debug."
   ]
  },
  {
   "cell_type": "code",
   "execution_count": 45,
   "metadata": {},
   "outputs": [
    {
     "name": "stdout",
     "output_type": "stream",
     "text": [
      "Running example1\n",
      "in function: been_called =  True\n",
      "in __main__: been_called =  False\n"
     ]
    }
   ],
   "source": [
    "verbose = True\n",
    "\n",
    "def example1():\n",
    "        if verbose:\n",
    "            print('Running example1')\n",
    "            \n",
    "been_called = False\n",
    "def example2():\n",
    "    been_called = True\n",
    "    print('in function: been_called = ', been_called)\n",
    "    \n",
    "example1()\n",
    "example2()\n",
    "print('in __main__: been_called = ', been_called)\n"
   ]
  },
  {
   "cell_type": "code",
   "execution_count": 46,
   "metadata": {},
   "outputs": [
    {
     "name": "stdout",
     "output_type": "stream",
     "text": [
      "Running example1\n",
      "in __main__: been_called =  True\n"
     ]
    }
   ],
   "source": [
    "verbose = True\n",
    "\n",
    "def example1():\n",
    "        if verbose:\n",
    "            print('Running example1')\n",
    "            \n",
    "been_called = False\n",
    "def example2():\n",
    "    global been_called\n",
    "    been_called = True\n",
    "    \n",
    "example1()\n",
    "example2()\n",
    "print('in __main__: been_called = ', been_called)\n"
   ]
  },
  {
   "cell_type": "code",
   "execution_count": 47,
   "metadata": {},
   "outputs": [
    {
     "ename": "UnboundLocalError",
     "evalue": "local variable 'count' referenced before assignment",
     "output_type": "error",
     "traceback": [
      "\u001b[1;31m---------------------------------------------------------------------------\u001b[0m",
      "\u001b[1;31mUnboundLocalError\u001b[0m                         Traceback (most recent call last)",
      "\u001b[1;32m<ipython-input-47-2bb938b86b33>\u001b[0m in \u001b[0;36m<module>\u001b[1;34m\u001b[0m\n\u001b[0;32m      3\u001b[0m     \u001b[0mcount\u001b[0m \u001b[1;33m=\u001b[0m \u001b[0mcount\u001b[0m \u001b[1;33m+\u001b[0m \u001b[1;36m1\u001b[0m \u001b[1;31m# WRONG\u001b[0m\u001b[1;33m\u001b[0m\u001b[1;33m\u001b[0m\u001b[0m\n\u001b[0;32m      4\u001b[0m \u001b[1;33m\u001b[0m\u001b[0m\n\u001b[1;32m----> 5\u001b[1;33m \u001b[0mexample3\u001b[0m\u001b[1;33m(\u001b[0m\u001b[1;33m)\u001b[0m\u001b[1;33m\u001b[0m\u001b[1;33m\u001b[0m\u001b[0m\n\u001b[0m",
      "\u001b[1;32m<ipython-input-47-2bb938b86b33>\u001b[0m in \u001b[0;36mexample3\u001b[1;34m()\u001b[0m\n\u001b[0;32m      1\u001b[0m \u001b[0mcount\u001b[0m \u001b[1;33m=\u001b[0m \u001b[1;36m0\u001b[0m\u001b[1;33m\u001b[0m\u001b[1;33m\u001b[0m\u001b[0m\n\u001b[0;32m      2\u001b[0m \u001b[1;32mdef\u001b[0m \u001b[0mexample3\u001b[0m\u001b[1;33m(\u001b[0m\u001b[1;33m)\u001b[0m\u001b[1;33m:\u001b[0m\u001b[1;33m\u001b[0m\u001b[1;33m\u001b[0m\u001b[0m\n\u001b[1;32m----> 3\u001b[1;33m     \u001b[0mcount\u001b[0m \u001b[1;33m=\u001b[0m \u001b[0mcount\u001b[0m \u001b[1;33m+\u001b[0m \u001b[1;36m1\u001b[0m \u001b[1;31m# WRONG\u001b[0m\u001b[1;33m\u001b[0m\u001b[1;33m\u001b[0m\u001b[0m\n\u001b[0m\u001b[0;32m      4\u001b[0m \u001b[1;33m\u001b[0m\u001b[0m\n\u001b[0;32m      5\u001b[0m \u001b[0mexample3\u001b[0m\u001b[1;33m(\u001b[0m\u001b[1;33m)\u001b[0m\u001b[1;33m\u001b[0m\u001b[1;33m\u001b[0m\u001b[0m\n",
      "\u001b[1;31mUnboundLocalError\u001b[0m: local variable 'count' referenced before assignment"
     ]
    }
   ],
   "source": [
    "count = 0\n",
    "def example3():\n",
    "    count = count + 1 # WRONG\n",
    "    \n",
    "example3()\n"
   ]
  },
  {
   "cell_type": "code",
   "execution_count": 54,
   "metadata": {},
   "outputs": [
    {
     "name": "stdout",
     "output_type": "stream",
     "text": [
      "in example3(): count =  6\n",
      "outside example3(): count =  0\n"
     ]
    }
   ],
   "source": [
    "count = 0\n",
    "def example3():\n",
    "    count = 5\n",
    "    count = count + 1 # WRONG\n",
    "    print('in example3(): count = ', count)\n",
    "    \n",
    "example3()\n",
    "print('outside example3(): count = ', count)"
   ]
  },
  {
   "cell_type": "code",
   "execution_count": 55,
   "metadata": {},
   "outputs": [
    {
     "name": "stdout",
     "output_type": "stream",
     "text": [
      "None\n",
      "{0: 0, 1: 1, 2: 1}\n"
     ]
    }
   ],
   "source": [
    "known = {0:0, 1:1}\n",
    "\n",
    "def example4():\n",
    "    known[2] = 1\n",
    "    \n",
    "print(example4())\n",
    "print(known)"
   ]
  },
  {
   "cell_type": "code",
   "execution_count": 56,
   "metadata": {},
   "outputs": [
    {
     "name": "stdout",
     "output_type": "stream",
     "text": [
      "before calling example5():\n",
      "{0: 0, 1: 1}\n",
      "after calling example5():\n",
      "{}\n"
     ]
    }
   ],
   "source": [
    "known = {0:0, 1:1}\n",
    "\n",
    "def example5():\n",
    "    global known\n",
    "    known = dict()\n",
    "    \n",
    "print('before calling example5():')\n",
    "print(known)\n",
    "example5()\n",
    "print('after calling example5():')\n",
    "print(known)"
   ]
  },
  {
   "cell_type": "markdown",
   "metadata": {},
   "source": [
    "## 11.8 Debugging\n",
    "\n",
    "As you work with bigger datasets it can become unwieldy to\n",
    "debug by printing and checking the output by hand.  Here are some\n",
    "suggestions for debugging large datasets:\n",
    "\n",
    "- **Scale down the input:** If possible, reduce the size of the\n",
    "dataset.  For example if the program reads a text file, start with\n",
    "just the first 10 lines, or with the smallest example you can find.\n",
    "You can either edit the files themselves, or (better) modify the\n",
    "program so it reads only the first `n` lines.\n",
    "\n",
    "  If there is an error, you can reduce `n` to the smallest\n",
    "value that manifests the error, and then increase it gradually\n",
    "as you find and correct errors.\n",
    "\n",
    "\n",
    "- **Check summaries and types:** Instead of printing and checking the\n",
    "entire dataset, consider printing summaries of the data: for example,\n",
    "the number of items in a dictionary or the total of a list of numbers.\n",
    "\n",
    "  A common cause of runtime errors is a value that is not the right\n",
    "type.  For debugging this kind of error, it is often enough to print\n",
    "the type of a value.\n",
    "\n",
    "\n",
    "- **Write self-checks:**  Sometimes you can write code to check\n",
    "for errors automatically.  For example, if you are computing the\n",
    "average of a list of numbers, you could check that the result is\n",
    "not greater than the largest element in the list or less than\n",
    "the smallest.  This is called a \"sanity check\" because it detects\n",
    "results that are \"insane\".\n",
    "\n",
    "  Another kind of check compares the results of two different\n",
    "computations to see if they are consistent.  This is called a\n",
    "\"consistency check\".\n",
    "\n",
    "\n",
    "- **Format the output:** Formatting debugging output\n",
    "can make it easier to spot an error.  We saw an example in\n",
    "Section 6.9.  Another tool you might find useful is the `pprint` module, which provides\n",
    "a `pprint` function that displays built-in types in\n",
    "a more human-readable format (`pprint` stands for\n",
    "\"pretty print\").\n",
    "\n",
    "\n",
    "Again, time you spend building scaffolding can reduce\n",
    "the time you spend debugging.\n"
   ]
  },
  {
   "cell_type": "markdown",
   "metadata": {},
   "source": [
    "## 11.9 Glossary\n",
    "\n",
    "- **mapping:** A relationship in which each element of one set\n",
    "corresponds to an element of another set.\n",
    "\n",
    "- **dictionary:** A mapping from keys to their\n",
    "corresponding values.\n",
    "\n",
    "- **key-value pair:** The representation of the mapping from\n",
    "a key to a value.\n",
    "\n",
    "- **item:** In a dictionary, another name for a key-value\n",
    "pair.\n",
    "\n",
    "- **key:** An object that appears in a dictionary as the\n",
    "first part of a key-value pair.\n",
    "\n",
    "- **value:** An object that appears in a dictionary as the\n",
    "second part of a key-value pair.  This is more specific than\n",
    "our previous use of the word \"value\".\n",
    "\n",
    "- **implementation:** A way of performing a computation.\n",
    "\n",
    "- **hashtable:** The algorithm used to implement Python\n",
    "dictionaries.\n",
    "\n",
    "- **hash function (散列函數):** A function used by a hashtable to compute the\n",
    "location for a key.\n",
    "\n",
    "- **hashable:** A type that has a hash function.  Immutable\n",
    "types like integers,\n",
    "floats and strings are hashable; mutable types like lists and\n",
    "dictionaries are not.\n",
    "\n",
    "- **lookup:** A dictionary operation that takes a key and finds\n",
    "the corresponding value.\n",
    "\n",
    "- **reverse lookup:** A dictionary operation that takes a value and finds\n",
    "one or more keys that map to it.\n",
    "\n",
    "- **raise statement:**  A statement that (deliberately) raises an exception.\n",
    "\n",
    "- **singleton:** A list (or other sequence) with a single element.\n",
    "\n",
    "- **call graph:** A diagram that shows every frame created during\n",
    "the execution of a program, with an arrow from each caller to\n",
    "each callee. \n",
    "\n",
    "- **memo:** A computed value stored to avoid unnecessary future \n",
    "computation.\n",
    "\n",
    "- **global variable:**  A variable defined outside a function.  Global\n",
    "variables can be accessed from any function.\n",
    "\n",
    "- **global statement:**  A statement that declares a variable name\n",
    "global.\n",
    "\n",
    "- **flag:** A boolean variable used to indicate whether a condition\n",
    "is true.\n",
    "\n",
    "- **declaration:** A statement like `global` that tells the\n",
    "interpreter something about a variable.\n"
   ]
  },
  {
   "cell_type": "markdown",
   "metadata": {},
   "source": [
    "## 11.10 Exercises\n",
    "\n",
    "### Exercise 11.1\n",
    "\n",
    "Write a function that reads the words in \"words.txt\" and\n",
    "stores them as keys in a dictionary.  It doesn't matter what the\n",
    "values are.  Then you can use the `in` operator\n",
    "as a fast way to check whether a string is in\n",
    "the dictionary.\n",
    "\n",
    "If you did Exercise 10.10, you can compare the speed\n",
    "of this implementation with the list `in` operator and the\n",
    "bisection search."
   ]
  },
  {
   "cell_type": "markdown",
   "metadata": {},
   "source": [
    "### Exercise 11.2\n",
    "\n",
    "Read the documentation of the dictionary method `setdefault`\n",
    "and use it to write a more concise version of \"invert_dict\".\n",
    "Solution: http://thinkpython2.com/code/invert_dict.py."
   ]
  },
  {
   "cell_type": "markdown",
   "metadata": {},
   "source": [
    "### Exercise 11.3\n",
    "\n",
    "Memoize the Ackermann function from Exercise 6.2 and see if\n",
    "memoization makes it possible to evaluate the function with bigger\n",
    "arguments.  Hint: no.\n",
    "Solution: http://thinkpython2.com/code/ackermann_memo.py."
   ]
  },
  {
   "cell_type": "markdown",
   "metadata": {},
   "source": [
    "### Exercise 11.4\n",
    "\n",
    "If you did Exercise 10.7, you already have\n",
    "a function named \"has_duplicates\" that takes a list\n",
    "as a parameter and returns `True` if there is any object\n",
    "that appears more than once in the list.\n",
    "\n",
    "Use a dictionary to write a faster, simpler version of\n",
    "\"has_duplicates\". \n",
    "Solution: http://thinkpython2.com/code/has_duplicates.py."
   ]
  },
  {
   "cell_type": "markdown",
   "metadata": {},
   "source": [
    "### Exercise 11.5\n",
    "\n",
    "Two words are \"rotate pairs\" if you can rotate one of them\n",
    "and get the other (see \"rotate_word\" in Exercise 8.5).\n",
    "\n",
    "Write a program that reads a wordlist and finds all the rotate\n",
    "pairs.  Solution: http://thinkpython2.com/code/rotate_pairs.py."
   ]
  },
  {
   "cell_type": "markdown",
   "metadata": {},
   "source": [
    "### Exercise 11.6\n",
    "\n",
    "Here's another Puzzler from *Car Talk* \n",
    "(http://www.cartalk.com/content/puzzlers):\n",
    "\n",
    "    This was sent in by a fellow named Dan O'Leary. He came upon a common\n",
    "    one-syllable, five-letter word recently that has the following unique\n",
    "    property. When you remove the first letter, the remaining letters form\n",
    "    a homophone of the original word, that is a word that sounds exactly\n",
    "    the same. Replace the first letter, that is, put it back and remove\n",
    "    the second letter and the result is yet another homophone of the\n",
    "    original word. And the question is, what's the word?\n",
    "\n",
    "    Now I'm going to give you an example that doesn't work. Let's look at\n",
    "    the five-letter word, 'wrack.' W-R-A-C-K, you know like to 'wrack with\n",
    "    pain.' If I remove the first letter, I am left with a four-letter\n",
    "    word, 'R-A-C-K.' As in, 'Holy cow, did you see the rack on that buck!\n",
    "    It must have been a nine-pointer!' It's a perfect homophone. If you\n",
    "    put the 'w' back, and remove the 'r,' instead, you're left with the\n",
    "    word, 'wack,' which is a real word, it's just not a homophone of the\n",
    "    other two words.\n",
    "\n",
    "    But there is, however, at least one word that Dan and we know of,\n",
    "    which will yield two homophones if you remove either of the first two\n",
    "    letters to make two, new four-letter words. The question is, what's\n",
    "    the word?\n",
    "\n",
    "\n",
    "You can use the dictionary from Exercise 11.1 to check\n",
    "whether a string is in the word list.\n",
    "\n",
    "To check whether two words are homophones, you can use the CMU\n",
    "Pronouncing Dictionary.  You can download it from\n",
    "http://www.speech.cs.cmu.edu/cgi-bin/cmudict or from\n",
    "http://thinkpython2.com/code/c06d and you can also download\n",
    "http://thinkpython2.com/code/pronounce.py, which provides a function\n",
    "named \"read_dictionary\" that reads the pronouncing dictionary and\n",
    "returns a Python dictionary that maps from each word to a string that\n",
    "describes its primary pronunciation.\n",
    "\n",
    "Write a program that lists all the words that solve the Puzzler.\n",
    "Solution: http://thinkpython2.com/code/homophone.py."
   ]
  },
  {
   "cell_type": "code",
   "execution_count": null,
   "metadata": {},
   "outputs": [],
   "source": []
  }
 ],
 "metadata": {
  "kernelspec": {
   "display_name": "Python 3 (ipykernel)",
   "language": "python",
   "name": "python3"
  },
  "language_info": {
   "codemirror_mode": {
    "name": "ipython",
    "version": 3
   },
   "file_extension": ".py",
   "mimetype": "text/x-python",
   "name": "python",
   "nbconvert_exporter": "python",
   "pygments_lexer": "ipython3",
   "version": "3.9.7"
  }
 },
 "nbformat": 4,
 "nbformat_minor": 1
}
