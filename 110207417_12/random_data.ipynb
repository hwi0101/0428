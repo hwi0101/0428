{
 "cells": [
  {
   "cell_type": "markdown",
   "id": "7932ec2b",
   "metadata": {},
   "source": [
    "# 以下範例為利用 random.choice() 隨機抽取 list 中的資料\n",
    "\n",
    "### 英文名字的寫法：\n",
    "1. **first_name las_name:** 例如 John Smith \n",
    "2. **last_name, first_name:** 例如 Smith, John"
   ]
  },
  {
   "cell_type": "code",
   "execution_count": 2,
   "id": "369323c2",
   "metadata": {},
   "outputs": [
    {
     "name": "stdout",
     "output_type": "stream",
     "text": [
      "full_name:  Ivy Miller\n",
      "full_name:  Olivia Davis\n",
      "full_name:  Isabella Davis\n",
      "full_name:  Lily Miller\n",
      "full_name:  Isla Carcia\n",
      "full_name:  Lily Brown\n",
      "full_name:  Amelia Miller\n",
      "full_name:  Mia Williams\n",
      "full_name:  Lily Brown\n",
      "full_name:  Olivia Smith\n",
      "full_name:  Amelia Jones\n",
      "full_name:  Ava Brown\n",
      "full_name:  Sophie Johnson\n",
      "full_name:  Mia Williams\n",
      "full_name:  Grace Smith\n",
      "full_name:  Isabella Miller\n",
      "full_name:  Lily Carcia\n",
      "full_name:  Isla Carcia\n",
      "full_name:  Olivia Jones\n",
      "full_name:  Isla Carcia\n"
     ]
    }
   ],
   "source": [
    "import random\n",
    "\n",
    "last_names = ['Smith', 'Johnson', 'Williams', 'Brown', 'Jones', 'Carcia', 'Miller', 'Davis']\n",
    "first_names = ['Olivia', 'Amelia', 'Isla', 'Ava', 'Mia', 'Ivy', 'Lily', 'Isabella', 'Rosie', 'Sophie', 'Grace']\n",
    "\n",
    "for i in range(20):\n",
    "    l_name = random.choice(last_names)\n",
    "    f_name = random.choice(first_names)\n",
    "    full_name = '{} {}'.format(f_name, l_name)\n",
    "    \n",
    "    print('full_name: ', full_name)"
   ]
  },
  {
   "cell_type": "markdown",
   "id": "771fa73e",
   "metadata": {},
   "source": [
    "### 將隨機產生的名字寫入檔案"
   ]
  },
  {
   "cell_type": "code",
   "execution_count": 3,
   "id": "14fca5d8",
   "metadata": {},
   "outputs": [
    {
     "name": "stdout",
     "output_type": "stream",
     "text": [
      "full_name:  Williams, Olivia\n",
      "full_name:  Davis, Ava\n",
      "full_name:  Davis, Isabella\n",
      "full_name:  Smith, Lily\n",
      "full_name:  Williams, Sophie\n",
      "full_name:  Miller, Isla\n",
      "full_name:  Carcia, Amelia\n",
      "full_name:  Davis, Amelia\n",
      "full_name:  Smith, Rosie\n",
      "full_name:  Miller, Rosie\n",
      "full_name:  Carcia, Grace\n",
      "full_name:  Jones, Mia\n",
      "full_name:  Miller, Amelia\n",
      "full_name:  Johnson, Lily\n",
      "full_name:  Carcia, Grace\n",
      "full_name:  Brown, Olivia\n",
      "full_name:  Williams, Grace\n",
      "full_name:  Jones, Ava\n",
      "full_name:  Smith, Olivia\n",
      "full_name:  Williams, Mia\n",
      "done\n"
     ]
    }
   ],
   "source": [
    "import random\n",
    "\n",
    "out_file = 'test_names.csv'\n",
    "\n",
    "fout = open(out_file, 'w')   # open file in \"write\" mode\n",
    "\n",
    "last_names = ['Smith', 'Johnson', 'Williams', 'Brown', 'Jones', 'Carcia', 'Miller', 'Davis']\n",
    "first_names = ['Olivia', 'Amelia', 'Isla', 'Ava', 'Mia', 'Ivy', 'Lily', 'Isabella', 'Rosie', 'Sophie', 'Grace']\n",
    "\n",
    "for i in range(20):\n",
    "    l_name = random.choice(last_names)\n",
    "    f_name = random.choice(first_names)\n",
    "    full_name = '{}, {}'.format(l_name, f_name)\n",
    "    \n",
    "    print('full_name: ', full_name)\n",
    "    fout.write('{}\\n'.format(full_name))\n",
    "    \n",
    "fout.close()\n",
    "print('done')"
   ]
  },
  {
   "cell_type": "markdown",
   "id": "b564deaa",
   "metadata": {},
   "source": [
    "### 產生的檔案 'test_names.csv' \n",
    "### 以 Excel 和 Notepad++ 檢視內容\n",
    "\n",
    "<img src=\"test_names.png\">"
   ]
  },
  {
   "cell_type": "markdown",
   "id": "b7870cbe",
   "metadata": {},
   "source": [
    "## <font color=\"red\">練習1</font>\n",
    "\n",
    "1. 測試資料 \"names.csv\" 為美國最常見的人名，三個欄位分別為：女生名字、男生名字、姓氏名稱，請參考下圖。\n",
    "2. 自行寫程式讀取 \"names.csv\"，然後利用 random 模組產生隨機測試資料儲存為 CSV 格式，請參考：\"test_data.csv\"，其內容包括：\n",
    "  1. last name\n",
    "  2. first name\n",
    "  3. 每一位學生選課的成績，3~8門課，每一門課的學分和成績。\n",
    "3. 共150位學生的全名(full name) 由 last name 和 first name (女生與男生) 隨機組成，全名不可以有重複 (提示：可利用dictionary儲存名字，避免有重複的情形)。\n",
    "4. 每一門課的學分數為：1 ~ 4學分，成績為：0 ~ 100，包括選課的數量(3 ~ 8門課)，均為隨機亂數。\n",
    "5. 將輸出的資料檔命名為：\"學號_data.csv\"，例如：\"110207401_data.csv\"，檔案的格式可以參考 \"test_data.csv\" (其中有50位學生的資料)。\n",
    "\n",
    "<font color=\"red\">提示：需要使用 random.choice()，輸出的檔案結束後需呼叫 close() 才能儲存。</font>\n",
    "<img src=\"names.png\">\n",
    "<img src=\"test_data.png\">"
   ]
  },
  {
   "cell_type": "code",
   "execution_count": null,
   "id": "3e6c7986",
   "metadata": {},
   "outputs": [],
   "source": [
    "import random\n",
    "\n",
    "file = open('names.csv', 'w')\n",
    "\n"
   ]
  },
  {
   "cell_type": "markdown",
   "id": "073078cb",
   "metadata": {},
   "source": [
    "## <font color=\"red\">練習2</font>\n",
    "\n",
    "1. 讀取練習1產生的測試資料，計算每一位學生的修課總平均成績，包括兩項：百分制與等第制的成績，請參考 \"成績作業要點.pdf\" (106學年度以後)。\n",
    "2. 總平均成績計算方式為：$平均成績 = 每科（學分 × 成績）的總和 / 總學分$。\n",
    "3. 依據測試資料 \"test_data.csv\" 計算平均成績的結果請參考：\"grade_report.csv\"。\n",
    "4. 依據所有學生的總平均成績(百分制與等第制)畫出 histogram (請參考作業11)。\n",
    "\n",
    "<font color=\"red\">提示：以full name為 key，各科的成績所構成的 list 作為 value，建立一個 dictionary 儲存所有學生的 (key,value) 。</font>\n",
    "<img src=\"grade.png\">\n",
    "<img src=\"grade2.png\">\n"
   ]
  },
  {
   "cell_type": "markdown",
   "id": "eb062732",
   "metadata": {},
   "source": [
    "### 依據測試資料 \"test_data.csv\" 計算總平均的結果請參考：\"grade_report.csv\"\n",
    "\n",
    "<img src=\"grade_report.png\">\n",
    "\n",
    "### 以 full name 排序列印成績的結果如下圖\n",
    "\n",
    "<img src=\"report.png\">\n",
    "\n",
    "### 以測試資料繪圖的結果如下圖\n",
    "\n",
    "<img src=\"grade_hist.png\">"
   ]
  },
  {
   "cell_type": "markdown",
   "id": "6288e3ea",
   "metadata": {},
   "source": [
    "### 以下程式示範如何將繪圖結果儲存為檔案"
   ]
  },
  {
   "cell_type": "code",
   "execution_count": 1,
   "id": "c1c39b91",
   "metadata": {},
   "outputs": [],
   "source": [
    "import matplotlib.pyplot as plt\n",
    "import numpy as np\n",
    "\n",
    "fig = plt.figure(figsize=(18, 6))\n",
    "\n",
    "ax1 = fig.add_subplot(121)\n",
    "ax2 = fig.add_subplot(122)\n",
    "\n",
    "t1 = np.random.randint(1, 7, 6*10**1)\n",
    "ax1.hist(t1,bins=[1,2,3,4,5,6,7])\n",
    "ax1.set_title('N = 60')\n",
    "\n",
    "t2 = np.random.randint(1, 7, 6*10**4)\n",
    "ax2.hist(t2,bins=[1,2,3,4,5,6,7])\n",
    "ax2.set_title('N = 60000')\n",
    "\n",
    "plt.savefig('test_hist.png')\n",
    "plt.close()"
   ]
  },
  {
   "cell_type": "markdown",
   "id": "1d779f96",
   "metadata": {},
   "source": [
    "### 上述程式產生的圖檔\n",
    "\n",
    "<img src=\"test_hist.png\">"
   ]
  },
  {
   "cell_type": "code",
   "execution_count": null,
   "id": "d0668b2d",
   "metadata": {},
   "outputs": [],
   "source": []
  }
 ],
 "metadata": {
  "kernelspec": {
   "display_name": "Python 3 (ipykernel)",
   "language": "python",
   "name": "python3"
  },
  "language_info": {
   "codemirror_mode": {
    "name": "ipython",
    "version": 3
   },
   "file_extension": ".py",
   "mimetype": "text/x-python",
   "name": "python",
   "nbconvert_exporter": "python",
   "pygments_lexer": "ipython3",
   "version": "3.9.7"
  }
 },
 "nbformat": 4,
 "nbformat_minor": 5
}
