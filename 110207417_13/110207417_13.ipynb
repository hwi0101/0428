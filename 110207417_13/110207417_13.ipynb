{
 "cells": [
  {
   "cell_type": "markdown",
   "metadata": {},
   "source": [
    "# Chapter 12\n",
    "# Tuples\n",
    "\n",
    "This chapter presents one more built-in type, the tuple, and then\n",
    "shows how lists, dictionaries, and tuples work together.\n",
    "I also present a useful feature for variable-length argument lists,\n",
    "the gather and scatter operators.\n",
    "\n",
    "One note: there is no consensus on how to pronounce \"tuple\".\n",
    "Some people say \"tuh-ple\", which rhymes with \"supple\".  But\n",
    "in the context of programming, most people say \"too-ple\", which\n",
    "rhymes with \"quadruple\"'.\n"
   ]
  },
  {
   "cell_type": "markdown",
   "metadata": {},
   "source": [
    "## 12.1 Tuples are immutable\n",
    "\n",
    "<font color=\"red\">A tuple is a sequence of values.  The values can be any type, and\n",
    "they are indexed by integers, so in that respect tuples are a lot\n",
    "like lists.  The important difference is that tuples are immutable.</font>\n",
    "\n",
    "Syntactically, a tuple is a comma-separated list of values:\n",
    "\n",
    "```\n",
    ">>> t = 'a', 'b', 'c', 'd', 'e'\n",
    "```\n",
    "\n",
    "Although it is not necessary, it is common to enclose tuples in\n",
    "parentheses:\n",
    "\n",
    "```\n",
    ">>> t = ('a', 'b', 'c', 'd', 'e')\n",
    "```\n",
    "\n",
    "To create a tuple with a single element, you have to include a final\n",
    "comma:\n",
    "\n",
    "```\n",
    ">>> t1 = 'a',\n",
    ">>> type(t1)\n",
    "<class 'tuple'>\n",
    "```\n",
    "\n",
    "A value in parentheses is not a tuple:\n",
    "\n",
    "```\n",
    ">>> t2 = ('a')\n",
    ">>> type(t2)\n",
    "<class 'str'>\n",
    "```\n",
    "\n",
    "Another way to create a tuple is the built-in function `tuple`.\n",
    "With no argument, it creates an empty tuple:\n",
    "\n",
    "```\n",
    ">>> t = tuple()\n",
    ">>> t\n",
    "()\n",
    "```\n",
    "\n",
    "If the argument is a sequence (string, list or tuple), the result\n",
    "is a tuple with the elements of the sequence:\n",
    "\n",
    "```\n",
    ">>> t = tuple('lupins')\n",
    ">>> t\n",
    "('l', 'u', 'p', 'i', 'n', 's')\n",
    "```\n",
    "\n",
    "Because `tuple` is the name of a built-in function, you should\n",
    "avoid using it as a variable name.\n",
    "\n",
    "Most list operators also work on tuples.  The bracket operator\n",
    "indexes an element:\n",
    "\n",
    "```\n",
    ">>> t = ('a', 'b', 'c', 'd', 'e')\n",
    ">>> t[0]\n",
    "'a'\n",
    "```\n",
    "\n",
    "And the slice operator selects a range of elements.\n",
    "\n",
    "```\n",
    ">>> t[1:3]\n",
    "('b', 'c')\n",
    "```\n",
    "\n",
    "But if you try to modify one of the elements of the tuple, you get\n",
    "an error:\n",
    "\n",
    "```\n",
    ">>> t[0] = 'A'\n",
    "TypeError: object doesn't support item assignment\n",
    "```\n",
    "\n",
    "Because tuples are immutable, you can't modify the elements.  But you\n",
    "can replace one tuple with another:\n",
    "\n",
    "```\n",
    ">>> t = ('A',) + t[1:]\n",
    ">>> t\n",
    "('A', 'b', 'c', 'd', 'e')\n",
    "```\n",
    "\n",
    "This statement makes a new tuple and then makes {\\tt t} refer to it.\n",
    "\n",
    "The relational operators work with tuples and other sequences;\n",
    "Python starts by comparing the first element from each\n",
    "sequence.  If they are equal, it goes on to the next elements,\n",
    "and so on, until it finds elements that differ.  Subsequent\n",
    "elements are not considered (even if they are really big).\n",
    "\n",
    "```\n",
    ">>> (0, 1, 2) < (0, 3, 4)\n",
    "True\n",
    ">>> (0, 1, 2000000) < (0, 3, 4)\n",
    "True\n",
    "```"
   ]
  },
  {
   "cell_type": "code",
   "execution_count": 1,
   "metadata": {},
   "outputs": [],
   "source": [
    "t = ('a', 'b', 'c', 'd', 'e')"
   ]
  },
  {
   "cell_type": "code",
   "execution_count": 2,
   "metadata": {},
   "outputs": [
    {
     "data": {
      "text/plain": [
       "('a', 'b', 'c', 'd', 'e')"
      ]
     },
     "execution_count": 2,
     "metadata": {},
     "output_type": "execute_result"
    }
   ],
   "source": [
    "t"
   ]
  },
  {
   "cell_type": "code",
   "execution_count": 3,
   "metadata": {},
   "outputs": [
    {
     "data": {
      "text/plain": [
       "tuple"
      ]
     },
     "execution_count": 3,
     "metadata": {},
     "output_type": "execute_result"
    }
   ],
   "source": [
    "type(t)"
   ]
  },
  {
   "cell_type": "code",
   "execution_count": 4,
   "metadata": {},
   "outputs": [
    {
     "data": {
      "text/plain": [
       "list"
      ]
     },
     "execution_count": 4,
     "metadata": {},
     "output_type": "execute_result"
    }
   ],
   "source": [
    "t2 = ['a', 'b', 'c', 'd', 'e']\n",
    "type(t2)"
   ]
  },
  {
   "cell_type": "code",
   "execution_count": 5,
   "metadata": {},
   "outputs": [
    {
     "data": {
      "text/plain": [
       "['a', 'b', 'c', 'd', 'e']"
      ]
     },
     "execution_count": 5,
     "metadata": {},
     "output_type": "execute_result"
    }
   ],
   "source": [
    "t2"
   ]
  },
  {
   "cell_type": "code",
   "execution_count": 6,
   "metadata": {},
   "outputs": [
    {
     "name": "stdout",
     "output_type": "stream",
     "text": [
      "<class 'str'> a\n",
      "<class 'tuple'> ('a',)\n"
     ]
    }
   ],
   "source": [
    "t3 = 'a'\n",
    "print(type(t3), t3)\n",
    "t4 = 'a',\n",
    "print(type(t4), t4)"
   ]
  },
  {
   "cell_type": "code",
   "execution_count": 7,
   "metadata": {},
   "outputs": [
    {
     "data": {
      "text/plain": [
       "str"
      ]
     },
     "execution_count": 7,
     "metadata": {},
     "output_type": "execute_result"
    }
   ],
   "source": [
    "type(t3)"
   ]
  },
  {
   "cell_type": "code",
   "execution_count": 9,
   "metadata": {},
   "outputs": [],
   "source": [
    "t2[0] = 'AA'"
   ]
  },
  {
   "cell_type": "code",
   "execution_count": 11,
   "metadata": {},
   "outputs": [
    {
     "data": {
      "text/plain": [
       "['AA', 'b', 'c', 'd', 'e']"
      ]
     },
     "execution_count": 11,
     "metadata": {},
     "output_type": "execute_result"
    }
   ],
   "source": [
    "t2"
   ]
  },
  {
   "cell_type": "code",
   "execution_count": 12,
   "metadata": {},
   "outputs": [
    {
     "data": {
      "text/plain": [
       "('a', 'b', 'c', 'd', 'e')"
      ]
     },
     "execution_count": 12,
     "metadata": {},
     "output_type": "execute_result"
    }
   ],
   "source": [
    "t"
   ]
  },
  {
   "cell_type": "code",
   "execution_count": 13,
   "metadata": {},
   "outputs": [
    {
     "ename": "TypeError",
     "evalue": "'tuple' object does not support item assignment",
     "output_type": "error",
     "traceback": [
      "\u001b[1;31m---------------------------------------------------------------------------\u001b[0m",
      "\u001b[1;31mTypeError\u001b[0m                                 Traceback (most recent call last)",
      "\u001b[1;32m<ipython-input-13-5583354d1ca0>\u001b[0m in \u001b[0;36m<module>\u001b[1;34m\u001b[0m\n\u001b[1;32m----> 1\u001b[1;33m \u001b[0mt\u001b[0m\u001b[1;33m[\u001b[0m\u001b[1;36m0\u001b[0m\u001b[1;33m]\u001b[0m \u001b[1;33m=\u001b[0m \u001b[1;34m'AA'\u001b[0m\u001b[1;33m\u001b[0m\u001b[1;33m\u001b[0m\u001b[0m\n\u001b[0m",
      "\u001b[1;31mTypeError\u001b[0m: 'tuple' object does not support item assignment"
     ]
    }
   ],
   "source": [
    "t[0] = 'AA'"
   ]
  },
  {
   "cell_type": "code",
   "execution_count": 15,
   "metadata": {},
   "outputs": [
    {
     "name": "stdout",
     "output_type": "stream",
     "text": [
      "('A', 'b', 'c', 'd', 'e')\n"
     ]
    }
   ],
   "source": [
    "t = ('A',) + t[1:]\n",
    "print(t)"
   ]
  },
  {
   "cell_type": "code",
   "execution_count": 16,
   "metadata": {},
   "outputs": [
    {
     "data": {
      "text/plain": [
       "True"
      ]
     },
     "execution_count": 16,
     "metadata": {},
     "output_type": "execute_result"
    }
   ],
   "source": [
    "(0, 1, 2) < (0, 3, 4)"
   ]
  },
  {
   "cell_type": "code",
   "execution_count": 17,
   "metadata": {},
   "outputs": [
    {
     "data": {
      "text/plain": [
       "True"
      ]
     },
     "execution_count": 17,
     "metadata": {},
     "output_type": "execute_result"
    }
   ],
   "source": [
    "(0, 1, 2000000) < (0, 3, 4)"
   ]
  },
  {
   "cell_type": "markdown",
   "metadata": {},
   "source": [
    "## 12.2 Tuple assignment\n",
    "\n",
    "\n",
    "It is often useful to swap the values of two variables.\n",
    "With conventional assignments, you have to use a temporary\n",
    "variable.  For example, to swap `a` and `b`:\n",
    "\n",
    "```\n",
    ">>> temp = a\n",
    ">>> a = b\n",
    ">>> b = temp\n",
    "```\n",
    "\n",
    "This solution is cumbersome; `tuple assignment` is more elegant:\n",
    "\n",
    "```\n",
    ">>> a, b = b, a\n",
    "```\n",
    "\n",
    "The left side is a tuple of variables; the right side is a tuple of\n",
    "expressions.  Each value is assigned to its respective variable.  \n",
    "All the expressions on the right side are evaluated before any\n",
    "of the assignments.\n",
    "\n",
    "The number of variables on the left and the number of\n",
    "values on the right have to be the same:\n",
    "\n",
    "```\n",
    ">>> a, b = 1, 2, 3\n",
    "ValueError: too many values to unpack\n",
    "```\n",
    "\n",
    "More generally, the right side can be any kind of sequence\n",
    "(string, list or tuple).  For example, to split an email address\n",
    "into a user name and a domain, you could write:\n",
    "\n",
    "```\n",
    ">>> addr = 'monty@python.org'\n",
    ">>> uname, domain = addr.split('@')\n",
    "```\n",
    "\n",
    "The return value from `split` is a list with two elements;\n",
    "the first element is assigned to `uname`, the second to\n",
    "`domain`.\n",
    "\n",
    "```\n",
    ">>> uname\n",
    "'monty'\n",
    ">>> domain\n",
    "'python.org'\n",
    "```"
   ]
  },
  {
   "cell_type": "code",
   "execution_count": 21,
   "metadata": {},
   "outputs": [
    {
     "name": "stdout",
     "output_type": "stream",
     "text": [
      "5 3\n"
     ]
    }
   ],
   "source": [
    "a = 3\n",
    "b = 5\n",
    "a, b = b, a\n",
    "print(a, b)"
   ]
  },
  {
   "cell_type": "code",
   "execution_count": 20,
   "metadata": {},
   "outputs": [
    {
     "ename": "ValueError",
     "evalue": "too many values to unpack (expected 2)",
     "output_type": "error",
     "traceback": [
      "\u001b[1;31m---------------------------------------------------------------------------\u001b[0m",
      "\u001b[1;31mValueError\u001b[0m                                Traceback (most recent call last)",
      "\u001b[1;32m<ipython-input-20-8904fd2ea925>\u001b[0m in \u001b[0;36m<module>\u001b[1;34m\u001b[0m\n\u001b[1;32m----> 1\u001b[1;33m \u001b[0ma\u001b[0m\u001b[1;33m,\u001b[0m \u001b[0mb\u001b[0m \u001b[1;33m=\u001b[0m \u001b[1;36m1\u001b[0m\u001b[1;33m,\u001b[0m \u001b[1;36m2\u001b[0m\u001b[1;33m,\u001b[0m \u001b[1;36m3\u001b[0m\u001b[1;33m\u001b[0m\u001b[1;33m\u001b[0m\u001b[0m\n\u001b[0m",
      "\u001b[1;31mValueError\u001b[0m: too many values to unpack (expected 2)"
     ]
    }
   ],
   "source": [
    "a, b = 1, 2, 3"
   ]
  },
  {
   "cell_type": "code",
   "execution_count": 18,
   "metadata": {},
   "outputs": [
    {
     "name": "stdout",
     "output_type": "stream",
     "text": [
      "<class 'list'> ['monty', 'python.org']\n"
     ]
    }
   ],
   "source": [
    "addr = 'monty@python.org'\n",
    "t = addr.split('@')\n",
    "print(type(t), t)"
   ]
  },
  {
   "cell_type": "code",
   "execution_count": 19,
   "metadata": {},
   "outputs": [
    {
     "name": "stdout",
     "output_type": "stream",
     "text": [
      "monty python.org\n",
      "<class 'str'> <class 'str'>\n"
     ]
    }
   ],
   "source": [
    "uname, domain = addr.split('@')\n",
    "print(uname, domain)\n",
    "print(type(uname), type(domain))"
   ]
  },
  {
   "cell_type": "markdown",
   "metadata": {},
   "source": [
    "## 12.3 Tuples as return values\n",
    "\n",
    "Strictly speaking, a function can only return one value, but\n",
    "if the value is a tuple, the effect is the same as returning\n",
    "multiple values.  For example, if you want to divide two integers\n",
    "and compute the quotient and remainder, it is inefficient to\n",
    "compute `x//y` and then `x%y`.  It is better to compute\n",
    "them both at the same time.\n",
    "\n",
    "The built-in function `divmod` takes two arguments and\n",
    "returns a tuple of two values, the quotient and remainder.\n",
    "You can store the result as a tuple:\n",
    "\n",
    "```\n",
    ">>> t = divmod(7, 3)\n",
    ">>> t\n",
    "(2, 1)\n",
    "```\n",
    "\n",
    "Or use tuple assignment to store the elements separately:\n",
    "\n",
    "```\n",
    ">>> quot, rem = divmod(7, 3)\n",
    ">>> quot\n",
    "2\n",
    ">>> rem\n",
    "1\n",
    "```\n",
    "\n",
    "Here is an example of a function that returns a tuple:\n",
    "\n",
    "```\n",
    "def min_max(t):\n",
    "    return min(t), max(t)\n",
    "```\n",
    "\n",
    "`max` and `min` are built-in functions that find\n",
    "the largest and smallest elements of a sequence.  `min_max`\n",
    "computes both and returns a tuple of two values."
   ]
  },
  {
   "cell_type": "code",
   "execution_count": 22,
   "metadata": {},
   "outputs": [
    {
     "name": "stdout",
     "output_type": "stream",
     "text": [
      "(2, 1)\n",
      "<class 'tuple'>\n"
     ]
    }
   ],
   "source": [
    "t = divmod(7, 3)\n",
    "print(t)\n",
    "print(type(t))"
   ]
  },
  {
   "cell_type": "code",
   "execution_count": 23,
   "metadata": {},
   "outputs": [
    {
     "name": "stdout",
     "output_type": "stream",
     "text": [
      "2 1\n",
      "<class 'int'> <class 'int'>\n"
     ]
    }
   ],
   "source": [
    "quot, rem = divmod(7, 3)\n",
    "print(quot, rem)\n",
    "print(type(quot),type(rem))"
   ]
  },
  {
   "cell_type": "code",
   "execution_count": 24,
   "metadata": {},
   "outputs": [
    {
     "name": "stdout",
     "output_type": "stream",
     "text": [
      "[1, 3, 5, 7, 8, 6, 4, 2] 1 8\n"
     ]
    }
   ],
   "source": [
    "def min_max(t):\n",
    "    # max and min are built-in functions that find the largest and smallest elements of a sequence\n",
    "    return min(t), max(t)\n",
    "\n",
    "a = [1,3,5,7, 8,6,4,2]\n",
    "b,c = min_max(a)\n",
    "print(a, b, c)"
   ]
  },
  {
   "cell_type": "markdown",
   "metadata": {},
   "source": [
    "## 12.4 Variable-length argument tuples\n",
    "\n",
    "Functions can take a variable number of arguments.  A parameter\n",
    "name that begins with `*` **gathers** arguments into\n",
    "a tuple.  For example, `printall`\n",
    "takes any number of arguments and prints them:\n",
    "\n",
    "```\n",
    "def printall(*args):\n",
    "    print(args)\n",
    "```\n",
    "\n",
    "The gather parameter can have any name you like, but `args` is\n",
    "conventional.  Here's how the function works:\n",
    "\n",
    "```\n",
    ">>> printall(1, 2.0, '3')\n",
    "(1, 2.0, '3')\n",
    "```\n",
    "\n",
    "The complement of gather is **scatter**.  If you have a\n",
    "sequence of values and you want to pass it to a function\n",
    "as multiple arguments, you can use the `*` operator.\n",
    "For example, `divmod` takes exactly two arguments; it\n",
    "doesn't work with a tuple:\n",
    "\n",
    "```\n",
    ">>> t = (7, 3)\n",
    ">>> divmod(t)\n",
    "TypeError: divmod expected 2 arguments, got 1\n",
    "```\n",
    "\n",
    "But if you scatter the tuple, it works:\n",
    "\n",
    "```\n",
    ">>> divmod(*t)\n",
    "(2, 1)\n",
    "```\n",
    "\n",
    "Many of the built-in functions use\n",
    "variable-length argument tuples.  For example, `max`\n",
    "and `min` can take any number of arguments:\n",
    "\n",
    "```\n",
    ">>> max(1, 2, 3)\n",
    "3\n",
    "```\n",
    "\n",
    "But `sum` does not.\n",
    "\n",
    "```\n",
    ">>> sum(1, 2, 3)\n",
    "TypeError: sum expected at most 2 arguments, got 3\n",
    "```\n",
    "\n",
    "As an exercise, write a function called `sum_all` that takes any number\n",
    "of arguments and returns their sum.\n"
   ]
  },
  {
   "cell_type": "code",
   "execution_count": 28,
   "metadata": {},
   "outputs": [
    {
     "name": "stdout",
     "output_type": "stream",
     "text": [
      "<class 'tuple'>\n",
      "('a', 'b', 1, 2)\n"
     ]
    }
   ],
   "source": [
    "def printall(*args):\n",
    "    print(type(args))\n",
    "    print(args)\n",
    "    \n",
    "printall(\"a\", \"b\", 1, 2)"
   ]
  },
  {
   "cell_type": "code",
   "execution_count": 29,
   "metadata": {},
   "outputs": [
    {
     "name": "stdout",
     "output_type": "stream",
     "text": [
      "<class 'tuple'>\n",
      "(['a', 'b', 'c'], 1, 2)\n"
     ]
    }
   ],
   "source": [
    "printall([\"a\", \"b\", \"c\"], 1, 2)"
   ]
  },
  {
   "cell_type": "code",
   "execution_count": 30,
   "metadata": {},
   "outputs": [
    {
     "name": "stdout",
     "output_type": "stream",
     "text": [
      "length of args =  4\n",
      "('a', 'b', 1, 2)\n",
      "length of args =  3\n",
      "(['a', 'b', 'c'], 1, 2)\n"
     ]
    }
   ],
   "source": [
    "def printall(*args):\n",
    "    print('length of args = ', len(args))\n",
    "    print(args)\n",
    "    \n",
    "printall(\"a\", \"b\", 1, 2)\n",
    "printall([\"a\", \"b\", \"c\"], 1, 2)"
   ]
  },
  {
   "cell_type": "code",
   "execution_count": 33,
   "metadata": {},
   "outputs": [
    {
     "data": {
      "text/plain": [
       "(2, 1)"
      ]
     },
     "execution_count": 33,
     "metadata": {},
     "output_type": "execute_result"
    }
   ],
   "source": [
    "divmod(7,3)"
   ]
  },
  {
   "cell_type": "code",
   "execution_count": 34,
   "metadata": {},
   "outputs": [
    {
     "ename": "TypeError",
     "evalue": "divmod expected 2 arguments, got 1",
     "output_type": "error",
     "traceback": [
      "\u001b[1;31m---------------------------------------------------------------------------\u001b[0m",
      "\u001b[1;31mTypeError\u001b[0m                                 Traceback (most recent call last)",
      "\u001b[1;32m<ipython-input-34-d97d733f8714>\u001b[0m in \u001b[0;36m<module>\u001b[1;34m\u001b[0m\n\u001b[0;32m      1\u001b[0m \u001b[0mt\u001b[0m \u001b[1;33m=\u001b[0m \u001b[1;33m(\u001b[0m\u001b[1;36m7\u001b[0m\u001b[1;33m,\u001b[0m\u001b[1;36m3\u001b[0m\u001b[1;33m)\u001b[0m\u001b[1;33m\u001b[0m\u001b[1;33m\u001b[0m\u001b[0m\n\u001b[1;32m----> 2\u001b[1;33m \u001b[0mdivmod\u001b[0m\u001b[1;33m(\u001b[0m\u001b[0mt\u001b[0m\u001b[1;33m)\u001b[0m\u001b[1;33m\u001b[0m\u001b[1;33m\u001b[0m\u001b[0m\n\u001b[0m",
      "\u001b[1;31mTypeError\u001b[0m: divmod expected 2 arguments, got 1"
     ]
    }
   ],
   "source": [
    "t = (7,3)\n",
    "divmod(t)"
   ]
  },
  {
   "cell_type": "code",
   "execution_count": 35,
   "metadata": {},
   "outputs": [
    {
     "data": {
      "text/plain": [
       "(2, 1)"
      ]
     },
     "execution_count": 35,
     "metadata": {},
     "output_type": "execute_result"
    }
   ],
   "source": [
    "divmod(*t)"
   ]
  },
  {
   "cell_type": "code",
   "execution_count": 36,
   "metadata": {},
   "outputs": [
    {
     "data": {
      "text/plain": [
       "3"
      ]
     },
     "execution_count": 36,
     "metadata": {},
     "output_type": "execute_result"
    }
   ],
   "source": [
    "max(1, 2, 3)"
   ]
  },
  {
   "cell_type": "code",
   "execution_count": 37,
   "metadata": {},
   "outputs": [
    {
     "ename": "TypeError",
     "evalue": "sum() takes at most 2 arguments (3 given)",
     "output_type": "error",
     "traceback": [
      "\u001b[1;31m---------------------------------------------------------------------------\u001b[0m",
      "\u001b[1;31mTypeError\u001b[0m                                 Traceback (most recent call last)",
      "\u001b[1;32m<ipython-input-37-c44a16fb57bf>\u001b[0m in \u001b[0;36m<module>\u001b[1;34m\u001b[0m\n\u001b[1;32m----> 1\u001b[1;33m \u001b[0msum\u001b[0m\u001b[1;33m(\u001b[0m\u001b[1;36m1\u001b[0m\u001b[1;33m,\u001b[0m \u001b[1;36m2\u001b[0m\u001b[1;33m,\u001b[0m \u001b[1;36m3\u001b[0m\u001b[1;33m)\u001b[0m\u001b[1;33m\u001b[0m\u001b[1;33m\u001b[0m\u001b[0m\n\u001b[0m",
      "\u001b[1;31mTypeError\u001b[0m: sum() takes at most 2 arguments (3 given)"
     ]
    }
   ],
   "source": [
    "sum(1, 2, 3)"
   ]
  },
  {
   "cell_type": "markdown",
   "metadata": {},
   "source": [
    "### Positional argument and keyword argument\n",
    "\n",
    "A **positional arguments (位置的引數)** is a name that is not followed by an equal sign (=) and default value. A **keyword argument (關鍵字引數)** is followed by an equal sign and an expression that gives its default value."
   ]
  },
  {
   "cell_type": "code",
   "execution_count": 25,
   "metadata": {},
   "outputs": [
    {
     "name": "stdout",
     "output_type": "stream",
     "text": [
      "a = 3\n",
      "b = 5\n",
      "(a,b) =  (3, 5) <class 'tuple'>\n"
     ]
    }
   ],
   "source": [
    "def fun(a, b):\n",
    "    print('a =', a)\n",
    "    print('b =', b)\n",
    "    print('(a,b) = ', (a,b), type((a,b)))\n",
    "    \n",
    "x, y = 3, 5\n",
    "fun(x,y)"
   ]
  },
  {
   "cell_type": "code",
   "execution_count": 26,
   "metadata": {},
   "outputs": [
    {
     "name": "stdout",
     "output_type": "stream",
     "text": [
      "a = 3\n",
      "b = 5\n",
      "(a,b) =  (3, 5) <class 'tuple'>\n"
     ]
    },
    {
     "ename": "TypeError",
     "evalue": "fun() missing 1 required positional argument: 'b'",
     "output_type": "error",
     "traceback": [
      "\u001b[1;31m---------------------------------------------------------------------------\u001b[0m",
      "\u001b[1;31mTypeError\u001b[0m                                 Traceback (most recent call last)",
      "\u001b[1;32m<ipython-input-26-ffe4b2fa921c>\u001b[0m in \u001b[0;36m<module>\u001b[1;34m\u001b[0m\n\u001b[0;32m      6\u001b[0m \u001b[0mx\u001b[0m\u001b[1;33m,\u001b[0m \u001b[0my\u001b[0m \u001b[1;33m=\u001b[0m \u001b[1;36m3\u001b[0m\u001b[1;33m,\u001b[0m \u001b[1;36m5\u001b[0m\u001b[1;33m\u001b[0m\u001b[1;33m\u001b[0m\u001b[0m\n\u001b[0;32m      7\u001b[0m \u001b[0mfun\u001b[0m\u001b[1;33m(\u001b[0m\u001b[0mx\u001b[0m\u001b[1;33m,\u001b[0m\u001b[0my\u001b[0m\u001b[1;33m)\u001b[0m\u001b[1;33m\u001b[0m\u001b[1;33m\u001b[0m\u001b[0m\n\u001b[1;32m----> 8\u001b[1;33m \u001b[0mfun\u001b[0m\u001b[1;33m(\u001b[0m\u001b[0mx\u001b[0m\u001b[1;33m)\u001b[0m\u001b[1;33m\u001b[0m\u001b[1;33m\u001b[0m\u001b[0m\n\u001b[0m",
      "\u001b[1;31mTypeError\u001b[0m: fun() missing 1 required positional argument: 'b'"
     ]
    }
   ],
   "source": [
    "def fun(a, b):\n",
    "    print('a =', a)\n",
    "    print('b =', b)\n",
    "    print('(a,b) = ', (a,b), type((a,b)))\n",
    "    \n",
    "x, y = 3, 5\n",
    "fun(x,y)\n",
    "fun(x)"
   ]
  },
  {
   "cell_type": "code",
   "execution_count": 27,
   "metadata": {},
   "outputs": [
    {
     "name": "stdout",
     "output_type": "stream",
     "text": [
      "a = 5\n",
      "b = 999\n",
      "a = 5\n",
      "b = 10\n"
     ]
    }
   ],
   "source": [
    "def fun(a, b=999):\n",
    "    print('a =', a)\n",
    "    print('b =', b)\n",
    "    \n",
    "fun(5)\n",
    "fun(5,10)"
   ]
  },
  {
   "cell_type": "code",
   "execution_count": 13,
   "metadata": {},
   "outputs": [
    {
     "name": "stdout",
     "output_type": "stream",
     "text": [
      "a = 123\n",
      "b = 999\n",
      "a = 5\n",
      "b = 999\n",
      "a = 5\n",
      "b = 10\n",
      "a = 2\n",
      "b = 3\n"
     ]
    }
   ],
   "source": [
    "def fun(a=123, b=999):\n",
    "    print('a =', a)\n",
    "    print('b =', b)\n",
    "    \n",
    "fun()\n",
    "fun(5)\n",
    "fun(5,10)\n",
    "fun(b=3, a=2)"
   ]
  },
  {
   "cell_type": "code",
   "execution_count": 31,
   "metadata": {},
   "outputs": [
    {
     "name": "stdout",
     "output_type": "stream",
     "text": [
      "a =  5\n",
      "b =  6\n",
      "a =  5\n",
      "b =  0\n"
     ]
    }
   ],
   "source": [
    "def fun2(a, b = 0):\n",
    "    print('a = ', a)\n",
    "    print('b = ', b)\n",
    "    \n",
    "fun2(5, 6)\n",
    "fun2(5)"
   ]
  },
  {
   "cell_type": "code",
   "execution_count": 32,
   "metadata": {},
   "outputs": [
    {
     "name": "stdout",
     "output_type": "stream",
     "text": [
      "Peter 5 (1, 2, 3)\n",
      "Peter 0 ()\n",
      "Peter 5 ()\n",
      "Peter 5 (1, 2.5)\n"
     ]
    }
   ],
   "source": [
    "# You can combine the gather operator with required and positional arguments:\n",
    "\n",
    "def pointless(required, optional=0, *args):\n",
    "    print(required, optional, args)\n",
    "    \n",
    "pointless('Peter', 5, 1, 2, 3)\n",
    "pointless('Peter')\n",
    "pointless('Peter', 5)\n",
    "pointless('Peter', 5, 1, 2.5)"
   ]
  },
  {
   "cell_type": "markdown",
   "metadata": {},
   "source": [
    "## 12.5 Lists and tuples\n",
    "\n",
    "**zip** is a built-in function that takes two or more sequences and\n",
    "interleaves them.  The name of the function refers to\n",
    "a zipper (拉鍊), which interleaves two rows of teeth.\n",
    "\n",
    "This example zips a string and a list:\n",
    "\n",
    "```\n",
    ">>> s = 'abc'\n",
    ">>> t = [0, 1, 2]\n",
    ">>> zip(s, t)\n",
    "<zip object at 0x7f7d0a9e7c48>\n",
    "```\n",
    "\n",
    "The result is a **zip object** that knows how to iterate through\n",
    "the pairs.  The most common use of `zip` is in a `for` loop:\n",
    "\n",
    "```\n",
    ">>> for pair in zip(s, t):\n",
    "...     print(pair)\n",
    "...\n",
    "('a', 0)\n",
    "('b', 1)\n",
    "('c', 2)\n",
    "```\n",
    "\n",
    "A zip object is a kind of **iterator (迭代器)**, which is any object\n",
    "that iterates through a sequence.  Iterators are similar to lists in some\n",
    "ways, but unlike lists, you can't use an index to select an element from\n",
    "an iterator.\n",
    "\n",
    "If you want to use list operators and methods, you can\n",
    "use a zip object to make a list:\n",
    "\n",
    "```\n",
    ">>> list(zip(s, t))\n",
    "[('a', 0), ('b', 1), ('c', 2)]\n",
    "```\n",
    "\n",
    "The result is a list of tuples; in this example, each tuple contains\n",
    "a character from the string and the corresponding element from\n",
    "the list.\n",
    "\n",
    "If the sequences are not the same length, the result has the\n",
    "length of the shorter one.\n",
    "\n",
    "```\n",
    ">>> list(zip('Anne', 'Elk'))\n",
    "[('A', 'E'), ('n', 'l'), ('n', 'k')]\n",
    "```\n",
    "\n",
    "You can use tuple assignment in a `for` loop to traverse a list of\n",
    "tuples:\n",
    "\n",
    "```\n",
    "t = [('a', 0), ('b', 1), ('c', 2)]\n",
    "for letter, number in t:\n",
    "    print(number, letter)\n",
    "```\n",
    "\n",
    "Each time through the loop, Python selects the next tuple in\n",
    "the list and assigns the elements to `letter` and \n",
    "`number`.  The output of this loop is:\n",
    "\n",
    "```\n",
    "0 a\n",
    "1 b\n",
    "2 c\n",
    "```\n",
    "\n",
    "If you combine `zip`, `for` and tuple assignment, you get a\n",
    "useful idiom for traversing two (or more) sequences at the same\n",
    "time.  For example, `has_match` takes two sequences, `t1` and\n",
    "`t2`, and returns `True` if there is an index `i`\n",
    "such that `t1[i] == t2[i]`:\n",
    "\n",
    "```\n",
    "def has_match(t1, t2):\n",
    "    for x, y in zip(t1, t2):\n",
    "        if x == y:\n",
    "            return True\n",
    "    return False\n",
    "```\n",
    "\n",
    "If you need to traverse the elements of a sequence and their\n",
    "indices, you can use the built-in function `enumerate` (列舉):\n",
    "\n",
    "```\n",
    "for index, element in enumerate('abc'):\n",
    "    print(index, element)\n",
    "```\n",
    "\n",
    "The result from `enumerate` is an enumerate object, which\n",
    "iterates a sequence of pairs; each pair contains an index (starting\n",
    "from 0) and an element from the given sequence.\n",
    "In this example, the output is\n",
    "\n",
    "```\n",
    "0 a\n",
    "1 b\n",
    "2 c\n",
    "```\n",
    "\n",
    "Again."
   ]
  },
  {
   "cell_type": "code",
   "execution_count": 38,
   "metadata": {},
   "outputs": [
    {
     "data": {
      "text/plain": [
       "<zip at 0x1cff2463f80>"
      ]
     },
     "execution_count": 38,
     "metadata": {},
     "output_type": "execute_result"
    }
   ],
   "source": [
    "s = 'abc'\n",
    "t = [0, 1, 2]\n",
    "zip(s,t)"
   ]
  },
  {
   "cell_type": "code",
   "execution_count": 39,
   "metadata": {},
   "outputs": [
    {
     "name": "stdout",
     "output_type": "stream",
     "text": [
      "('a', 0)\n",
      "('b', 1)\n",
      "('c', 2)\n"
     ]
    }
   ],
   "source": [
    "for pair in zip(s,t):\n",
    "    print(pair)"
   ]
  },
  {
   "cell_type": "code",
   "execution_count": 40,
   "metadata": {},
   "outputs": [
    {
     "data": {
      "text/plain": [
       "[('a', 0), ('b', 1), ('c', 2)]"
      ]
     },
     "execution_count": 40,
     "metadata": {},
     "output_type": "execute_result"
    }
   ],
   "source": [
    "list(zip(s, t))"
   ]
  },
  {
   "cell_type": "code",
   "execution_count": 41,
   "metadata": {},
   "outputs": [
    {
     "data": {
      "text/plain": [
       "[('A', 'E'), ('n', 'l'), ('n', 'k')]"
      ]
     },
     "execution_count": 41,
     "metadata": {},
     "output_type": "execute_result"
    }
   ],
   "source": [
    "list(zip('Anne', 'Elk'))"
   ]
  },
  {
   "cell_type": "code",
   "execution_count": 44,
   "metadata": {},
   "outputs": [
    {
     "name": "stdout",
     "output_type": "stream",
     "text": [
      "<class 'zip'>\n",
      "('a', 0, 3.0)\n",
      "('b', 1, 4.0)\n",
      "('c', 2, 5.9)\n"
     ]
    }
   ],
   "source": [
    "s = 'abc'\n",
    "t = [0, 1, 2]\n",
    "a = [3.0, 4.0, 5.9]\n",
    "x = zip(s,t,a)\n",
    "print(type(x))\n",
    "\n",
    "for i in x:\n",
    "    print(i)"
   ]
  },
  {
   "cell_type": "code",
   "execution_count": 42,
   "metadata": {
    "scrolled": true
   },
   "outputs": [
    {
     "name": "stdout",
     "output_type": "stream",
     "text": [
      "0 a\n",
      "1 b\n",
      "2 c\n"
     ]
    }
   ],
   "source": [
    "t = [('a', 0), ('b', 1), ('c', 2)]\n",
    "for letter, number in t:\n",
    "    print(number, letter)"
   ]
  },
  {
   "cell_type": "markdown",
   "metadata": {},
   "source": [
    "### 以 zip 將兩個序列資料配對然後進行比較"
   ]
  },
  {
   "cell_type": "code",
   "execution_count": 46,
   "metadata": {},
   "outputs": [
    {
     "data": {
      "text/plain": [
       "True"
      ]
     },
     "execution_count": 46,
     "metadata": {},
     "output_type": "execute_result"
    }
   ],
   "source": [
    "def has_match(t1, t2):\n",
    "    for x, y in zip(t1, t2):\n",
    "        if x == y:\n",
    "            return True\n",
    "    return False\n",
    "\n",
    "a = [1,2,3]\n",
    "b = [4,5,3]\n",
    "has_match(a,b)"
   ]
  },
  {
   "cell_type": "markdown",
   "metadata": {},
   "source": [
    "### 以 list 將兩個序列資料配對然後進行比較"
   ]
  },
  {
   "cell_type": "code",
   "execution_count": 47,
   "metadata": {},
   "outputs": [
    {
     "data": {
      "text/plain": [
       "False"
      ]
     },
     "execution_count": 47,
     "metadata": {},
     "output_type": "execute_result"
    }
   ],
   "source": [
    "def has_match2(t1, t2):\n",
    "    n1 = len(t1)\n",
    "    n2 = len(t2)\n",
    "    if n1 > n2:\n",
    "        num = n2\n",
    "    else:\n",
    "        num = n1\n",
    "    for i in range(num):\n",
    "        if t1[i] == t2[i]:\n",
    "            return True\n",
    "    return False\n",
    "\n",
    "a = [1,2,3,4,5]\n",
    "b = [4,5,5,2]\n",
    "has_match2(a,b)\n"
   ]
  },
  {
   "cell_type": "code",
   "execution_count": 52,
   "metadata": {},
   "outputs": [
    {
     "name": "stdout",
     "output_type": "stream",
     "text": [
      "t =  <zip object at 0x000001F6B0274708>\n",
      "count = 0\n",
      "count = 1\n",
      "True\n"
     ]
    }
   ],
   "source": [
    "def has_match(t1, t2):\n",
    "    t = zip(t1, t2)\n",
    "    print('t = ', t)\n",
    "    count = 0\n",
    "    for x, y in t:\n",
    "        print(\"count =\", count)\n",
    "        if x == y:\n",
    "            return True\n",
    "        count += 1\n",
    "    return False\n",
    "\n",
    "a = [1,5,3]\n",
    "b = [4,5,6]\n",
    "print(has_match(a,b))"
   ]
  },
  {
   "cell_type": "code",
   "execution_count": 49,
   "metadata": {},
   "outputs": [
    {
     "name": "stdout",
     "output_type": "stream",
     "text": [
      "<enumerate object at 0x000001CFF2474D00>\n"
     ]
    }
   ],
   "source": [
    "t = enumerate('abc')\n",
    "print(t)"
   ]
  },
  {
   "cell_type": "code",
   "execution_count": 50,
   "metadata": {},
   "outputs": [
    {
     "name": "stdout",
     "output_type": "stream",
     "text": [
      "0 a\n",
      "1 b\n",
      "2 c\n"
     ]
    }
   ],
   "source": [
    "for index, element in enumerate('abc'):\n",
    "    print(index, element)\n",
    "    "
   ]
  },
  {
   "cell_type": "markdown",
   "metadata": {},
   "source": [
    "## 12.6 Dictionaries and tuples\n",
    "\n",
    "Dictionaries have a method called `items` that returns a sequence of\n",
    "tuples, where each tuple is a key-value pair.\n",
    "\n",
    "```\n",
    ">>> d = {'a':0, 'b':1, 'c':2}\n",
    ">>> t = d.items()\n",
    ">>> t\n",
    "dict_items([('c', 2), ('a', 0), ('b', 1)])\n",
    "```\n",
    "\n",
    "The result is a `dict_items` object, which is an iterator that\n",
    "iterates the key-value pairs.  You can use it in a `for` loop\n",
    "like this:\n",
    "\n",
    "```\n",
    ">>> for key, value in d.items():\n",
    "...     print(key, value)\n",
    "...\n",
    "c 2\n",
    "a 0\n",
    "b 1\n",
    "```\n",
    "\n",
    "As you should expect from a dictionary, the items are in no\n",
    "particular order.\n",
    "\n",
    "Going in the other direction, you can use a list of tuples to\n",
    "initialize a new dictionary:\n",
    "\n",
    "```\n",
    ">>> t = [('a', 0), ('c', 2), ('b', 1)]\n",
    ">>> d = dict(t)\n",
    ">>> d\n",
    "{'a': 0, 'c': 2, 'b': 1}\n",
    "```\n",
    "\n",
    "Combining `dict` with `zip` yields a concise way\n",
    "to create a dictionary:\n",
    "\n",
    "```\n",
    ">>> d = dict(zip('abc', range(3)))\n",
    ">>> d\n",
    "{'a': 0, 'c': 2, 'b': 1}\n",
    "```\n",
    "\n",
    "The dictionary method `update` also takes a list of tuples\n",
    "and adds them, as key-value pairs, to an existing dictionary.\n",
    "\n",
    "It is common to use tuples as keys in dictionaries (primarily because\n",
    "you can't use lists).  For example, a telephone directory might map\n",
    "from last-name, first-name pairs to telephone numbers.  Assuming\n",
    "that we have defined `last`, `first` and `number`, we\n",
    "could write:\n",
    "\n",
    "```\n",
    "directory[last, first] = number\n",
    "```\n",
    "\n",
    "The expression in brackets is a tuple.  We could use tuple\n",
    "assignment to traverse this dictionary.\n",
    "\n",
    "```\n",
    "for last, first in directory:\n",
    "    print(first, last, directory[last,first])\n",
    "```\n",
    "\n",
    "This loop traverses the keys in `directory`, which are tuples.  It\n",
    "assigns the elements of each tuple to `last` and `first`, then\n",
    "prints the name and corresponding telephone number.\n",
    "\n",
    "There are two ways to represent tuples in a state diagram.  The more\n",
    "detailed version shows the indices and elements just as they appear in\n",
    "a list.  For example, the tuple ('Cleese', 'John') would appear\n",
    "as in Figure 12.1.\n",
    "\n",
    "<img src=\"fig12_1.png\">\n",
    "\n",
    "But in a larger diagram you might want to leave out the\n",
    "details.  For example, a diagram of the telephone directory might\n",
    "appear as in Figure 12.2.\n",
    "\n",
    "<img src=\"fig12_2.png\">\n",
    "\n",
    "Here the tuples are shown using Python syntax as a graphical\n",
    "shorthand.  The telephone number in the diagram is the complaints line\n",
    "for the BBC, so please don't call it."
   ]
  },
  {
   "cell_type": "code",
   "execution_count": 51,
   "metadata": {},
   "outputs": [
    {
     "name": "stdout",
     "output_type": "stream",
     "text": [
      "dict_items([('a', 0), ('b', 1), ('c', 2)])\n"
     ]
    }
   ],
   "source": [
    "d = {'a':0, 'b':1, 'c':2}\n",
    "t = d.items()\n",
    "print(t)"
   ]
  },
  {
   "cell_type": "code",
   "execution_count": 52,
   "metadata": {},
   "outputs": [
    {
     "name": "stdout",
     "output_type": "stream",
     "text": [
      "{'a': 0, 'c': 2, 'b': 1}\n"
     ]
    }
   ],
   "source": [
    "t = [('a', 0), ('c', 2), ('b', 1)]\n",
    "d = dict(t)\n",
    "print(d)"
   ]
  },
  {
   "cell_type": "code",
   "execution_count": 53,
   "metadata": {
    "scrolled": true
   },
   "outputs": [
    {
     "name": "stdout",
     "output_type": "stream",
     "text": [
      "{'a': 0, 'b': 1}\n"
     ]
    }
   ],
   "source": [
    "t = [('a', 0), ('b', 2), ('b', 1)]\n",
    "d = dict(t)  # key duplicated\n",
    "print(d)"
   ]
  },
  {
   "cell_type": "code",
   "execution_count": 54,
   "metadata": {},
   "outputs": [
    {
     "name": "stdout",
     "output_type": "stream",
     "text": [
      "('a', 0)\n",
      "('b', 1)\n",
      "('c', 2)\n"
     ]
    }
   ],
   "source": [
    "t = zip('abc', range(3))\n",
    "for i in t:\n",
    "    print(i)"
   ]
  },
  {
   "cell_type": "code",
   "execution_count": 55,
   "metadata": {},
   "outputs": [
    {
     "name": "stdout",
     "output_type": "stream",
     "text": [
      "{'a': 0, 'b': 1, 'c': 2}\n"
     ]
    }
   ],
   "source": [
    "d = dict(zip('abc', range(3)))\n",
    "print(d)"
   ]
  },
  {
   "cell_type": "code",
   "execution_count": 56,
   "metadata": {},
   "outputs": [
    {
     "name": "stdout",
     "output_type": "stream",
     "text": [
      "{'a': 0, 'b': 1, 'c': 2, 'd': 3, 'e': 4}\n"
     ]
    }
   ],
   "source": [
    "s = 'abcde'\n",
    "d = dict(zip(s, range(len(s))))\n",
    "print(d)"
   ]
  },
  {
   "cell_type": "code",
   "execution_count": 57,
   "metadata": {},
   "outputs": [
    {
     "name": "stdout",
     "output_type": "stream",
     "text": [
      "{'p': 6, 'e': 3, 't': 2, 'r': 4, ' ': 5, 'a': 7, 'n': 8}\n"
     ]
    }
   ],
   "source": [
    "s = 'peter pan'\n",
    "d = dict(zip(s, range(len(s))))\n",
    "print(d)"
   ]
  },
  {
   "cell_type": "code",
   "execution_count": 58,
   "metadata": {},
   "outputs": [
    {
     "name": "stdout",
     "output_type": "stream",
     "text": [
      "{'a': 0, 'b': 1, 'c': 2, 'd': 8, 'e': 7}\n"
     ]
    }
   ],
   "source": [
    "d = dict(zip('abc', range(3)))\n",
    "d.update([('d',8), ('e', 7)])\n",
    "print(d)"
   ]
  },
  {
   "cell_type": "markdown",
   "metadata": {},
   "source": [
    "## 12.7 Sequences of sequences\n",
    "\n",
    "I have focused on lists of tuples, but almost all of the examples in\n",
    "this chapter also work with lists of lists, tuples of tuples, and\n",
    "tuples of lists.  To avoid enumerating the possible combinations, it\n",
    "is sometimes easier to talk about sequences of sequences.\n",
    "\n",
    "In many contexts, the different kinds of sequences (strings, lists and\n",
    "tuples) can be used interchangeably.  So how should you choose one\n",
    "over the others?\n",
    "\n",
    "To start with the obvious, strings are more limited than other\n",
    "sequences because the elements have to be characters.  They are\n",
    "also immutable.  If you need the ability to change the characters\n",
    "in a string (as opposed to creating a new string), you might\n",
    "want to use a list of characters instead.\n",
    "\n",
    "Lists are more common than tuples, mostly because they are mutable.\n",
    "But there are a few cases where you might prefer tuples:\n",
    "\n",
    "1. In some contexts, like a `return` statement, it is\n",
    "syntactically simpler to create a tuple than a list.\n",
    "\n",
    "2. If you want to use a sequence as a dictionary key, you\n",
    "have to use an immutable type like a tuple or string.\n",
    "\n",
    "3. If you are passing a sequence as an argument to a function,\n",
    "using tuples reduces the potential for unexpected behavior\n",
    "due to aliasing.\n",
    "\n",
    "Because tuples are immutable, they don't provide methods like \n",
    "**sort** and **reverse**, which modify existing lists.  But Python\n",
    "provides the built-in function **sorted**, which takes any sequence\n",
    "and returns a new list with the same elements in sorted order, and\n",
    "**reversed**, which takes a sequence and returns an iterator that\n",
    "traverses the list in reverse order."
   ]
  },
  {
   "cell_type": "markdown",
   "metadata": {},
   "source": [
    "## 12.8 Debugging\n",
    "\n",
    "Lists, dictionaries and tuples are examples of {\\bf data\n",
    "  structures}; in this chapter we are starting to see compound data\n",
    "structures, like lists of tuples, or dictionaries that contain tuples\n",
    "as keys and lists as values.  Compound data structures are useful, but\n",
    "they are prone to what I call **shape errors**; that is, errors\n",
    "caused when a data structure has the wrong type, size, or structure.\n",
    "For example, if you are expecting a list with one integer and I\n",
    "give you a plain old integer (not in a list), it won't work.\n",
    "\n",
    "To help debug these kinds of errors, I have written a module\n",
    "called `structshape` that provides a function, also called\n",
    "`structshape`, that takes any kind of data structure as\n",
    "an argument and returns a string that summarizes its shape.\n",
    "You can download it from \n",
    "http://thinkpython2.com/code/structshape.py\n",
    "\n",
    "Here's the result for a simple list:\n",
    "\n",
    "```\n",
    ">>> from structshape import structshape\n",
    ">>> t = [1, 2, 3]\n",
    ">>> structshape(t)\n",
    "'list of 3 int'\n",
    "```\n",
    "\n",
    "A fancier program might write \"list of 3 int**s**\", but it\n",
    "was easier not to deal with plurals.  Here's a list of lists:\n",
    "\n",
    "```\n",
    ">>> t2 = [[1,2], [3,4], [5,6]]\n",
    ">>> structshape(t2)\n",
    "'list of 3 list of 2 int'\n",
    "```\n",
    "\n",
    "If the elements of the list are not the same type,\n",
    "`structshape` groups them, in order, by type:\n",
    "\n",
    "```\n",
    ">>> t3 = [1, 2, 3, 4.0, '5', '6', [7], [8], 9]\n",
    ">>> structshape(t3)\n",
    "'list of (3 int, float, 2 str, 2 list of int, int)'\n",
    "```\n",
    "\n",
    "Here's a list of tuples:\n",
    "\n",
    "```\n",
    ">>> s = 'abc'\n",
    ">>> lt = list(zip(t, s))\n",
    ">>> structshape(lt)\n",
    "'list of 3 tuple of (int, str)'\n",
    "```\n",
    "\n",
    "And here's a dictionary with 3 items that map integers to strings.\n",
    "\n",
    "```\n",
    ">>> d = dict(lt) \n",
    ">>> structshape(d)\n",
    "'dict of 3 int->str'\n",
    "```\n",
    "\n",
    "If you are having trouble keeping track of your data structures,\n",
    "`structshape` can help."
   ]
  },
  {
   "cell_type": "markdown",
   "metadata": {},
   "source": [
    "## 12.9 Glossary\n",
    "\n",
    "- **tuple:** An immutable sequence of elements.\n",
    "\n",
    "- **tuple assignment:** An assignment with a sequence on the\n",
    "right side and a tuple of variables on the left.  The right\n",
    "side is evaluated and then its elements are assigned to the\n",
    "variables on the left.\n",
    "\n",
    "- **gather:** An operation that collects multiple arguments into a tuple.\n",
    "\n",
    "- **scatter:** An operation that makes a sequence behave like multiple arguments.\n",
    "\n",
    "- **zip object:** The result of calling a built-in function `zip`;\n",
    "an object that iterates through a sequence of tuples.\n",
    "\n",
    "- **iterator:** An object that can iterate through a sequence, but\n",
    "which does not provide list operators and methods.\n",
    "\n",
    "- **data structure:** A collection of related values, often\n",
    "organized in lists, dictionaries, tuples, etc.\n",
    "\n",
    "- **shape error:**An error caused because a value has the\n",
    "wrong shape; that is, the wrong type or size."
   ]
  },
  {
   "cell_type": "markdown",
   "metadata": {},
   "source": [
    "## 12.10 Exercises \n",
    "\n",
    "### Exercise 12.1\n",
    "\n",
    "Write a function called `most_frequent` that takes a string and\n",
    "prints the letters in decreasing order of frequency.  Find text\n",
    "samples from several different languages and see how letter frequency\n",
    "varies between languages.  Compare your results with the tables at\n",
    "http://en.wikipedia.org/wiki/Letter_frequencies.  Solution:\n",
    "http://thinkpython2.com/code/most_frequent.py. "
   ]
  },
  {
   "cell_type": "markdown",
   "metadata": {},
   "source": [
    "### Exercise 12.2\n",
    "\n",
    "More anagrams!\n",
    "\n",
    "1. Write a program\n",
    "that reads a word list from a file (see Section 9.1) and\n",
    "prints all the sets of words that are anagrams.\n",
    "\n",
    "  Here is an example of what the output might look like:\n",
    "\n",
    "```\n",
    "['deltas', 'desalt', 'lasted', 'salted', 'slated', 'staled']\n",
    "['retainers', 'ternaries']\n",
    "['generating', 'greatening']\n",
    "['resmelts', 'smelters', 'termless']\n",
    "```\n",
    "\n",
    "> Hint: you might want to build a dictionary that maps from a\n",
    "collection of letters to a list of words that can be spelled with those\n",
    "letters.  The question is, how can you represent the collection of\n",
    "letters in a way that can be used as a key?\n",
    "\n",
    "2. Modify the previous program so that it prints the longest list\n",
    "of anagrams first, followed by the second longest, and so on.\n",
    "\n",
    "3. In Scrabble a \"bingo\" is when you play all seven tiles in\n",
    "your rack, along with a letter on the board, to form an eight-letter\n",
    "word.  What collection of 8 letters forms the most possible bingos?\n",
    "\n",
    "Solution: http://thinkpython2.com/code/anagram_sets.py.\n"
   ]
  },
  {
   "cell_type": "markdown",
   "metadata": {},
   "source": [
    "### Exercise 12.3\n",
    "\n",
    "Two words form a \"metathesis pair\" if you can transform one into the\n",
    "other by swapping two letters; for example, \"converse\" and\n",
    "\"conserve\".  Write a program that finds all of the metathesis pairs\n",
    "in the dictionary.  Hint: don't test all pairs of words, and don't\n",
    "test all possible swaps.  Solution:\n",
    "http://thinkpython2.com/code/metathesis.py.  Credit: This\n",
    "exercise is inspired by an example at http://puzzlers.org."
   ]
  },
  {
   "cell_type": "markdown",
   "metadata": {},
   "source": [
    "### Exercise 12.4\n",
    "\n",
    "Here's another Car Talk Puzzler\n",
    "(http://www.cartalk.com/content/puzzlers):\n",
    "\n",
    "> What is the longest English word, that remains a valid English word,\n",
    "as you remove its letters one at a time?\n",
    "\n",
    "> Now, letters can be removed from either end, or the middle, but you\n",
    "can't rearrange any of the letters. Every time you drop a letter, you\n",
    "wind up with another English word. If you do that, you're eventually\n",
    "going to wind up with one letter and that too is going to be an\n",
    "English word---one that's found in the dictionary. I want to know\n",
    "what's the longest word and how many letters does it\n",
    "have?\n",
    "\n",
    "> I'm going to give you a little modest example: Sprite. Ok? You start\n",
    "off with sprite, you take a letter off, one from the interior of the\n",
    "word, take the r away, and we're left with the word spite, then we\n",
    "take the e off the end, we're left with spit, we take the s off, we're\n",
    "left with pit, it, and I.\n",
    "\n",
    "Write a program to find all words that can be reduced in this way,\n",
    "and then find the longest one.\n",
    "\n",
    "This exercise is a little more challenging than most, so here are\n",
    "some suggestions:\n",
    "\n",
    "1. You might want to write a function that takes a word and\n",
    "  computes a list of all the words that can be formed by removing one\n",
    "  letter.  These are the \"children\" of the word.\n",
    "\n",
    "2. Recursively, a word is reducible if any of its children\n",
    "are reducible.  As a base case, you can consider the empty\n",
    "string reducible.\n",
    "\n",
    "3. The wordlist I provided, `words.txt`, doesn't\n",
    "contain single letter words.  So you might want to add\n",
    "\"I\", \"a\", and the empty string.\n",
    "\n",
    "4. To improve the performance of your program, you might want\n",
    "to memoize the words that are known to be reducible.\n",
    "\n",
    "\n",
    "Solution: http://thinkpython2.com/code/reducible.py.\n"
   ]
  },
  {
   "cell_type": "markdown",
   "metadata": {},
   "source": [
    "# 以下為示範如何將資料排序的方法\n",
    "\n",
    "### 範例1：按照字串的長度排序"
   ]
  },
  {
   "cell_type": "code",
   "execution_count": 62,
   "metadata": {
    "scrolled": true
   },
   "outputs": [
    {
     "name": "stdout",
     "output_type": "stream",
     "text": [
      "before sorting: t = [(3, 'The'), (5, 'first'), (4, 'loop'), (6, 'builds'), (1, 'a'), (4, 'list'), (2, 'of'), (7, 'tuples,'), (5, 'where'), (4, 'each'), (5, 'tuple'), (2, 'is'), (1, 'a'), (4, 'word'), (8, 'preceded'), (2, 'by'), (3, 'its'), (7, 'length.')]\n",
      "after sorting: t = [(1, 'a'), (1, 'a'), (2, 'by'), (2, 'is'), (2, 'of'), (3, 'The'), (3, 'its'), (4, 'each'), (4, 'list'), (4, 'loop'), (4, 'word'), (5, 'first'), (5, 'tuple'), (5, 'where'), (6, 'builds'), (7, 'length.'), (7, 'tuples,'), (8, 'preceded')]\n",
      "result =  ['a', 'a', 'by', 'is', 'of', 'The', 'its', 'each', 'list', 'loop', 'word', 'first', 'tuple', 'where', 'builds', 'length.', 'tuples,', 'preceded']\n"
     ]
    }
   ],
   "source": [
    "def sort_by_length(words):\n",
    "    t = []\n",
    "    for word in words:\n",
    "        t.append((len(word), word))\n",
    "    \n",
    "    print(\"before sorting: t =\", t)\n",
    "    #t.sort(reverse=True)\n",
    "    t.sort()\n",
    "    print(\"after sorting: t =\", t)\n",
    "    res = []\n",
    "    for length, word in t:\n",
    "        res.append(word)\n",
    "    return res\n",
    "\n",
    "s = 'The first loop builds a list of tuples, where each tuple is a word preceded by its length.'\n",
    "s2 = s.split()\n",
    "a =sort_by_length(s2)\n",
    "print('result = ', a)\n"
   ]
  },
  {
   "cell_type": "markdown",
   "metadata": {},
   "source": [
    "## 範例2：按照字母的順序排序"
   ]
  },
  {
   "cell_type": "code",
   "execution_count": 60,
   "metadata": {},
   "outputs": [
    {
     "name": "stdout",
     "output_type": "stream",
     "text": [
      "before sorting: t = [('The', 3), ('first', 5), ('loop', 4), ('builds', 6), ('a', 1), ('list', 4), ('of', 2), ('tuples,', 7), ('where', 5), ('each', 4), ('tuple', 5), ('is', 2), ('a', 1), ('word', 4), ('preceded', 8), ('by', 2), ('its', 3), ('length.', 7)]\n",
      "after sorting: t = [('The', 3), ('a', 1), ('a', 1), ('builds', 6), ('by', 2), ('each', 4), ('first', 5), ('is', 2), ('its', 3), ('length.', 7), ('list', 4), ('loop', 4), ('of', 2), ('preceded', 8), ('tuple', 5), ('tuples,', 7), ('where', 5), ('word', 4)]\n",
      "result =  ['The', 'a', 'a', 'builds', 'by', 'each', 'first', 'is', 'its', 'length.', 'list', 'loop', 'of', 'preceded', 'tuple', 'tuples,', 'where', 'word']\n"
     ]
    }
   ],
   "source": [
    "def sort_by_word(words):\n",
    "    t = []\n",
    "    for word in words:\n",
    "        t.append((word, len(word)))\n",
    "    \n",
    "    print(\"before sorting: t =\", t)\n",
    "    #t.sort(reverse=True)\n",
    "    t.sort()\n",
    "    print(\"after sorting: t =\", t)\n",
    "    res = []\n",
    "    for word, length in t:\n",
    "        res.append(word)\n",
    "    return res\n",
    "\n",
    "s = 'The first loop builds a list of tuples, where each tuple is a word preceded by its length.'\n",
    "s2 = s.split()\n",
    "a =sort_by_word(s2)\n",
    "print('result = ', a)"
   ]
  },
  {
   "cell_type": "markdown",
   "metadata": {},
   "source": [
    "### the built-in function sorted() and reversed()\n",
    "#### sorted()：將序列的資料按照大小排序\n",
    "#### reversed()：將序列中的資料項目以相反的順序排列，例如：t = [5,1,3]， reversed(t) 的結果是 [3,1,5]\n"
   ]
  },
  {
   "cell_type": "code",
   "execution_count": 59,
   "metadata": {},
   "outputs": [
    {
     "name": "stdout",
     "output_type": "stream",
     "text": [
      "['a', 'd', 'o', 't', 'y']\n",
      "[1, 3, 5, 7, 9]\n",
      "[2, 4, 6, 8]\n",
      "<reversed object at 0x000001CFF2270A60>\n",
      "4\n",
      "6\n",
      "8\n",
      "2\n"
     ]
    }
   ],
   "source": [
    "a = \"today\"\n",
    "b = [1, 5, 9, 7, 3]\n",
    "c = (2, 8, 6, 4)\n",
    "print(sorted(a))\n",
    "print(sorted(b))\n",
    "print(sorted(c))\n",
    "\n",
    "# returns an iterator that traverses the list in reverse order\n",
    "x = reversed(c)\n",
    "print(x)\n",
    "for i in x:\n",
    "    print(i)"
   ]
  },
  {
   "cell_type": "markdown",
   "metadata": {},
   "source": [
    "# Baby names: Top 100 most popular boys and girls' names\n",
    "\n",
    "https://www.independent.co.uk/news/uk/home-news/baby-names-top-100-most-popular-boys-and-girls-names-10459074.html\n",
    "\n",
    "嬰兒名字：最受歡迎的100個男孩和女孩名字"
   ]
  },
  {
   "cell_type": "code",
   "execution_count": 62,
   "metadata": {},
   "outputs": [
    {
     "name": "stdout",
     "output_type": "stream",
     "text": [
      "Olivia\n",
      "Emma\n",
      "Amelia\n",
      "Ava\n",
      "Sophia\n",
      "Charlotte\n",
      "Isabella\n",
      "Mia\n",
      "Luna\n",
      "Harper\n",
      "Gianna\n",
      "Evelyn\n",
      "Aria\n",
      "Ella\n",
      "Ellie\n",
      "Mila\n",
      "Layla\n",
      "Avery\n",
      "Ryilee\n",
      "Camila\n",
      "Lily\n",
      "Scarlett\n",
      "Sofia\n",
      "Nova\n",
      "Aurora\n",
      "Chloe\n",
      "Riley\n",
      "Nora\n",
      "Hazel\n",
      "Abigail\n",
      "Penelope\n",
      "Elena\n",
      "Zoey\n",
      "Isla\n",
      "Elizabeth\n",
      "Eleanor\n",
      "Madison\n",
      "Willow\n",
      "Emilia\n",
      "Violet\n",
      "Emily\n",
      "Eliana\n",
      "Stella\n",
      "Maya\n",
      "Paisley\n",
      "Everly\n",
      "Addison\n",
      "Ivy\n",
      "Litte\n",
      "Grace\n"
     ]
    }
   ],
   "source": [
    "fin = open('common_names.txt')\n",
    "for line in fin:\n",
    "    s = line.strip().split()\n",
    "    if len(s) > 0:\n",
    "        print(s[1])\n",
    "    "
   ]
  },
  {
   "cell_type": "markdown",
   "metadata": {},
   "source": [
    "### 使用 random 產生隨機整數，以及 SID (student ID, 學號)，名字"
   ]
  },
  {
   "cell_type": "code",
   "execution_count": 63,
   "metadata": {},
   "outputs": [
    {
     "name": "stdout",
     "output_type": "stream",
     "text": [
      "82 84 90 85 61 89 73 64 97 65 81 97 71 72 69 73 65 62 82 65 90 89 72 64 72 80 96 86 69 78 86 73 94 96 79 87 98 95 65 99 \n",
      "108207401 108207402 108207403 108207404 108207405 108207406 108207407 108207408 108207409 108207410 108207411 108207412 108207413 108207414 108207415 108207416 108207417 108207418 108207419 108207420 108207421 108207422 108207423 108207424 108207425 108207426 108207427 108207428 108207429 108207430 108207431 108207432 108207433 108207434 108207435 108207436 108207437 108207438 108207439 108207440 \n",
      "110207401 110207402 110207403 110207404 110207405 110207406 110207407 110207408 110207409 110207410 110207411 110207412 110207413 110207414 110207415 110207416 110207417 110207418 110207419 110207420 110207421 110207422 110207423 110207424 110207425 110207426 110207427 110207428 110207429 110207430 110207431 110207432 110207433 110207434 110207435 110207436 110207437 110207438 110207439 110207440 \n",
      "Olivia\n",
      "Emma\n",
      "Amelia\n",
      "Ava\n",
      "Sophia\n",
      "Charlotte\n",
      "Isabella\n",
      "Mia\n",
      "Luna\n",
      "Harper\n",
      "Gianna\n",
      "Evelyn\n",
      "Aria\n",
      "Ella\n",
      "Ellie\n",
      "Mila\n",
      "Layla\n",
      "Avery\n",
      "Ryilee\n",
      "Camila\n",
      "Lily\n",
      "Scarlett\n",
      "Sofia\n",
      "Nova\n",
      "Aurora\n",
      "Chloe\n",
      "Riley\n",
      "Nora\n",
      "Hazel\n",
      "Abigail\n",
      "Penelope\n",
      "Elena\n",
      "Zoey\n",
      "Isla\n",
      "Elizabeth\n",
      "Eleanor\n",
      "Madison\n",
      "Willow\n",
      "Emilia\n",
      "Violet\n",
      "Emily\n",
      "Eliana\n",
      "Stella\n",
      "Maya\n",
      "Paisley\n",
      "Everly\n",
      "Addison\n",
      "Ivy\n",
      "Litte\n",
      "Grace\n"
     ]
    }
   ],
   "source": [
    "import random\n",
    "\n",
    "for i in range(40):\n",
    "    score = random.randint(60,100)\n",
    "    print(score, end=' ')\n",
    "print()\n",
    "\n",
    "for i in range(40):\n",
    "    id1 = 108207400+i+1\n",
    "    print(id1,end=\" \")\n",
    "print()    \n",
    "for i in range(40):\n",
    "    sid = '1102074{:02d}'.format(i+1)\n",
    "    print(sid, end=\" \")\n",
    "print()\n",
    "\n",
    "fin = open('common_names.txt')\n",
    "for line in fin:\n",
    "    s = line.strip().split()\n",
    "    if len(s) > 0:\n",
    "        print(s[1])"
   ]
  },
  {
   "cell_type": "markdown",
   "metadata": {},
   "source": [
    "### 以下程式示範如何對資料進行排序\n",
    "\n",
    "### 三種優先順序\n",
    "1. sid (學號)\n",
    "2. name (姓名)\n",
    "3. score (成績)"
   ]
  },
  {
   "cell_type": "code",
   "execution_count": 64,
   "metadata": {},
   "outputs": [
    {
     "name": "stdout",
     "output_type": "stream",
     "text": [
      "('110207401', 'Olivia', 68)\n",
      "('110207402', 'Emma', 70)\n",
      "('110207403', 'Amelia', 81)\n",
      "('110207404', 'Ava', 63)\n",
      "('110207405', 'Sophia', 82)\n",
      "('110207406', 'Charlotte', 82)\n",
      "('110207407', 'Isabella', 82)\n",
      "('110207408', 'Mia', 73)\n",
      "('110207409', 'Luna', 85)\n",
      "('110207410', 'Harper', 98)\n",
      "('110207411', 'Gianna', 87)\n",
      "('110207412', 'Evelyn', 96)\n",
      "('110207413', 'Aria', 97)\n",
      "('110207414', 'Ella', 99)\n",
      "('110207415', 'Ellie', 81)\n",
      "('110207416', 'Mila', 88)\n",
      "('110207417', 'Layla', 64)\n",
      "('110207418', 'Avery', 93)\n",
      "('110207419', 'Ryilee', 66)\n",
      "('110207420', 'Camila', 100)\n",
      "('110207421', 'Lily', 72)\n",
      "('110207422', 'Scarlett', 81)\n",
      "('110207423', 'Sofia', 77)\n",
      "('110207424', 'Nova', 97)\n",
      "('110207425', 'Aurora', 98)\n",
      "('110207426', 'Chloe', 62)\n",
      "('110207427', 'Riley', 83)\n",
      "('110207428', 'Nora', 83)\n",
      "('110207429', 'Hazel', 60)\n",
      "('110207430', 'Abigail', 96)\n",
      "sorted by ID:\n",
      "('110207401', 'Olivia', 68)\n",
      "('110207402', 'Emma', 70)\n",
      "('110207403', 'Amelia', 81)\n",
      "('110207404', 'Ava', 63)\n",
      "('110207405', 'Sophia', 82)\n",
      "('110207406', 'Charlotte', 82)\n",
      "('110207407', 'Isabella', 82)\n",
      "('110207408', 'Mia', 73)\n",
      "('110207409', 'Luna', 85)\n",
      "('110207410', 'Harper', 98)\n",
      "('110207411', 'Gianna', 87)\n",
      "('110207412', 'Evelyn', 96)\n",
      "('110207413', 'Aria', 97)\n",
      "('110207414', 'Ella', 99)\n",
      "('110207415', 'Ellie', 81)\n",
      "('110207416', 'Mila', 88)\n",
      "('110207417', 'Layla', 64)\n",
      "('110207418', 'Avery', 93)\n",
      "('110207419', 'Ryilee', 66)\n",
      "('110207420', 'Camila', 100)\n",
      "('110207421', 'Lily', 72)\n",
      "('110207422', 'Scarlett', 81)\n",
      "('110207423', 'Sofia', 77)\n",
      "('110207424', 'Nova', 97)\n",
      "('110207425', 'Aurora', 98)\n",
      "('110207426', 'Chloe', 62)\n",
      "('110207427', 'Riley', 83)\n",
      "('110207428', 'Nora', 83)\n",
      "('110207429', 'Hazel', 60)\n",
      "('110207430', 'Abigail', 96)\n",
      "sorted by name:\n",
      "('Abigail', '110207430', 96)\n",
      "('Amelia', '110207403', 81)\n",
      "('Aria', '110207413', 97)\n",
      "('Aurora', '110207425', 98)\n",
      "('Ava', '110207404', 63)\n",
      "('Avery', '110207418', 93)\n",
      "('Camila', '110207420', 100)\n",
      "('Charlotte', '110207406', 82)\n",
      "('Chloe', '110207426', 62)\n",
      "('Ella', '110207414', 99)\n",
      "('Ellie', '110207415', 81)\n",
      "('Emma', '110207402', 70)\n",
      "('Evelyn', '110207412', 96)\n",
      "('Gianna', '110207411', 87)\n",
      "('Harper', '110207410', 98)\n",
      "('Hazel', '110207429', 60)\n",
      "('Isabella', '110207407', 82)\n",
      "('Layla', '110207417', 64)\n",
      "('Lily', '110207421', 72)\n",
      "('Luna', '110207409', 85)\n",
      "('Mia', '110207408', 73)\n",
      "('Mila', '110207416', 88)\n",
      "('Nora', '110207428', 83)\n",
      "('Nova', '110207424', 97)\n",
      "('Olivia', '110207401', 68)\n",
      "('Riley', '110207427', 83)\n",
      "('Ryilee', '110207419', 66)\n",
      "('Scarlett', '110207422', 81)\n",
      "('Sofia', '110207423', 77)\n",
      "('Sophia', '110207405', 82)\n",
      "sorted by score:\n",
      "110207429  Hazel                 60\n",
      "110207426  Chloe                 62\n",
      "110207404  Ava                   63\n",
      "110207417  Layla                 64\n",
      "110207419  Ryilee                66\n",
      "110207401  Olivia                68\n",
      "110207402  Emma                  70\n",
      "110207421  Lily                  72\n",
      "110207408  Mia                   73\n",
      "110207423  Sofia                 77\n",
      "110207403  Amelia                81\n",
      "110207415  Ellie                 81\n",
      "110207422  Scarlett              81\n",
      "110207405  Sophia                82\n",
      "110207406  Charlotte             82\n",
      "110207407  Isabella              82\n",
      "110207427  Riley                 83\n",
      "110207428  Nora                  83\n",
      "110207409  Luna                  85\n",
      "110207411  Gianna                87\n",
      "110207416  Mila                  88\n",
      "110207418  Avery                 93\n",
      "110207412  Evelyn                96\n",
      "110207430  Abigail               96\n",
      "110207413  Aria                  97\n",
      "110207424  Nova                  97\n",
      "110207410  Harper                98\n",
      "110207425  Aurora                98\n",
      "110207414  Ella                  99\n",
      "110207420  Camila                100\n"
     ]
    }
   ],
   "source": [
    "import random\n",
    "\n",
    "fin = open('common_names.txt')\n",
    "\n",
    "num_students = 30\n",
    "\n",
    "names = []\n",
    "count = 0\n",
    "for line in fin:\n",
    "    s = line.strip().split()\n",
    "    if len(s) > 0:\n",
    "        names.append(s[1])\n",
    "        count = count + 1\n",
    "        if count == num_students:\n",
    "            break\n",
    "        \n",
    "t1 = []\n",
    "t2 = []\n",
    "t3 = []\n",
    "\n",
    "for i in range(num_students):\n",
    "    score = random.randint(60,100)\n",
    "    sid = '1102074{:02d}'.format(i+1)\n",
    "    name = names[i]\n",
    "    tup = (sid, name, score)\n",
    "    print(tup)\n",
    "    t1.append(tup)\n",
    "    t2.append((name, sid, score))\n",
    "    t3.append((score, sid, name))\n",
    "\n",
    "print('sorted by ID:')\n",
    "t1.sort()\n",
    "for i in t1:\n",
    "    print(i)\n",
    "    \n",
    "print('sorted by name:')\n",
    "t2.sort()\n",
    "for i in t2:\n",
    "    print(i)\n",
    "    \n",
    "print('sorted by score:')\n",
    "t3.sort()\n",
    "for i in t3:\n",
    "    #print(i)\n",
    "    #print(i[1],i[2],i[0])\n",
    "    s = \"{}  {:<20s}  {}\".format(i[1],i[2],i[0])\n",
    "    print(s)"
   ]
  },
  {
   "cell_type": "code",
   "execution_count": 3,
   "metadata": {},
   "outputs": [
    {
     "name": "stdout",
     "output_type": "stream",
     "text": [
      "sorted by ID:\n",
      "學號       姓名                  平均成績      選課數      學分數     GPA\n",
      "110207401  Olivia Liam           72.7         4          6          2.6\n",
      "110207402  Emma Noah             65.9         6          16         2.3\n",
      "110207403  Amelia Oliver         70.6         3          8          2.3\n",
      "110207404  Ava Elijah            47.0         8          22         1.3\n",
      "110207405  Sophia Lucas          68.8         3          10         2.6\n",
      "110207406  Charlotte Levi        23.2         4          8          0.2\n",
      "110207407  Isabella Mason        59.7         6          12         1.5\n",
      "110207408  Mia James             20.8         7          14         0.0\n",
      "110207409  Luna Asher            73.0         3          8          3.2\n",
      "110207410  Harper Mateo          71.6         8          19         3.0\n",
      "110207411  Gianna Ethan          35.9         3          7          0.3\n",
      "110207412  Evelyn Leo            53.0         3          4          1.9\n",
      "110207413  Aria Benjamin         50.3         8          21         1.5\n",
      "110207414  Ella Jack             39.1         3          7          0.6\n",
      "110207415  Ellie Aiden           50.8         7          21         1.3\n",
      "110207416  Mila Logan            46.0         8          23         0.8\n",
      "110207417  Layla Grayson         34.1         5          14         0.7\n",
      "110207418  Avery Leriel          21.0         4          10         0.0\n",
      "110207419  Ryilee Jackson        64.1         5          13         2.7\n",
      "110207420  Camila Henry          68.1         4          9          2.6\n",
      "110207421  Lily Wyatt            37.2         4          10         0.4\n",
      "110207422  Scarlett Sebastian    92.0         3          6          4.2\n",
      "110207423  Sofia Carter          44.0         3          8          1.4\n",
      "110207424  Nova Daniel           46.6         4          10         1.3\n",
      "110207425  Aurora William        48.7         5          12         1.4\n",
      "110207426  Chloe Alexander       44.4         7          18         1.1\n",
      "110207427  Riley Ezra            31.4         5          15         0.3\n",
      "110207428  Nora Owen             69.7         6          15         2.7\n",
      "110207429  Hazel Julian          68.7         8          20         2.8\n",
      "110207430  Abigail Michael       59.3         6          15         1.9\n",
      "110207431  Penelope Muhammad     41.9         6          11         0.5\n",
      "110207432  Elena Hudson          37.3         4          9          0.4\n",
      "110207433  Zoey Luke             37.2         3          6          0.7\n",
      "110207434  Isla Jacob            40.6         7          14         1.1\n",
      "110207435  Elizabeth Samuel      58.9         8          14         2.0\n",
      "110207436  Eleanor Lincoln       54.6         7          17         1.4\n",
      "110207437  Madison Gabriel       54.5         4          15         2.0\n",
      "110207438  Willow Jayden         40.0         3          10         0.7\n",
      "110207439  Emilia Luca           29.8         3          5          1.1\n",
      "110207440  Violet Maverick       57.5         6          13         1.6\n",
      "110207441  Emily Josiah          47.5         7          15         1.2\n",
      "110207442  Eliana David          72.3         3          3          2.8\n",
      "110207443  Stella Elias          49.1         6          18         1.2\n",
      "110207444  Maya Jaxon            24.5         6          16         0.4\n",
      "110207445  Paisley Kai           32.4         5          14         0.0\n",
      "110207446  Everly Anthony        47.0         4          9          1.1\n",
      "110207447  Addison Isaiah        53.4         4          10         1.5\n",
      "110207448  Ivy Eli               69.2         5          13         2.8\n",
      "110207449  Litte John            49.4         8          23         1.4\n",
      "110207450  Grace Matthew         80.3         3          9          3.2\n",
      "sorted by name:\n",
      "學號       姓名                  平均成績      選課數      學分數     GPA\n",
      "110207430  Abigail Michael       59.3         6          15         1.9\n",
      "110207447  Addison Isaiah        53.4         4          10         1.5\n",
      "110207403  Amelia Oliver         70.6         3          8          2.3\n",
      "110207413  Aria Benjamin         50.3         8          21         1.5\n",
      "110207425  Aurora William        48.7         5          12         1.4\n",
      "110207404  Ava Elijah            47.0         8          22         1.3\n",
      "110207418  Avery Leriel          21.0         4          10         0.0\n",
      "110207420  Camila Henry          68.1         4          9          2.6\n",
      "110207406  Charlotte Levi        23.2         4          8          0.2\n",
      "110207426  Chloe Alexander       44.4         7          18         1.1\n",
      "110207436  Eleanor Lincoln       54.6         7          17         1.4\n",
      "110207432  Elena Hudson          37.3         4          9          0.4\n",
      "110207442  Eliana David          72.3         3          3          2.8\n",
      "110207435  Elizabeth Samuel      58.9         8          14         2.0\n",
      "110207414  Ella Jack             39.1         3          7          0.6\n",
      "110207415  Ellie Aiden           50.8         7          21         1.3\n",
      "110207439  Emilia Luca           29.8         3          5          1.1\n",
      "110207441  Emily Josiah          47.5         7          15         1.2\n",
      "110207402  Emma Noah             65.9         6          16         2.3\n",
      "110207412  Evelyn Leo            53.0         3          4          1.9\n",
      "110207446  Everly Anthony        47.0         4          9          1.1\n",
      "110207411  Gianna Ethan          35.9         3          7          0.3\n",
      "110207450  Grace Matthew         80.3         3          9          3.2\n",
      "110207410  Harper Mateo          71.6         8          19         3.0\n",
      "110207429  Hazel Julian          68.7         8          20         2.8\n",
      "110207407  Isabella Mason        59.7         6          12         1.5\n",
      "110207434  Isla Jacob            40.6         7          14         1.1\n",
      "110207448  Ivy Eli               69.2         5          13         2.8\n",
      "110207417  Layla Grayson         34.1         5          14         0.7\n",
      "110207421  Lily Wyatt            37.2         4          10         0.4\n",
      "110207449  Litte John            49.4         8          23         1.4\n",
      "110207409  Luna Asher            73.0         3          8          3.2\n",
      "110207437  Madison Gabriel       54.5         4          15         2.0\n",
      "110207444  Maya Jaxon            24.5         6          16         0.4\n",
      "110207408  Mia James             20.8         7          14         0.0\n",
      "110207416  Mila Logan            46.0         8          23         0.8\n",
      "110207428  Nora Owen             69.7         6          15         2.7\n",
      "110207424  Nova Daniel           46.6         4          10         1.3\n",
      "110207401  Olivia Liam           72.7         4          6          2.6\n",
      "110207445  Paisley Kai           32.4         5          14         0.0\n",
      "110207431  Penelope Muhammad     41.9         6          11         0.5\n",
      "110207427  Riley Ezra            31.4         5          15         0.3\n",
      "110207419  Ryilee Jackson        64.1         5          13         2.7\n",
      "110207422  Scarlett Sebastian    92.0         3          6          4.2\n",
      "110207423  Sofia Carter          44.0         3          8          1.4\n",
      "110207405  Sophia Lucas          68.8         3          10         2.6\n",
      "110207443  Stella Elias          49.1         6          18         1.2\n",
      "110207440  Violet Maverick       57.5         6          13         1.6\n",
      "110207438  Willow Jayden         40.0         3          10         0.7\n",
      "110207433  Zoey Luke             37.2         3          6          0.7\n",
      "sorted by score:\n",
      "學號       姓名                  平均成績      選課數      學分數     GPA\n",
      "110207408  Mia James             20.8         7          14         0.0\n",
      "110207418  Avery Leriel          21.0         4          10         0.0\n",
      "110207445  Paisley Kai           32.4         5          14         0.0\n",
      "110207417  Layla Grayson         34.1         5          14         0.7\n",
      "110207434  Isla Jacob            40.6         7          14         1.1\n",
      "110207431  Penelope Muhammad     41.9         6          11         0.5\n",
      "110207416  Mila Logan            46.0         8          23         0.8\n",
      "110207424  Nova Daniel           46.6         4          10         1.3\n",
      "110207404  Ava Elijah            47.0         8          22         1.3\n",
      "110207425  Aurora William        48.7         5          12         1.4\n",
      "110207443  Stella Elias          49.1         6          18         1.2\n",
      "110207449  Litte John            49.4         8          23         1.4\n",
      "110207413  Aria Benjamin         50.3         8          21         1.5\n",
      "110207415  Ellie Aiden           50.8         7          21         1.3\n",
      "110207437  Madison Gabriel       54.5         4          15         2.0\n",
      "110207436  Eleanor Lincoln       54.6         7          17         1.4\n",
      "110207440  Violet Maverick       57.5         6          13         1.6\n",
      "110207435  Elizabeth Samuel      58.9         8          14         2.0\n",
      "110207430  Abigail Michael       59.3         6          15         1.9\n",
      "110207407  Isabella Mason        59.7         6          12         1.5\n",
      "110207419  Ryilee Jackson        64.1         5          13         2.7\n",
      "110207402  Emma Noah             65.9         6          16         2.3\n",
      "110207405  Sophia Lucas          68.8         3          10         2.6\n",
      "110207448  Ivy Eli               69.2         5          13         2.8\n",
      "110207428  Nora Owen             69.7         6          15         2.7\n"
     ]
    }
   ],
   "source": [
    "import random\n",
    "\n",
    "fin = open('common_names.txt')\n",
    "\n",
    "num_students = 50\n",
    "lastnames = []\n",
    "firstnames = []\n",
    "\n",
    "for line in fin:                       #將資料換成串列\n",
    "    s = line.strip().split()\n",
    "    if len(s) > 0:\n",
    "        firstnames.append(s[1])\n",
    "        lastnames.append(s[2])\n",
    "def getGPA(grade):                     #計算GPA\n",
    "    if grade >= 90:\n",
    "        return 4.3\n",
    "    elif grade >= 85:\n",
    "        return 4\n",
    "    elif grade >= 80:\n",
    "        return 3.7\n",
    "    elif grade >= 77:\n",
    "        return 3.3\n",
    "    elif grade >= 73:\n",
    "        return 3\n",
    "    elif grade >= 70:\n",
    "        return 2.7\n",
    "    elif grade >= 67:\n",
    "        return 2.3\n",
    "    elif grade >= 63:\n",
    "        return 2.0\n",
    "    elif grade >= 60:\n",
    "        return 1.7\n",
    "    elif grade >= 50:\n",
    "        return 1\n",
    "    else:\n",
    "        return 0\n",
    "\n",
    "t1 = []\n",
    "t2 = []\n",
    "t3 = []\n",
    "totalscore = 0\n",
    "totalcredit = 0\n",
    "totalgpa = 0\n",
    "\n",
    "for i in range(num_students):\n",
    "    sid = '1102074{:02d}'.format(i+1)  #學號  \n",
    "    name = '{} {}'.format(firstnames[i],lastnames[i])\n",
    "    coarse = random.randint(3,8)       #選課數\n",
    "    \n",
    "    for i in range(0,coarse):\n",
    "        credit = random.randint(1,4)   #學分\n",
    "        score = random.randint(0,100)  #分數\n",
    "        sgpa = getGPA(score)           #單科GPA\n",
    "        totalscore += round(credit*score,3)\n",
    "        totalcredit += credit\n",
    "        totalgpa += round(credit*sgpa,3)\n",
    "        \n",
    "    avgscore = round(totalscore/totalcredit,1) #百分制\n",
    "    gpa = round(totalgpa/totalcredit,1)        #GPA\n",
    "    \n",
    "    tup = (sid, name, coarse, avgscore, gpa, totalcredit)   #tuple\n",
    "    t1.append(tup)\n",
    "    t2.append((name, sid, coarse, avgscore, gpa, totalcredit))\n",
    "    t3.append((avgscore, sid , name, coarse, gpa, totalcredit))\n",
    "    \n",
    "    totalscore = 0                             #將數據歸零\n",
    "    totalcredit = 0                             \n",
    "    totalgpa = 0\n",
    "    \n",
    "print('sorted by ID:')                         #學號\n",
    "t1.sort()\n",
    "a = \"{:<7}  {:<18}  {:<9} {:<8} {:<7} {}\".format('學號','姓名','平均成績','選課數','學分數','GPA')\n",
    "print(a)\n",
    "for i in t1:\n",
    "    s1 = \"{}  {:<20s}  {:<12} {:<10} {:<10} {}\".format(i[0],i[1],i[3],i[2],i[5],i[4])\n",
    "    print(s1)\n",
    "    \n",
    "print('sorted by name:')                       #姓名\n",
    "t2.sort()\n",
    "print(a)\n",
    "for i in t2:\n",
    "    s2 = \"{}  {:<20s}  {:<12} {:<10} {:<10} {}\".format(i[1],i[0],i[3],i[2],i[5],i[4])\n",
    "    print(s2)\n",
    "    \n",
    "print('sorted by score:')                      #平均成績\n",
    "t3.sort()\n",
    "print(a)\n",
    "for i in t3:\n",
    "    if i[5]<10:\n",
    "        t3.remove(i)\n",
    "        continue\n",
    "    s3 = \"{}  {:<20s}  {:<12} {:<10} {:<10} {}\".format(i[1],i[2],i[0],i[3],i[5],i[4])\n",
    "    print(s3)"
   ]
  },
  {
   "cell_type": "code",
   "execution_count": null,
   "metadata": {},
   "outputs": [],
   "source": []
  }
 ],
 "metadata": {
  "anaconda-cloud": {},
  "kernelspec": {
   "display_name": "Python 3 (ipykernel)",
   "language": "python",
   "name": "python3"
  },
  "language_info": {
   "codemirror_mode": {
    "name": "ipython",
    "version": 3
   },
   "file_extension": ".py",
   "mimetype": "text/x-python",
   "name": "python",
   "nbconvert_exporter": "python",
   "pygments_lexer": "ipython3",
   "version": "3.9.7"
  }
 },
 "nbformat": 4,
 "nbformat_minor": 1
}
