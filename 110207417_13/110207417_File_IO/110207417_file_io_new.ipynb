{
 "cells": [
  {
   "cell_type": "markdown",
   "metadata": {},
   "source": [
    "# File input/output example\n",
    "\n",
    "## 以下的程式示範檔案的輸入與輸出\n",
    "\n",
    "### 輸入檔案：courses.csv\n",
    "\n",
    "CSV 代表 comma-separated values (以逗號分隔的值)，是一種利用純文字形式儲存表格資料的檔案格式。\n",
    "\n",
    "CSV 為純文字格式，因此便於使用一般的文字編輯器檢視內容，例如：\n",
    "\n",
    "<img src='CSV_1.png'>\n",
    "\n",
    "CSV 格式通常用於儲存表格資料，每一個欄位用逗號分隔，亦可利用 EXCEL 開啟檔案，例如：\n",
    "\n",
    "<img src='CSV_2.png'>"
   ]
  },
  {
   "cell_type": "markdown",
   "metadata": {},
   "source": [
    "## 第一個程式示範檔案的輸入\n",
    "\n",
    "1. 利用 open() 開啟檔案以供讀取資料內容\n",
    "2. 定義變數 count 作為計數器(counter)，用以記錄執行的次數\n",
    "3. 利用 for 迴圈讀取檔案中每一列資料\n",
    "4. 讀取的資料為 string (字串) 格式，每一列最後有跳行符號 (在 Windows 為 CR 與 LF，在 MacOS 為 LF)\n",
    "5. 利用 strip() 可以去除字串開頭和結尾的空白符號 (Space, TAB, CR, LF 等符號)\n",
    "\n",
    "參考資料：<br>\n",
    "    https://www.w3schools.com/python/ref_string_strip.asp <br>\n",
    "    https://zh.wikipedia.org/wiki/ASCII <br>\n",
    "    \n",
    "    ASCII 表格 (https://zh.wikipedia.org/wiki/ASCII#/media/File:USASCII_code_chart.png) \n",
    "    \n",
    "<img src=\"USASCII_code_chart.png\" width=\"600\">"
   ]
  },
  {
   "cell_type": "code",
   "execution_count": 1,
   "metadata": {},
   "outputs": [
    {
     "name": "stdout",
     "output_type": "stream",
     "text": [
      "count = 1, s = 000211012,3.0 ,政治學                                                      ,Political science,蔡中民                           ,TSAI CHUNG-MIN,政治系      ,Department of Political Science                                                                                                       ,一D56\n",
      "count = 2, s = 000213002,2.0 ,經濟學,Economics,王國樑、李為楨                       ,WANG KUO-LIANG/LEE WEI-CHEN,經濟系      ,Department of Economics                                                                                                               ,二78\n",
      "count = 3, s = 000216001,3.0 ,社會學,Sociology,姜以琳                           ,CHIANG YI-LIN,社會系      ,Department of Sociology                                                                                                               ,四D56\n",
      "count = 4, s = 000217002,3.0 ,個體經濟學,Microeconomics,江品慧                           ,CHIANG PIIN-HUEIH,經濟系      ,Department of Economics                                                                                                               ,二234\n",
      "count = 5, s = 000217012,3.0 ,個體經濟學,Microeconomics,陳鎮洲                           ,CHEN JENN-JOU,經濟系      ,Department of Economics                                                                                                               ,三234\n",
      "count = 6, s = 000217022,3.0 ,個體經濟學,Microeconomics,李慧琳                           ,LEE HUEY-LIN,經濟系      ,Department of Economics                                                                                                               ,一D56\n",
      "count = 7, s = 000217042,3.0 ,個體經濟學,Microeconomics,黃柏鈞                           ,HUANG PO-CHUN,經濟系      ,Department of Economics                                                                                                               ,三D56\n",
      "count = 8, s = 000218002,3.0 ,總體經濟學                                                  ,Macroeconomics,洪福聲                           ,HUNG FU-SHENG,經濟系      ,Department of Economics                                                                                                               ,四D56\n",
      "count = 9, s = 000218012,3.0 ,總體經濟學                                                  ,Macroeconomics,洪福聲                           ,HUNG FU-SHENG,經濟系      ,Department of Economics                                                                                                               ,二234\n",
      "count = 10, s = 000218042,3.0 ,總體經濟學                                                  ,Macroeconomics,黃明聖                           ,HWANG MING-SHENG,經濟系      ,Department of Economics                                                                                                               ,二234\n",
      "count = 11, s = 000218052,3.0 ,總體經濟學,Macroeconomics,吳致謙                           ,WU JHIH-CHIAN,經濟系      ,Department of Economics                                                                                                               ,三D56\n",
      "count = 12, s = 000219012,3.0 ,經濟學,Economics,朱美麗                           ,CHU MEI-LIE,經濟系      ,Department of Economics                                                                                                               ,四234\n",
      "count = 13, s = 000219022,3.0 ,經濟學                                                      ,Economics,翁永和                           ,WENG YUNGHO,經濟系      ,Department of Economics                                                                                                               ,四D56\n",
      "count = 14, s = 000219032,3.0 ,經濟學,Economics,王信實                           ,WANG SHINN-SHYR,經濟系      ,Department of Economics                                                                                                               ,五234\n",
      "count = 15, s = 000219042,3.0 ,經濟學,Economics,陳心蘋                           ,CHEN HSIN-PING,經濟系      ,Department of Economics                                                                                                               ,五D56\n",
      "count = 16, s = 000219052,3.0 ,經濟學                                                      ,Economics,李文傑                           ,LEE WEN-CHIEH,經濟系      ,Department of Economics                                                                                                               ,四234\n",
      "count = 17, s = 000219082,3.0 ,經濟學,Economics,廖郁萍                           ,LIAO YU-PING,經濟系      ,Department of Economics                                                                                                               ,三234\n",
      "count = 18, s = 000219112,3.0 ,經濟學,Economics,彭喜樞                           ,PENG SHI SHU,經濟系      ,Department of Economics                                                                                                               ,三D56\n",
      "count = 19, s = 000219122,3.0 ,經濟學,Economics,胡偉民                           ,HU WEI-MIN,經濟系      ,Department of Economics                                                                                                               ,一D56\n",
      "count = 20, s = 000219512,3.0 ,經濟學                                                      ,Economics,吳文傑                           ,WU WEN-CHIEH,國貿系      ,Department of International Business                                                                                                  ,一D56\n",
      "count = 21, s = 000219532,3.0 ,經濟學                                                      ,Economics,林信助                           ,LIN SHINN-JUH,國貿系      ,Department of International Business                                                                                                  ,二234\n",
      "count = 22, s = 000219542,3.0 ,經濟學                                                      ,Economics,鄭鴻章                           ,CHENG HUNG-CHANG,國貿系      ,Department of International Business                                                                                                  ,二234\n",
      "count = 23, s = 000219552,3.0 ,經濟學                                                      ,Economics,饒秀華                           ,RAU HSIU-HUA,國貿系      ,Department of International Business                                                                                                  ,三234\n"
     ]
    }
   ],
   "source": [
    "# open the input file\n",
    "fin = open('courses.csv', encoding='big5hkscs')\n",
    "\n",
    "# initialize the counter\n",
    "count = 0\n",
    "\n",
    "# get one line at a time from the input file\n",
    "for line in fin:\n",
    "    s = line.strip()    # strip off the trailing spaces\n",
    "    \n",
    "    # increment the counter\n",
    "    count += 1   # count = count + 1\n",
    "    \n",
    "    # print to the screen\n",
    "    print('count = {}, s = {}'.format(count, s))"
   ]
  },
  {
   "cell_type": "markdown",
   "metadata": {},
   "source": [
    "## 在 Jupyter Notebook 中使用命令提示字元指令\n",
    "\n",
    "Windows 的命令提示字元有一個 \"type\" 指令可以將檔案內容在螢幕上列印出來，在Jupyter Notebook 中若要使用命令提示字元的指令可以輸入：<br>\n",
    "\n",
    "!<指令名稱> <br>\n",
    "\n",
    "例如：利用 \"!type course.csv\" 指令列印檔案的內容<br>"
   ]
  },
  {
   "cell_type": "code",
   "execution_count": 2,
   "metadata": {},
   "outputs": [
    {
     "name": "stdout",
     "output_type": "stream",
     "text": [
      "000211012,3.0 ,政治學                                                      ,Political science,蔡中民                           ,TSAI CHUNG-MIN,政治系      ,Department of Political Science                                                                                                       ,一D56         \n",
      "000213002,2.0 ,經濟學,Economics,王國樑、李為楨                       ,WANG KUO-LIANG/LEE WEI-CHEN,經濟系      ,Department of Economics                                                                                                               ,二78          \n",
      "000216001,3.0 ,社會學,Sociology,姜以琳                           ,CHIANG YI-LIN,社會系      ,Department of Sociology                                                                                                               ,四D56         \n",
      "000217002,3.0 ,個體經濟學,Microeconomics,江品慧                           ,CHIANG PIIN-HUEIH,經濟系      ,Department of Economics                                                                                                               ,二234         \n",
      "000217012,3.0 ,個體經濟學,Microeconomics,陳鎮洲                           ,CHEN JENN-JOU,經濟系      ,Department of Economics                                                                                                               ,三234         \n",
      "000217022,3.0 ,個體經濟學,Microeconomics,李慧琳                           ,LEE HUEY-LIN,經濟系      ,Department of Economics                                                                                                               ,一D56         \n",
      "000217042,3.0 ,個體經濟學,Microeconomics,黃柏鈞                           ,HUANG PO-CHUN,經濟系      ,Department of Economics                                                                                                               ,三D56         \n",
      "000218002,3.0 ,總體經濟學                                                  ,Macroeconomics,洪福聲                           ,HUNG FU-SHENG,經濟系      ,Department of Economics                                                                                                               ,四D56         \n",
      "000218012,3.0 ,總體經濟學                                                  ,Macroeconomics,洪福聲                           ,HUNG FU-SHENG,經濟系      ,Department of Economics                                                                                                               ,二234         \n",
      "000218042,3.0 ,總體經濟學                                                  ,Macroeconomics,黃明聖                           ,HWANG MING-SHENG,經濟系      ,Department of Economics                                                                                                               ,二234         \n",
      "000218052,3.0 ,總體經濟學,Macroeconomics,吳致謙                           ,WU JHIH-CHIAN,經濟系      ,Department of Economics                                                                                                               ,三D56         \n",
      "000219012,3.0 ,經濟學,Economics,朱美麗                           ,CHU MEI-LIE,經濟系      ,Department of Economics                                                                                                               ,四234         \n",
      "000219022,3.0 ,經濟學                                                      ,Economics,翁永和                           ,WENG YUNGHO,經濟系      ,Department of Economics                                                                                                               ,四D56         \n",
      "000219032,3.0 ,經濟學,Economics,王信實                           ,WANG SHINN-SHYR,經濟系      ,Department of Economics                                                                                                               ,五234         \n",
      "000219042,3.0 ,經濟學,Economics,陳心蘋                           ,CHEN HSIN-PING,經濟系      ,Department of Economics                                                                                                               ,五D56         \n",
      "000219052,3.0 ,經濟學                                                      ,Economics,李文傑                           ,LEE WEN-CHIEH,經濟系      ,Department of Economics                                                                                                               ,四234         \n",
      "000219082,3.0 ,經濟學,Economics,廖郁萍                           ,LIAO YU-PING,經濟系      ,Department of Economics                                                                                                               ,三234         \n",
      "000219112,3.0 ,經濟學,Economics,彭喜樞                           ,PENG SHI SHU,經濟系      ,Department of Economics                                                                                                               ,三D56         \n",
      "000219122,3.0 ,經濟學,Economics,胡偉民                           ,HU WEI-MIN,經濟系      ,Department of Economics                                                                                                               ,一D56         \n",
      "000219512,3.0 ,經濟學                                                      ,Economics,吳文傑                           ,WU WEN-CHIEH,國貿系      ,Department of International Business                                                                                                  ,一D56         \n",
      "000219532,3.0 ,經濟學                                                      ,Economics,林信助                           ,LIN SHINN-JUH,國貿系      ,Department of International Business                                                                                                  ,二234         \n",
      "000219542,3.0 ,經濟學                                                      ,Economics,鄭鴻章                           ,CHENG HUNG-CHANG,國貿系      ,Department of International Business                                                                                                  ,二234         \n",
      "000219552,3.0 ,經濟學                                                      ,Economics,饒秀華                           ,RAU HSIU-HUA,國貿系      ,Department of International Business                                                                                                  ,三234         \n"
     ]
    }
   ],
   "source": [
    "!type courses.csv"
   ]
  },
  {
   "cell_type": "markdown",
   "metadata": {},
   "source": [
    "## 第二個程式示範檔案的輸入，以及如何分割輸入資料成為數個欄位。\n",
    "\n",
    "1. 利用 open() 開啟檔案以供讀取資料內容\n",
    "2. 定義變數 count 作為計數器(counter)，用以記錄執行的次數\n",
    "3. 利用 for 迴圈讀取檔案中每一列資料\n",
    "4. 讀取的資料為 string (字串) 格式，每一列最後有跳行符號 (在 Windows 為 CR 與 LF，在 MacOS 為 LF)\n",
    "5. 利用 strip() 可以去除字串開頭和結尾的空白符號 (Space, TAB, CR, LF 等符號)\n",
    "6. 利用 split(',') 分離以逗號隔開的字串，其結果為包含各欄位資料的 list (串列)，例如：t = s.split(',')\n",
    "7. 一個 list 包含數個 elements (元素)，或稱 items (項目)，例如：t=[\"000211012\",\"3\",\"政治學\",\"Political science\"]\n",
    "8. 欲取得 list 中的元素可利用 index (索引，須為整數值)，若有$n$個元素，index值介於0和$n-1$之間，即 $0 \\le index \\le n-1$，例如：t有4個元素，個別元素可利用 t[0],t[1],t[2],t[3] 取得。"
   ]
  },
  {
   "cell_type": "code",
   "execution_count": 3,
   "metadata": {},
   "outputs": [
    {
     "name": "stdout",
     "output_type": "stream",
     "text": [
      "count = 1: 000211012, 政治學, 蔡中民\n",
      "count = 2: 000213002, 經濟學, 王國樑、李為楨\n",
      "count = 3: 000216001, 社會學, 姜以琳\n",
      "count = 4: 000217002, 個體經濟學, 江品慧\n",
      "count = 5: 000217012, 個體經濟學, 陳鎮洲\n",
      "count = 6: 000217022, 個體經濟學, 李慧琳\n",
      "count = 7: 000217042, 個體經濟學, 黃柏鈞\n",
      "count = 8: 000218002, 總體經濟學, 洪福聲\n",
      "count = 9: 000218012, 總體經濟學, 洪福聲\n",
      "count = 10: 000218042, 總體經濟學, 黃明聖\n",
      "count = 11: 000218052, 總體經濟學, 吳致謙\n",
      "count = 12: 000219012, 經濟學, 朱美麗\n",
      "count = 13: 000219022, 經濟學, 翁永和\n",
      "count = 14: 000219032, 經濟學, 王信實\n",
      "count = 15: 000219042, 經濟學, 陳心蘋\n",
      "count = 16: 000219052, 經濟學, 李文傑\n",
      "count = 17: 000219082, 經濟學, 廖郁萍\n",
      "count = 18: 000219112, 經濟學, 彭喜樞\n",
      "count = 19: 000219122, 經濟學, 胡偉民\n",
      "count = 20: 000219512, 經濟學, 吳文傑\n",
      "count = 21: 000219532, 經濟學, 林信助\n",
      "count = 22: 000219542, 經濟學, 鄭鴻章\n",
      "count = 23: 000219552, 經濟學, 饒秀華\n"
     ]
    }
   ],
   "source": [
    "# open the input file\n",
    "fin = open('courses.csv')\n",
    "\n",
    "# initialize the counter\n",
    "count = 0\n",
    "\n",
    "# get one line at a time from the input file\n",
    "for line in fin:\n",
    "    s = line.strip()    # strip off the trailing spaces\n",
    "    \n",
    "    t = s.split(',')    # split the input line into fields\n",
    "    \n",
    "    # get specific fields from the input line\n",
    "    course_id = t[0]\n",
    "    course_name = t[2].strip()\n",
    "    teacher = t[4].strip()\n",
    "    \n",
    "    # increment the counter\n",
    "    count += 1\n",
    "    \n",
    "    # print to the screen\n",
    "    print('count = {}: {}, {}, {}'.format(count, course_id, course_name, teacher))"
   ]
  },
  {
   "cell_type": "markdown",
   "metadata": {},
   "source": [
    "## 第三個程式示範檔案的輸入，以及如何分割輸入資料成為數個欄位，並將結果輸出到另一個檔案。\n",
    "\n",
    "1. 利用 open(file_name) 開啟檔案，預設模式為 read，可供讀取資料內容，例如：fin = open('courses.csv')。\n",
    "2. 利用 open(file_name, 'w') 開啟檔案，模式設定為 write，可供寫入資料，例如：fout = open('output.csv', 'w')。\n",
    "3. 利用 print('Hello, world!') 可在螢幕列印資料，預設列印之後會跳行。\n",
    "4. 利用 fout.write('Hello, world!\\n') 可將資料輸出到檔案，須加上 '\\n' 才會輸出跳行符號 (在 Windows 為 CR 與 LF，在 MacOS 為 LF)。\n",
    "5. 已經開啟的檔案若不須使用應呼叫 close() 關閉檔案，在檔案寫入資料的指令被執行後通常會在記憶體中暫存輸出的資料，若檔案沒有正常關閉(例如：程式不正常結束，因而沒有關閉檔案)，在記憶體中的資料有可能流失，並未真正寫入檔案中。"
   ]
  },
  {
   "cell_type": "code",
   "execution_count": 4,
   "metadata": {},
   "outputs": [
    {
     "name": "stdout",
     "output_type": "stream",
     "text": [
      "count = 01: 000211012, 政治學, 蔡中民\n",
      "count = 02: 000213002, 經濟學, 王國樑、李為楨\n",
      "count = 03: 000216001, 社會學, 姜以琳\n",
      "count = 04: 000217002, 個體經濟學, 江品慧\n",
      "count = 05: 000217012, 個體經濟學, 陳鎮洲\n",
      "count = 06: 000217022, 個體經濟學, 李慧琳\n",
      "count = 07: 000217042, 個體經濟學, 黃柏鈞\n",
      "count = 08: 000218002, 總體經濟學, 洪福聲\n",
      "count = 09: 000218012, 總體經濟學, 洪福聲\n",
      "count = 10: 000218042, 總體經濟學, 黃明聖\n",
      "count = 11: 000218052, 總體經濟學, 吳致謙\n",
      "count = 12: 000219012, 經濟學, 朱美麗\n",
      "count = 13: 000219022, 經濟學, 翁永和\n",
      "count = 14: 000219032, 經濟學, 王信實\n",
      "count = 15: 000219042, 經濟學, 陳心蘋\n",
      "count = 16: 000219052, 經濟學, 李文傑\n",
      "count = 17: 000219082, 經濟學, 廖郁萍\n",
      "count = 18: 000219112, 經濟學, 彭喜樞\n",
      "count = 19: 000219122, 經濟學, 胡偉民\n",
      "count = 20: 000219512, 經濟學, 吳文傑\n",
      "count = 21: 000219532, 經濟學, 林信助\n",
      "count = 22: 000219542, 經濟學, 鄭鴻章\n",
      "count = 23: 000219552, 經濟學, 饒秀華\n"
     ]
    }
   ],
   "source": [
    "# open the input file\n",
    "fin = open('courses.csv')\n",
    "\n",
    "# open the output file\n",
    "fout = open('output.csv', 'w')\n",
    "\n",
    "# initialize the counter\n",
    "count = 0\n",
    "\n",
    "# get one line at a time from the input file\n",
    "for line in fin:\n",
    "    s = line.strip()    # strip off the trailing spaces\n",
    "    \n",
    "    t = s.split(',')    # split the input line into fields\n",
    "    \n",
    "    # get specific fields from the input line\n",
    "    course_id = t[0]\n",
    "    course_name = t[2].strip()\n",
    "    teacher = t[4].strip()\n",
    "    \n",
    "    # increment the counter\n",
    "    count += 1\n",
    "    \n",
    "    # print to the screen\n",
    "    print('count = {:02d}: {}, {}, {}'.format(count, course_id, course_name, teacher))\n",
    "    \n",
    "    # print to the output file\n",
    "    fout.write('count = {}: {}, {}, {}\\n'.format(count, course_id, course_name, teacher))\n",
    "    \n",
    "fout.close()   # close the output file\n",
    "fin.close()    # close the input file"
   ]
  },
  {
   "cell_type": "markdown",
   "metadata": {},
   "source": [
    "### 利用 \"!type output.csv\" 指令列印檔案的內容"
   ]
  },
  {
   "cell_type": "code",
   "execution_count": 5,
   "metadata": {},
   "outputs": [
    {
     "name": "stdout",
     "output_type": "stream",
     "text": [
      "count = 1: 000211012, 政治學, 蔡中民\n",
      "count = 2: 000213002, 經濟學, 王國樑、李為楨\n",
      "count = 3: 000216001, 社會學, 姜以琳\n",
      "count = 4: 000217002, 個體經濟學, 江品慧\n",
      "count = 5: 000217012, 個體經濟學, 陳鎮洲\n",
      "count = 6: 000217022, 個體經濟學, 李慧琳\n",
      "count = 7: 000217042, 個體經濟學, 黃柏鈞\n",
      "count = 8: 000218002, 總體經濟學, 洪福聲\n",
      "count = 9: 000218012, 總體經濟學, 洪福聲\n",
      "count = 10: 000218042, 總體經濟學, 黃明聖\n",
      "count = 11: 000218052, 總體經濟學, 吳致謙\n",
      "count = 12: 000219012, 經濟學, 朱美麗\n",
      "count = 13: 000219022, 經濟學, 翁永和\n",
      "count = 14: 000219032, 經濟學, 王信實\n",
      "count = 15: 000219042, 經濟學, 陳心蘋\n",
      "count = 16: 000219052, 經濟學, 李文傑\n",
      "count = 17: 000219082, 經濟學, 廖郁萍\n",
      "count = 18: 000219112, 經濟學, 彭喜樞\n",
      "count = 19: 000219122, 經濟學, 胡偉民\n",
      "count = 20: 000219512, 經濟學, 吳文傑\n",
      "count = 21: 000219532, 經濟學, 林信助\n",
      "count = 22: 000219542, 經濟學, 鄭鴻章\n",
      "count = 23: 000219552, 經濟學, 饒秀華\n"
     ]
    }
   ],
   "source": [
    "!type output.csv"
   ]
  },
  {
   "cell_type": "markdown",
   "metadata": {},
   "source": [
    "## 第四個程式示範檔案的輸入，以及如何分割輸入資料成為數個欄位，在迴圈中構成輸出檔案的名稱，並將每一列輸入資料的部分欄位輸出到檔案中。\n",
    "\n",
    "1. 利用 open(file_name) 開啟檔案，預設模式為 read，可供讀取資料內容，例如：fin = open('courses.csv')。\n",
    "2. 利用 open(file_name, 'w') 開啟檔案，模式設定為 write，可供寫入資料，例如：fout = open('output.csv', 'w')。\n",
    "3. 在 for 迴圈中利用 outfile = '{}.txt'.format(course_id) 構成輸出檔案之名稱，開啟檔案，輸出資料，然後關閉檔案。\n",
    "4. 迴圈結束後關閉輸入檔案。"
   ]
  },
  {
   "cell_type": "code",
   "execution_count": 6,
   "metadata": {},
   "outputs": [
    {
     "name": "stdout",
     "output_type": "stream",
     "text": [
      "count = 1: 000211012, 政治學, 蔡中民\n",
      "count = 2: 000213002, 經濟學, 王國樑、李為楨\n",
      "count = 3: 000216001, 社會學, 姜以琳\n",
      "count = 4: 000217002, 個體經濟學, 江品慧\n",
      "count = 5: 000217012, 個體經濟學, 陳鎮洲\n",
      "count = 6: 000217022, 個體經濟學, 李慧琳\n",
      "count = 7: 000217042, 個體經濟學, 黃柏鈞\n",
      "count = 8: 000218002, 總體經濟學, 洪福聲\n",
      "count = 9: 000218012, 總體經濟學, 洪福聲\n",
      "count = 10: 000218042, 總體經濟學, 黃明聖\n",
      "count = 11: 000218052, 總體經濟學, 吳致謙\n",
      "count = 12: 000219012, 經濟學, 朱美麗\n",
      "count = 13: 000219022, 經濟學, 翁永和\n",
      "count = 14: 000219032, 經濟學, 王信實\n",
      "count = 15: 000219042, 經濟學, 陳心蘋\n",
      "count = 16: 000219052, 經濟學, 李文傑\n",
      "count = 17: 000219082, 經濟學, 廖郁萍\n",
      "count = 18: 000219112, 經濟學, 彭喜樞\n",
      "count = 19: 000219122, 經濟學, 胡偉民\n",
      "count = 20: 000219512, 經濟學, 吳文傑\n",
      "count = 21: 000219532, 經濟學, 林信助\n",
      "count = 22: 000219542, 經濟學, 鄭鴻章\n",
      "count = 23: 000219552, 經濟學, 饒秀華\n"
     ]
    }
   ],
   "source": [
    "# open the input file\n",
    "fin = open('courses.csv')\n",
    "\n",
    "# initialize the counter\n",
    "count = 0\n",
    "\n",
    "# get one line at a time from the input file\n",
    "for line in fin:\n",
    "    s = line.strip()    # strip off the trailing spaces\n",
    "    \n",
    "    t = s.split(',')    # split the input line into fields\n",
    "    \n",
    "    # get specific fields from the input line\n",
    "    course_id = t[0]\n",
    "    course_name = t[2].strip()\n",
    "    teacher = t[4].strip()\n",
    "    \n",
    "    # increment the counter\n",
    "    count += 1\n",
    "    \n",
    "    # print to the screen\n",
    "    print('count = {}: {}, {}, {}'.format(count, course_id, course_name, teacher))\n",
    "    \n",
    "    # open the output file\n",
    "    outfile = '{}.txt'.format(course_id)\n",
    "    fout = open(outfile, 'w')\n",
    "\n",
    "    # print to the output file\n",
    "    fout.write('count = {}: {}, {}, {}\\n'.format(count, course_id, course_name, teacher))\n",
    "    \n",
    "    # close the output file\n",
    "    fout.close()\n",
    "    \n",
    "fin.close()    # close the input file"
   ]
  },
  {
   "cell_type": "markdown",
   "metadata": {},
   "source": [
    "### 利用 \"!dir *.txt\" 指令列出附檔名為 \"txt\" 的所有檔案\n",
    "### 利用 \"!type file_name\" 指令列印檔案的內容"
   ]
  },
  {
   "cell_type": "code",
   "execution_count": 7,
   "metadata": {},
   "outputs": [
    {
     "name": "stdout",
     "output_type": "stream",
     "text": [
      " 磁碟區 E 中的磁碟是 DATA\n",
      " 磁碟區序號:  30E7-0E19\n",
      "\n",
      " e:\\Lectures\\Programming110B\\notebook\\File_IO 的目錄\n",
      "\n",
      "2022/05/28  下午 07:27                38 000211012.txt\n",
      "2022/05/28  下午 07:27                46 000213002.txt\n",
      "2022/05/28  下午 07:27                38 000216001.txt\n",
      "2022/05/28  下午 07:27                42 000217002.txt\n",
      "2022/05/28  下午 07:27                42 000217012.txt\n",
      "2022/05/28  下午 07:27                42 000217022.txt\n",
      "2022/05/28  下午 07:27                42 000217042.txt\n",
      "2022/05/28  下午 07:27                42 000218002.txt\n",
      "2022/05/28  下午 07:27                42 000218012.txt\n",
      "2022/05/28  下午 07:27                43 000218042.txt\n",
      "2022/05/28  下午 07:27                43 000218052.txt\n",
      "2022/05/28  下午 07:27                39 000219012.txt\n",
      "2022/05/28  下午 07:27                39 000219022.txt\n",
      "2022/05/28  下午 07:27                39 000219032.txt\n",
      "2022/05/28  下午 07:27                39 000219042.txt\n",
      "2022/05/28  下午 07:27                39 000219052.txt\n",
      "2022/05/28  下午 07:27                39 000219082.txt\n",
      "2022/05/28  下午 07:27                39 000219112.txt\n",
      "2022/05/28  下午 07:27                39 000219122.txt\n",
      "2022/05/28  下午 07:27                39 000219512.txt\n",
      "2022/05/28  下午 07:27                39 000219532.txt\n",
      "2022/05/28  下午 07:27                39 000219542.txt\n",
      "2022/05/28  下午 07:27                39 000219552.txt\n",
      "              23 個檔案             928 位元組\n",
      "               0 個目錄  1,591,807,827,968 位元組可用\n"
     ]
    }
   ],
   "source": [
    "!dir *.txt"
   ]
  },
  {
   "cell_type": "code",
   "execution_count": 8,
   "metadata": {},
   "outputs": [
    {
     "name": "stdout",
     "output_type": "stream",
     "text": [
      "count = 1: 000211012, 政治學, 蔡中民\n"
     ]
    }
   ],
   "source": [
    "!type 000211012.txt"
   ]
  },
  {
   "cell_type": "markdown",
   "metadata": {},
   "source": [
    "## 第五個程式示範檔案的輸入和輸出，以及如何利用字串構成輸出資料的模板。\n",
    "\n",
    "輸出資料的時候使用一個標準的模板，將欄位資料填入對應的位置。<br>\n",
    "模板內容範例：<br>\n",
    "```\n",
    "data = '''Course ID: {}\n",
    "Course Name: {}\n",
    "Instructor: {}\n",
    "'''\n",
    "```\n",
    "\n",
    "利用以下指令填入資料\n",
    "```\n",
    "data.format(\"000213002\", \"經濟學\", \"王國樑、李為楨\")\n",
    "```\n",
    "\n",
    "填入對應的欄位之結果：<br>\n",
    "```\n",
    "Course ID: 000213002\n",
    "Course Name: 經濟學\n",
    "Instructor: 王國樑、李為楨\n",
    "```"
   ]
  },
  {
   "cell_type": "code",
   "execution_count": 9,
   "metadata": {},
   "outputs": [
    {
     "name": "stdout",
     "output_type": "stream",
     "text": [
      "count = 1: 000211012, 政治學, 蔡中民\n",
      "count = 2: 000213002, 經濟學, 王國樑、李為楨\n",
      "count = 3: 000216001, 社會學, 姜以琳\n",
      "count = 4: 000217002, 個體經濟學, 江品慧\n",
      "count = 5: 000217012, 個體經濟學, 陳鎮洲\n",
      "count = 6: 000217022, 個體經濟學, 李慧琳\n",
      "count = 7: 000217042, 個體經濟學, 黃柏鈞\n",
      "count = 8: 000218002, 總體經濟學, 洪福聲\n",
      "count = 9: 000218012, 總體經濟學, 洪福聲\n",
      "count = 10: 000218042, 總體經濟學, 黃明聖\n",
      "count = 11: 000218052, 總體經濟學, 吳致謙\n",
      "count = 12: 000219012, 經濟學, 朱美麗\n",
      "count = 13: 000219022, 經濟學, 翁永和\n",
      "count = 14: 000219032, 經濟學, 王信實\n",
      "count = 15: 000219042, 經濟學, 陳心蘋\n",
      "count = 16: 000219052, 經濟學, 李文傑\n",
      "count = 17: 000219082, 經濟學, 廖郁萍\n",
      "count = 18: 000219112, 經濟學, 彭喜樞\n",
      "count = 19: 000219122, 經濟學, 胡偉民\n",
      "count = 20: 000219512, 經濟學, 吳文傑\n",
      "count = 21: 000219532, 經濟學, 林信助\n",
      "count = 22: 000219542, 經濟學, 鄭鴻章\n",
      "count = 23: 000219552, 經濟學, 饒秀華\n"
     ]
    }
   ],
   "source": [
    "# set a template for output text\n",
    "data = '''Course ID: {}\n",
    "Course Name: {}\n",
    "Instructor: {}\n",
    "'''\n",
    "\n",
    "# open the input file\n",
    "fin = open('courses.csv')\n",
    "\n",
    "# initialize the counter\n",
    "count = 0\n",
    "\n",
    "# get one line at a time from the input file\n",
    "for line in fin:\n",
    "    s = line.strip()    # strip off the trailing spaces\n",
    "    \n",
    "    t = s.split(',')    # split the input line into fields\n",
    "    \n",
    "    # get specific fields from the input line\n",
    "    course_id = t[0]\n",
    "    course_name = t[2].strip()\n",
    "    teacher = t[4].strip()\n",
    "    \n",
    "    # increment the counter\n",
    "    count += 1\n",
    "    \n",
    "    # print to the screen\n",
    "    print('count = {}: {}, {}, {}'.format(count, course_id, course_name, teacher))\n",
    "    \n",
    "    # open the output file\n",
    "    outfile = '{}.dat'.format(course_id)\n",
    "    fout = open(outfile, 'w')\n",
    "\n",
    "    # print to the output file\n",
    "    fout.write(data.format(course_id, course_name, teacher))\n",
    "    \n",
    "    # close the output file\n",
    "    fout.close()\n",
    "    \n",
    "fin.close()    # close the input file"
   ]
  },
  {
   "cell_type": "code",
   "execution_count": 10,
   "metadata": {},
   "outputs": [
    {
     "name": "stdout",
     "output_type": "stream",
     "text": [
      " 磁碟區 E 中的磁碟是 DATA\n",
      " 磁碟區序號:  30E7-0E19\n",
      "\n",
      " e:\\Lectures\\Programming110B\\notebook\\File_IO 的目錄\n",
      "\n",
      "2022/05/28  下午 07:28                63 000211012.dat\n",
      "2022/05/28  下午 07:28                71 000213002.dat\n",
      "2022/05/28  下午 07:28                63 000216001.dat\n",
      "2022/05/28  下午 07:28                67 000217002.dat\n",
      "2022/05/28  下午 07:28                67 000217012.dat\n",
      "2022/05/28  下午 07:28                67 000217022.dat\n",
      "2022/05/28  下午 07:28                67 000217042.dat\n",
      "2022/05/28  下午 07:28                67 000218002.dat\n",
      "2022/05/28  下午 07:28                67 000218012.dat\n",
      "2022/05/28  下午 07:28                67 000218042.dat\n",
      "2022/05/28  下午 07:28                67 000218052.dat\n",
      "2022/05/28  下午 07:28                63 000219012.dat\n",
      "2022/05/28  下午 07:28                63 000219022.dat\n",
      "2022/05/28  下午 07:28                63 000219032.dat\n",
      "2022/05/28  下午 07:28                63 000219042.dat\n",
      "2022/05/28  下午 07:28                63 000219052.dat\n",
      "2022/05/28  下午 07:28                63 000219082.dat\n",
      "2022/05/28  下午 07:28                63 000219112.dat\n",
      "2022/05/28  下午 07:28                63 000219122.dat\n",
      "2022/05/28  下午 07:28                63 000219512.dat\n",
      "2022/05/28  下午 07:28                63 000219532.dat\n",
      "2022/05/28  下午 07:28                63 000219542.dat\n",
      "2022/05/28  下午 07:28                63 000219552.dat\n",
      "              23 個檔案           1,489 位元組\n",
      "               0 個目錄  1,591,807,827,968 位元組可用\n"
     ]
    }
   ],
   "source": [
    "!dir *.dat"
   ]
  },
  {
   "cell_type": "code",
   "execution_count": 11,
   "metadata": {},
   "outputs": [
    {
     "name": "stdout",
     "output_type": "stream",
     "text": [
      "Course ID: 000213002\n",
      "Course Name: 經濟學\n",
      "Instructor: 王國樑、李為楨\n"
     ]
    }
   ],
   "source": [
    "!type 000213002.dat"
   ]
  },
  {
   "cell_type": "markdown",
   "metadata": {},
   "source": [
    "## 以下程式示範如何產生 QR-Code 檔案\n",
    "\n",
    "1. 若尚未安裝 qrcode 套件，需先利用 Anaconda Prompt 輸入 \"pip install qrcode\" 安裝套件。\n",
    "2. 若尚未安裝 pillow 套件，需先利用 Anaconda Prompt 輸入 \"pip install pillow\" 安裝套件。\n",
    "3. 利用 os.path.exists(name) 可檢查檔案或目錄(資料夾)是否存在。\n",
    "4. 利用 os.mkdir(name) 可產生新的目錄(資料夾)。\n",
    "5. 產生 QR-Code 影像。\n",
    "6. 根據 LOGO 和 QR-Code 影像的尺寸計算將 LOGO 貼在 QR-Code 影像的位置，並將 LOGO 影像貼在 QR-Code 影像之上，並儲存檔案。\n",
    "\n",
    "<img src=\"install.png\" width=\"800\">"
   ]
  },
  {
   "cell_type": "code",
   "execution_count": 12,
   "metadata": {
    "scrolled": true
   },
   "outputs": [
    {
     "name": "stdout",
     "output_type": "stream",
     "text": [
      "creating file: images/000211012.png, QRCode image size:(540, 540)\n",
      "creating file: images/000213002.png, QRCode image size:(540, 540)\n",
      "creating file: images/000216001.png, QRCode image size:(540, 540)\n",
      "creating file: images/000217002.png, QRCode image size:(540, 540)\n",
      "creating file: images/000217012.png, QRCode image size:(540, 540)\n",
      "creating file: images/000217022.png, QRCode image size:(540, 540)\n",
      "creating file: images/000217042.png, QRCode image size:(540, 540)\n",
      "creating file: images/000218002.png, QRCode image size:(540, 540)\n",
      "creating file: images/000218012.png, QRCode image size:(540, 540)\n",
      "creating file: images/000218042.png, QRCode image size:(540, 540)\n",
      "creating file: images/000218052.png, QRCode image size:(540, 540)\n",
      "creating file: images/000219012.png, QRCode image size:(540, 540)\n",
      "creating file: images/000219022.png, QRCode image size:(540, 540)\n",
      "creating file: images/000219032.png, QRCode image size:(540, 540)\n",
      "creating file: images/000219042.png, QRCode image size:(540, 540)\n",
      "creating file: images/000219052.png, QRCode image size:(540, 540)\n",
      "creating file: images/000219082.png, QRCode image size:(540, 540)\n",
      "creating file: images/000219112.png, QRCode image size:(540, 540)\n",
      "creating file: images/000219122.png, QRCode image size:(540, 540)\n",
      "creating file: images/000219512.png, QRCode image size:(540, 540)\n",
      "creating file: images/000219532.png, QRCode image size:(540, 540)\n",
      "creating file: images/000219542.png, QRCode image size:(540, 540)\n",
      "creating file: images/000219552.png, QRCode image size:(540, 540)\n",
      "done\n"
     ]
    }
   ],
   "source": [
    "import qrcode\n",
    "from PIL import Image\n",
    "import os\n",
    "\n",
    "qr = qrcode.QRCode(\n",
    "    version=1,\n",
    "    error_correction=qrcode.constants.ERROR_CORRECT_H,\n",
    "    box_size=12,\n",
    "    border=4\n",
    ")\n",
    "\n",
    "out_dir = 'images'        # output directory\n",
    "\n",
    "# if the directory does not exist, create the directory\n",
    "if not os.path.exists(out_dir):\n",
    "    os.mkdir(out_dir)\n",
    "\n",
    "in_file = 'courses.csv'   # courses list\n",
    "\n",
    "student_id = '108207400'  # your student ID\n",
    "\n",
    "fin = open(in_file)\n",
    "\n",
    "for line in fin:\n",
    "    s = line.strip()\n",
    "    t = s.split(',')\n",
    "    \n",
    "    # construct the output file name, including the directory name\n",
    "    course = t[0]\n",
    "    out_file = '{}/{}.png'.format(out_dir, course)\n",
    "    \n",
    "    # create a QR-Code image\n",
    "    data = 'Course: {}, Student ID: {}'.format(course, student_id)\n",
    "    qr.clear()\n",
    "    qr.add_data(data)\n",
    "    qr.make(fit=True)\n",
    "    img = qr.make_image().convert('RGB')\n",
    "    print('creating file: {}, QRCode image size:{}'.format(out_file, img.size))\n",
    "    \n",
    "    # read the LOGO image\n",
    "    logo = Image.open('nccu_logo_4.jpg')\n",
    "    \n",
    "    # calculate the position for pasting the LOGO on QR-Code image\n",
    "    pos = ((img.size[0] - logo.size[0]) // 2, (img.size[1] - logo.size[1]) // 2)\n",
    "    \n",
    "    # past the LOGO image and save the result to a file\n",
    "    img.paste(logo, pos)\n",
    "    img.save(out_file)\n",
    "    \n",
    "print('done')"
   ]
  },
  {
   "cell_type": "markdown",
   "metadata": {},
   "source": [
    "### 產生的 QR-Code 檔案<br>\n",
    "\n",
    "<img src=\"images/000211012.png\" width=\"300\">"
   ]
  },
  {
   "cell_type": "code",
   "execution_count": 10,
   "metadata": {},
   "outputs": [
    {
     "name": "stdout",
     "output_type": "stream",
     "text": [
      "creating file: images/000213002.png, QRCode image size:(636, 636)\n",
      "creating file: images/000216001.png, QRCode image size:(636, 636)\n",
      "creating file: images/000217002.png, QRCode image size:(636, 636)\n",
      "creating file: images/000217012.png, QRCode image size:(636, 636)\n",
      "creating file: images/000217022.png, QRCode image size:(636, 636)\n",
      "creating file: images/000217042.png, QRCode image size:(636, 636)\n",
      "creating file: images/000218002.png, QRCode image size:(636, 636)\n",
      "creating file: images/000218012.png, QRCode image size:(636, 636)\n",
      "creating file: images/000218042.png, QRCode image size:(636, 636)\n",
      "creating file: images/000218052.png, QRCode image size:(636, 636)\n",
      "creating file: images/000219012.png, QRCode image size:(636, 636)\n",
      "creating file: images/000219022.png, QRCode image size:(636, 636)\n",
      "creating file: images/000219032.png, QRCode image size:(636, 636)\n",
      "creating file: images/000219042.png, QRCode image size:(636, 636)\n",
      "creating file: images/000219052.png, QRCode image size:(636, 636)\n",
      "creating file: images/000219082.png, QRCode image size:(636, 636)\n",
      "creating file: images/000219112.png, QRCode image size:(636, 636)\n",
      "creating file: images/000219122.png, QRCode image size:(636, 636)\n",
      "creating file: images/000219512.png, QRCode image size:(636, 636)\n",
      "creating file: images/000219532.png, QRCode image size:(636, 636)\n",
      "creating file: images/000219542.png, QRCode image size:(636, 636)\n",
      "creating file: images/000219552.png, QRCode image size:(636, 636)\n",
      "done\n"
     ]
    }
   ],
   "source": [
    "import qrcode\n",
    "from PIL import Image\n",
    "import os\n",
    "qr_big= qrcode.QRCode(error_correction=qrcode.constants.ERROR_CORRECT_H,version=1,\n",
    "    box_size=14,\n",
    "    border=3)\n",
    "\n",
    "out_dir= 'images'\n",
    "\n",
    "if not os.path.exists(out_dir):\n",
    "    os.mkdir\n",
    "file=\"courses.csv\"\n",
    "fin=open(file)\n",
    "\n",
    "student_id=\"110207417\"\n",
    "\n",
    "datal='''<!DOCTYPE html>\n",
    "<html>\n",
    "<meta http-equiv=\"content-type\" content=\"text/html; charset=Big5\" /> \n",
    "<head></head>\n",
    "<body>\n",
    "<h3>科目代號(Course #): {}<br>\n",
    "科目名稱： {}<br>\n",
    "Course Name: {}<br>\n",
    "授課教師： {}<br>\n",
    "Instructor: {}<br>\n",
    "系所： {}<br>\n",
    "上課時間(Session)： {}<br>\n",
    "上課地點(Classroom)：綜合270610<br>\n",
    "</h3>\n",
    "</body>\n",
    "</html>\n",
    "\n",
    "'''\n",
    "\n",
    "for line in fin:\n",
    "    for line in fin:\n",
    "        s = line.strip()\n",
    "        t = s.split(',')\n",
    "\n",
    "        course = t[0]\n",
    "        out_file = '{}/{}.png'.format(out_dir, course)\n",
    "\n",
    "        url_str = 'https://geomatics.nccu.edu.tw/cgi-bin/form.py?course={}'\n",
    "        data = url_str.format(course)\n",
    "        data2 = 'Course: {}, Student ID: {}'.format(course, student_id)\n",
    "        qr.clear()\n",
    "        qr.add_data(data)\n",
    "        qr.make(fit=True)\n",
    "        img = qr.make_image().convert('RGB')\n",
    "        print('creating file: {}, QRCode image size:{}'.format(out_file, img.size))\n",
    "\n",
    "        # read the LOGO image\n",
    "        logo = Image.open('nccu_logo_4.jpg')\n",
    "\n",
    "        # calculate the position for pasting the LOGO on QR-Code image\n",
    "        pos = ((img.size[0] - logo.size[0]) // 2, (img.size[1] - logo.size[1]) // 2)\n",
    "\n",
    "        # past the LOGO image and save the result to a file\n",
    "        img.paste(logo, pos)\n",
    "        img.save(out_file)\n",
    "\n",
    "\n",
    "    print('done')\n"
   ]
  },
  {
   "cell_type": "code",
   "execution_count": null,
   "metadata": {},
   "outputs": [],
   "source": []
  }
 ],
 "metadata": {
  "kernelspec": {
   "display_name": "Python 3 (ipykernel)",
   "language": "python",
   "name": "python3"
  },
  "language_info": {
   "codemirror_mode": {
    "name": "ipython",
    "version": 3
   },
   "file_extension": ".py",
   "mimetype": "text/x-python",
   "name": "python",
   "nbconvert_exporter": "python",
   "pygments_lexer": "ipython3",
   "version": "3.9.7"
  }
 },
 "nbformat": 4,
 "nbformat_minor": 4
}
