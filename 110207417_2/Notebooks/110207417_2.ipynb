{
 "cells": [
  {
   "cell_type": "markdown",
   "metadata": {},
   "source": [
    "# Chapter 1\n",
    "# The way of the program"
   ]
  },
  {
   "cell_type": "code",
   "execution_count": 4,
   "metadata": {},
   "outputs": [
    {
     "ename": "AttributeError",
     "evalue": "module 'math' has no attribute 'dir'",
     "output_type": "error",
     "traceback": [
      "\u001b[1;31m---------------------------------------------------------------------------\u001b[0m",
      "\u001b[1;31mAttributeError\u001b[0m                            Traceback (most recent call last)",
      "\u001b[1;32m~\\AppData\\Local\\Temp/ipykernel_15236/1111716649.py\u001b[0m in \u001b[0;36m<module>\u001b[1;34m\u001b[0m\n\u001b[0;32m      1\u001b[0m \u001b[1;32mimport\u001b[0m \u001b[0mmath\u001b[0m\u001b[1;33m\u001b[0m\u001b[1;33m\u001b[0m\u001b[0m\n\u001b[0;32m      2\u001b[0m \u001b[1;33m\u001b[0m\u001b[0m\n\u001b[1;32m----> 3\u001b[1;33m \u001b[0mprint\u001b[0m \u001b[1;33m(\u001b[0m\u001b[0mmath\u001b[0m\u001b[1;33m.\u001b[0m\u001b[0mdir\u001b[0m\u001b[1;33m)\u001b[0m\u001b[1;33m\u001b[0m\u001b[1;33m\u001b[0m\u001b[0m\n\u001b[0m",
      "\u001b[1;31mAttributeError\u001b[0m: module 'math' has no attribute 'dir'"
     ]
    }
   ],
   "source": [
    "import math\n",
    "\n",
    "print (math.dir)"
   ]
  },
  {
   "cell_type": "markdown",
   "metadata": {},
   "source": [
    "## 1.1 What is a program\n",
    "\n",
    "A **program** is a sequence of instructions that specifies how to\n",
    "perform a computation.  The computation might be something\n",
    "mathematical, such as solving a system of equations or finding the\n",
    "roots of a polynomial, but it can also be a symbolic computation, such\n",
    "as searching and replacing text in a document or something\n",
    "graphical, like processing an image or playing a video.\n",
    "\n",
    "The details look different in different languages, but a few basic\n",
    "instructions appear in just about every language:\n",
    "\n",
    "- **input (輸入):** Get data from the keyboard, a file, the network, or some\n",
    "other device.\n",
    "\n",
    "- **output (輸出):** Display data on the screen, save it in a\n",
    "file, send it over the network, etc.\n",
    "\n",
    "- **math (數學):** Perform basic mathematical operations like addition and\n",
    "multiplication.\n",
    "\n",
    "- **conditional execution (條件執行):** Check for certain conditions and\n",
    "run the appropriate code.\n",
    "\n",
    "- **repetition (重複):** Perform some action repeatedly, usually with\n",
    "some variation.\n",
    "\n",
    "Believe it or not, that's pretty much all there is to it.  Every\n",
    "program you've ever used, no matter how complicated, is made up of\n",
    "instructions that look pretty much like these.  <font color=\"red\">So you can think of\n",
    "programming as the process of breaking a large, complex task\n",
    "into smaller and smaller subtasks until the subtasks are\n",
    "simple enough to be performed with one of these basic instructions.</font>"
   ]
  },
  {
   "cell_type": "markdown",
   "metadata": {},
   "source": [
    "## 1.2 Running Python\n",
    "\n",
    "The Python <font color=\"red\">**interpreter (直譯器)**</font> is a program that reads and executes\n",
    "Python code.  Depending on your environment, you might start the\n",
    "interpreter by clicking on an icon, or by typing <font color=\"red\">**python**</font> on\n",
    "a <font color=\"red\">**command line (命令列)**</font>. \n",
    "When it starts, you should see output like this:\n",
    "\n",
    "\n",
    "```\n",
    "Python 3.4.0 (default, Jun 19 2015, 14:20:21) \n",
    "[GCC 4.8.2] on linux\n",
    "Type \"help\", \"copyright\", \"credits\" or \"license\" for more information.\n",
    ">>> \n",
    "```\n",
    "\n",
    "The first three lines contain information about the interpreter\n",
    "and the operating system it's running on, so it might be different for\n",
    "you.  But you should check that the version number, which is\n",
    "3.4.0 in this example, begins with 3, which indicates that\n",
    "you are running Python 3.  If it begins with 2, you are running\n",
    "(you guessed it) Python 2.\n",
    "\n",
    "The last line is a <font color=\"red\">**prompt (提示字元)**</font> that indicates that the interpreter is\n",
    "ready for you to enter code.\n",
    "If you type a line of code and hit Enter, the interpreter displays the\n",
    "result: \n",
    "\n",
    "```\n",
    ">>> 1 + 1\n",
    "2\n",
    "```\n",
    "\n",
    "Now you're ready to get started.\n",
    "From here on, I assume that you know how to start the Python\n",
    "interpreter and run code.\n",
    "\n",
    "<img src=\"prompt.png\" width=\"80%\">\n",
    "<img src=\"prompt2.png\" width=\"80%\">"
   ]
  },
  {
   "cell_type": "code",
   "execution_count": 2,
   "metadata": {},
   "outputs": [
    {
     "data": {
      "text/plain": [
       "21363.79411764706"
      ]
     },
     "execution_count": 2,
     "metadata": {},
     "output_type": "execute_result"
    }
   ],
   "source": [
    "12348273/578"
   ]
  },
  {
   "cell_type": "markdown",
   "metadata": {},
   "source": [
    "## 1.3 The first program\n",
    "\n",
    "Traditionally, the first program you write in a new language\n",
    "is called \"Hello, World!\" because all it does is display the\n",
    "words \"Hello, World!\".  In Python, it looks like this:\n",
    "\n",
    "```\n",
    ">>> print('Hello, World!')\n",
    "```\n",
    "\n",
    "This is an example of a **print statement**, although it\n",
    "doesn't actually print anything on paper.  It displays a result on the\n",
    "screen.  In this case, the result is the words\n",
    "```\n",
    "Hello, World!\n",
    "```\n",
    "\n",
    "The quotation marks in the program mark the beginning and end\n",
    "of the text to be displayed; they don't appear in the result.\n",
    "\n",
    "The parentheses indicate that **print** is a function.  We'll get\n",
    "to functions in Chapter 3.\n",
    "\n",
    "In Python 2, the print statement is slightly different; it is not\n",
    "a function, so it doesn't use parentheses.\n",
    "\n",
    "```\n",
    ">>> print 'Hello, World!'\n",
    "```\n",
    "\n",
    "This distinction will make more sense soon, but that's enough to\n",
    "get started."
   ]
  },
  {
   "cell_type": "markdown",
   "metadata": {},
   "source": [
    "## <font color=\"red\">練習1</font>\n",
    "\n",
    "利用 \"Anaconda Prompt\" 輸入 print('Hello, World!') ，將執行的畫面擷圖存檔，然後插入 Jupyter Notebook 中\n",
    "\n",
    "<img src='ello.png'>"
   ]
  },
  {
   "cell_type": "code",
   "execution_count": 6,
   "metadata": {},
   "outputs": [
    {
     "name": "stdout",
     "output_type": "stream",
     "text": [
      "Hello, 世界!\n"
     ]
    }
   ],
   "source": [
    "print(\"Hello, 世界!\")"
   ]
  },
  {
   "cell_type": "markdown",
   "metadata": {},
   "source": [
    "### 以下範例有錯誤，請仔細閱讀錯誤訊息"
   ]
  },
  {
   "cell_type": "code",
   "execution_count": 4,
   "metadata": {},
   "outputs": [
    {
     "ename": "SyntaxError",
     "evalue": "EOL while scanning string literal (<ipython-input-4-eef840757987>, line 1)",
     "output_type": "error",
     "traceback": [
      "\u001b[1;36m  File \u001b[1;32m\"<ipython-input-4-eef840757987>\"\u001b[1;36m, line \u001b[1;32m1\u001b[0m\n\u001b[1;33m    print('Hello, world\")\u001b[0m\n\u001b[1;37m                         ^\u001b[0m\n\u001b[1;31mSyntaxError\u001b[0m\u001b[1;31m:\u001b[0m EOL while scanning string literal\n"
     ]
    }
   ],
   "source": [
    "print('Hello, world\")"
   ]
  },
  {
   "cell_type": "markdown",
   "metadata": {},
   "source": [
    "### 這是第一個程式"
   ]
  },
  {
   "cell_type": "code",
   "execution_count": 5,
   "metadata": {},
   "outputs": [
    {
     "name": "stdout",
     "output_type": "stream",
     "text": [
      "Hello, world\n"
     ]
    }
   ],
   "source": [
    "print('Hello, world')"
   ]
  },
  {
   "cell_type": "code",
   "execution_count": 6,
   "metadata": {},
   "outputs": [
    {
     "name": "stdout",
     "output_type": "stream",
     "text": [
      "Peter's birthday\n"
     ]
    }
   ],
   "source": [
    "print(\"Peter's birthday\")"
   ]
  },
  {
   "cell_type": "markdown",
   "metadata": {},
   "source": [
    "### 以下範例有錯誤，請仔細閱讀錯誤訊息"
   ]
  },
  {
   "cell_type": "code",
   "execution_count": 2,
   "metadata": {},
   "outputs": [
    {
     "ename": "SyntaxError",
     "evalue": "invalid syntax (Temp/ipykernel_5520/361324295.py, line 1)",
     "output_type": "error",
     "traceback": [
      "\u001b[1;36m  File \u001b[1;32m\"C:\\Users\\hwi0101\\AppData\\Local\\Temp/ipykernel_5520/361324295.py\"\u001b[1;36m, line \u001b[1;32m1\u001b[0m\n\u001b[1;33m    print('Peter's birthday') # 這是一個錯誤的程式，語法結構有錯誤\u001b[0m\n\u001b[1;37m                 ^\u001b[0m\n\u001b[1;31mSyntaxError\u001b[0m\u001b[1;31m:\u001b[0m invalid syntax\n"
     ]
    }
   ],
   "source": [
    "print('Peter's birthday') # 這是一個錯誤的程式，語法結構有錯誤"
   ]
  },
  {
   "cell_type": "markdown",
   "metadata": {},
   "source": [
    "## 1.4 Arithmetic operators\n",
    "\n",
    "After \"Hello, World\", the next step is arithmetic.  Python provides\n",
    "<font color=\"red\">**operators (運算子)**</font>, which are special symbols that represent computations\n",
    "like addition and multiplication.  \n",
    "\n",
    "The operators **+**, **-**, and **\\*** perform addition,\n",
    "subtraction, and multiplication, as in the following examples:\n"
   ]
  },
  {
   "cell_type": "code",
   "execution_count": 9,
   "metadata": {},
   "outputs": [
    {
     "data": {
      "text/plain": [
       "42"
      ]
     },
     "execution_count": 9,
     "metadata": {},
     "output_type": "execute_result"
    }
   ],
   "source": [
    "40+2   # addition"
   ]
  },
  {
   "cell_type": "code",
   "execution_count": 10,
   "metadata": {},
   "outputs": [
    {
     "data": {
      "text/plain": [
       "42"
      ]
     },
     "execution_count": 10,
     "metadata": {},
     "output_type": "execute_result"
    }
   ],
   "source": [
    "43 - 1   # subtraction"
   ]
  },
  {
   "cell_type": "code",
   "execution_count": 11,
   "metadata": {},
   "outputs": [
    {
     "data": {
      "text/plain": [
       "42"
      ]
     },
     "execution_count": 11,
     "metadata": {},
     "output_type": "execute_result"
    }
   ],
   "source": [
    "6 * 7   # multiplication"
   ]
  },
  {
   "cell_type": "code",
   "execution_count": 12,
   "metadata": {},
   "outputs": [
    {
     "data": {
      "text/plain": [
       "42.0"
      ]
     },
     "execution_count": 12,
     "metadata": {},
     "output_type": "execute_result"
    }
   ],
   "source": [
    "84 / 2   # division"
   ]
  },
  {
   "cell_type": "markdown",
   "metadata": {},
   "source": [
    "You might wonder why the result is **42.0** instead of **42**.\n",
    "I'll explain in the next section.\n",
    "\n",
    "Finally, the operator **\\*\\*** performs exponentiation (乘冪); that is,\n",
    "it raises a number to a power:"
   ]
  },
  {
   "cell_type": "code",
   "execution_count": 6,
   "metadata": {},
   "outputs": [
    {
     "data": {
      "text/plain": [
       "42"
      ]
     },
     "execution_count": 6,
     "metadata": {},
     "output_type": "execute_result"
    }
   ],
   "source": [
    "6**2 + 6"
   ]
  },
  {
   "cell_type": "markdown",
   "metadata": {},
   "source": [
    "In some other languages, <font color=\"red\">\"^\"</font> is used for exponentiation, but\n",
    "in Python it is a bitwise operator called <font color=\"red\">XOR</font>.  If you are not\n",
    "familiar with bitwise operators, the result will surprise you:\n"
   ]
  },
  {
   "cell_type": "code",
   "execution_count": 8,
   "metadata": {},
   "outputs": [
    {
     "data": {
      "text/plain": [
       "4"
      ]
     },
     "execution_count": 8,
     "metadata": {},
     "output_type": "execute_result"
    }
   ],
   "source": [
    "6^2  # XOR, exclusive OR"
   ]
  },
  {
   "cell_type": "markdown",
   "metadata": {},
   "source": [
    "I won’t cover bitwise operators in this book, but you can read about them at \n",
    "http://wiki.python.org/moin/BitwiseOperators"
   ]
  },
  {
   "cell_type": "markdown",
   "metadata": {},
   "source": [
    "## 1.5 Values and types\n",
    "\n",
    "A <font color=\"red\">**value (值)**</font> is one of the basic things a program works with, like a\n",
    "letter or a number.  Some values we have seen so far are **2**,\n",
    "**42.0**, and \"Hello, World!\".\n",
    "\n",
    "<font color=\"red\">These values belong to different **types (型態)**:\n",
    "**2 is an integer (整數)**, **42.0 is a floating-point number (浮點數)**,\n",
    "and \"Hello, World!\" is a **string (字串)**,\n",
    "so-called because the letters it contains are strung together.</font>\n",
    "\n",
    "#### <font color=\"red\">**注意： 任何值一定屬於某一種型態**</font>\n",
    "\n",
    "If you are not sure what type a value has, the interpreter can\n",
    "tell you:"
   ]
  },
  {
   "cell_type": "code",
   "execution_count": 1,
   "metadata": {},
   "outputs": [
    {
     "data": {
      "text/plain": [
       "str"
      ]
     },
     "execution_count": 1,
     "metadata": {},
     "output_type": "execute_result"
    }
   ],
   "source": [
    "type('2')"
   ]
  },
  {
   "cell_type": "code",
   "execution_count": 2,
   "metadata": {},
   "outputs": [
    {
     "data": {
      "text/plain": [
       "2"
      ]
     },
     "execution_count": 2,
     "metadata": {},
     "output_type": "execute_result"
    }
   ],
   "source": [
    "2"
   ]
  },
  {
   "cell_type": "code",
   "execution_count": 16,
   "metadata": {},
   "outputs": [
    {
     "data": {
      "text/plain": [
       "str"
      ]
     },
     "execution_count": 16,
     "metadata": {},
     "output_type": "execute_result"
    }
   ],
   "source": [
    "type(\"Peter\")"
   ]
  },
  {
   "cell_type": "markdown",
   "metadata": {},
   "source": [
    "In these results, the word \"class\" is used in the sense of\n",
    "a category; a type is a category of values.\n",
    "\n",
    "Not surprisingly, integers belong to the type **int**,\n",
    "strings belong to **str** and floating-point\n",
    "numbers belong to **float**.\n",
    "\n",
    "What about values like '2' and '42.0'?\n",
    "They look like numbers, but they are in quotation marks like\n",
    "strings."
   ]
  },
  {
   "cell_type": "code",
   "execution_count": 4,
   "metadata": {},
   "outputs": [
    {
     "data": {
      "text/plain": [
       "str"
      ]
     },
     "execution_count": 4,
     "metadata": {},
     "output_type": "execute_result"
    }
   ],
   "source": [
    "type('2')"
   ]
  },
  {
   "cell_type": "code",
   "execution_count": 18,
   "metadata": {},
   "outputs": [
    {
     "data": {
      "text/plain": [
       "str"
      ]
     },
     "execution_count": 18,
     "metadata": {},
     "output_type": "execute_result"
    }
   ],
   "source": [
    "type('42.0')"
   ]
  },
  {
   "cell_type": "markdown",
   "metadata": {},
   "source": [
    "They’re strings.\n",
    "When you type a large integer, you might be tempted to use commas between groups of\n",
    "digits, as in 1,000,000. This is not a legal integer in Python, but it is legal:"
   ]
  },
  {
   "cell_type": "code",
   "execution_count": 19,
   "metadata": {},
   "outputs": [
    {
     "data": {
      "text/plain": [
       "(1, 0, 0)"
      ]
     },
     "execution_count": 19,
     "metadata": {},
     "output_type": "execute_result"
    }
   ],
   "source": [
    "1,000,000"
   ]
  },
  {
   "cell_type": "markdown",
   "metadata": {},
   "source": [
    "That's not what we expected at all!  Python interprets **1,000,000** as a comma-separated sequence of integers.  We'll learn\n",
    "more about this kind of sequence later."
   ]
  },
  {
   "cell_type": "markdown",
   "metadata": {},
   "source": [
    "## 1.6 Formal and natural languages\n",
    "\n",
    "**Natural languages (自然語言)** are the languages people speak,\n",
    "such as English, Spanish, and French.  They were not designed\n",
    "by people (although people try to impose some order on them);\n",
    "they evolved naturally.\n",
    "\n",
    "**Formal languages (形式語言)** are languages that are designed by people for\n",
    "specific applications.  For example, the notation that mathematicians\n",
    "use is a formal language that is particularly good at denoting\n",
    "relationships among numbers and symbols.  Chemists use a formal\n",
    "language to represent the chemical structure of molecules.  And\n",
    "most importantly:\n",
    "\n",
    "**Programming languages are formal languages that have been\n",
    "designed to express computations.**\n",
    "\n",
    "Formal languages tend to have strict **syntax rules (語法規則)** that\n",
    "govern the structure of statements.\n",
    "For example, in mathematics the statement\n",
    "$3 + 3 = 6$ has correct syntax, but\n",
    "$3 + = 3 \\$ 6$ does not.  In chemistry\n",
    "$H_2O$ is a syntactically correct formula, but $_2Zz$ is not.\n",
    "\n",
    "Syntax rules come in two flavors, pertaining to **tokens (標記、標誌、符號)** and\n",
    "**structure (結構)**.  Tokens are the basic elements of the language, such as\n",
    "words, numbers, and chemical elements.  One of the problems with\n",
    "$3 += 3 \\$ 6$ is that \\\\$ is not a legal token in mathematics\n",
    "(at least as far as I know).  Similarly, $_2Zz$ is not legal because\n",
    "there is no element with the abbreviation $Zz$.\n",
    "\n",
    "The second type of syntax rule pertains to the way tokens are\n",
    "combined.  The equation $3 +/ 3$ is illegal because even though $+$\n",
    "and $/$ are legal tokens, you can't have one right after the other.\n",
    "Similarly, in a chemical formula the subscript comes after the element\n",
    "name, not before.\n",
    "\n",
    "This is @ well-structured Engli\\$h\n",
    "sentence with invalid t*kens in it.  This sentence all valid tokens\n",
    "has, but invalid structure with.\n",
    "\n",
    "When you read a sentence in English or a statement in a formal\n",
    "language, you have to figure out the structure\n",
    "(although in a natural language you do this subconsciously).  This\n",
    "process is called **parsing (語法分析)**.\n",
    "\n",
    "Although formal and natural languages have many features in\n",
    "common---tokens, structure, and syntax---there are some\n",
    "differences:\n",
    "\n",
    "- <font color=\"red\">ambiguity(歧異性、語意不明確)</font>: Natural languages are full of ambiguity, which\n",
    "people deal with by using contextual clues and other information.\n",
    "Formal languages are designed to be nearly or completely unambiguous,\n",
    "which means that any statement has exactly one meaning,\n",
    "regardless of context.\n",
    "\n",
    "- <font color=\"red\">redundancy (冗贅性、贅詞)</font>: In order to make up for ambiguity and reduce\n",
    "misunderstandings, natural languages employ lots of\n",
    "redundancy.  As a result, they are often verbose.  Formal languages\n",
    "are less redundant and more concise.\n",
    "\n",
    "- <font color=\"red\">literalness (字面性、字面上的意義)</font>: Natural languages are full of idiom and metaphor.\n",
    "If I say, ``The penny dropped'', there is probably no penny and\n",
    "nothing dropping (this idiom means that someone understood something\n",
    "after a period of confusion).  Formal languages\n",
    "mean exactly what they say.\n",
    "\n",
    "Because we all grow up speaking natural languages, it is sometimes\n",
    "hard to adjust to formal languages.  The difference between formal and\n",
    "natural language is like the difference between poetry (詩歌) and prose (散文), but\n",
    "more so:\n",
    "\n",
    "- <font color=\"red\">Poetry (詩歌)</font>: Words are used for their sounds as well as for\n",
    "their meaning, and the whole poem together creates an effect or\n",
    "emotional response.  Ambiguity is not only common but often\n",
    "deliberate.\n",
    "\n",
    "- <font color=\"red\">Prose (散文)</font>: The literal meaning of words is more important,\n",
    "and the structure contributes more meaning.  Prose is more amenable to\n",
    "analysis than poetry but still often ambiguous.\n",
    "\n",
    "- <font color=\"red\">Programs (程式)</font>: The meaning of a computer program is unambiguous\n",
    "and literal, and can be understood entirely by analysis of the\n",
    "tokens and structure.\n",
    "\n",
    "Formal languages are more dense\n",
    "than natural languages, so it takes longer to read them.  Also, the\n",
    "structure is important, so it is not always best to read\n",
    "from top to bottom, left to right.  Instead, learn to parse the\n",
    "program in your head, identifying the tokens and interpreting the\n",
    "structure.  Finally, the details matter.  Small errors in\n",
    "spelling and punctuation, which you can get away\n",
    "with in natural languages, can make a big difference in a formal\n",
    "language.\n"
   ]
  },
  {
   "cell_type": "markdown",
   "metadata": {},
   "source": [
    "## 1.7 Debugging\n",
    "\n",
    "Programmers make mistakes.  For whimsical reasons, programming errors\n",
    "are called **bugs (錯誤)** and the process of tracking them down is called **debugging (除錯)**.\n",
    "\n",
    "Programming, and especially debugging, sometimes brings out strong\n",
    "emotions.  If you are struggling with a difficult bug, you might \n",
    "feel angry, despondent, or embarrassed.\n",
    "\n",
    "There is evidence that people naturally respond to computers as if\n",
    "they were people.  When they work well, we think\n",
    "of them as teammates, and when they are obstinate or rude, we\n",
    "respond to them the same way we respond to rude,\n",
    "obstinate people (Reeves and Nass, *The Media\n",
    "    Equation: How People Treat Computers, Television, and New Media\n",
    "    Like Real People and Places*).\n",
    "\n",
    "Preparing for these reactions might help you deal with them.\n",
    "One approach is to think of the computer as an employee with\n",
    "certain strengths, like speed and precision, and\n",
    "particular weaknesses, like lack of empathy and inability\n",
    "to grasp the big picture.\n",
    "\n",
    "Your job is to be a good manager: find ways to take advantage\n",
    "of the strengths and mitigate the weaknesses.  And find ways\n",
    "to use your emotions to engage with the problem,\n",
    "without letting your reactions interfere with your ability\n",
    "to work effectively.\n",
    "\n",
    "Learning to debug can be frustrating, but it is a valuable skill\n",
    "that is useful for many activities beyond programming.  At the\n",
    "end of each chapter there is a section, like this one,\n",
    "with my suggestions for debugging.  I hope they help!\n"
   ]
  },
  {
   "cell_type": "markdown",
   "metadata": {},
   "source": [
    "## 1.8 Glossary\n",
    "\n",
    "\\begin{description}\n",
    "\n",
    "\\item{problem solving:}  The process of formulating a problem, finding\n",
    "a solution, and expressing it.\n",
    "\\index{problem solving}\n",
    "\n",
    "\\item[high-level language:]  A programming language like Python that\n",
    "is designed to be easy for humans to read and write.\n",
    "\\index{high-level language}\n",
    "\n",
    "\\item[low-level language:]  A programming language that is designed\n",
    "to be easy for a computer to run; also called ``machine language'' or\n",
    "``assembly language''.\n",
    "\\index{low-level language}\n",
    "\n",
    "\\item[portability:]  A property of a program that can run on more\n",
    "than one kind of computer.\n",
    "\\index{portability}\n",
    "\n",
    "\\item[interpreter:]  A program that reads another program and executes\n",
    "it\n",
    "\\index{interpret}\n",
    "\n",
    "\\item[prompt:] Characters displayed by the interpreter to indicate\n",
    "that it is ready to take input from the user.\n",
    "\\index{prompt}\n",
    "\n",
    "\\item[program:] A set of instructions that specifies a computation.\n",
    "\\index{program}\n",
    "\n",
    "\\item[print statement:]  An instruction that causes the Python\n",
    "interpreter to display a value on the screen.\n",
    "\\index{print statement}\n",
    "\\index{statement!print}\n",
    "\n",
    "\\item[operator:]  A special symbol that represents a simple computation like\n",
    "addition, multiplication, or string concatenation.\n",
    "\\index{operator}\n",
    "\n",
    "\\item[value:]  One of the basic units of data, like a number or string, \n",
    "that a program manipulates.\n",
    "\\index{value}\n",
    "\n",
    "\\item[type:] A category of values.  The types we have seen so far\n",
    "are integers (type {\\tt int}), floating-point numbers (type {\\tt\n",
    "float}), and strings (type {\\tt str}).\n",
    "\\index{type}\n",
    "\n",
    "\\item[integer:] A type that represents whole numbers.\n",
    "\\index{integer}\n",
    "\n",
    "\\item[floating-point:] A type that represents numbers with fractional\n",
    "parts.\n",
    "\\index{floating-point}\n",
    "\n",
    "\\item[string:] A type that represents sequences of characters.\n",
    "\\index{string}\n",
    "\n",
    "\\item[natural language:]  Any one of the languages that people speak that\n",
    "evolved naturally.\n",
    "\\index{natural language}\n",
    "\n",
    "\\item[formal language:]  Any one of the languages that people have designed\n",
    "for specific purposes, such as representing mathematical ideas or\n",
    "computer programs; all programming languages are formal languages.\n",
    "\\index{formal language}\n",
    "\n",
    "\\item[token:]  One of the basic elements of the syntactic structure of\n",
    "a program, analogous to a word in a natural language.\n",
    "\\index{token}\n",
    "\n",
    "\\item[syntax:] The rules that govern the structure of a program.\n",
    "\\index{syntax}\n",
    "\n",
    "\\item[parse:] To examine a program and analyze the syntactic structure.\n",
    "\\index{parse}\n",
    "\n",
    "\\item[bug:] An error in a program.\n",
    "\\index{bug}\n",
    "\n",
    "\\item[debugging:] The process of finding and correcting bugs.\n",
    "\\index{debugging}"
   ]
  },
  {
   "cell_type": "markdown",
   "metadata": {},
   "source": [
    "## <font color=\"red\">練習2</font>\n",
    "\n",
    "編輯 Glossary 部分的文字，使其能夠在 notebook 中正確顯示，並仔細閱讀這些詞彙了解其意義。"
   ]
  },
  {
   "cell_type": "markdown",
   "metadata": {},
   "source": [
    "- **problem solving:**The process of formulating a problem, finding a solution, and expressing it.\n",
    "- **high-level language:**A programming language like Python that is designed to be easy for humans to read and write.\n",
    "- **portability:**A property of a program that can run on more than one kind of computer.\n",
    "- **interpreter:**A program that reads another program and executes it\n",
    "- **prompt:**Characters displayed by the interpreter to indicate that it is ready to take input from the user.\n",
    "- **program:**A set of instructions that specifies a computation.\n",
    "- **print statement:**An instruction that causes the Python interpreter to display a value on the screen.\n",
    "- **operator:**A special symbol that represents a simple computation like addition, multiplication, or string concatenation.\n",
    "- **value:**One of the basic units of data, like a number or string,  that a program manipulates.\n",
    "- **type:**A category of values. The types we have seen so far are integers (type {\\tt int}), floating-point numbers (type {\\tt float}), and strings (type {\\tt str}).\n",
    "- **integer:**A type that represents whole numbers.\n",
    "- **floating-point:**A type that represents numbers with fractional parts.\n",
    "- **string:**A type that represents sequences of characters.\n",
    "- **natural language:**Any one of the languages that people speak that evolved naturally.\n",
    "- **formal language:**Any one of the languages that people have designed for specific purposes, such as representing mathematical ideas or computer programs; all programming languages are formal languages.\n",
    "- **token:**One of the basic elements of the syntactic structure of a program, analogous to a word in a natural language.\n",
    "- **syntax:**The rules that govern the structure of a program.\n",
    "- **parse:**To examine a program and analyze the syntactic structure.\n",
    "- **bug:**An error in a program.\n",
    "- **debugging:**The process of finding and correcting bugs."
   ]
  },
  {
   "cell_type": "markdown",
   "metadata": {},
   "source": [
    "## <font color=\"red\">練習3</font>\n",
    "\n",
    "完成以下練習題。"
   ]
  },
  {
   "cell_type": "markdown",
   "metadata": {},
   "source": [
    "## 1.9 Eexercises\n",
    "\n",
    "### Exercise 1.1.\n",
    "It is a good idea to read this book in front of a computer so you can\n",
    "try out the examples as you go.\n",
    "\n",
    "Whenever you are experimenting with a new feature, you should try\n",
    "to make mistakes.  For example, in the \"Hello, world!\" program,\n",
    "what happens if you leave out one of the quotation marks?  What\n",
    "if you leave out both?  What if you spell **print** wrong?\n",
    "\n",
    "This kind of experiment helps you remember what you read; it also\n",
    "helps when you are programming, because you get to know what the error\n",
    "messages mean.  It is better to make mistakes now and on purpose than\n",
    "later and accidentally.\n",
    "\n",
    "1. In a print statement, what happens if you leave out one\n",
    "of the parentheses, or both?\n",
    "\n",
    "2. If you are trying to print a string, what happens if you\n",
    "leave out one of the quotation marks, or both?\n",
    "\n",
    "3. You can use a minus sign to make a negative number like -2.  What happens if you put a plus sign before a number?\n",
    "What about 2++2?\n",
    "\n",
    "4. In math notation, leading zeros are ok, as in 09.\n",
    "What happens if you try this in Python?  What about 011?\n",
    "\n",
    "5. What happens if you have two values with no operator\n",
    "between them?\n",
    "\n",
    "### Exercise 1.2.\n",
    "\n",
    "Start the Python interpreter and use it as a calculator.\n",
    "\n",
    "1. How many seconds are there in 42 minutes 42 seconds?\n",
    "\n",
    "2. How many miles are there in 10 kilometers?  Hint: there are 1.61\n",
    "  kilometers in a mile.\n",
    "\n",
    "3. If you run a 10 kilometer race in 42 minutes 42 seconds, what is\n",
    "  your average pace (time per mile in minutes and seconds)?  What is\n",
    "  your average speed in miles per hour?\n"
   ]
  },
  {
   "cell_type": "code",
   "execution_count": 11,
   "metadata": {},
   "outputs": [
    {
     "ename": "SyntaxError",
     "evalue": "invalid syntax (Temp/ipykernel_12260/3735120613.py, line 5)",
     "output_type": "error",
     "traceback": [
      "\u001b[1;36m  File \u001b[1;32m\"C:\\Users\\hwi0101\\AppData\\Local\\Temp/ipykernel_12260/3735120613.py\"\u001b[1;36m, line \u001b[1;32m5\u001b[0m\n\u001b[1;33m    print\"Hey yo!\"\u001b[0m\n\u001b[1;37m    ^\u001b[0m\n\u001b[1;31mSyntaxError\u001b[0m\u001b[1;31m:\u001b[0m invalid syntax\n"
     ]
    }
   ],
   "source": [
    "print('1.1.1')\n",
    "\n",
    "print(\"Hey yo!\"\n",
    "\n",
    "print\"Hey yo!\""
   ]
  },
  {
   "cell_type": "code",
   "execution_count": 12,
   "metadata": {},
   "outputs": [
    {
     "ename": "SyntaxError",
     "evalue": "EOL while scanning string literal (Temp/ipykernel_12260/3269403545.py, line 3)",
     "output_type": "error",
     "traceback": [
      "\u001b[1;36m  File \u001b[1;32m\"C:\\Users\\hwi0101\\AppData\\Local\\Temp/ipykernel_12260/3269403545.py\"\u001b[1;36m, line \u001b[1;32m3\u001b[0m\n\u001b[1;33m    print(\"Hey yo!)\u001b[0m\n\u001b[1;37m                   ^\u001b[0m\n\u001b[1;31mSyntaxError\u001b[0m\u001b[1;31m:\u001b[0m EOL while scanning string literal\n"
     ]
    }
   ],
   "source": [
    "print('1.1.2')\n",
    "\n",
    "print(\"Hey yo!)\n",
    "      \n",
    "print(Hey yo!)"
   ]
  },
  {
   "cell_type": "code",
   "execution_count": 13,
   "metadata": {},
   "outputs": [
    {
     "name": "stdout",
     "output_type": "stream",
     "text": [
      "1.1.3\n"
     ]
    },
    {
     "data": {
      "text/plain": [
       "17"
      ]
     },
     "execution_count": 13,
     "metadata": {},
     "output_type": "execute_result"
    }
   ],
   "source": [
    "print('1.1.3')\n",
    "\n",
    "8++9"
   ]
  },
  {
   "cell_type": "code",
   "execution_count": 14,
   "metadata": {
    "scrolled": true
   },
   "outputs": [
    {
     "ename": "SyntaxError",
     "evalue": "leading zeros in decimal integer literals are not permitted; use an 0o prefix for octal integers (Temp/ipykernel_12260/2574192441.py, line 3)",
     "output_type": "error",
     "traceback": [
      "\u001b[1;36m  File \u001b[1;32m\"C:\\Users\\hwi0101\\AppData\\Local\\Temp/ipykernel_12260/2574192441.py\"\u001b[1;36m, line \u001b[1;32m3\u001b[0m\n\u001b[1;33m    0283195\u001b[0m\n\u001b[1;37m          ^\u001b[0m\n\u001b[1;31mSyntaxError\u001b[0m\u001b[1;31m:\u001b[0m leading zeros in decimal integer literals are not permitted; use an 0o prefix for octal integers\n"
     ]
    }
   ],
   "source": [
    "print('1.1.4')\n",
    "\n",
    "0283195"
   ]
  },
  {
   "cell_type": "code",
   "execution_count": 15,
   "metadata": {
    "scrolled": true
   },
   "outputs": [
    {
     "ename": "SyntaxError",
     "evalue": "invalid syntax (Temp/ipykernel_12260/1332011578.py, line 3)",
     "output_type": "error",
     "traceback": [
      "\u001b[1;36m  File \u001b[1;32m\"C:\\Users\\hwi0101\\AppData\\Local\\Temp/ipykernel_12260/1332011578.py\"\u001b[1;36m, line \u001b[1;32m3\u001b[0m\n\u001b[1;33m    20 50\u001b[0m\n\u001b[1;37m       ^\u001b[0m\n\u001b[1;31mSyntaxError\u001b[0m\u001b[1;31m:\u001b[0m invalid syntax\n"
     ]
    }
   ],
   "source": [
    "print('1.1.5')\n",
    "\n",
    "20 50"
   ]
  },
  {
   "cell_type": "code",
   "execution_count": 16,
   "metadata": {},
   "outputs": [
    {
     "name": "stdout",
     "output_type": "stream",
     "text": [
      "1.2.1\n"
     ]
    },
    {
     "data": {
      "text/plain": [
       "2562"
      ]
     },
     "execution_count": 16,
     "metadata": {},
     "output_type": "execute_result"
    }
   ],
   "source": [
    "print('1.2.1')\n",
    "\n",
    "42*60+42"
   ]
  },
  {
   "cell_type": "code",
   "execution_count": 1,
   "metadata": {},
   "outputs": [
    {
     "name": "stdout",
     "output_type": "stream",
     "text": [
      "1.2.2\n"
     ]
    },
    {
     "data": {
      "text/plain": [
       "6.211180124223602"
      ]
     },
     "execution_count": 1,
     "metadata": {},
     "output_type": "execute_result"
    }
   ],
   "source": [
    "print('1.2.2')\n",
    "\n",
    "10/1.61"
   ]
  },
  {
   "cell_type": "code",
   "execution_count": 9,
   "metadata": {
    "scrolled": true
   },
   "outputs": [
    {
     "name": "stdout",
     "output_type": "stream",
     "text": [
      "1.2.3\n",
      "a= 412.482  and b= 60\n",
      "a/b的商數= 6.874700000000001\n",
      "a/b的整數= 6\n",
      "a/b的餘數= 52.48200000000003 若為零，即表示整除\n",
      "6 分 52.48200000000003 秒\n",
      "8.727653570337614\n"
     ]
    }
   ],
   "source": [
    "print('1.2.3')\n",
    "\n",
    "\n",
    "a=(2562/6.211180124223602)\n",
    "b=60\n",
    "c=a/b\n",
    "d=a%b\n",
    "n=int(c)\n",
    "\n",
    "print(\"a=\", a,\" and b=\",b)\n",
    "print(\"a/b的商數=\",c )\n",
    "print(\"a/b的整數=\",n )\n",
    "print(\"a/b的餘數=\", d,\"若為零，即表示整除\")\n",
    "\n",
    "print(n,\"分\",d,\"秒\")\n",
    "\n",
    "m=(3600*6.211180124223602)/2562\n",
    "print(m)\n"
   ]
  },
  {
   "cell_type": "code",
   "execution_count": 21,
   "metadata": {},
   "outputs": [
    {
     "data": {
      "text/plain": [
       "-2"
      ]
     },
     "execution_count": 21,
     "metadata": {},
     "output_type": "execute_result"
    }
   ],
   "source": [
    "-2"
   ]
  },
  {
   "cell_type": "code",
   "execution_count": 22,
   "metadata": {},
   "outputs": [
    {
     "data": {
      "text/plain": [
       "2"
      ]
     },
     "execution_count": 22,
     "metadata": {},
     "output_type": "execute_result"
    }
   ],
   "source": [
    "+2"
   ]
  },
  {
   "cell_type": "code",
   "execution_count": 23,
   "metadata": {},
   "outputs": [
    {
     "data": {
      "text/plain": [
       "4"
      ]
     },
     "execution_count": 23,
     "metadata": {},
     "output_type": "execute_result"
    }
   ],
   "source": [
    "2++2"
   ]
  },
  {
   "cell_type": "code",
   "execution_count": 6,
   "metadata": {
    "collapsed": true
   },
   "outputs": [],
   "source": [
    "r = 10\n",
    "pi = 3.14\n",
    "a = r * r * pi\n"
   ]
  },
  {
   "cell_type": "code",
   "execution_count": 7,
   "metadata": {},
   "outputs": [
    {
     "name": "stdout",
     "output_type": "stream",
     "text": [
      "10 3.14 314.0\n"
     ]
    }
   ],
   "source": [
    "print(r, pi, a)"
   ]
  },
  {
   "cell_type": "code",
   "execution_count": 8,
   "metadata": {},
   "outputs": [
    {
     "ename": "SyntaxError",
     "evalue": "invalid syntax (<ipython-input-8-7cc46112e7e9>, line 1)",
     "output_type": "error",
     "traceback": [
      "\u001b[1;36m  File \u001b[1;32m\"<ipython-input-8-7cc46112e7e9>\"\u001b[1;36m, line \u001b[1;32m1\u001b[0m\n\u001b[1;33m    print(\"radius= \" r, \"pi = \", pi, \"area = \", a)\u001b[0m\n\u001b[1;37m                     ^\u001b[0m\n\u001b[1;31mSyntaxError\u001b[0m\u001b[1;31m:\u001b[0m invalid syntax\n"
     ]
    }
   ],
   "source": [
    "print(\"radius= \" r, \"pi = \", pi, \"area = \", a)"
   ]
  },
  {
   "cell_type": "code",
   "execution_count": 9,
   "metadata": {},
   "outputs": [
    {
     "name": "stdout",
     "output_type": "stream",
     "text": [
      "radius=  10 pi =  3.14 area =  314.0\n"
     ]
    }
   ],
   "source": [
    "print(\"radius= \", r, \"pi = \", pi, \"area = \", a)"
   ]
  },
  {
   "cell_type": "code",
   "execution_count": 28,
   "metadata": {},
   "outputs": [
    {
     "data": {
      "text/plain": [
       "889.2"
      ]
     },
     "execution_count": 28,
     "metadata": {},
     "output_type": "execute_result"
    }
   ],
   "source": [
    "1140*.78"
   ]
  },
  {
   "cell_type": "code",
   "execution_count": null,
   "metadata": {},
   "outputs": [],
   "source": []
  }
 ],
 "metadata": {
  "kernelspec": {
   "display_name": "Python 3 (ipykernel)",
   "language": "python",
   "name": "python3"
  },
  "language_info": {
   "codemirror_mode": {
    "name": "ipython",
    "version": 3
   },
   "file_extension": ".py",
   "mimetype": "text/x-python",
   "name": "python",
   "nbconvert_exporter": "python",
   "pygments_lexer": "ipython3",
   "version": "3.9.7"
  }
 },
 "nbformat": 4,
 "nbformat_minor": 1
}
