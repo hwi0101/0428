{
 "cells": [
  {
   "cell_type": "markdown",
   "metadata": {},
   "source": [
    "# 第一個Python程式：列印 Hello World程式\n",
    "\n",
    "## HEllOWORLD\n",
    "\n",
    "### helloword\n",
    "\n",
    "<h3><font color=\"#FF0000\">print('Hello, world!')</font></h3>\n",
    "<h3><font color=\"red\">print('Hello, world!')</font></h3>\n",
    "<h3><font color=\"#00FF00\">print(\"Hello, world!\")</font></h3>\n",
    "<h3><font color=\"green\">print(\"Hello, world!\")</font></h3>\n",
    "<h3><font color=\"#008000\">print(\"Hello, world!\")</font></h3>\n",
    "<h3><font color=\"#000030\">print(\"Hello, world!\")</font></h3>\n",
    "<h3><font color=\"#183393\">print(\"Hello, world!\")</font></h3>\n",
    "<h3><font color=\"#000030\">print(\"Hello, world!\")</font></h3>\n",
    "<h3><font color=\"#183393\">print(\"Hello, world!\")</font></h3>\n",
    "\n",
    "<h2><font color=\"#0000FF\">參考資料：</font></h2>\n",
    "<h3><font color=\"blue\">HTML Colors：</font></h3>\n",
    "<a href=\"https://www.w3schools.com/html/html_colors.asp\">HTML colors</a>\n",
    "\n",
    "<a href=\"https://www.w3schools.com/colors/colors_picker.asp\" target=\"_blank\">HTML Color Picker</a>"
   ]
  },
  {
   "cell_type": "markdown",
   "metadata": {},
   "source": [
    "<a href=\"https://i.nccu.edu.tw/Home.aspx\">INCCU</a>\n"
   ]
  },
  {
   "cell_type": "code",
   "execution_count": 3,
   "metadata": {},
   "outputs": [
    {
     "name": "stdout",
     "output_type": "stream",
     "text": [
      "Hello, world!\n"
     ]
    }
   ],
   "source": [
    "print('Hello, world!')"
   ]
  },
  {
   "cell_type": "code",
   "execution_count": 4,
   "metadata": {},
   "outputs": [
    {
     "ename": "SyntaxError",
     "evalue": "EOL while scanning string literal (<ipython-input-4-eef840757987>, line 1)",
     "output_type": "error",
     "traceback": [
      "\u001b[1;36m  File \u001b[1;32m\"<ipython-input-4-eef840757987>\"\u001b[1;36m, line \u001b[1;32m1\u001b[0m\n\u001b[1;33m    print('Hello, world\")\u001b[0m\n\u001b[1;37m                         ^\u001b[0m\n\u001b[1;31mSyntaxError\u001b[0m\u001b[1;31m:\u001b[0m EOL while scanning string literal\n"
     ]
    }
   ],
   "source": [
    "print('Hello, world\")"
   ]
  },
  {
   "cell_type": "code",
   "execution_count": null,
   "metadata": {},
   "outputs": [],
   "source": [
    "x = 5\n",
    "y = 6\n",
    "print('x + y = ', x+y)"
   ]
  },
  {
   "cell_type": "markdown",
   "metadata": {},
   "source": [
    "# 目錄樹狀結構圖\n",
    "\n",
    "<img src=\"tree.png\">"
   ]
  },
  {
   "cell_type": "markdown",
   "metadata": {},
   "source": [
    "# 使用 relative path (相對路徑) 插入影像\n",
    "### 影像放在 current directory (目前目錄) 中\n",
    "\n",
    "<img src=\"HelloWorld.png\">"
   ]
  },
  {
   "cell_type": "markdown",
   "metadata": {},
   "source": [
    "# 使用 relative path (相對路徑) 插入影像\n",
    "### 影像放在 current directory (目前目錄) 之下的 images 子目錄中\n",
    "\n",
    "<img src=\"images/example1.png\">"
   ]
  },
  {
   "cell_type": "markdown",
   "metadata": {},
   "source": [
    "# 使用 relative path (相對路徑) 插入影像\n",
    "### 影像放在 current directory (目前目錄) 上一層的目錄中\n",
    "\n",
    "<img src=\"../example2.png\">"
   ]
  },
  {
   "cell_type": "markdown",
   "metadata": {},
   "source": [
    "# 使用 absolute path (絕對路徑) 插入影像\n",
    "\n",
    "<img src=\"https://www.nccu.edu.tw/var/file/0/1000/img/2/nccu_logo_JPG.jpg\">"
   ]
  },
  {
   "cell_type": "markdown",
   "metadata": {},
   "source": [
    "# 參考資料網址\n",
    "\n",
    "HTML File Paths <br>\n",
    "\n",
    "https://www.w3schools.com/html/html_filepaths.asp"
   ]
  },
  {
   "cell_type": "code",
   "execution_count": null,
   "metadata": {},
   "outputs": [],
   "source": []
  }
 ],
 "metadata": {
  "kernelspec": {
   "display_name": "Python 3 (ipykernel)",
   "language": "python",
   "name": "python3"
  },
  "language_info": {
   "codemirror_mode": {
    "name": "ipython",
    "version": 3
   },
   "file_extension": ".py",
   "mimetype": "text/x-python",
   "name": "python",
   "nbconvert_exporter": "python",
   "pygments_lexer": "ipython3",
   "version": "3.9.7"
  }
 },
 "nbformat": 4,
 "nbformat_minor": 4
}
