{
 "cells": [
  {
   "cell_type": "markdown",
   "metadata": {},
   "source": [
    "# Chapter 2\n",
    "# Variables, expressions and statements\n",
    "\n",
    "\n",
    "One of the most powerful features of a programming language is the\n",
    "ability to manipulate **variables(變數)**.  A variable is a name that\n",
    "refers to a value. (變數是指一個值的名稱)\n",
    "\n",
    "## 2.1 Assignment statements\n",
    "\n",
    "An **assignment statement (指派陳述句)** creates a new variable and gives\n",
    "it a value:\n",
    "\n",
    "```\n",
    ">>> message = 'And now for something completely different'\n",
    ">>> n = 17\n",
    ">>> pi = 3.1415926535897932\n",
    "```\n",
    "\n",
    "This example makes three assignments.  The first assigns a string\n",
    "to a new variable named **message**;\n",
    "the second gives the integer **17** to **n**; the third\n",
    "assigns the (approximate) value of $\\pi$ to **pi**.\n",
    "\n",
    "\n",
    "<img src=\"terminal.png\">\n"
   ]
  },
  {
   "cell_type": "code",
   "execution_count": 4,
   "metadata": {},
   "outputs": [],
   "source": [
    "message = 'And now for something completely different'"
   ]
  },
  {
   "cell_type": "code",
   "execution_count": 3,
   "metadata": {},
   "outputs": [],
   "source": [
    "n = 17"
   ]
  },
  {
   "cell_type": "code",
   "execution_count": 8,
   "metadata": {},
   "outputs": [],
   "source": [
    "pi = 3.1415926535897932"
   ]
  },
  {
   "cell_type": "code",
   "execution_count": 1,
   "metadata": {},
   "outputs": [],
   "source": [
    "j=3444"
   ]
  },
  {
   "cell_type": "markdown",
   "metadata": {},
   "source": [
    "A common way to represent variables on paper is to write the name with\n",
    "an arrow pointing to its value.  This kind of figure is\n",
    "called a **state diagram (狀態圖)** because it shows what state each of the\n",
    "variables is in (think of it as the variable's state of mind).\n",
    "Figure 2.1 shows the result of the previous example.\n",
    "\n",
    "<img src=\"fig2_1.png\">"
   ]
  },
  {
   "cell_type": "code",
   "execution_count": 5,
   "metadata": {},
   "outputs": [
    {
     "name": "stdout",
     "output_type": "stream",
     "text": [
      "And now for something completely different\n"
     ]
    }
   ],
   "source": [
    "print(message)"
   ]
  },
  {
   "cell_type": "code",
   "execution_count": 6,
   "metadata": {},
   "outputs": [
    {
     "name": "stdout",
     "output_type": "stream",
     "text": [
      "17\n"
     ]
    }
   ],
   "source": [
    "print(n)"
   ]
  },
  {
   "cell_type": "code",
   "execution_count": 2,
   "metadata": {},
   "outputs": [
    {
     "name": "stdout",
     "output_type": "stream",
     "text": [
      "3444\n"
     ]
    }
   ],
   "source": [
    "print(j)"
   ]
  },
  {
   "cell_type": "code",
   "execution_count": 7,
   "metadata": {},
   "outputs": [
    {
     "data": {
      "text/plain": [
       "int"
      ]
     },
     "execution_count": 7,
     "metadata": {},
     "output_type": "execute_result"
    }
   ],
   "source": [
    "type(n)"
   ]
  },
  {
   "cell_type": "code",
   "execution_count": 9,
   "metadata": {},
   "outputs": [
    {
     "data": {
      "text/plain": [
       "float"
      ]
     },
     "execution_count": 9,
     "metadata": {},
     "output_type": "execute_result"
    }
   ],
   "source": [
    "type(pi)"
   ]
  },
  {
   "cell_type": "markdown",
   "metadata": {},
   "source": [
    "## 2.2 Variable names\n",
    "\n",
    "Programmers generally choose names for their variables that\n",
    "are meaningful---they document what the variable is used for.\n",
    "\n",
    "Variable names can be as long as you like.  They can contain\n",
    "both letters and numbers, but they can't begin with a number.\n",
    "It is legal to use uppercase letters(大寫), but it is conventional\n",
    "to use only lower case(小寫) for variables names.\n",
    "\n",
    "<font color=\"red\">The underscore character, \"_\", can appear in a name.\n",
    "It is often used in names with multiple words, such as\n",
    "\"your_name\" or \"airspeed_of_unladen_swallow\".</font>\n",
    "\n",
    "If you give a variable an illegal name, you get a **<font color=\"red\">syntax error (語法錯誤)</font>**:"
   ]
  },
  {
   "cell_type": "code",
   "execution_count": 4,
   "metadata": {},
   "outputs": [
    {
     "ename": "SyntaxError",
     "evalue": "invalid syntax (<ipython-input-4-ee59a172c534>, line 1)",
     "output_type": "error",
     "traceback": [
      "\u001b[1;36m  File \u001b[1;32m\"<ipython-input-4-ee59a172c534>\"\u001b[1;36m, line \u001b[1;32m1\u001b[0m\n\u001b[1;33m    76trombones = 'big parade'\u001b[0m\n\u001b[1;37m              ^\u001b[0m\n\u001b[1;31mSyntaxError\u001b[0m\u001b[1;31m:\u001b[0m invalid syntax\n"
     ]
    }
   ],
   "source": [
    "76trombones = 'big parade'"
   ]
  },
  {
   "cell_type": "code",
   "execution_count": 5,
   "metadata": {},
   "outputs": [
    {
     "ename": "FileNotFoundError",
     "evalue": "[Errno 2] No such file or directory: '@ = 1000000'",
     "output_type": "error",
     "traceback": [
      "\u001b[1;31m---------------------------------------------------------------------------\u001b[0m",
      "\u001b[1;31mFileNotFoundError\u001b[0m                         Traceback (most recent call last)",
      "\u001b[1;32m<ipython-input-5-874d58278958>\u001b[0m in \u001b[0;36m<module>\u001b[1;34m()\u001b[0m\n\u001b[1;32m----> 1\u001b[1;33m \u001b[0mget_ipython\u001b[0m\u001b[1;33m(\u001b[0m\u001b[1;33m)\u001b[0m\u001b[1;33m.\u001b[0m\u001b[0mrun_line_magic\u001b[0m\u001b[1;33m(\u001b[0m\u001b[1;34m'more'\u001b[0m\u001b[1;33m,\u001b[0m \u001b[1;34m'@ = 1000000'\u001b[0m\u001b[1;33m)\u001b[0m\u001b[1;33m\u001b[0m\u001b[0m\n\u001b[0m",
      "\u001b[1;32mC:\\ProgramData\\Anaconda3\\lib\\site-packages\\IPython\\core\\interactiveshell.py\u001b[0m in \u001b[0;36mrun_line_magic\u001b[1;34m(self, magic_name, line, _stack_depth)\u001b[0m\n\u001b[0;32m   2093\u001b[0m                 \u001b[0mkwargs\u001b[0m\u001b[1;33m[\u001b[0m\u001b[1;34m'local_ns'\u001b[0m\u001b[1;33m]\u001b[0m \u001b[1;33m=\u001b[0m \u001b[0msys\u001b[0m\u001b[1;33m.\u001b[0m\u001b[0m_getframe\u001b[0m\u001b[1;33m(\u001b[0m\u001b[0mstack_depth\u001b[0m\u001b[1;33m)\u001b[0m\u001b[1;33m.\u001b[0m\u001b[0mf_locals\u001b[0m\u001b[1;33m\u001b[0m\u001b[0m\n\u001b[0;32m   2094\u001b[0m             \u001b[1;32mwith\u001b[0m \u001b[0mself\u001b[0m\u001b[1;33m.\u001b[0m\u001b[0mbuiltin_trap\u001b[0m\u001b[1;33m:\u001b[0m\u001b[1;33m\u001b[0m\u001b[0m\n\u001b[1;32m-> 2095\u001b[1;33m                 \u001b[0mresult\u001b[0m \u001b[1;33m=\u001b[0m \u001b[0mfn\u001b[0m\u001b[1;33m(\u001b[0m\u001b[1;33m*\u001b[0m\u001b[0margs\u001b[0m\u001b[1;33m,\u001b[0m\u001b[1;33m**\u001b[0m\u001b[0mkwargs\u001b[0m\u001b[1;33m)\u001b[0m\u001b[1;33m\u001b[0m\u001b[0m\n\u001b[0m\u001b[0;32m   2096\u001b[0m             \u001b[1;32mreturn\u001b[0m \u001b[0mresult\u001b[0m\u001b[1;33m\u001b[0m\u001b[0m\n\u001b[0;32m   2097\u001b[0m \u001b[1;33m\u001b[0m\u001b[0m\n",
      "\u001b[1;32m<decorator-gen-119>\u001b[0m in \u001b[0;36mless\u001b[1;34m(self, arg_s)\u001b[0m\n",
      "\u001b[1;32mC:\\ProgramData\\Anaconda3\\lib\\site-packages\\IPython\\core\\magic.py\u001b[0m in \u001b[0;36m<lambda>\u001b[1;34m(f, *a, **k)\u001b[0m\n\u001b[0;32m    185\u001b[0m     \u001b[1;31m# but it's overkill for just that one bit of state.\u001b[0m\u001b[1;33m\u001b[0m\u001b[1;33m\u001b[0m\u001b[0m\n\u001b[0;32m    186\u001b[0m     \u001b[1;32mdef\u001b[0m \u001b[0mmagic_deco\u001b[0m\u001b[1;33m(\u001b[0m\u001b[0marg\u001b[0m\u001b[1;33m)\u001b[0m\u001b[1;33m:\u001b[0m\u001b[1;33m\u001b[0m\u001b[0m\n\u001b[1;32m--> 187\u001b[1;33m         \u001b[0mcall\u001b[0m \u001b[1;33m=\u001b[0m \u001b[1;32mlambda\u001b[0m \u001b[0mf\u001b[0m\u001b[1;33m,\u001b[0m \u001b[1;33m*\u001b[0m\u001b[0ma\u001b[0m\u001b[1;33m,\u001b[0m \u001b[1;33m**\u001b[0m\u001b[0mk\u001b[0m\u001b[1;33m:\u001b[0m \u001b[0mf\u001b[0m\u001b[1;33m(\u001b[0m\u001b[1;33m*\u001b[0m\u001b[0ma\u001b[0m\u001b[1;33m,\u001b[0m \u001b[1;33m**\u001b[0m\u001b[0mk\u001b[0m\u001b[1;33m)\u001b[0m\u001b[1;33m\u001b[0m\u001b[0m\n\u001b[0m\u001b[0;32m    188\u001b[0m \u001b[1;33m\u001b[0m\u001b[0m\n\u001b[0;32m    189\u001b[0m         \u001b[1;32mif\u001b[0m \u001b[0mcallable\u001b[0m\u001b[1;33m(\u001b[0m\u001b[0marg\u001b[0m\u001b[1;33m)\u001b[0m\u001b[1;33m:\u001b[0m\u001b[1;33m\u001b[0m\u001b[0m\n",
      "\u001b[1;32mC:\\ProgramData\\Anaconda3\\lib\\site-packages\\ipykernel\\zmqshell.py\u001b[0m in \u001b[0;36mless\u001b[1;34m(self, arg_s)\u001b[0m\n\u001b[0;32m    340\u001b[0m             \u001b[0mcont\u001b[0m \u001b[1;33m=\u001b[0m \u001b[0mself\u001b[0m\u001b[1;33m.\u001b[0m\u001b[0mshell\u001b[0m\u001b[1;33m.\u001b[0m\u001b[0mpycolorize\u001b[0m\u001b[1;33m(\u001b[0m\u001b[0mopenpy\u001b[0m\u001b[1;33m.\u001b[0m\u001b[0mread_py_file\u001b[0m\u001b[1;33m(\u001b[0m\u001b[0marg_s\u001b[0m\u001b[1;33m,\u001b[0m \u001b[0mskip_encoding_cookie\u001b[0m\u001b[1;33m=\u001b[0m\u001b[1;32mFalse\u001b[0m\u001b[1;33m)\u001b[0m\u001b[1;33m)\u001b[0m\u001b[1;33m\u001b[0m\u001b[0m\n\u001b[0;32m    341\u001b[0m         \u001b[1;32melse\u001b[0m\u001b[1;33m:\u001b[0m\u001b[1;33m\u001b[0m\u001b[0m\n\u001b[1;32m--> 342\u001b[1;33m             \u001b[0mcont\u001b[0m \u001b[1;33m=\u001b[0m \u001b[0mopen\u001b[0m\u001b[1;33m(\u001b[0m\u001b[0marg_s\u001b[0m\u001b[1;33m)\u001b[0m\u001b[1;33m.\u001b[0m\u001b[0mread\u001b[0m\u001b[1;33m(\u001b[0m\u001b[1;33m)\u001b[0m\u001b[1;33m\u001b[0m\u001b[0m\n\u001b[0m\u001b[0;32m    343\u001b[0m         \u001b[0mpage\u001b[0m\u001b[1;33m.\u001b[0m\u001b[0mpage\u001b[0m\u001b[1;33m(\u001b[0m\u001b[0mcont\u001b[0m\u001b[1;33m)\u001b[0m\u001b[1;33m\u001b[0m\u001b[0m\n\u001b[0;32m    344\u001b[0m \u001b[1;33m\u001b[0m\u001b[0m\n",
      "\u001b[1;31mFileNotFoundError\u001b[0m: [Errno 2] No such file or directory: '@ = 1000000'"
     ]
    }
   ],
   "source": [
    "more@ = 1000000"
   ]
  },
  {
   "cell_type": "markdown",
   "metadata": {},
   "source": [
    "<font color=\"red\">Variable name is case-sensitive, which means lower case is different from upper case.\n",
    "\n",
    "請留意以下範例的錯誤訊息</font>"
   ]
  },
  {
   "cell_type": "code",
   "execution_count": 14,
   "metadata": {},
   "outputs": [
    {
     "ename": "NameError",
     "evalue": "name 'Name' is not defined",
     "output_type": "error",
     "traceback": [
      "\u001b[1;31m---------------------------------------------------------------------------\u001b[0m",
      "\u001b[1;31mNameError\u001b[0m                                 Traceback (most recent call last)",
      "\u001b[1;32m~\\AppData\\Local\\Temp/ipykernel_16688/2260718907.py\u001b[0m in \u001b[0;36m<module>\u001b[1;34m\u001b[0m\n\u001b[0;32m      1\u001b[0m \u001b[0mname\u001b[0m \u001b[1;33m=\u001b[0m \u001b[1;34m'Peter Pan'\u001b[0m\u001b[1;33m\u001b[0m\u001b[1;33m\u001b[0m\u001b[0m\n\u001b[1;32m----> 2\u001b[1;33m \u001b[0mprint\u001b[0m\u001b[1;33m(\u001b[0m\u001b[0mName\u001b[0m\u001b[1;33m)\u001b[0m\u001b[1;33m\u001b[0m\u001b[1;33m\u001b[0m\u001b[0m\n\u001b[0m",
      "\u001b[1;31mNameError\u001b[0m: name 'Name' is not defined"
     ]
    }
   ],
   "source": [
    "name = 'Peter Pan'\n",
    "print(Name)\n",
    "應該要分開，變數還沒被定義。"
   ]
  },
  {
   "cell_type": "code",
   "execution_count": 4,
   "metadata": {},
   "outputs": [
    {
     "name": "stdout",
     "output_type": "stream",
     "text": [
      "Peter Pan\n"
     ]
    }
   ],
   "source": [
    "name = \"Peter Pan\"\n",
    "print(name)"
   ]
  },
  {
   "cell_type": "code",
   "execution_count": 8,
   "metadata": {},
   "outputs": [
    {
     "ename": "SyntaxError",
     "evalue": "invalid syntax (Temp/ipykernel_12800/3803549429.py, line 1)",
     "output_type": "error",
     "traceback": [
      "\u001b[1;36m  File \u001b[1;32m\"C:\\Users\\hwi0101\\AppData\\Local\\Temp/ipykernel_12800/3803549429.py\"\u001b[1;36m, line \u001b[1;32m1\u001b[0m\n\u001b[1;33m    class = 'Advanced Theoretical Zymurgy'\u001b[0m\n\u001b[1;37m          ^\u001b[0m\n\u001b[1;31mSyntaxError\u001b[0m\u001b[1;31m:\u001b[0m invalid syntax\n"
     ]
    }
   ],
   "source": [
    "class = 'Advanced Theoretical Zymurgy'"
   ]
  },
  {
   "cell_type": "markdown",
   "metadata": {},
   "source": [
    "It turns out that **class** is one of Python's **<font color=\"red\">keywords (關鍵字)</font>**.  The\n",
    "interpreter uses keywords to recognize the structure of the program,\n",
    "and they cannot be used as variable names.\n",
    "\n",
    "### Python 3 has these **<font color=\"red\">keywords (關鍵字)</font>**:\n",
    "\n",
    "```\n",
    "False      class      finally    is         return\n",
    "None       continue   for        lambda     try\n",
    "True       def        from       nonlocal   while\n",
    "and        del        global     not        with\n",
    "as         elif       if         or         yield\n",
    "assert     else       import     pass\n",
    "break      except     in         raise\n",
    "```"
   ]
  },
  {
   "cell_type": "markdown",
   "metadata": {},
   "source": [
    "## 2.3 Expressions and statements"
   ]
  },
  {
   "cell_type": "markdown",
   "metadata": {},
   "source": [
    "An **<font color=\"red\">expression (運算式)</font>** is a combination of values, variables, and operators.\n",
    "A value all by itself is considered an expression, and so is\n",
    "a variable, so the following are all legal expressions:"
   ]
  },
  {
   "cell_type": "code",
   "execution_count": 7,
   "metadata": {},
   "outputs": [
    {
     "data": {
      "text/plain": [
       "42"
      ]
     },
     "execution_count": 7,
     "metadata": {},
     "output_type": "execute_result"
    }
   ],
   "source": [
    "42"
   ]
  },
  {
   "cell_type": "code",
   "execution_count": 8,
   "metadata": {},
   "outputs": [
    {
     "data": {
      "text/plain": [
       "17"
      ]
     },
     "execution_count": 8,
     "metadata": {},
     "output_type": "execute_result"
    }
   ],
   "source": [
    "n"
   ]
  },
  {
   "cell_type": "code",
   "execution_count": 9,
   "metadata": {},
   "outputs": [
    {
     "data": {
      "text/plain": [
       "42"
      ]
     },
     "execution_count": 9,
     "metadata": {},
     "output_type": "execute_result"
    }
   ],
   "source": [
    "n + 25"
   ]
  },
  {
   "cell_type": "markdown",
   "metadata": {},
   "source": [
    "When you type an expression at the prompt, the interpreter\n",
    "**evaluates (計算)** it, which means that it finds the value of\n",
    "the expression.\n",
    "In this example, `n` has the value `17` and\n",
    "`n + 25` has the value `42`.\n",
    "\n",
    "A **<font color=\"red\">statement (陳述句)</font>** is a unit of code that has an effect, like\n",
    "creating a variable or displaying a value. "
   ]
  },
  {
   "cell_type": "code",
   "execution_count": 10,
   "metadata": {},
   "outputs": [],
   "source": [
    "n = 17"
   ]
  },
  {
   "cell_type": "code",
   "execution_count": 11,
   "metadata": {},
   "outputs": [
    {
     "name": "stdout",
     "output_type": "stream",
     "text": [
      "17\n"
     ]
    }
   ],
   "source": [
    "print(n)"
   ]
  },
  {
   "cell_type": "markdown",
   "metadata": {},
   "source": [
    "The first line is an assignment statement that gives a value to\n",
    "**n**.  The second line is a print statement that displays the\n",
    "value of **n**.\n",
    "\n",
    "When you type a statement, the **interpreter (直譯器) executes** it,\n",
    "which means that it does whatever the statement says.  In general,\n",
    "statements don't have values."
   ]
  },
  {
   "cell_type": "markdown",
   "metadata": {},
   "source": [
    "## 2.4 Script mode\n",
    "\n",
    "\n",
    "So far we have run Python in **<font color=\"red\">interactive mode (互動模式)</font>**, which\n",
    "means that you interact directly with the interpreter.\n",
    "Interactive mode is a good way to get started,\n",
    "but if you are working with more than a few lines of code, it can be\n",
    "clumsy.\n",
    "\n",
    "The alternative is to save code in a file called a **<font color=\"red\">script (腳本)</font>** and\n",
    "then run the interpreter in **<font color=\"red\">script mode (腳本模式)</font>** to execute the script.  By\n",
    "convention, Python scripts have names that end with `.py`.\n",
    "\n",
    "Because Python provides both modes,\n",
    "you can test bits of code in interactive mode before you put them\n",
    "in a script.  But there are differences between interactive mode\n",
    "and script mode that can be confusing."
   ]
  },
  {
   "cell_type": "code",
   "execution_count": 12,
   "metadata": {},
   "outputs": [],
   "source": [
    "miles = 26.2"
   ]
  },
  {
   "cell_type": "code",
   "execution_count": 13,
   "metadata": {},
   "outputs": [
    {
     "data": {
      "text/plain": [
       "42.182"
      ]
     },
     "execution_count": 13,
     "metadata": {},
     "output_type": "execute_result"
    }
   ],
   "source": [
    "miles * 1.61"
   ]
  },
  {
   "cell_type": "markdown",
   "metadata": {},
   "source": [
    "The first line assigns a value to **miles**, but it has no visible\n",
    "effect.  The second line is an expression, so the\n",
    "interpreter evaluates it and displays the result.  It turns out that a\n",
    "marathon is about 42 kilometers.\n",
    "\n",
    "But if you type the same code into a script and run it, you get no\n",
    "output at all. \n",
    "In script mode an expression, all by itself, has no\n",
    "visible effect.  Python evaluates the expression, but it doesn't\n",
    "display the result.\n",
    "To display the result, you need a **print** statement like this:"
   ]
  },
  {
   "cell_type": "code",
   "execution_count": 17,
   "metadata": {},
   "outputs": [
    {
     "name": "stdout",
     "output_type": "stream",
     "text": [
      "43.148\n"
     ]
    }
   ],
   "source": [
    "miles = 26.8\n",
    "print(miles * 1.61)"
   ]
  },
  {
   "cell_type": "markdown",
   "metadata": {},
   "source": [
    "A script usually contains a sequence of statements. If there is more than one statement, the\n",
    "results appear one at a time as the statements execute."
   ]
  },
  {
   "cell_type": "code",
   "execution_count": 16,
   "metadata": {},
   "outputs": [
    {
     "data": {
      "text/plain": [
       "5"
      ]
     },
     "execution_count": 16,
     "metadata": {},
     "output_type": "execute_result"
    }
   ],
   "source": [
    "5"
   ]
  },
  {
   "cell_type": "code",
   "execution_count": 17,
   "metadata": {},
   "outputs": [],
   "source": [
    "x = 5"
   ]
  },
  {
   "cell_type": "code",
   "execution_count": 18,
   "metadata": {},
   "outputs": [
    {
     "data": {
      "text/plain": [
       "6"
      ]
     },
     "execution_count": 18,
     "metadata": {},
     "output_type": "execute_result"
    }
   ],
   "source": [
    "x + 1"
   ]
  },
  {
   "cell_type": "code",
   "execution_count": 19,
   "metadata": {},
   "outputs": [
    {
     "name": "stdout",
     "output_type": "stream",
     "text": [
      "5\n"
     ]
    }
   ],
   "source": [
    "print(x)"
   ]
  },
  {
   "cell_type": "code",
   "execution_count": 1,
   "metadata": {},
   "outputs": [
    {
     "data": {
      "text/plain": [
       "6"
      ]
     },
     "execution_count": 1,
     "metadata": {},
     "output_type": "execute_result"
    }
   ],
   "source": [
    "5\n",
    "x = 5\n",
    "x + 1"
   ]
  },
  {
   "cell_type": "code",
   "execution_count": 21,
   "metadata": {},
   "outputs": [
    {
     "name": "stdout",
     "output_type": "stream",
     "text": [
      "5\n",
      "6\n"
     ]
    }
   ],
   "source": [
    "print(5)\n",
    "x = 5\n",
    "print(x + 1)"
   ]
  },
  {
   "cell_type": "markdown",
   "metadata": {},
   "source": [
    "## 2.5 Order of operations\n",
    "\n",
    "<font color=\"red\">**Operators (運算子)**</font> are special symbols that represent computations like addition and multiplication. The values the operator is applied to are called <font color=\"red\">**operands (運算元)**</font>.\n",
    "- Addition: 20 + 32\n",
    "- Subtraction: hour – 1\n",
    "- Multiplication: hour * 60 + minute\n",
    "- Division: minute / 60\n",
    "- Exponentiation: 5 ** 2\n",
    "- Bitwise XOR:  7 ^ 2\n"
   ]
  },
  {
   "cell_type": "markdown",
   "metadata": {},
   "source": [
    "<font color=\"red\">**Floor division:**</font> when both of the operands are integers, the result is also an integer; floor division chops off the fraction part.\n",
    "\n",
    "- in Python 2.x\n",
    "<img src=\"py2.png\">\n",
    "\n",
    "- in Python 3.x\n",
    "<img src=\"py3.png\">\n",
    "\n",
    "\n",
    "If either of the operands is a ﬂoating-point number, Python performs ﬂoating-point division, and the result is a float:\n"
   ]
  },
  {
   "cell_type": "markdown",
   "metadata": {},
   "source": [
    "<font color=\"red\">When an **expression (運算式)** contains more than one **operator (運算子)**, the order of\n",
    "evaluation depends on the **order of operations (運算順序)**.</font>  For\n",
    "mathematical operators, Python follows mathematical convention.\n",
    "The acronym **PEMDAS** is a useful way to\n",
    "remember the rules:\n",
    "\n",
    "- **P**arentheses have the highest precedence and can be used \n",
    "to force an expression to evaluate in the order you want. Since\n",
    "expressions in parentheses are evaluated first, `2 * (3-1)` is `4`,\n",
    "and `(1+1)**(5-2)` is `8`. You can also use parentheses to make an\n",
    "expression easier to read, as in `(minute * 100) / 60`, even\n",
    "if it doesn't change the result.\n",
    "\n",
    "- **E**xponentiation has the next highest precedence, so\n",
    "`1 + 2**3` is 9, not 27, and `2 * 3**2` is 18, not 36.\n",
    "\n",
    "- **M**ultiplication and **D** ivision have higher precedence\n",
    "  than **A**ddition and **S**ubtraction.  So `2*3-1` is 5, not\n",
    "  4, and `6+4/2` is 8, not 5.\n",
    "\n",
    "- Operators with the same precedence are evaluated from left to\n",
    "  right (except exponentiation).  So in the expression `degrees /\n",
    "    2 * pi`, the division happens first and the result is multiplied\n",
    "  by `pi`.  To divide by $2 \\pi$, you can use parentheses or write\n",
    "  `degrees / 2 / pi`."
   ]
  },
  {
   "cell_type": "markdown",
   "metadata": {},
   "source": [
    "## 2.6 String operations\n",
    "\n",
    "In general, you can't perform mathematical operations on strings, even\n",
    "if the strings look like numbers, so the following are illegal:\n",
    "```\n",
    "'2'-'1'    'chinese'-'food'    'eggs'/'easy'    'third'*'a charm'\n",
    "```\n",
    "\n",
    "But there are two exceptions,`+` and `*`.\n",
    "\n",
    "The `+` operator performs **string concatenation (字串連接)**, which means\n",
    "it joins the strings by linking them end-to-end.  For example:\n"
   ]
  },
  {
   "cell_type": "code",
   "execution_count": 22,
   "metadata": {},
   "outputs": [],
   "source": [
    "first = 'throat'"
   ]
  },
  {
   "cell_type": "code",
   "execution_count": 23,
   "metadata": {},
   "outputs": [],
   "source": [
    "second = 'warbler'"
   ]
  },
  {
   "cell_type": "code",
   "execution_count": 24,
   "metadata": {},
   "outputs": [
    {
     "data": {
      "text/plain": [
       "'throatwarbler'"
      ]
     },
     "execution_count": 24,
     "metadata": {},
     "output_type": "execute_result"
    }
   ],
   "source": [
    "first + second"
   ]
  },
  {
   "cell_type": "markdown",
   "metadata": {},
   "source": [
    "The `*` operator also works on strings; it performs repetition.\n",
    "For example, `'Spam'*3` is `'SpamSpamSpam'`.  If one of the\n",
    "values is a string, the other has to be an integer.\n",
    "\n",
    "This use of `+` and `*` makes sense by\n",
    "analogy with addition and multiplication.  Just as `4*3` is\n",
    "equivalent to `4+4+4`, we expect `'Spam'*3` to be the same as\n",
    "`'Spam'+'Spam'+'Spam'`, and it is.  On the other hand, there is a\n",
    "significant way in which string concatenation and repetition are\n",
    "different from integer addition and multiplication.\n",
    "Can you think of a property that addition has\n",
    "that string concatenation does not?"
   ]
  },
  {
   "cell_type": "code",
   "execution_count": 4,
   "metadata": {},
   "outputs": [
    {
     "name": "stdout",
     "output_type": "stream",
     "text": [
      "**************************************************\n",
      "Hello! Hello! Hello! Hello! Hello! Hello! Hello! \n",
      "**************************************************\n"
     ]
    }
   ],
   "source": [
    "print('*' * 50)\n",
    "print('Hello! ' * 7)\n",
    "print('*' * 50)"
   ]
  },
  {
   "cell_type": "markdown",
   "metadata": {},
   "source": [
    "## 2.7 Comments\n",
    "\n",
    "As programs get bigger and more complicated, they get more difficult\n",
    "to read.  Formal languages are dense, and it is often difficult to\n",
    "look at a piece of code and figure out what it is doing, or why.\n",
    "\n",
    "For this reason, it is a good idea to add notes to your programs to explain\n",
    "in natural language what the program is doing.  These notes are called\n",
    "**comments**, and they start with the `\"#\"` symbol:\n",
    "\n",
    "```\n",
    "# compute the percentage of the hour that has elapsed\n",
    "percentage = (minute * 100) / 60\n",
    "```\n",
    "\n",
    "In this case, the comment appears on a line by itself.  You can also put\n",
    "comments at the end of a line:\n",
    "\n",
    "```\n",
    "percentage = (minute * 100) / 60     # percentage of an hour\n",
    "```\n",
    "\n",
    "<font color=\"red\">Everything from the `#` to the end of the line is ignored---it\n",
    "has no effect on the execution of the program.</font>\n",
    "\n",
    "Comments are most useful when they document non-obvious features of\n",
    "the code.  It is reasonable to assume that the reader can figure out\n",
    "*what* the code does; it is more useful to explain *why*.\n",
    "\n",
    "This comment is redundant with the code and useless:\n",
    "\n",
    "```\n",
    "v = 5     # assign 5 to v\n",
    "```\n",
    "\n",
    "This comment contains useful information that is not in the code:\n",
    "\n",
    "```\n",
    "v = 5     # velocity in meters/second. \n",
    "```\n",
    "\n",
    "<font color=\"red\">Good variable names can reduce the need for comments, but\n",
    "long names can make complex expressions hard to read, so there is\n",
    "a tradeoff.</font>"
   ]
  },
  {
   "cell_type": "markdown",
   "metadata": {},
   "source": [
    "## <font color=\"red\">練習1</font>\n",
    "\n",
    "1.利用 \"Spyder\" 輸入程式，包括 interactive mode 與 script mode，將執行的畫面擷圖存檔，然後插入 Jupyter Notebook 中，例如：\n",
    "\n",
    "<img src=\"spyder.png\">\n",
    "\n",
    "2.找出 \"Spyder\" 儲存程式的目錄，將畫面截圖插入  Jupyter Notebook 中，例如：\n",
    "\n",
    "<img src=\"spyder2.png\">\n",
    "\n",
    "3.利用利用目前所學到的方法，寫出一個運算式用以求出學號的末2位數字，例如：110247045的末2位數字為45。\n",
    "\n",
    "4.撰寫一個 Python Script，利用目前所學到的方法輸出窗戶的圖形，類似以下的畫面：\n",
    "\n",
    "<img src=\"spyder3.png\">\n",
    "<img src=\"window.png\">\n",
    "\n"
   ]
  },
  {
   "cell_type": "markdown",
   "metadata": {},
   "source": [
    "以下是練習的截圖"
   ]
  },
  {
   "cell_type": "markdown",
   "metadata": {},
   "source": [
    "<img src='74.png'>"
   ]
  },
  {
   "cell_type": "markdown",
   "metadata": {},
   "source": [
    "<img src='75.png'>"
   ]
  },
  {
   "cell_type": "markdown",
   "metadata": {},
   "source": [
    "## 2.8 Debugging\n",
    "\n",
    "<font color=\"red\">Common causes of syntax errors:</font>\n",
    "\n",
    "- Illegal variable names\n",
    "- Using keywords as variable names\n",
    "- Space in a variable name\n",
    "- Trying to use a variable before you have assigned a value is a runtime error.\n",
    "- Variable names are case sensitive, so LaTeX is not the same as latex.\n",
    "- Wrong order of operations my cause semantic error.\n",
    "\n",
    "\n",
    "Three kinds of errors can occur in a program: syntax errors, runtime \n",
    "errors, and semantic errors.  It is useful\n",
    "to distinguish between them in order to track them down more quickly.\n",
    "\n",
    "- <font color=\"red\">**Syntax error (語法錯誤):**</font> `\"Syntax\"` refers to the structure of a program\n",
    "  and the rules about that structure.  For example, parentheses have\n",
    "  to come in matching pairs, so `(1 + 2)` is legal, but `8)`\n",
    "  is a **syntax error**. If there is a syntax error anywhere in your program, Python displays an error message and quits,\n",
    "and you will not be able to run the program.  During the first few\n",
    "weeks of your programming career, you might spend a lot of\n",
    "time tracking down syntax errors.  As you gain experience, you will\n",
    "make fewer errors and find them faster.\n",
    "\n",
    "\n",
    "- <font color=\"red\">**Runtime error (執行時期錯誤):**</font> The second type of error is a runtime error, so\n",
    "  called because the error does not appear until after the program has\n",
    "  started running.  These errors are also called **exceptions**\n",
    "  because they usually indicate that something exceptional (and bad)\n",
    "  has happened. Runtime errors are rare in the simple programs you will see in the\n",
    "first few chapters, so it might be a while before you encounter one.\n",
    "\n",
    "\n",
    "- <font color=\"red\">**Semantic error (語意錯誤):**</font> The third type of error is `\"semantic\"`, which\n",
    "  means related to meaning.  If there is a semantic error in your\n",
    "  program, it will run without generating error messages, but it will\n",
    "  not do the right thing.  It will do something else.  Specifically,\n",
    "  it will do what you told it to do. Identifying semantic errors can be tricky because it requires you to work\n",
    "backward by looking at the output of the program and trying to figure\n",
    "out what it is doing."
   ]
  },
  {
   "cell_type": "markdown",
   "metadata": {},
   "source": [
    "## 2.9 Glossary\n",
    "\n",
    "- **[variable:]**:  A name that refers to a value. \\index{variable}\n",
    "\n",
    "- **[assignment:]**: A statement that assigns a value to a variable. \\index{assignment}\n",
    "\n",
    "- **[state diagram:]**:   A graphical representation of a set of variables and the values they refer to. \\index{state diagram}\n",
    "\n",
    "- **[keyword:]**:   A reserved word that is used to parse a program; you cannot use keywords like {\\tt if}, {\\tt  def}, and {\\tt while} as variable names. \\index{keyword}\n",
    "\n",
    "- **[operand:]**:   One of the values on which an operator operates. \\index{operand}\n",
    "\n",
    "- **[expression:]**:   A combination of variables, operators, and values that represents a single result. \\index{expression}\n",
    "\n",
    "- **[evaluate:]**:  To simplify an expression by performing the operations in order to yield a single value.\n",
    "\n",
    "- **[statement:]**:  A section of code that represents a command or action.  So far, the statements we have seen are assignments and print statements. \\index{statement}\n",
    "\n",
    "- **[execute:]**:  To run a statement and do what it says. \\index{execute}\n",
    "\n",
    "- **[interactive mode:]**: A way of using the Python interpreter by typing code at the prompt. \\index{interactive mode}\n",
    "\n",
    "- **[script mode:]**: A way of using the Python interpreter to read code from a script and run it. \\index{script mode}\n",
    "\n",
    "- **[script:]**: A program stored in a file. \\index{script}\n",
    "\n",
    "- **[order of operations:]**:  Rules governing the order in which expressions involving multiple operators and operands are evaluated. \\index{order of operations}\n",
    "\n",
    "- **[concatenate:]**:  To join two operands end-to-end. \\index{concatenation}\n",
    "\n",
    "- **[comment:]**:  Information in a program that is meant for other programmers (or anyone reading the source code) and has no effect on the execution of the program. \\index{comment}\n",
    "\n",
    "- **[syntax error:]**:  An error in a program that makes it impossible to parse (and therefore impossible to interpret). \\index{syntax error}\n",
    "\n",
    "- **[exception:]**:  An error that is detected while the program is running. \\index{exception}\n",
    "\n",
    "- **[semantics:]**:  The meaning of a program. \\index{semantics}\n",
    "\n",
    "- **[semantic error:]**:   An error in a program that makes it do something other than what the programmer intended. \\index{semantic error}\n"
   ]
  },
  {
   "cell_type": "markdown",
   "metadata": {},
   "source": [
    "## <font color=\"red\">練習2</font>\n",
    "\n",
    "編輯 Glossary 部分的文字，使其能夠在 notebook 中正確顯示，並仔細閱讀這些詞彙了解其意義。"
   ]
  },
  {
   "cell_type": "markdown",
   "metadata": {},
   "source": [
    "- **[variable:]**:  A name that refers to a value. \\index{variable}\n",
    "\n",
    "- **[assignment:]**: A statement that assigns a value to a variable. \\index{assignment}\n",
    "\n",
    "- **[state diagram:]**:   A graphical representation of a set of variables and the values they refer to. \\index{state diagram}\n",
    "\n",
    "- **[keyword:]**:   A reserved word that is used to parse a program; you cannot use keywords like {\\tt if}, {\\tt  def}, and {\\tt while} as variable names. \\index{keyword}\n",
    "\n",
    "- **[operand:]**:   One of the values on which an operator operates. \\index{operand}\n",
    "\n",
    "- **[expression:]**:   A combination of variables, operators, and values that represents a single result. \\index{expression}\n",
    "\n",
    "- **[evaluate:]**:  To simplify an expression by performing the operations in order to yield a single value.\n",
    "\n",
    "- **[statement:]**:  A section of code that represents a command or action.  So far, the statements we have seen are assignments and print statements. \\index{statement}\n",
    "\n",
    "- **[execute:]**:  To run a statement and do what it says. \\index{execute}\n",
    "\n",
    "- **[interactive mode:]**: A way of using the Python interpreter by typing code at the prompt. \\index{interactive mode}\n",
    "\n",
    "- **[script mode:]**: A way of using the Python interpreter to read code from a script and run it. \\index{script mode}\n",
    "\n",
    "- **[script:]**: A program stored in a file. \\index{script}\n",
    "\n",
    "- **[order of operations:]**:  Rules governing the order in which expressions involving multiple operators and operands are evaluated. \\index{order of operations}\n",
    "\n",
    "- **[concatenate:]**:  To join two operands end-to-end. \\index{concatenation}\n",
    "\n",
    "- **[comment:]**:  Information in a program that is meant for other programmers (or anyone reading the source code) and has no effect on the execution of the program. \\index{comment}\n",
    "\n",
    "- **[syntax error:]**:  An error in a program that makes it impossible to parse (and therefore impossible to interpret). \\index{syntax error}\n",
    "\n",
    "- **[exception:]**:  An error that is detected while the program is running. \\index{exception}\n",
    "\n",
    "- **[semantics:]**:  The meaning of a program. \\index{semantics}\n",
    "\n",
    "- **[semantic error:]**:   An error in a program that makes it do something other than what the programmer intended. \\index{semantic error}\n"
   ]
  },
  {
   "cell_type": "markdown",
   "metadata": {},
   "source": [
    "## <font color=\"red\">練習3</font>\n",
    "\n",
    "完成以下練習題。"
   ]
  },
  {
   "cell_type": "markdown",
   "metadata": {},
   "source": [
    "## 2.10 Exercises\n",
    "\n",
    "**Exercise 2.1**\n",
    "\n",
    "Repeating my advice from the previous chapter, whenever you learn\n",
    "a new feature, you should try it out in interactive mode and make\n",
    "errors on purpose to see what goes wrong.\n",
    "\n",
    "- We've seen that `n = 42` is legal.  What about `42 = n`?\n",
    "\n",
    "- How about `x = y = 1`?\n",
    "\n",
    "- In some languages every statement ends with a semi-colon, `;`.\n",
    "What happens if you put a semi-colon at the end of a Python statement?\n",
    "\n",
    "- What if you put a period at the end of a statement?\n",
    "\n",
    "- In math notation you can multiply $x$ and $y$ like this: $x y$.\n",
    "What happens if you try that in Python?\n",
    "\n",
    "\n",
    "**Exercise 2.2**\n",
    "\n",
    "Practice using the Python interpreter as a calculator: \n",
    "\n",
    "- The volume of a sphere with radius $r$ is $\\frac{4}{3} \\pi r^3$.\n",
    "  What is the volume of a sphere with radius 5?\n",
    "\n",
    "- Suppose the cover price of a book is `$24.95`, but bookstores get a\n",
    "  40% discount.  Shipping costs `$3` for the first copy and 75 cents\n",
    "  for each additional copy.  What is the total wholesale cost for\n",
    "  60 copies?\n",
    "\n",
    "- If I leave my house at 6:52 am and run 1 mile at an easy pace\n",
    "  (8:15 per mile), then 3 miles at tempo (7:12 per mile) and 1 mile at\n",
    "  easy pace again, what time do I get home for breakfast?\n"
   ]
  },
  {
   "cell_type": "code",
   "execution_count": 3,
   "metadata": {},
   "outputs": [
    {
     "ename": "SyntaxError",
     "evalue": "cannot assign to literal (Temp/ipykernel_4068/2938049093.py, line 2)",
     "output_type": "error",
     "traceback": [
      "\u001b[1;36m  File \u001b[1;32m\"C:\\Users\\hwi0101\\AppData\\Local\\Temp/ipykernel_4068/2938049093.py\"\u001b[1;36m, line \u001b[1;32m2\u001b[0m\n\u001b[1;33m    42=n\u001b[0m\n\u001b[1;37m    ^\u001b[0m\n\u001b[1;31mSyntaxError\u001b[0m\u001b[1;31m:\u001b[0m cannot assign to literal\n"
     ]
    }
   ],
   "source": [
    "print('2.1.1')\n",
    "42=n"
   ]
  },
  {
   "cell_type": "code",
   "execution_count": 4,
   "metadata": {},
   "outputs": [
    {
     "name": "stdout",
     "output_type": "stream",
     "text": [
      "2.1.2\n"
     ]
    }
   ],
   "source": [
    "print('2.1.2')\n",
    "x=y=1"
   ]
  },
  {
   "cell_type": "code",
   "execution_count": 5,
   "metadata": {},
   "outputs": [
    {
     "name": "stdout",
     "output_type": "stream",
     "text": [
      "2.1.3\n"
     ]
    }
   ],
   "source": [
    "print('2.1.3')\n",
    "m=38;"
   ]
  },
  {
   "cell_type": "code",
   "execution_count": 6,
   "metadata": {},
   "outputs": [
    {
     "name": "stdout",
     "output_type": "stream",
     "text": [
      "2.1.4\n"
     ]
    }
   ],
   "source": [
    "print('2.1.4')\n",
    "k=99,"
   ]
  },
  {
   "cell_type": "code",
   "execution_count": 9,
   "metadata": {},
   "outputs": [
    {
     "name": "stdout",
     "output_type": "stream",
     "text": [
      "2.1.5\n"
     ]
    },
    {
     "ename": "NameError",
     "evalue": "name 'xy' is not defined",
     "output_type": "error",
     "traceback": [
      "\u001b[1;31m---------------------------------------------------------------------------\u001b[0m",
      "\u001b[1;31mNameError\u001b[0m                                 Traceback (most recent call last)",
      "\u001b[1;32m~\\AppData\\Local\\Temp/ipykernel_4068/1385745744.py\u001b[0m in \u001b[0;36m<module>\u001b[1;34m\u001b[0m\n\u001b[0;32m      1\u001b[0m \u001b[0mprint\u001b[0m\u001b[1;33m(\u001b[0m\u001b[1;34m'2.1.5'\u001b[0m\u001b[1;33m)\u001b[0m\u001b[1;33m\u001b[0m\u001b[1;33m\u001b[0m\u001b[0m\n\u001b[1;32m----> 2\u001b[1;33m \u001b[0mxy\u001b[0m\u001b[1;33m\u001b[0m\u001b[1;33m\u001b[0m\u001b[0m\n\u001b[0m",
      "\u001b[1;31mNameError\u001b[0m: name 'xy' is not defined"
     ]
    }
   ],
   "source": [
    "print('2.1.5')\n",
    "xy"
   ]
  },
  {
   "cell_type": "markdown",
   "metadata": {},
   "source": [
    "2.1練習這些陳述句是否存在或有錯誤"
   ]
  },
  {
   "cell_type": "code",
   "execution_count": 13,
   "metadata": {},
   "outputs": [
    {
     "name": "stdout",
     "output_type": "stream",
     "text": [
      "2.2.1\n"
     ]
    },
    {
     "data": {
      "text/plain": [
       "523.3333333333334"
      ]
     },
     "execution_count": 13,
     "metadata": {},
     "output_type": "execute_result"
    }
   ],
   "source": [
    "print('2.2.1')\n",
    "r=5\n",
    "𝜋=3.14\n",
    "4/3*𝜋*(r**3)"
   ]
  },
  {
   "cell_type": "code",
   "execution_count": 25,
   "metadata": {},
   "outputs": [
    {
     "name": "stdout",
     "output_type": "stream",
     "text": [
      "2.2.2\n"
     ]
    },
    {
     "data": {
      "text/plain": [
       "646.0500000000001"
      ]
     },
     "execution_count": 25,
     "metadata": {},
     "output_type": "execute_result"
    }
   ],
   "source": [
    "print('2.2.2')\n",
    "24.95*60*0.4+3+0.75*59"
   ]
  },
  {
   "cell_type": "code",
   "execution_count": 6,
   "metadata": {},
   "outputs": [
    {
     "name": "stdout",
     "output_type": "stream",
     "text": [
      "2.2.3\n",
      "跑了 38 分 6 秒\n",
      "早上 7 點 30 分\n"
     ]
    }
   ],
   "source": [
    "print('2.2.3')\n",
    "\n",
    "s=(8*60+15)+(7*60+12)*3+(8*60+15)\n",
    "\n",
    "a=s//60\n",
    "\n",
    "k=s%60\n",
    "\n",
    "print(\"跑了\",a,\"分\",k,\"秒\" )\n",
    "\n",
    "b=52+38\n",
    "c=int(b/60)+6\n",
    "\n",
    "e=b%60\n",
    "print(\"早上\",c,\"點\",e,\"分\" )\n",
    "\n"
   ]
  },
  {
   "cell_type": "markdown",
   "metadata": {},
   "source": [
    "2.2\n",
    "第一題練習指派陳述句，將數值代換成符號下去做運算\n",
    "第二題單純運算\n",
    "第三題練習符號代換，商數取整數和餘數下去做運算求得時間"
   ]
  }
 ],
 "metadata": {
  "kernelspec": {
   "display_name": "Python 3 (ipykernel)",
   "language": "python",
   "name": "python3"
  },
  "language_info": {
   "codemirror_mode": {
    "name": "ipython",
    "version": 3
   },
   "file_extension": ".py",
   "mimetype": "text/x-python",
   "name": "python",
   "nbconvert_exporter": "python",
   "pygments_lexer": "ipython3",
   "version": "3.9.7"
  }
 },
 "nbformat": 4,
 "nbformat_minor": 2
}
