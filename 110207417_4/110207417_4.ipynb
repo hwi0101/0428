{
 "cells": [
  {
   "cell_type": "markdown",
   "metadata": {},
   "source": [
    "# Chapter 3\n",
    "\n",
    "In the context of programming, a **<font color=\"red\">function (函式、函數)</font>** is a named sequence of\n",
    "statements that performs a computation.  When you define a function,\n",
    "you specify the name and the sequence of statements.  Later, you can\n",
    "`\"call\"` the function by name.  \n"
   ]
  },
  {
   "cell_type": "markdown",
   "metadata": {},
   "source": [
    "## 3.1 Function calls\n",
    "\n",
    "We have already seen one example of a `function call` **<font color=\"red\">(函式呼叫)</font>**:\n",
    "\n",
    "```\n",
    ">>> type(42)\n",
    "<class 'int'>\n",
    "```\n",
    "\n",
    "The name of the function is **type (型態)**.  The expression in parentheses\n",
    "is called the <code><b><font color=\"red\">argument (引數)</font></b></code> of the function.  The result, for this\n",
    "function, is the type of the argument.\n",
    "\n",
    "<div class=\"alert alert-block alert-info\">\n",
    "    It is common to say that a function <code><b><font color=\"red\">takes (接受)</font></b></code> an argument and <code><b><font color=\"red\">returns (回傳)</font></b></code>\n",
    "a result.  The result is also called the <code><b><font color=\"red\">return value (回傳值)</font></b></code>.\n",
    "</div>\n",
    "\n",
    "Python provides functions that convert values\n",
    "from one type to another.  The `int` function takes any value and\n",
    "converts it to an integer, if it can, or complains otherwise:\n",
    "\n",
    "```\n",
    ">>> int('32')\n",
    "32\n",
    ">>> int('Hello')\n",
    "ValueError: invalid literal for int(): Hello\n",
    "```\n",
    "\n",
    "<code><b><font color=\"red\">int</font></b></code> can convert **<font color=\"red\">floating-point (浮點數) values to integers (整數)</font>**, but it\n",
    "doesn't round off; it chops off the fraction part:\n",
    "\n",
    "```\n",
    ">>> int(3.99999)\n",
    "3\n",
    ">>> int(-2.3)\n",
    "-2\n",
    "```\n",
    "\n",
    "<code><b><font color=\"red\">float</font></b></code> converts integers and strings to floating-point\n",
    "numbers:\n",
    "\n",
    "\n",
    "```\n",
    ">> float(32)\n",
    "32.0\n",
    ">>> float('3.14159')\n",
    "3.14159\n",
    "```\n",
    "\n",
    "Finally, <code><b><font color=\"red\">str</font></b></code> converts its argument to a string:\n",
    "\n",
    "```\n",
    ">>> str(32)\n",
    "'32'\n",
    ">>> str(3.14159)\n",
    "'3.14159'\n",
    "```\n"
   ]
  },
  {
   "cell_type": "markdown",
   "metadata": {},
   "source": [
    "## 3.2 Math functions\n",
    "\n",
    "Python has a math module that provides most of the familiar\n",
    "mathematical functions.  \n",
    "\n",
    "<div class=\"alert alert-block alert-info\">\n",
    "A <font color=\"red\">module (模組)</font> is a file that contains a\n",
    "collection of related functions.\n",
    "</div>\n",
    "\n",
    "Before we can use the functions in a module, we have to import it with\n",
    "an **<font color=\"red\">import statement</font>**:  \n",
    "\n",
    "```\n",
    ">>> import math\n",
    "```\n",
    "\n",
    "This statement creates a **<font color=\"red\">module object (模組物件)</font>** named math.  If\n",
    "you display the module object, you get some information about it:\n",
    "\n",
    "```\n",
    ">>> math\n",
    "<module 'math' (built-in)>\n",
    "```\n",
    "\n",
    "The module object contains the functions and variables defined in the\n",
    "module.  To access one of the functions, you have to specify the name\n",
    "of the module and the name of the function, separated by a dot (also\n",
    "known as a period).  This format is called **<font color=\"red\">dot notation</font>**.\n",
    "\n",
    "```\n",
    ">>> ratio = signal_power / noise_power\n",
    ">>> decibels = 10 * math.log10(ratio)\n",
    "\n",
    ">>> radians = 0.7\n",
    ">>> height = math.sin(radians)\n",
    "```\n",
    "\n",
    "The first example uses `math.log10` to compute \n",
    "a signal-to-noise ratio in decibels (assuming that `signal_power` and\n",
    "`noise_power` are defined).  The math module also provides `log`,\n",
    "which computes logarithms base `e`.\n",
    "\n",
    "The second example finds the sine of `radians`.  <font color=\"red\">The variable name <b>radians</b> is a hint that <b>sin</b> and the other trigonometric\n",
    "functions (<b>cos</b>, <b>tan</b>, etc.)  take arguments in radians.</font> To\n",
    "convert from degrees to radians, divide by 180 and multiply by\n",
    "$\\pi$:\n",
    "\n",
    "```\n",
    ">>> degrees = 45\n",
    ">>> radians = degrees / 180.0 * math.pi\n",
    ">>> math.sin(radians)\n",
    "0.707106781187\n",
    "```\n",
    "\n",
    "The expression `math.pi` gets the variable `pi` from the math\n",
    "module.  Its value is a floating-point approximation\n",
    "of $\\pi$, accurate to about 15 digits.\n",
    "\n",
    "If you know\n",
    "trigonometry, you can check the previous result by comparing it to\n",
    "the square root of two, divided by two:\n",
    "\n",
    "```\n",
    ">>> math.sqrt(2) / 2.0\n",
    "0.707106781187\n",
    "```"
   ]
  },
  {
   "cell_type": "markdown",
   "metadata": {},
   "source": [
    "## 3.3 Composition\n",
    "\n",
    "So far, we have looked at the elements of a program---variables,\n",
    "expressions, and statements---in isolation, without talking about how to\n",
    "combine them.\n",
    "\n",
    "One of the most useful features of programming languages is their\n",
    "ability to take small building blocks and **<font color=\"red\">compose (組合)</font>** them.  For\n",
    "example, the argument of a function can be any kind of expression,\n",
    "including **arithmetic operators (算術運算子)**:\n",
    "\n",
    "```\n",
    "x = math.sin(degrees / 360.0 * 2 * math.pi)\n",
    "```\n",
    "\n",
    "And even function calls:\n",
    "\n",
    "```\n",
    "x = math.exp(math.log(x+1))\n",
    "```\n",
    "\n",
    "<div class=\"alert alert-block alert-info\">\n",
    "Almost anywhere you can put a value, you can put an arbitrary\n",
    "expression, with one exception: the left side of an assignment\n",
    "statement has to be a variable name.  Any other expression on the left\n",
    "side is a syntax error (we will see exceptions to this rule\n",
    "later).\n",
    "</div>\n",
    "\n",
    "```\n",
    ">>> minutes = hours * 60                 # right\n",
    ">>> hours * 60 = minutes                 # wrong!\n",
    "SyntaxError: can't assign to operator\n",
    "```\n"
   ]
  },
  {
   "cell_type": "markdown",
   "metadata": {},
   "source": [
    "## 3.4 Adding new functions\n",
    "\n",
    "So far, we have only been using the functions that come with Python,\n",
    "but it is also possible to add new functions.\n",
    "\n",
    "<div class=\"alert alert-block alert-info\">\n",
    "A <font color=\"red\"><b>function definition (函式定義)</b></font> specifies the name of a new function and\n",
    "the sequence of statements that run when the function is called.\n",
    "</div>\n",
    "\n",
    "Here is an example:\n",
    "\n",
    "```\n",
    "def print_lyrics():\n",
    "    print(\"I'm a lumberjack, and I'm okay.\")\n",
    "    print(\"I sleep all night and I work all day.\")\n",
    "```\n",
    "\n",
    "`def` is a keyword that indicates that this is a function\n",
    "definition.  The name of the function is `\"print_lyrics\"`.  The\n",
    "rules for function names are the same as for variable names: letters,\n",
    "numbers and underscore are legal, but the first character\n",
    "can't be a number.  You can't use a keyword as the name of a function,\n",
    "and you should avoid having a variable and a function with the same\n",
    "name.\n",
    "\n",
    "<div class=\"alert alert-block alert-info\">\n",
    "The empty parentheses after the name indicate that this function\n",
    "doesn't take any arguments.\n",
    "</div>\n",
    "\n",
    "<div class=\"alert alert-block alert-info\">\n",
    "    The first line of the function definition is called the <font color=\"red\"><b>header</b></font>;\n",
    "    the rest is called the <font color=\"red\"><b>body</b></font>.  The header has to end with a colon\n",
    "and the body has to be indented.  By convention, indentation is\n",
    "always four spaces.  The body can contain\n",
    "any number of statements.\n",
    "</div>\n",
    "\n",
    "The strings in the print statements are enclosed in double\n",
    "quotes.  Single quotes and double quotes do the same thing;\n",
    "most people use single quotes except in cases like this where\n",
    "a single quote (which is also an apostrophe) appears in the string.\n",
    "\n",
    "All quotation marks (single and double)\n",
    "must be `\"straight quotes\"`, usually\n",
    "located next to Enter on the keyboard.  `\"Curly quotes\"`, like\n",
    "the ones in this sentence, are not legal in Python.\n",
    "\n",
    "If you type a function definition in interactive mode, the interpreter\n",
    "prints dots (`...`) to let you know that the definition\n",
    "isn't complete:\n",
    "\n",
    "```\n",
    ">>> def print_lyrics():\n",
    "...     print(\"I'm a lumberjack, and I'm okay.\")\n",
    "...     print(\"I sleep all night and I work all day.\")\n",
    "...\n",
    "```\n",
    "\n",
    "To end the function, you have to enter an empty line.\n",
    "\n",
    "Defining a function creates a **function object (函式物件)**, which\n",
    "has type `\"function\"`:\n",
    "\n",
    "```\n",
    ">>> print(print_lyrics)\n",
    "<function print_lyrics at 0xb7e99e9c>\n",
    ">>> type(print_lyrics)\n",
    "<class 'function'>\n",
    "```\n",
    "\n",
    "The syntax for calling the new function is the same as\n",
    "for built-in functions:\n",
    "\n",
    "```\n",
    ">>> print_lyrics()\n",
    "I'm a lumberjack, and I'm okay.\n",
    "I sleep all night and I work all day.\n",
    "```\n",
    "\n",
    "Once you have defined a function, you can use it inside another\n",
    "function.  For example, to repeat the previous refrain, we could write\n",
    "a function called `\"repeat_lyrics\"`:\n",
    "\n",
    "```\n",
    "def repeat_lyrics():\n",
    "    print_lyrics()\n",
    "    print_lyrics()\n",
    "```\n",
    "\n",
    "And then call `\"repeat_lyrics\"`:\n",
    "\n",
    "```\n",
    ">>> repeat_lyrics()\n",
    "I'm a lumberjack, and I'm okay.\n",
    "I sleep all night and I work all day.\n",
    "I'm a lumberjack, and I'm okay.\n",
    "I sleep all night and I work all day.\n",
    "```\n",
    "\n",
    "But that's not really how the song goes.\n"
   ]
  },
  {
   "cell_type": "code",
   "execution_count": 1,
   "metadata": {},
   "outputs": [
    {
     "name": "stdout",
     "output_type": "stream",
     "text": [
      "<function print_lyrics at 0x00000219DBF69670>\n",
      "I'm a lumberjack, and I'm okay.\n",
      "I sleep all night and I work all day.\n"
     ]
    }
   ],
   "source": [
    "def print_lyrics():\n",
    "    print(\"I'm a lumberjack, and I'm okay.\")\n",
    "    print(\"I sleep all night and I work all day.\")\n",
    "    \n",
    "print(print_lyrics)\n",
    "print_lyrics()"
   ]
  },
  {
   "cell_type": "markdown",
   "metadata": {},
   "source": [
    "- <font color=\"red\" size=4>function 的 body 需要縮排</font>\n",
    "- <font color=\"red\" size=4>function 的 名稱代表一個 function object (函式物件)</font>\n",
    "- <font color=\"red\" size=4>function 被呼叫 (call) 才會執行 function 內部的指令</font>\n",
    "- <font color=\"red\" size=4>function 呼叫 function 的方式為： function_name()</font>"
   ]
  },
  {
   "cell_type": "code",
   "execution_count": 2,
   "metadata": {},
   "outputs": [
    {
     "name": "stdout",
     "output_type": "stream",
     "text": [
      "I'm a lumberjack, and I'm okay.\n",
      "I sleep all night and I work all day.\n",
      "I'm a lumberjack, and I'm okay.\n",
      "I sleep all night and I work all day.\n"
     ]
    }
   ],
   "source": [
    "def repeat_lyrics():\n",
    "    print_lyrics()\n",
    "    print_lyrics()\n",
    "    \n",
    "repeat_lyrics()"
   ]
  },
  {
   "cell_type": "markdown",
   "metadata": {},
   "source": [
    "- <font color=\"red\" size=4>function 的內部可以呼叫另一個 function</font>\n",
    "- <font color=\"red\" size=4>function 可以促進程式碼的再利用</font>"
   ]
  },
  {
   "cell_type": "markdown",
   "metadata": {},
   "source": [
    "## 3.5 Definitions and uses\n",
    "\n",
    "Pulling together the code fragments from the previous section, the\n",
    "whole program looks like this:\n",
    "\n",
    "```\n",
    "def print_lyrics():\n",
    "    print(\"I'm a lumberjack, and I'm okay.\")\n",
    "    print(\"I sleep all night and I work all day.\")\n",
    "\n",
    "def repeat_lyrics():\n",
    "    print_lyrics()\n",
    "    print_lyrics()\n",
    "\n",
    "repeat_lyrics()\n",
    "```\n",
    "\n",
    "<div class=\"alert alert-block alert-info\">\n",
    "This program contains two function definitions: <b>print_lyrics</b> and\n",
    "<b>repeat_lyrics</b>.  Function definitions get executed just like other\n",
    "statements, but the effect is to create function objects.  <b>The statements\n",
    "inside the function do not run until the function is called, and\n",
    "    the function definition generates no output.</b>\n",
    "</div>\n",
    "\n",
    "As you might expect, you have to create a function before you can\n",
    "run it.  In other words, the function definition has to run\n",
    "before the function gets called.\n",
    "\n",
    "As an exercise, move the last line of this program\n",
    "to the top, so the function call appears before the definitions. Run \n",
    "the program and see what error\n",
    "message you get.\n",
    "\n",
    "Now move the function call back to the bottom\n",
    "and move the definition of \\verb\"print_lyrics\" after the definition of\n",
    "\\verb\"repeat_lyrics\".  What happens when you run this program?"
   ]
  },
  {
   "cell_type": "markdown",
   "metadata": {},
   "source": [
    "## <font color=\"red\">練習1</font>\n",
    "\n",
    "1. 利用 \"Spyder\" 輸入程式，以 interactive mode 輸入 print_lyrics() 函式，以及呼叫 print_lyrics() 函式\n",
    "\n",
    "2. 利用 \"Spyder\" 以 script mode 輸入以下程式碼如附圖所示\n",
    "    \n",
    "3. 執行程式會出現錯誤訊息，請解釋錯誤的原因，並修正程式\n",
    "\n",
    "4. 將執行的畫面擷圖存檔，然後插入 Jupyter Notebook 中，例如附圖所示\n",
    "\n",
    "<img src=\"spyder4.png\">"
   ]
  },
  {
   "cell_type": "markdown",
   "metadata": {},
   "source": [
    "<img src=\"kk.png\">"
   ]
  },
  {
   "cell_type": "markdown",
   "metadata": {},
   "source": [
    "## 3.6 Flow of execution\n",
    "\n",
    "To ensure that a function is defined before its first use,\n",
    "you have to know the order statements run in, which is\n",
    "called the **flow of execution(執行流程)**.\n",
    "\n",
    "Execution always begins at the first statement of the program.\n",
    "Statements are run one at a time, in order from top to bottom.\n",
    "\n",
    "<div class=\"alert alert-block alert-info\">\n",
    "Function definitions do not alter the flow of execution of the\n",
    "program, but remember that statements inside the function don't\n",
    "run until the function is called.\n",
    "</div>\n",
    "<div class=\"alert alert-block alert-info\">\n",
    "A function call is like a detour in the flow of execution. Instead of\n",
    "going to the next statement, the flow jumps to the body of\n",
    "the function, runs the statements there, and then comes back\n",
    "to pick up where it left off.\n",
    "</div>\n",
    "\n",
    "That sounds simple enough, until you remember that one function can\n",
    "call another.  While in the middle of one function, the program might\n",
    "have to run the statements in another function.  Then, while\n",
    "running that new function, the program might have to run yet\n",
    "another function!\n",
    "\n",
    "Fortunately, Python is good at keeping track of where it is, so each\n",
    "time a function completes, the program picks up where it left off in\n",
    "the function that called it.  When it gets to the end of the program,\n",
    "it terminates.\n",
    "\n",
    "In summary, when you read a program, you\n",
    "don't always want to read from top to bottom.  Sometimes it makes\n",
    "more sense if you follow the flow of execution.\n"
   ]
  },
  {
   "cell_type": "markdown",
   "metadata": {},
   "source": [
    "## 3.7 Parameters and arguments\n",
    "\n",
    "Some of the functions we have seen require <code><font color=\"red\">arguments (引數)</font></code>.  For\n",
    "example, when you call `math.sin` you pass a number\n",
    "as an argument.  Some functions take more than one argument:\n",
    "`math.pow` takes two, the base and the exponent.\n",
    "\n",
    "<div class=\"alert alert-block alert-info\">\n",
    "    Inside the function, the <font color=\"red\"><b>arguments (引數)</b></font> are assigned to\n",
    "    variables called <font color=\"red\"><b>parameters (參數)</b></font>.  \n",
    "</div>\n",
    "\n",
    "Here is a definition for\n",
    "a function that takes an argument:\n",
    "\n",
    "```\n",
    "def print_twice(bruce):\n",
    "    print(bruce)\n",
    "    print(bruce)\n",
    "```\n",
    "\n",
    "This function assigns the argument to a parameter\n",
    "named `bruce`.  When the function is called, it prints the value of\n",
    "the parameter (whatever it is) twice.\n",
    "\n",
    "This function works with any value that can be printed.\n",
    "\n",
    "```\n",
    ">>> print_twice('Spam')\n",
    "Spam\n",
    "Spam\n",
    ">>> print_twice(42)\n",
    "42\n",
    "42\n",
    ">>> print_twice(math.pi)\n",
    "3.14159265359\n",
    "3.14159265359\n",
    "```\n",
    "\n",
    "The same rules of composition that apply to built-in functions also\n",
    "apply to programmer-defined functions, so we can use any kind of expression\n",
    "as an argument for `print_twice`:\n",
    "\n",
    "```\n",
    ">>> print_twice('Spam '*4)\n",
    "Spam Spam Spam Spam\n",
    "Spam Spam Spam Spam\n",
    ">>> print_twice(math.cos(math.pi))\n",
    "-1.0\n",
    "-1.0\n",
    "```\n",
    "\n",
    "The argument is evaluated before the function is called, so\n",
    "in the examples the expressions `'Spam '*4` and\n",
    "`math.cos(math.pi)` are only evaluated once.\n",
    "\n",
    "You can also use a variable as an argument:\n",
    "\n",
    "```\n",
    ">>> michael = 'Eric, the half a bee.'\n",
    ">>> print_twice(michael)\n",
    "Eric, the half a bee.\n",
    "Eric, the half a bee.\n",
    "```\n",
    "\n",
    "<font color=\"red\">The name of the variable we pass as an argument (`michael`) has\n",
    "nothing to do with the name of the parameter (`bruce`).  It\n",
    "doesn't matter what the value was called back home (in the caller);\n",
    "here in <code>print_twice</code>, we call everybody `bruce`.\n",
    "</font>"
   ]
  },
  {
   "cell_type": "markdown",
   "metadata": {},
   "source": [
    "## 3.8 Variables and parameters are local\n",
    "\n",
    "<div class=\"alert alert-block alert-info\">\n",
    "When you create <b><font color=\"red\">a variable inside a function</font></b>, it is <b><font color=\"red\">local (局部的)</font></b>,\n",
    "which means that it only\n",
    "exists inside the function.  \n",
    "</div>\n",
    "\n",
    "For example:\n",
    "\n",
    "```\n",
    "def cat_twice(part1, part2):\n",
    "    cat = part1 + part2\n",
    "    print_twice(cat)\n",
    "```\n",
    "\n",
    "This function takes two arguments, concatenates them, and prints\n",
    "the result twice.  Here is an example that uses it:\n",
    "\n",
    "```\n",
    ">>> line1 = 'Bing tiddle '\n",
    ">>> line2 = 'tiddle bang.'\n",
    ">>> cat_twice(line1, line2)\n",
    "Bing tiddle tiddle bang.\n",
    "Bing tiddle tiddle bang.\n",
    "```\n",
    "\n",
    "<font color=\"red\">When `cat_twice` terminates, the variable `cat`\n",
    "is destroyed.</font>  If we try to print it, we get an exception:\n",
    "\n",
    "\n",
    "```\n",
    ">>> print(cat)\n",
    "NameError: name 'cat' is not defined\n",
    "```\n",
    "\n",
    "<div class=\"alert alert-block alert-info\">\n",
    "<b><font color=\"red\">Parameters are also local</font></b>.\n",
    "    For example, outside <code>print_twice</code>, there is no\n",
    "such thing as `bruce`.\n",
    "</div>"
   ]
  },
  {
   "cell_type": "code",
   "execution_count": 8,
   "metadata": {},
   "outputs": [
    {
     "name": "stdout",
     "output_type": "stream",
     "text": [
      "Bing tiddle tiddle bang.\n",
      "Bing tiddle tiddle bang.\n"
     ]
    }
   ],
   "source": [
    "def cat_twice(part1, part2):\n",
    "    cat = part1 + part2\n",
    "    print(cat)\n",
    "    print(cat)\n",
    "line1 = 'Bing tiddle '    \n",
    "line2 = 'tiddle bang.'\n",
    "    \n",
    "cat_twice(line1, line2)"
   ]
  },
  {
   "cell_type": "markdown",
   "metadata": {},
   "source": [
    "## 3.9 Stack diagrams\n",
    "\n",
    "To keep track of which variables can be used where, it is sometimes\n",
    "useful to draw a **<font color=\"red\">stack diagram</font>**.  Like state diagrams, stack\n",
    "diagrams show the value of each variable, but they also show the\n",
    "function each variable belongs to.\n",
    "\n",
    "<div class=\"alert alert-block alert-info\">\n",
    "Each function is represented by a <font color=\"red\"><b>frame</b></font>.  A frame is a box with\n",
    "the name of a function beside it and the parameters and variables of\n",
    "the function inside it.  \n",
    "</div>\n",
    "\n",
    "The stack diagram for the previous example is\n",
    "shown in Figure 3.1.\n",
    "\n",
    "<img src=\"stackdiagram.png\">\n",
    "\n",
    "\n",
    "The frames are arranged in a stack that indicates which function\n",
    "called which, and so on.  In this example, `print_twice`\n",
    "was called by `cat_twice`, and `cat_twice` was called by \n",
    "`__main__`, which is a special name for the topmost frame.  When\n",
    "you create a variable outside of any function, it belongs to \n",
    "`__main__`.\n",
    "\n",
    "Each parameter refers to the same value as its corresponding\n",
    "argument.  So, `part1` has the same value as\n",
    "`line1`, `part2` has the same value as `line2`,\n",
    "and `bruce` has the same value as`cat`.\n",
    "\n",
    "If an error occurs during a function call, Python prints the\n",
    "name of the function, the name of the function that called\n",
    "it, and the name of the function that called *that*, all the\n",
    "way back to `__main__`.\n",
    "\n",
    "For example, if you try to access `cat` from within \n",
    "`print_twice`, you get a `NameError`:\n",
    "\n",
    "```\n",
    "Traceback (innermost last):\n",
    "  File \"test.py\", line 13, in __main__\n",
    "    cat_twice(line1, line2)\n",
    "  File \"test.py\", line 5, in cat_twice\n",
    "    print_twice(cat)\n",
    "  File \"test.py\", line 9, in print_twice\n",
    "    print(cat)\n",
    "NameError: name 'cat' is not defined\n",
    "```\n",
    "\n",
    "This list of functions is called a **<font color=\"red\">traceback (回溯)</font>**.  It tells you what\n",
    "program file the error occurred in, and what line, and what functions\n",
    "were executing at the time.  It also shows the line of code that\n",
    "caused the error.\n",
    "\n",
    "The order of the functions in the traceback is the same as the\n",
    "order of the frames in the stack diagram.  The function that is\n",
    "currently running is at the bottom.\n"
   ]
  },
  {
   "cell_type": "markdown",
   "metadata": {},
   "source": [
    "## 3.10 Fruitful functions and void functions\n",
    "\n",
    "Some of the functions we have used, such as the math functions, return\n",
    "results; for lack of a better name, I call them **<font color=\"red\">fruitful\n",
    "  functions</font>**.  Other functions, like `print_twice`, perform an\n",
    "action but don't return a value.  They are called **<font color=\"red\">void\n",
    "  functions</font>**.\n",
    "\n",
    "When you call a fruitful function, you almost always\n",
    "want to do something with the result; for example, you might\n",
    "assign it to a variable or use it as part of an expression:\n",
    "\n",
    "```\n",
    "x = math.cos(radians)\n",
    "golden = (math.sqrt(5) + 1) / 2\n",
    "```\n",
    "\n",
    "When you call a function in interactive mode, Python displays\n",
    "the result:\n",
    "\n",
    "```\n",
    ">>> math.sqrt(5)\n",
    "2.2360679774997898\n",
    "```\n",
    "\n",
    "But in a script, if you call a fruitful function all by itself,\n",
    "the return value is lost forever!\n",
    "\n",
    "```\n",
    "math.sqrt(5)\n",
    "```\n",
    "\n",
    "This script computes the square root of 5, but since it doesn't store\n",
    "or display the result, it is not very useful.\n",
    "\n",
    "Void functions might display something on the screen or have some\n",
    "other effect, but they don't have a return value.  If you\n",
    "assign the result to a variable, you get a special value called\n",
    "**<font color=\"red\">None</font>**.\n",
    "\n",
    "```\n",
    ">>> result = print_twice('Bing')\n",
    "Bing\n",
    "Bing\n",
    ">>> print(result)\n",
    "None\n",
    "```\n",
    "\n",
    "The value `None` is not the same as the string `'None'`. \n",
    "It is a special value that has its own type:\n",
    "\n",
    "```\n",
    ">>> type(None)\n",
    "<class 'NoneType'>\n",
    "```\n",
    "\n",
    "The functions we have written so far are all void.  We will start\n",
    "writing fruitful functions in a few chapters.\n"
   ]
  },
  {
   "cell_type": "markdown",
   "metadata": {},
   "source": [
    "## 3.11 Why functions?\n",
    "\n",
    "It may not be clear why it is worth the trouble to divide\n",
    "a program into functions.  There are several reasons:\n",
    "\n",
    "- Creating a new function gives you an opportunity to name a group\n",
    "of statements, which makes your program easier to read and debug.\n",
    "\n",
    "- Functions can make a program smaller by eliminating repetitive\n",
    "code. Later, if you make a change, you only have\n",
    "to make it in one place.\n",
    "\n",
    "- Dividing a long program into functions allows you to debug the\n",
    "parts one at a time and then assemble them into a working whole.\n",
    "\n",
    "- Well-designed functions are often useful for many programs.\n",
    "Once you write and debug one, you can reuse it."
   ]
  },
  {
   "cell_type": "markdown",
   "metadata": {},
   "source": [
    "## 3.12 Debugging\n",
    "\n",
    "One of the most important skills you will acquire is debugging.\n",
    "Although it can be frustrating, debugging is one of the most\n",
    "intellectually rich, challenging, and interesting parts of\n",
    "programming.\n",
    "\n",
    "In some ways debugging is like detective work.  You are confronted\n",
    "with clues and you have to infer the processes and events that led\n",
    "to the results you see.\n",
    "\n",
    "Debugging is also like an experimental science.  Once you have an idea\n",
    "about what is going wrong, you modify your program and try again.  If\n",
    "your hypothesis was correct, you can predict the result of the\n",
    "modification, and you take a step closer to a working program.  If\n",
    "your hypothesis was wrong, you have to come up with a new one.  As\n",
    "Sherlock Holmes pointed out, ***When you have eliminated the\n",
    "impossible, whatever remains, however improbable, must be the truth.***\n",
    "(A. Conan Doyle, *The Sign of Four*)\n",
    "\n",
    "For some people, programming and debugging are the same thing.  That\n",
    "is, programming is the process of gradually debugging a program until\n",
    "it does what you want.  The idea is that you should start with a\n",
    "working program and make small modifications,\n",
    "debugging them as you go.\n",
    "\n",
    "For example, Linux is an operating system that contains millions of\n",
    "lines of code, but it started out as a simple program Linus Torvalds\n",
    "used to explore the Intel 80386 chip.  According to Larry Greenfield,\n",
    "\"***One of Linus's earlier projects was a program that would switch\n",
    "between printing AAAA and BBBB.  This later evolved to Linux.***\"\n",
    "(*The Linux Users' Guide* Beta Version 1)."
   ]
  },
  {
   "cell_type": "markdown",
   "metadata": {},
   "source": [
    "## 3.13 Glossary\n",
    "\n",
    "- function: A named sequence of statements that performs some\n",
    "useful operation.  Functions may or may not take arguments and may or\n",
    "may not produce a result.\n",
    "- function definition:  A statement that creates a new function,\n",
    "specifying its name, parameters, and the statements it contains.\n",
    "- function object:  A value created by a function definition.\n",
    "The name of the function is a variable that refers to a function\n",
    "object.\n",
    "\n",
    "\\item[header:] The first line of a function definition.\n",
    "\\index{header}\n",
    "\n",
    "\\item[body:] The sequence of statements inside a function definition.\n",
    "\\index{body}\n",
    "\n",
    "\\item[parameter:] A name used inside a function to refer to the value\n",
    "passed as an argument.\n",
    "\\index{parameter}\n",
    "\n",
    "\\item[function call:] A statement that runs a function. It\n",
    "consists of the function name followed by an argument list in\n",
    "parentheses.\n",
    "\\index{function call}\n",
    "\n",
    "\\item[argument:]  A value provided to a function when the function is called.\n",
    "This value is assigned to the corresponding parameter in the function.\n",
    "\\index{argument}\n",
    "\n",
    "\\item[local variable:]  A variable defined inside a function.  A local\n",
    "variable can only be used inside its function.\n",
    "\\index{local variable}\n",
    "\n",
    "\\item[return value:]  The result of a function.  If a function call\n",
    "is used as an expression, the return value is the value of\n",
    "the expression.\n",
    "\\index{return value}\n",
    "\n",
    "\\item[fruitful function:] A function that returns a value.\n",
    "\\index{fruitful function}\n",
    "\n",
    "\\item[void function:] A function that always returns {\\tt None}.\n",
    "\\index{void function}\n",
    "\n",
    "\\item[{\\tt None}:]  A special value returned by void functions.\n",
    "\\index{None special value}\n",
    "\\index{special value!None}\n",
    "\n",
    "\\item[module:] A file that contains a\n",
    "collection of related functions and other definitions.\n",
    "\\index{module}\n",
    "\n",
    "\\item[import statement:] A statement that reads a module file and creates\n",
    "a module object.\n",
    "\\index{import statement}\n",
    "\\index{statement!import}\n",
    "\n",
    "\\item[module object:] A value created by an {\\tt import} statement\n",
    "that provides access to the values defined in a module.\n",
    "\\index{module}\n",
    "\n",
    "\\item[dot notation:]  The syntax for calling a function in another\n",
    "module by specifying the module name followed by a dot (period) and\n",
    "the function name.\n",
    "\\index{dot notation}\n",
    "\n",
    "\\item[composition:] Using an expression as part of a larger expression,\n",
    "or a statement as part of a larger statement.\n",
    "\\index{composition}\n",
    "\n",
    "\\item[flow of execution:]  The order statements run in.\n",
    "\\index{flow of execution}\n",
    "\n",
    "\\item[stack diagram:]  A graphical representation of a stack of functions,\n",
    "their variables, and the values they refer to.\n",
    "\\index{stack diagram}\n",
    "\n",
    "\\item[frame:]  A box in a stack diagram that represents a function call.\n",
    "It contains the local variables and parameters of the function.\n",
    "\\index{function frame}\n",
    "\\index{frame}\n",
    "\n",
    "\\item[traceback:]  A list of the functions that are executing,\n",
    "printed when an exception occurs."
   ]
  },
  {
   "cell_type": "markdown",
   "metadata": {},
   "source": [
    "## <font color=\"red\">程式範例</font>\n",
    "### Suppose the cover price of a book is `$395`, but bookstores get a `40%` discount. Shipping costs `$40` for the first copy and `$15` for each additional copy. What is the total wholesale cost for 60 copies?"
   ]
  },
  {
   "cell_type": "code",
   "execution_count": 9,
   "metadata": {},
   "outputs": [
    {
     "name": "stdout",
     "output_type": "stream",
     "text": [
      "15145.0\n"
     ]
    }
   ],
   "source": [
    "def cost():\n",
    "    n = 60\n",
    "    result = 395 * n * .6 + 40 + (n - 1) * 15\n",
    "    print(result)\n",
    "    \n",
    "cost()"
   ]
  },
  {
   "cell_type": "code",
   "execution_count": 10,
   "metadata": {},
   "outputs": [
    {
     "name": "stdout",
     "output_type": "stream",
     "text": [
      "15145.0\n"
     ]
    }
   ],
   "source": [
    "def cost(n):\n",
    "    result = 395 * n * .6 + 40 + (n - 1) * 15\n",
    "    print (result)\n",
    "    \n",
    "number_of_copies = 60\n",
    "cost(number_of_copies)"
   ]
  },
  {
   "cell_type": "code",
   "execution_count": 11,
   "metadata": {},
   "outputs": [
    {
     "name": "stdout",
     "output_type": "stream",
     "text": [
      "enter number of copies:60\n",
      "15145.0\n"
     ]
    }
   ],
   "source": [
    "def cost(n):\n",
    "    result = 395 * n * .6 + 40 + (n - 1) * 15\n",
    "    print(result)\n",
    "    \n",
    "number_of_copies = int(input(\"enter number of copies:\"))\n",
    "cost(number_of_copies)"
   ]
  },
  {
   "cell_type": "markdown",
   "metadata": {},
   "source": [
    "## <font color=\"red\">練習2</font>\n",
    "\n",
    "以下程式若有錯誤，請說明錯誤的原因，並在下方增加一個 codel cell 輸入修正後的程式\n"
   ]
  },
  {
   "cell_type": "code",
   "execution_count": null,
   "metadata": {},
   "outputs": [],
   "source": [
    "def print_lyrics():\n",
    "    print \"hello\"\n",
    " print \"hello, again\"\n",
    "\n",
    "print_lyrics()\n",
    "\n",
    "#要縮排加括號"
   ]
  },
  {
   "cell_type": "code",
   "execution_count": null,
   "metadata": {},
   "outputs": [],
   "source": [
    "def print_lyrics():\n",
    "    print \"hello\"\n",
    "    print \"hello, again\"\n",
    "\n",
    "print_lyrics()\n",
    "\n",
    "#要加括號"
   ]
  },
  {
   "cell_type": "code",
   "execution_count": null,
   "metadata": {},
   "outputs": [],
   "source": [
    "def print_lyrics():\n",
    "    print (\"hello\")\n",
    "    print (\"hello, again\")\n",
    "    \n",
    "print_lyrics()\n",
    "\n",
    "#正確的"
   ]
  },
  {
   "cell_type": "code",
   "execution_count": null,
   "metadata": {},
   "outputs": [],
   "source": [
    "def print_twice(bruce):\n",
    "    print bruce\n",
    "    print bruce\n",
    "    \n",
    "print_twice('Spam')\n",
    "\n",
    "#要加括號"
   ]
  },
  {
   "cell_type": "code",
   "execution_count": null,
   "metadata": {},
   "outputs": [],
   "source": [
    "def print_twice():\n",
    "    print bruce\n",
    "    print bruce\n",
    "    \n",
    "print_twice('Spam')\n",
    "\n",
    "#要加括號 第一行括號裡要有bruce "
   ]
  },
  {
   "cell_type": "code",
   "execution_count": 16,
   "metadata": {},
   "outputs": [
    {
     "ename": "NameError",
     "evalue": "name 'bruce' is not defined",
     "output_type": "error",
     "traceback": [
      "\u001b[1;31m---------------------------------------------------------------------------\u001b[0m",
      "\u001b[1;31mNameError\u001b[0m                                 Traceback (most recent call last)",
      "\u001b[1;32m~\\AppData\\Local\\Temp/ipykernel_6928/882340118.py\u001b[0m in \u001b[0;36m<module>\u001b[1;34m\u001b[0m\n\u001b[0;32m      3\u001b[0m     \u001b[0mprint\u001b[0m \u001b[1;33m(\u001b[0m\u001b[0mbruce\u001b[0m\u001b[1;33m)\u001b[0m\u001b[1;33m\u001b[0m\u001b[1;33m\u001b[0m\u001b[0m\n\u001b[0;32m      4\u001b[0m \u001b[1;33m\u001b[0m\u001b[0m\n\u001b[1;32m----> 5\u001b[1;33m \u001b[0mprint_twice\u001b[0m\u001b[1;33m(\u001b[0m\u001b[1;34m'Spam'\u001b[0m\u001b[1;33m)\u001b[0m\u001b[1;33m\u001b[0m\u001b[1;33m\u001b[0m\u001b[0m\n\u001b[0m\u001b[0;32m      6\u001b[0m \u001b[1;33m\u001b[0m\u001b[0m\n\u001b[0;32m      7\u001b[0m \u001b[1;31m#要加括號 第一行括號裡要是bruce\u001b[0m\u001b[1;33m\u001b[0m\u001b[1;33m\u001b[0m\u001b[0m\n",
      "\u001b[1;32m~\\AppData\\Local\\Temp/ipykernel_6928/882340118.py\u001b[0m in \u001b[0;36mprint_twice\u001b[1;34m(david)\u001b[0m\n\u001b[0;32m      1\u001b[0m \u001b[1;32mdef\u001b[0m \u001b[0mprint_twice\u001b[0m\u001b[1;33m(\u001b[0m\u001b[0mdavid\u001b[0m\u001b[1;33m)\u001b[0m\u001b[1;33m:\u001b[0m\u001b[1;33m\u001b[0m\u001b[1;33m\u001b[0m\u001b[0m\n\u001b[1;32m----> 2\u001b[1;33m     \u001b[0mprint\u001b[0m \u001b[1;33m(\u001b[0m\u001b[0mbruce\u001b[0m\u001b[1;33m)\u001b[0m\u001b[1;33m\u001b[0m\u001b[1;33m\u001b[0m\u001b[0m\n\u001b[0m\u001b[0;32m      3\u001b[0m     \u001b[0mprint\u001b[0m \u001b[1;33m(\u001b[0m\u001b[0mbruce\u001b[0m\u001b[1;33m)\u001b[0m\u001b[1;33m\u001b[0m\u001b[1;33m\u001b[0m\u001b[0m\n\u001b[0;32m      4\u001b[0m \u001b[1;33m\u001b[0m\u001b[0m\n\u001b[0;32m      5\u001b[0m \u001b[0mprint_twice\u001b[0m\u001b[1;33m(\u001b[0m\u001b[1;34m'Spam'\u001b[0m\u001b[1;33m)\u001b[0m\u001b[1;33m\u001b[0m\u001b[1;33m\u001b[0m\u001b[0m\n",
      "\u001b[1;31mNameError\u001b[0m: name 'bruce' is not defined"
     ]
    }
   ],
   "source": [
    "def print_twice(david):\n",
    "    print (bruce)\n",
    "    print (bruce)\n",
    "    \n",
    "print_twice('Spam')\n",
    "\n",
    "#要加括號 第一行括號裡要是bruce "
   ]
  },
  {
   "cell_type": "code",
   "execution_count": null,
   "metadata": {},
   "outputs": [],
   "source": [
    "def print_twice(bruce):\n",
    "    print(bruce)\n",
    "    print(bruce)\n",
    "    \n",
    "print_twice(\"spam\")\n",
    "\n",
    "#正確的"
   ]
  },
  {
   "cell_type": "code",
   "execution_count": null,
   "metadata": {},
   "outputs": [],
   "source": [
    "import math\n",
    "\n",
    "def print_twice(david)\n",
    "    print(david)\n",
    "    print(david)\n",
    "    \n",
    "print_twice('Spam')\n",
    "print_twice(math.pi)\n",
    "print_twice('Spam '*4)\n",
    "print_twice(math.cos(math.pi))\n",
    "print(\"The end!\")\n",
    "\n",
    "#第二行要加冒號"
   ]
  },
  {
   "cell_type": "code",
   "execution_count": null,
   "metadata": {},
   "outputs": [],
   "source": [
    "import math\n",
    "\n",
    "def print_twice(david):\n",
    "    print(david)\n",
    "    print(david)\n",
    "    \n",
    "print_twice('Spam')\n",
    "print_twice(math.pi)\n",
    "print_twice('Spam '*4)\n",
    "print_twice(math.cos(math.pi))\n",
    "print(\"The end!\")\n",
    "\n",
    "#正確的"
   ]
  },
  {
   "cell_type": "code",
   "execution_count": 5,
   "metadata": {
    "scrolled": true
   },
   "outputs": [
    {
     "name": "stdout",
     "output_type": "stream",
     "text": [
      "Bing tiddle tiddle bang.\n",
      "Bing tiddle tiddle bang.\n"
     ]
    }
   ],
   "source": [
    "def cat_twice(part1, part2):\n",
    "    cat = part1 + part2\n",
    "    print_twice(cat)\n",
    "    \n",
    "line1 = 'Bing tiddle '\n",
    "line2 = 'tiddle bang.'\n",
    "cat_twice(line1, line2)\n",
    "\n",
    "\n",
    " \n",
    "print(cat)\n",
    "\n",
    "#cat只在局部被定義 要重新定義cat 才能print"
   ]
  },
  {
   "cell_type": "code",
   "execution_count": 20,
   "metadata": {},
   "outputs": [
    {
     "name": "stdout",
     "output_type": "stream",
     "text": [
      "Bing tiddle tiddle bang.\n",
      "Bing tiddle tiddle bang.\n",
      "Bing tiddle tiddle bang.\n"
     ]
    }
   ],
   "source": [
    "def cat_twice(part1, part2):\n",
    "    cat = part1 + part2\n",
    "    print_twice(cat)\n",
    "    \n",
    "line1 = 'Bing tiddle '\n",
    "line2 = 'tiddle bang.'\n",
    "cat_twice(line1, line2)\n",
    "\n",
    "\n",
    "    \n",
    "    \n",
    "cat=line1+line2\n",
    "\n",
    "print(cat)\n",
    "\n",
    "#正確的"
   ]
  },
  {
   "cell_type": "code",
   "execution_count": 18,
   "metadata": {},
   "outputs": [
    {
     "name": "stdout",
     "output_type": "stream",
     "text": [
      "Spam\n",
      "Spam\n",
      "3.141592653589793\n",
      "3.141592653589793\n",
      "Spam Spam Spam Spam \n",
      "Spam Spam Spam Spam \n",
      "-0.4480736161291701\n",
      "-0.4480736161291701\n",
      "Bing tiddle tiddle bang.\n",
      "Bing tiddle tiddle bang.\n"
     ]
    },
    {
     "ename": "NameError",
     "evalue": "name 'cat' is not defined",
     "output_type": "error",
     "traceback": [
      "\u001b[1;31m---------------------------------------------------------------------------\u001b[0m",
      "\u001b[1;31mNameError\u001b[0m                                 Traceback (most recent call last)",
      "\u001b[1;32m~\\AppData\\Local\\Temp/ipykernel_6928/3587395177.py\u001b[0m in \u001b[0;36m<module>\u001b[1;34m\u001b[0m\n\u001b[0;32m     23\u001b[0m \u001b[1;33m\u001b[0m\u001b[0m\n\u001b[0;32m     24\u001b[0m \u001b[1;33m\u001b[0m\u001b[0m\n\u001b[1;32m---> 25\u001b[1;33m \u001b[0mprint\u001b[0m\u001b[1;33m(\u001b[0m\u001b[0mcat\u001b[0m\u001b[1;33m)\u001b[0m\u001b[1;33m\u001b[0m\u001b[1;33m\u001b[0m\u001b[0m\n\u001b[0m\u001b[0;32m     26\u001b[0m \u001b[1;33m\u001b[0m\u001b[0m\n\u001b[0;32m     27\u001b[0m \u001b[1;31m#cat只在局部被定義 要重新定義cat 才能print\u001b[0m\u001b[1;33m\u001b[0m\u001b[1;33m\u001b[0m\u001b[0m\n",
      "\u001b[1;31mNameError\u001b[0m: name 'cat' is not defined"
     ]
    }
   ],
   "source": [
    "import math\n",
    "\n",
    "def print_twice(david):\n",
    "    print(david)\n",
    "    print(david)\n",
    "    \n",
    "print_twice('Spam')\n",
    "print_twice(math.pi)\n",
    "print_twice('Spam '*4)\n",
    "\n",
    "# 列印 cosine(90度)\n",
    "print_twice(math.cos(90))\n",
    "\n",
    "\n",
    "line1 = 'Bing tiddle '\n",
    "line2 = 'tiddle bang.'\n",
    "cat_twice(line1, line2)\n",
    "\n",
    "def cat_twice(part1, part2):\n",
    "    cat = part1 + part2\n",
    "    print_twice(cat)\n",
    "    \n",
    "    \n",
    "\n",
    "print(cat)\n",
    "\n",
    "#cat只在局部被定義 要重新定義cat 才能print"
   ]
  },
  {
   "cell_type": "code",
   "execution_count": null,
   "metadata": {},
   "outputs": [],
   "source": [
    "import math\n",
    "\n",
    "def print_twice(david):\n",
    "    print(david)\n",
    "    print(david)\n",
    "    \n",
    "def cat_twice(part1, part2):\n",
    "    cat = part1 + part2\n",
    "    print_twice(cat)\n",
    "    \n",
    "print_twice('Spam')\n",
    "print_twice(math.pi)\n",
    "print_twice('Spam '*4)\n",
    "\n",
    "\n",
    "# 列印 cosine(90度)\n",
    "print_twice(math.cos((90*math.pi)/180))\n",
    "\n",
    "\n",
    "\n",
    "cat_twice(line1, line2)\n",
    "line1 = 'Bing tiddle '\n",
    "line2 = 'tiddle bang.'\n",
    "\n",
    "def cat_twice(part1, part2):\n",
    "    cat = line1 + line2\n",
    "    print_twice(cat)\n",
    "    \n",
    "cat=line1+line2\n",
    "    \n",
    "\n",
    "print(cat)\n",
    "\n",
    "#正確的"
   ]
  },
  {
   "cell_type": "code",
   "execution_count": null,
   "metadata": {},
   "outputs": [],
   "source": [
    "result=5"
   ]
  },
  {
   "cell_type": "code",
   "execution_count": null,
   "metadata": {
    "scrolled": true
   },
   "outputs": [],
   "source": [
    "print type(result)\n",
    "#需要加括號"
   ]
  },
  {
   "cell_type": "code",
   "execution_count": null,
   "metadata": {},
   "outputs": [],
   "source": [
    "print(type(result))\n",
    "#正確的"
   ]
  },
  {
   "cell_type": "code",
   "execution_count": null,
   "metadata": {},
   "outputs": [],
   "source": [
    "print type(\"None')\n",
    "           \n",
    "#需要加括號且引號要一致"
   ]
  },
  {
   "cell_type": "code",
   "execution_count": null,
   "metadata": {},
   "outputs": [],
   "source": [
    "print(type(\"None\"))\n",
    "#正確的"
   ]
  },
  {
   "cell_type": "code",
   "execution_count": null,
   "metadata": {
    "scrolled": true
   },
   "outputs": [],
   "source": [
    "a = \"None\"\n",
    "b = None\n",
    "print a\n",
    "print b\n",
    "\n",
    "#要加括號"
   ]
  },
  {
   "cell_type": "code",
   "execution_count": null,
   "metadata": {},
   "outputs": [],
   "source": [
    "a = \"None\"\n",
    "b = None\n",
    "print (a)\n",
    "print (b)\n",
    "\n",
    "#正確的"
   ]
  },
  {
   "cell_type": "code",
   "execution_count": null,
   "metadata": {},
   "outputs": [],
   "source": [
    "print type(a)\n",
    "print type(b)\n",
    "#要再加括號"
   ]
  },
  {
   "cell_type": "code",
   "execution_count": null,
   "metadata": {},
   "outputs": [],
   "source": [
    "print (type(a))\n",
    "print (type(b))\n",
    "#正確的"
   ]
  },
  {
   "cell_type": "code",
   "execution_count": null,
   "metadata": {},
   "outputs": [],
   "source": [
    "x = \"1\"\n",
    "y = 1\n",
    "print x * 5\n",
    "print y * 5\n",
    "\n",
    "#要加括號"
   ]
  },
  {
   "cell_type": "code",
   "execution_count": null,
   "metadata": {},
   "outputs": [],
   "source": [
    "x = \"1\"\n",
    "y = 1\n",
    "print( x * 5)\n",
    "\n",
    "print( y * 5)\n",
    "\n",
    "#正確的"
   ]
  },
  {
   "cell_type": "markdown",
   "metadata": {},
   "source": [
    "### 列出 math module 中的 functions"
   ]
  },
  {
   "cell_type": "code",
   "execution_count": null,
   "metadata": {},
   "outputs": [],
   "source": [
    "dir(math)"
   ]
  },
  {
   "cell_type": "code",
   "execution_count": null,
   "metadata": {},
   "outputs": [],
   "source": [
    "import math"
   ]
  },
  {
   "cell_type": "code",
   "execution_count": null,
   "metadata": {},
   "outputs": [],
   "source": [
    "print math.pi\n",
    "print math.cos(math.pi)\n",
    "print math.sin(math.pi / 2)\n",
    "\n",
    "#要再加括號"
   ]
  },
  {
   "cell_type": "code",
   "execution_count": null,
   "metadata": {},
   "outputs": [],
   "source": [
    "print (math.pi)\n",
    "print (math.cos(math.pi))\n",
    "print (math.sin(math.pi / 2))\n",
    "\n",
    "#正確的"
   ]
  },
  {
   "cell_type": "code",
   "execution_count": null,
   "metadata": {},
   "outputs": [],
   "source": [
    "print pi\n",
    "\n",
    "#要加括號和叫出數學模組"
   ]
  },
  {
   "cell_type": "code",
   "execution_count": null,
   "metadata": {},
   "outputs": [],
   "source": [
    "print (math.pi)\n",
    "\n",
    "#正確的"
   ]
  },
  {
   "cell_type": "code",
   "execution_count": null,
   "metadata": {},
   "outputs": [],
   "source": [
    "print cos(math.pi)\n",
    "\n",
    "#要再加括號 且cos前也要叫出數學模組"
   ]
  },
  {
   "cell_type": "code",
   "execution_count": null,
   "metadata": {},
   "outputs": [],
   "source": [
    "print (math.cos(math.pi))\n",
    "\n",
    "#正確的"
   ]
  },
  {
   "cell_type": "code",
   "execution_count": null,
   "metadata": {},
   "outputs": [],
   "source": [
    "from math import *\n",
    "print pi\n",
    "print cos(pi)\n",
    "\n",
    "#要再加括號"
   ]
  },
  {
   "cell_type": "code",
   "execution_count": null,
   "metadata": {},
   "outputs": [],
   "source": [
    "from math import *\n",
    "print (pi)\n",
    "print (cos(pi))\n",
    "\n",
    "#正確的"
   ]
  },
  {
   "cell_type": "code",
   "execution_count": null,
   "metadata": {},
   "outputs": [],
   "source": [
    "print math\n",
    "\n",
    "#要加括號"
   ]
  },
  {
   "cell_type": "code",
   "execution_count": null,
   "metadata": {},
   "outputs": [],
   "source": [
    "print (math)\n",
    "\n",
    "#正確的"
   ]
  },
  {
   "cell_type": "markdown",
   "metadata": {},
   "source": [
    "## 以下程式計算 BMI 的值"
   ]
  },
  {
   "cell_type": "code",
   "execution_count": null,
   "metadata": {},
   "outputs": [],
   "source": [
    "def bmi(w, h):\n",
    "    h_m = h / 100.0\n",
    "    result = w / (h_m * h_m)\n",
    "    print result\n",
    "    \n",
    "h = int(raw_input(\"Please enter height in (cm): \"))\n",
    "w = float(raw_input(\"Please enter weight in (kg): \"))\n",
    "bmi(w,h)\n",
    "\n",
    "#raw_input是在python2 在python3直接使用input 且要加括號"
   ]
  },
  {
   "cell_type": "code",
   "execution_count": null,
   "metadata": {},
   "outputs": [],
   "source": [
    "def bmi(w, h):\n",
    "    h_m = h / 100.0\n",
    "    result = w / (h_m * h_m)\n",
    "    print (result)\n",
    "    \n",
    "h1 = int(input(\"Please enter height in (cm): \"))\n",
    "w1 = float(input(\"Please enter weight in (kg): \"))\n",
    "bmi(w1,h1)\n",
    "\n",
    "\n",
    "#正確的"
   ]
  },
  {
   "cell_type": "markdown",
   "metadata": {},
   "source": [
    "## 以下程式提供華氏溫度和攝氏溫度相互轉換的功能"
   ]
  },
  {
   "cell_type": "code",
   "execution_count": null,
   "metadata": {},
   "outputs": [],
   "source": [
    "def c_to_f(c):\n",
    "    f = c * 9 / 5.0 + 32\n",
    "    print f\n",
    "    \n",
    "def f_to_c(f):\n",
    "    c = (f - 32) * 5 / 9.0\n",
    "    print c\n",
    "    \n",
    "d1 = float(raw_input(\"please enter Celsius degree:\"))\n",
    "d2 = float(raw_input(\"please enter Fahrenheit degree\"))\n",
    "c_to_f(d1)\n",
    "f_to_c(d2)\n",
    "\n",
    "#raw_input是在python2 在python3直接使用input"
   ]
  },
  {
   "cell_type": "code",
   "execution_count": null,
   "metadata": {},
   "outputs": [],
   "source": [
    "def c_to_f(c):\n",
    "    f = c * 9 / 5.0 + 32\n",
    "    print (f)\n",
    "    \n",
    "def f_to_c(f):\n",
    "    c = (f - 32) * 5 / 9.0\n",
    "    print (c)\n",
    "    \n",
    "d1 = float(input(\"please enter Celsius degree:\"))\n",
    "d2 = float(input(\"please enter Fahrenheit degree\"))\n",
    "\n",
    "c_to_f(d1)\n",
    "f_to_c(d2)\n",
    "\n",
    "\n",
    "#正確的"
   ]
  },
  {
   "cell_type": "markdown",
   "metadata": {
    "collapsed": true
   },
   "source": [
    "## <font color=\"red\">練習3</font>\n",
    "\n",
    "\n",
    "### 1. 完成教科書Exercise 3.1, 3.2, 3.3\n",
    "### 2. 改寫 bmi(), c_to_f(), f_to_c() 三個函式，使其可以回傳值，並且測試改寫後的程式，將測試過程寫在 Code Cell中"
   ]
  },
  {
   "cell_type": "markdown",
   "metadata": {},
   "source": [
    "## 3.14 Exercises\n",
    "\n",
    "### Exercise 3.1\n",
    "\n",
    "Write a function named \\verb\"right_justify\" that takes a string\n",
    "named `s` as a parameter and prints the string with enough\n",
    "leading spaces so that the last letter of the string is in column 70\n",
    "of the display.\n",
    "\n",
    "```\n",
    ">>> right_justify('monty')\n",
    "                                                                 monty\n",
    "```\n",
    "\n",
    "Hint: Use string concatenation and repetition.  Also,\n",
    "Python provides a built-in function called `len` that\n",
    "returns the length of a string, so the value of `len('monty')` is 5."
   ]
  },
  {
   "cell_type": "code",
   "execution_count": null,
   "metadata": {},
   "outputs": [],
   "source": [
    "right_justify('monty')"
   ]
  },
  {
   "cell_type": "code",
   "execution_count": null,
   "metadata": {},
   "outputs": [],
   "source": [
    "def right_justify(ruby):\n",
    "    x=len(ruby)\n",
    "    n=70-x\n",
    "    print(\" \"*n,ruby)\n",
    "\n",
    "right_justify('ruby')"
   ]
  },
  {
   "cell_type": "markdown",
   "metadata": {},
   "source": [
    "練習字串前留空格\n"
   ]
  },
  {
   "cell_type": "markdown",
   "metadata": {},
   "source": [
    "### Exercise 3.2\n",
    "\n",
    "A function object is a value you can assign to a variable\n",
    "or pass as an argument.  For example, `do_twice` is a function\n",
    "that takes a function object as an argument and calls it twice:\n",
    "\n",
    "```\n",
    "def do_twice(f):\n",
    "    f()\n",
    "    f()\n",
    "```\n",
    "\n",
    "Here's an example that uses `do_twice` to call a function\n",
    "named `print_spam` twice.\n",
    "\n",
    "```\n",
    "def print_spam():\n",
    "    print('spam')\n",
    "\n",
    "do_twice(print_spam)\n",
    "```\n",
    "\n",
    "1. Type this example into a script and test it.\n",
    "\n",
    "2. Modify `do_twice` so that it takes two arguments, a\n",
    "function object and a value, and calls the function twice,\n",
    "passing the value as an argument.\n",
    "\n",
    "3. Copy the definition of \n",
    "`print_twice` from earlier in this chapter to your script.\n",
    "\n",
    "4. Use the modified version of `do_twice` to call\n",
    "`print_twice` twice, passing `'spam'` as an argument.\n",
    "\n",
    "5. Define a new function called \n",
    "`do_four` that takes a function object and a value\n",
    "and calls the function four times, passing the value\n",
    "as a parameter.  There should be only\n",
    "two statements in the body of this function, not four.\n",
    "\n",
    "Solution: http://thinkpython2.com/code/do_four.py.\n"
   ]
  },
  {
   "cell_type": "code",
   "execution_count": 21,
   "metadata": {},
   "outputs": [
    {
     "name": "stdout",
     "output_type": "stream",
     "text": [
      "spam\n",
      "spam\n"
     ]
    }
   ],
   "source": [
    "def do_twice(f):\n",
    "    f()\n",
    "    f()\n",
    "\n",
    "def print_spam():\n",
    "    print('spam')\n",
    "\n",
    "do_twice(print_spam)"
   ]
  },
  {
   "cell_type": "code",
   "execution_count": 23,
   "metadata": {},
   "outputs": [
    {
     "name": "stdout",
     "output_type": "stream",
     "text": [
      "484\n",
      "484\n"
     ]
    }
   ],
   "source": [
    "def do_twice(func, arg):\n",
    "      func(arg)\n",
    "      func(arg)\n",
    "    \n",
    "    \n",
    "do_twice(print,484)\n",
    "\n",
    "print('')"
   ]
  },
  {
   "cell_type": "code",
   "execution_count": null,
   "metadata": {},
   "outputs": [],
   "source": [
    "def print_twice(bruce):\n",
    "    print(bruce)\n",
    "    print(bruce)\n",
    "    \n",
    "print_twice(\"spam\")"
   ]
  },
  {
   "cell_type": "code",
   "execution_count": 11,
   "metadata": {},
   "outputs": [
    {
     "name": "stdout",
     "output_type": "stream",
     "text": [
      "spam\n",
      "spam\n",
      "spam\n",
      "spam\n"
     ]
    }
   ],
   "source": [
    "def do_twice(f):\n",
    "    f()\n",
    "    f()\n",
    "\n",
    "def print_twice():\n",
    "    print('spam')\n",
    "    print('spam')\n",
    "\n",
    "do_twice(print_twice)"
   ]
  },
  {
   "cell_type": "code",
   "execution_count": 26,
   "metadata": {},
   "outputs": [
    {
     "name": "stdout",
     "output_type": "stream",
     "text": [
      "spam\n",
      "spam\n",
      "spam\n",
      "spam\n"
     ]
    }
   ],
   "source": [
    "def do_four(f):\n",
    "    do_twice(f)\n",
    "    do_twice(f)\n",
    "    \n",
    "def do_twice(f):\n",
    "    print('spam')\n",
    "    print('spam')\n",
    "    \n",
    "\n",
    "\n",
    "\n",
    "do_four(f)    \n",
    "    "
   ]
  },
  {
   "cell_type": "markdown",
   "metadata": {},
   "source": [
    "定義do_twice 嘗試練習do_four"
   ]
  },
  {
   "cell_type": "markdown",
   "metadata": {},
   "source": [
    "### Exercise 3.3\n",
    "\n",
    "Note: This exercise should be\n",
    "done using only the statements and other features we have learned so\n",
    "far.\n",
    "\n",
    "1.Write a function that draws a grid like the following:\n",
    "\n",
    "<code>\n",
    "+ - - - - + - - - - +\n",
    "|         |         |\n",
    "|         |         |\n",
    "|         |         |\n",
    "|         |         |\n",
    "+ - - - - + - - - - +\n",
    "|         |         |\n",
    "|         |         |\n",
    "|         |         |\n",
    "|         |         |\n",
    "+ - - - - + - - - - +\n",
    "</code>\n",
    "    Hint: to print more than one value on a line, you can print a comma-separated sequence of values:\n",
    "\n",
    "```\n",
    "print('+', '-')\n",
    "```\n",
    "By default, <code>print</code> advances to the next line, but you\n",
    "    can override that behavior and put a space at the end, like this:\n",
    "\n",
    "```\n",
    "print('+', end=' ')\n",
    "print('-')\n",
    "```\n",
    "\n",
    "The output of these statements is `'+ -'` on the same line.\n",
    "The output from the next print statement would begin on the next line.\n",
    "\n",
    "2.Write a function that draws a similar grid with four rows and four columns.\n",
    "\n",
    "Solution: http://thinkpython2.com/code/grid.py\n",
    "\n",
    "Credit: This exercise is based on an exercise in Oualline, Practical C Programming, Third Edition, O'Reilly Media, 1997."
   ]
  },
  {
   "cell_type": "code",
   "execution_count": null,
   "metadata": {},
   "outputs": [],
   "source": [
    "def do_twice(f):\n",
    "    f()\n",
    "    f()\n",
    "    \n",
    "\n",
    "def print_twice():\n",
    "    print('+','-'*5,'+','-'*5,'+')\n",
    "    print('|',' '*5,'|',' '*5,'|')\n",
    "    print('|',' '*5,'|',' '*5,'|')\n",
    "    print('|',' '*5,'|',' '*5,'|')\n",
    "    print('|',' '*5,'|',' '*5,'|')\n",
    "\n",
    "do_twice(print_twice)\n",
    "\n",
    "   \n",
    "print('+','-'*5,'+','-'*5,'+')\n"
   ]
  },
  {
   "cell_type": "code",
   "execution_count": null,
   "metadata": {},
   "outputs": [],
   "source": [
    "def do_twice(f):\n",
    "    f()\n",
    "    f()\n",
    "    f()\n",
    "    f()\n",
    "    \n",
    "\n",
    "def print_twice():\n",
    "    print('-'*49)\n",
    "    print('|',' '*9,'|',' '*9,'|',' '*9,'|',' '*9,'|')\n",
    "    print('|',' '*9,'|',' '*9,'|',' '*9,'|',' '*9,'|')\n",
    "    print('|',' '*9,'|',' '*9,'|',' '*9,'|',' '*9,'|')\n",
    "    print('|',' '*9,'|',' '*9,'|',' '*9,'|',' '*9,'|')\n",
    "    \n",
    "    \n",
    "do_twice(print_twice)\n",
    "\n",
    "print('-'*49)   \n",
    "\n",
    "\n"
   ]
  },
  {
   "cell_type": "markdown",
   "metadata": {},
   "source": [
    "練習使用上面的式子畫窗戶和格子"
   ]
  },
  {
   "cell_type": "code",
   "execution_count": null,
   "metadata": {},
   "outputs": [],
   "source": [
    "print('+', '-')"
   ]
  },
  {
   "cell_type": "code",
   "execution_count": null,
   "metadata": {},
   "outputs": [],
   "source": [
    "def do_twice(f):\n",
    "    f()\n",
    "    f()\n",
    "\n",
    "def do_four(f):\n",
    "    do_twice(f)\n",
    "    do_twice(f)\n",
    "\n",
    "def print_beam():\n",
    "    print('+ - - - -', end=' ')\n",
    "\n",
    "def print_post():\n",
    "    print('|        ', end=' ')\n",
    "\n",
    "def print_beams():\n",
    "    do_twice(print_beam)\n",
    "    print('+')\n",
    "\n",
    "def print_posts():\n",
    "    do_twice(print_post)\n",
    "    print('|')\n",
    "\n",
    "def print_row():\n",
    "    print_beams()\n",
    "    do_four(print_posts)\n",
    "\n",
    "def print_grid():\n",
    "    do_twice(print_row)\n",
    "    print_beams()\n",
    "\n",
    "print_grid()"
   ]
  },
  {
   "cell_type": "code",
   "execution_count": null,
   "metadata": {},
   "outputs": [],
   "source": []
  }
 ],
 "metadata": {
  "anaconda-cloud": {},
  "kernelspec": {
   "display_name": "Python 3 (ipykernel)",
   "language": "python",
   "name": "python3"
  },
  "language_info": {
   "codemirror_mode": {
    "name": "ipython",
    "version": 3
   },
   "file_extension": ".py",
   "mimetype": "text/x-python",
   "name": "python",
   "nbconvert_exporter": "python",
   "pygments_lexer": "ipython3",
   "version": "3.9.7"
  }
 },
 "nbformat": 4,
 "nbformat_minor": 1
}
