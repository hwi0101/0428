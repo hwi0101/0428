{
 "cells": [
  {
   "cell_type": "markdown",
   "metadata": {},
   "source": [
    "# Chapter 5\n",
    "# Conditionals and recursion (條件和遞迴)\n",
    "\n",
    "The main topic of this chapter is the `if` statement, which\n",
    "executes different code depending on the state of the program.\n",
    "But first I want to introduce two new operators: floor division\n",
    "and modulus."
   ]
  },
  {
   "cell_type": "markdown",
   "metadata": {},
   "source": [
    "## 5.1 Floor division and modulus\n",
    "\n",
    "The **floor division (地板除法)** operator, `//`, divides\n",
    "two numbers and rounds down to an integer (忽略小數點以後的數字，只取整數的部分).  For example, suppose the\n",
    "run time of a movie is 105 minutes.  You might want to know how\n",
    "long that is in hours.  Conventional division\n",
    "returns a floating-point number:\n",
    "\n",
    "```\n",
    ">>> minutes = 105\n",
    ">>> minutes / 60\n",
    "1.75\n",
    "```\n",
    "\n",
    "But we don't normally write hours with decimal points.  Floor\n",
    "division returns the integer number of hours, rounding down:\n",
    "\n",
    "```\n",
    ">>> minutes = 105\n",
    ">>> hours = minutes // 60\n",
    ">>> hours\n",
    "1\n",
    "```\n",
    "\n",
    "To get the remainder, you could subtract off one hour in minutes:\n",
    "\n",
    "```\n",
    ">>> remainder = minutes - hours * 60\n",
    ">>> remainder\n",
    "45\n",
    "```\n",
    "\n",
    "An alternative is to use the **modulus operator (模數運算子)**, `\"%\"`, which\n",
    "divides two numbers and returns the remainder.\n",
    "\n",
    "```\n",
    ">>> remainder = minutes % 60\n",
    ">>> remainder\n",
    "45\n",
    "```\n",
    "\n",
    "The modulus operator is more useful than it seems.  For\n",
    "example, you can check whether one number is divisible by another---if\n",
    "`x % y` is zero, then `x` is divisible by `y`.\n",
    "\n",
    "Also, you can extract the right-most digit\n",
    "or digits from a number.  For example, `x % 10` yields the\n",
    "right-most digit of `x` (in base 10).  Similarly `x % 100`\n",
    "yields the last two digits.\n",
    "\n",
    "If you are using Python 2, division works differently.  The\n",
    "division operator, `\"/\"`, performs floor division if both\n",
    "operands are integers, and floating-point division if either\n",
    "operand is a `float`.\n"
   ]
  },
  {
   "cell_type": "markdown",
   "metadata": {},
   "source": [
    "## 5.2 Boolean expressions\n",
    "\n",
    "A **boolean expression (布耳表示式、布林表示式)** is an expression that is either true\n",
    "or false.  The following examples use the \n",
    "operator `==`, which compares two operands and produces\n",
    "`True` if they are equal and `False` otherwise:\n",
    "\n",
    "```\n",
    ">>> 5 == 5\n",
    "True\n",
    ">>> 5 == 6\n",
    "False\n",
    "```\n",
    "\n",
    "`True` and `False` are special\n",
    "values that belong to the type `bool`; they are not strings:\n",
    "\n",
    "```\n",
    ">>> type(True)\n",
    "<class 'bool'>\n",
    ">>> type(False)\n",
    "<class 'bool'>\n",
    "```\n",
    "\n",
    "The `==` operator is one of the **relational operators (關係運算子)**; the\n",
    "others are:\n",
    "\n",
    "```\n",
    "      x != y               # x is not equal to y\n",
    "      x > y                # x is greater than y\n",
    "      x < y                # x is less than y\n",
    "      x >= y               # x is greater than or equal to y\n",
    "      x <= y               # x is less than or equal to y\n",
    "```\n",
    "\n",
    "Although these operations are probably familiar to you, the Python\n",
    "symbols are different from the mathematical symbols.  A common error\n",
    "is to use a single equal sign (`=`) instead of a double equal sign\n",
    "(`==`).  Remember that `=` is an assignment operator and\n",
    "`==` is a relational operator.   There is no such thing as\n",
    "`=<` or `=>`.\n"
   ]
  },
  {
   "cell_type": "markdown",
   "metadata": {},
   "source": [
    "## 5.3 Logical operators\n",
    "\n",
    "There are three **logical operators (邏輯運算子)**: `and`, `or`, and `not`.  The semantics (meaning) of these operators is\n",
    "similar to their meaning in English.  For example,\n",
    "`x > 0 and x < 10` is true only if `x` is greater than 0\n",
    "`and` less than 10.\n",
    "\n",
    "`n%2 == 0 or n%3 == 0` is true if ***either or both*** of the\n",
    "conditions is true, that is, if the number is divisible by 2 *or*\n",
    "3.\n",
    "\n",
    "Finally, the `not` operator negates a boolean\n",
    "expression, so `not (x > y)` is true if `x > y` is false,\n",
    "that is, if `x` is less than or equal to `y`.\n",
    "\n",
    "<font color=\"red\">Strictly speaking, the operands of the logical operators should be\n",
    "boolean expressions, but Python is not very strict.\n",
    "    Any nonzero number is interpreted as <code>True</code>:</font>\n",
    "\n",
    "```\n",
    ">>> 42 and True\n",
    "True\n",
    "```\n",
    "\n",
    "This flexibility can be useful, but there are some subtleties to\n",
    "it that might be confusing.  You might want to avoid it (unless\n",
    "you know what you are doing).\n",
    "\n",
    "**<font color=\"red\">Truth Table (真值表)</font>**\n",
    "\n",
    "<img src=\"TruthTable.png\">"
   ]
  },
  {
   "cell_type": "code",
   "execution_count": 1,
   "metadata": {},
   "outputs": [
    {
     "data": {
      "text/plain": [
       "True"
      ]
     },
     "execution_count": 1,
     "metadata": {},
     "output_type": "execute_result"
    }
   ],
   "source": [
    "5==5"
   ]
  },
  {
   "cell_type": "code",
   "execution_count": 2,
   "metadata": {},
   "outputs": [
    {
     "data": {
      "text/plain": [
       "False"
      ]
     },
     "execution_count": 2,
     "metadata": {},
     "output_type": "execute_result"
    }
   ],
   "source": [
    "5==6"
   ]
  },
  {
   "cell_type": "code",
   "execution_count": 3,
   "metadata": {},
   "outputs": [
    {
     "data": {
      "text/plain": [
       "bool"
      ]
     },
     "execution_count": 3,
     "metadata": {},
     "output_type": "execute_result"
    }
   ],
   "source": [
    "type(False)"
   ]
  },
  {
   "cell_type": "code",
   "execution_count": 4,
   "metadata": {},
   "outputs": [
    {
     "data": {
      "text/plain": [
       "bool"
      ]
     },
     "execution_count": 4,
     "metadata": {},
     "output_type": "execute_result"
    }
   ],
   "source": [
    "type(True)"
   ]
  },
  {
   "cell_type": "code",
   "execution_count": 5,
   "metadata": {},
   "outputs": [
    {
     "name": "stdout",
     "output_type": "stream",
     "text": [
      "<class 'bool'> False\n"
     ]
    }
   ],
   "source": [
    "x = 5 == 6\n",
    "print (type(x), x)"
   ]
  },
  {
   "cell_type": "code",
   "execution_count": 6,
   "metadata": {},
   "outputs": [
    {
     "name": "stdout",
     "output_type": "stream",
     "text": [
      "2.3333333333333335 1\n"
     ]
    }
   ],
   "source": [
    "quotient = 7/3\n",
    "remainder = 7 % 3\n",
    "print(quotient, remainder)"
   ]
  },
  {
   "cell_type": "code",
   "execution_count": 7,
   "metadata": {},
   "outputs": [
    {
     "name": "stdout",
     "output_type": "stream",
     "text": [
      "<class 'int'> 30 <class 'bool'> True\n"
     ]
    }
   ],
   "source": [
    "x = 30\n",
    "a = x % 2 == 0 or x % 3 == 0\n",
    "print(type(x), x, type(a), a )"
   ]
  },
  {
   "cell_type": "code",
   "execution_count": 8,
   "metadata": {},
   "outputs": [
    {
     "name": "stdout",
     "output_type": "stream",
     "text": [
      "<class 'int'> 15 <class 'bool'> True\n"
     ]
    }
   ],
   "source": [
    "x = 15\n",
    "a = x % 2 == 0 or x % 3 == 0\n",
    "print(type(x), x, type(a), a )"
   ]
  },
  {
   "cell_type": "code",
   "execution_count": 9,
   "metadata": {},
   "outputs": [
    {
     "name": "stdout",
     "output_type": "stream",
     "text": [
      "<class 'int'> 25 <class 'bool'> False\n"
     ]
    }
   ],
   "source": [
    "x = 25\n",
    "a = x % 2 == 0 or x % 3 == 0\n",
    "print(type(x), x, type(a), a )"
   ]
  },
  {
   "cell_type": "code",
   "execution_count": 10,
   "metadata": {},
   "outputs": [
    {
     "name": "stdout",
     "output_type": "stream",
     "text": [
      "False\n",
      "True\n"
     ]
    }
   ],
   "source": [
    "x = 10\n",
    "y = 15\n",
    "print(x > y)\n",
    "print(not (x > y))"
   ]
  },
  {
   "cell_type": "markdown",
   "metadata": {},
   "source": [
    "### **<font color=\"red\">Python 的 XOR 運算子 (\"exclusive or\" operator) 是 '^' </font>**\n",
    "\n",
    "a | b | a ^ b \n",
    ":--:|:---:|:---:\n",
    "0 | 0 | 0\n",
    "0 | 1 | 1\n",
    "1 | 0 | 1\n",
    "1 | 1 | 0\n",
    "False | False | False\n",
    "False | True | True\n",
    "True | False | True\n",
    "True | True | False\n",
    "\n",
    "### **<font color=\"red\">整數的 bitwise XOR 運算步驟：</font>**\n",
    "1. 首先將整數轉換為2進位，例如：10進位6轉換為2進位變成 0110\n",
    "2. 然後每一個對應的位元 (bit) 執行 XOR 運算\n",
    "\n",
    "\n",
    "### **<font color=\"red\">關於電腦使用的數字系統，請參考 Moodle 上的 numbers 筆記本</font>**\n",
    "\n",
    " Expression| Decimal | Binary\n",
    ":--:|:--:|:--:\n",
    "a | 6 | 0110\n",
    "b | 3 | 0011\n",
    "a ^ b| 5 | 0101\n",
    "\n"
   ]
  },
  {
   "cell_type": "code",
   "execution_count": 11,
   "metadata": {},
   "outputs": [
    {
     "name": "stdout",
     "output_type": "stream",
     "text": [
      "False\n",
      "True\n",
      "True\n",
      "False\n",
      "0\n",
      "1\n",
      "2\n",
      "4\n"
     ]
    }
   ],
   "source": [
    "print(False ^ False)\n",
    "print(False ^ True)\n",
    "print(True ^ False)\n",
    "print(True ^ True)\n",
    "print(0 ^ False)\n",
    "print(0 ^ True)\n",
    "print(2 ^ False)\n",
    "print(5 ^ True)"
   ]
  },
  {
   "cell_type": "code",
   "execution_count": 12,
   "metadata": {},
   "outputs": [
    {
     "name": "stdout",
     "output_type": "stream",
     "text": [
      "5\n"
     ]
    }
   ],
   "source": [
    "a = 6  #二進位是 0110\n",
    "b = 3  #二進位是 0011\n",
    "\n",
    "result = (a ^ b) # bitwise XOR 是每一個對應的位元(bit)做 XOR 運算，結果是 0101\n",
    "\n",
    "print(result)"
   ]
  },
  {
   "cell_type": "markdown",
   "metadata": {},
   "source": [
    "### **<font color=\"red\">使用 operator 模組做 XOR 運算</font>**"
   ]
  },
  {
   "cell_type": "code",
   "execution_count": 13,
   "metadata": {},
   "outputs": [
    {
     "name": "stdout",
     "output_type": "stream",
     "text": [
      "False\n",
      "True\n",
      "True\n",
      "False\n",
      "5\n"
     ]
    }
   ],
   "source": [
    "import operator\n",
    "\n",
    "print(operator.xor(False, False))\n",
    "print(operator.xor(False, True))\n",
    "print(operator.xor(True, False))\n",
    "print(operator.xor(True, True))\n",
    "\n",
    "print(operator.xor(6,3))"
   ]
  },
  {
   "cell_type": "markdown",
   "metadata": {},
   "source": [
    "## 5.4 Conditional execution\n",
    "\n",
    "In order to write useful programs, we almost always need the ability\n",
    "to check conditions and change the behavior of the program\n",
    "accordingly.  **Conditional statements (條件陳述句)** give us this ability.  The\n",
    "simplest form is the `if` statement:\n",
    "\n",
    "```\n",
    "if x > 0:\n",
    "    print('x is positive')\n",
    "```\n",
    "\n",
    "The boolean expression after `if` is\n",
    "called the **condition (條件)**.  If it is true, the indented\n",
    "statement runs.  If not, nothing happens.\n",
    "\n",
    "`if` statements have the same structure as function definitions:\n",
    "a header followed by an indented body.  Statements like this are\n",
    "called **compound statements (複合陳述句)**.\n",
    "\n",
    "There is no limit on the number of statements that can appear in\n",
    "the body, but there has to be at least one.\n",
    "Occasionally, it is useful to have a body with no statements (usually\n",
    "as a place keeper for code you haven't written yet).  In that\n",
    "case, you can use the `pass` statement, which does nothing.\n",
    "\n",
    "```\n",
    "if x < 0:\n",
    "    pass          # TODO: need to handle negative values!\n",
    "```"
   ]
  },
  {
   "cell_type": "markdown",
   "metadata": {},
   "source": [
    "## 5.5 Alternative execution\n",
    "\n",
    "A second form of the `if` statement is <b>\"alternative execution\" (選擇執行、二擇一執行)</b>,\n",
    "in which there are two possibilities and the condition determines\n",
    "which one runs.  The syntax looks like this:\n",
    "\n",
    "```\n",
    "if x % 2 == 0:\n",
    "    print('x is even')\n",
    "else:\n",
    "    print('x is odd')\n",
    "```\n",
    "\n",
    "If the remainder when `x` is divided by 2 is 0, then we know that\n",
    "`x` is even, and the program displays an appropriate message.  If\n",
    "the condition is false, the second set of statements runs.\n",
    "Since the condition must be true or false, exactly one of the\n",
    "**alternatives (備選方案)** will run.  The alternatives are called **branches (分支)**, because they are branches in the flow of execution.\n"
   ]
  },
  {
   "cell_type": "markdown",
   "metadata": {},
   "source": [
    "## 5.6 Chained conditionals (鏈條件)\n",
    "\n",
    "Sometimes there are more than two possibilities and we need more than\n",
    "two branches.  One way to express a computation like that is a **chained conditional (鏈條件)**:\n",
    "\n",
    "```\n",
    "if x < y:\n",
    "    print('x is less than y')\n",
    "elif x > y:\n",
    "    print('x is greater than y')\n",
    "else:\n",
    "    print('x and y are equal')\n",
    "```\n",
    "\n",
    "`elif` is an abbreviation of `\"else if\"`.  Again, exactly one\n",
    "branch will run.  There is no limit on the number of `elif` statements.  If there is an `else` clause, it has to be\n",
    "at the end, but there doesn't have to be one.\n",
    "\n",
    "```\n",
    "if choice == 'a':\n",
    "    draw_a()\n",
    "elif choice == 'b':\n",
    "    draw_b()\n",
    "elif choice == 'c':\n",
    "    draw_c()\n",
    "```\n",
    "\n",
    "Each condition is checked in order.  If the first is false,\n",
    "the next is checked, and so on.  If one of them is\n",
    "true, the corresponding branch runs and the statement\n",
    "ends.  Even if more than one condition is true, only the\n",
    "first true branch runs.  "
   ]
  },
  {
   "cell_type": "code",
   "execution_count": 14,
   "metadata": {},
   "outputs": [
    {
     "name": "stdout",
     "output_type": "stream",
     "text": [
      "True\n",
      "True\n",
      "<class 'int'> 0\n"
     ]
    }
   ],
   "source": [
    "print(17 and True)\n",
    "print(-5 and True)\n",
    "print(type(0 and True), 0 and True)"
   ]
  },
  {
   "cell_type": "code",
   "execution_count": 15,
   "metadata": {},
   "outputs": [
    {
     "name": "stdout",
     "output_type": "stream",
     "text": [
      "110207456 56\n"
     ]
    }
   ],
   "source": [
    "y = 110207456\n",
    "b = y % 100\n",
    "print(y, b)\n"
   ]
  },
  {
   "cell_type": "code",
   "execution_count": null,
   "metadata": {},
   "outputs": [],
   "source": [
    "x = int(input(\"enter an integer number: \"))\n",
    "\n",
    "if x%2 == 0:\n",
    "    print(\"x = \", x)\n",
    "    print('x is even')\n",
    "else:\n",
    "    print(\"x = \", x)\n",
    "    print('x is odd')\n",
    "\n",
    "print('type(x) = ', type(x))"
   ]
  },
  {
   "cell_type": "code",
   "execution_count": null,
   "metadata": {},
   "outputs": [],
   "source": [
    "g = int(input(\"enter an integer number: \"))\n",
    "\n",
    "if g >= 90:\n",
    "    print(\"A\")\n",
    "elif g>=80 and g<=89:\n",
    "    print(\"B\")\n",
    "elif g>=70 and g<=79:\n",
    "    print(\"C\")\n",
    "elif g>=60 and g<=69:\n",
    "    print(\"D\")\n",
    "else:\n",
    "    print(\"F\")\n",
    "\n",
    "print(\"g = \", g)"
   ]
  },
  {
   "cell_type": "markdown",
   "metadata": {},
   "source": [
    "## <font color=\"red\">練習1</font>\n",
    "\n",
    "1. 設計一個 function 名為 bmi(h, w)，函式接受 h (身高，單位：公分) 和 w (身高，單位：公斤)，回傳 BMI 值\n",
    "\n",
    "2. 設計一個程式，可以接受使用者輸入身高和體重，利用 bmi(h, w) 計算 BMI 值，並依據下表輸出以下訊息：\n",
    "    過重、輕度肥胖、中度肥胖、種度肥胖\n",
    "\n",
    "參考資料：  \n",
    "https://health99.hpa.gov.tw/onlineQuiz/bmi\n",
    "\n",
    "<img src=\"BMI2.png\">\n",
    "<img src=\"BMI.png\">"
   ]
  },
  {
   "cell_type": "code",
   "execution_count": 1,
   "metadata": {},
   "outputs": [
    {
     "name": "stdout",
     "output_type": "stream",
     "text": [
      "Please enter height in (cm): 174\n",
      "Please enter weight in (kg): 62\n",
      "BMI =  20.478266613819528\n",
      "健康體位\n"
     ]
    },
    {
     "ename": "KeyboardInterrupt",
     "evalue": "Interrupted by user",
     "output_type": "error",
     "traceback": [
      "\u001b[1;31m---------------------------------------------------------------------------\u001b[0m",
      "\u001b[1;31mKeyboardInterrupt\u001b[0m                         Traceback (most recent call last)",
      "\u001b[1;32m~\\AppData\\Local\\Temp/ipykernel_16792/11658350.py\u001b[0m in \u001b[0;36m<module>\u001b[1;34m\u001b[0m\n\u001b[0;32m      5\u001b[0m \u001b[1;33m\u001b[0m\u001b[0m\n\u001b[0;32m      6\u001b[0m \u001b[1;32mfor\u001b[0m \u001b[0mi\u001b[0m \u001b[1;32min\u001b[0m \u001b[0mrange\u001b[0m\u001b[1;33m(\u001b[0m\u001b[1;36m3\u001b[0m\u001b[1;33m)\u001b[0m\u001b[1;33m:\u001b[0m\u001b[1;33m\u001b[0m\u001b[1;33m\u001b[0m\u001b[0m\n\u001b[1;32m----> 7\u001b[1;33m     \u001b[0mh\u001b[0m \u001b[1;33m=\u001b[0m \u001b[0mint\u001b[0m\u001b[1;33m(\u001b[0m\u001b[0minput\u001b[0m\u001b[1;33m(\u001b[0m\u001b[1;34m\"Please enter height in (cm): \"\u001b[0m\u001b[1;33m)\u001b[0m\u001b[1;33m)\u001b[0m\u001b[1;33m\u001b[0m\u001b[1;33m\u001b[0m\u001b[0m\n\u001b[0m\u001b[0;32m      8\u001b[0m     \u001b[0mw\u001b[0m \u001b[1;33m=\u001b[0m \u001b[0mfloat\u001b[0m\u001b[1;33m(\u001b[0m\u001b[0minput\u001b[0m\u001b[1;33m(\u001b[0m\u001b[1;34m\"Please enter weight in (kg): \"\u001b[0m\u001b[1;33m)\u001b[0m\u001b[1;33m)\u001b[0m\u001b[1;33m\u001b[0m\u001b[1;33m\u001b[0m\u001b[0m\n\u001b[0;32m      9\u001b[0m \u001b[1;33m\u001b[0m\u001b[0m\n",
      "\u001b[1;32mC:\\Anaconda\\lib\\site-packages\\ipykernel\\kernelbase.py\u001b[0m in \u001b[0;36mraw_input\u001b[1;34m(self, prompt)\u001b[0m\n\u001b[0;32m   1004\u001b[0m                 \u001b[1;34m\"raw_input was called, but this frontend does not support input requests.\"\u001b[0m\u001b[1;33m\u001b[0m\u001b[1;33m\u001b[0m\u001b[0m\n\u001b[0;32m   1005\u001b[0m             )\n\u001b[1;32m-> 1006\u001b[1;33m         return self._input_request(\n\u001b[0m\u001b[0;32m   1007\u001b[0m             \u001b[0mstr\u001b[0m\u001b[1;33m(\u001b[0m\u001b[0mprompt\u001b[0m\u001b[1;33m)\u001b[0m\u001b[1;33m,\u001b[0m\u001b[1;33m\u001b[0m\u001b[1;33m\u001b[0m\u001b[0m\n\u001b[0;32m   1008\u001b[0m             \u001b[0mself\u001b[0m\u001b[1;33m.\u001b[0m\u001b[0m_parent_ident\u001b[0m\u001b[1;33m[\u001b[0m\u001b[1;34m\"shell\"\u001b[0m\u001b[1;33m]\u001b[0m\u001b[1;33m,\u001b[0m\u001b[1;33m\u001b[0m\u001b[1;33m\u001b[0m\u001b[0m\n",
      "\u001b[1;32mC:\\Anaconda\\lib\\site-packages\\ipykernel\\kernelbase.py\u001b[0m in \u001b[0;36m_input_request\u001b[1;34m(self, prompt, ident, parent, password)\u001b[0m\n\u001b[0;32m   1049\u001b[0m             \u001b[1;32mexcept\u001b[0m \u001b[0mKeyboardInterrupt\u001b[0m\u001b[1;33m:\u001b[0m\u001b[1;33m\u001b[0m\u001b[1;33m\u001b[0m\u001b[0m\n\u001b[0;32m   1050\u001b[0m                 \u001b[1;31m# re-raise KeyboardInterrupt, to truncate traceback\u001b[0m\u001b[1;33m\u001b[0m\u001b[1;33m\u001b[0m\u001b[0m\n\u001b[1;32m-> 1051\u001b[1;33m                 \u001b[1;32mraise\u001b[0m \u001b[0mKeyboardInterrupt\u001b[0m\u001b[1;33m(\u001b[0m\u001b[1;34m\"Interrupted by user\"\u001b[0m\u001b[1;33m)\u001b[0m \u001b[1;32mfrom\u001b[0m \u001b[1;32mNone\u001b[0m\u001b[1;33m\u001b[0m\u001b[1;33m\u001b[0m\u001b[0m\n\u001b[0m\u001b[0;32m   1052\u001b[0m             \u001b[1;32mexcept\u001b[0m \u001b[0mException\u001b[0m\u001b[1;33m:\u001b[0m\u001b[1;33m\u001b[0m\u001b[1;33m\u001b[0m\u001b[0m\n\u001b[0;32m   1053\u001b[0m                 \u001b[0mself\u001b[0m\u001b[1;33m.\u001b[0m\u001b[0mlog\u001b[0m\u001b[1;33m.\u001b[0m\u001b[0mwarning\u001b[0m\u001b[1;33m(\u001b[0m\u001b[1;34m\"Invalid Message:\"\u001b[0m\u001b[1;33m,\u001b[0m \u001b[0mexc_info\u001b[0m\u001b[1;33m=\u001b[0m\u001b[1;32mTrue\u001b[0m\u001b[1;33m)\u001b[0m\u001b[1;33m\u001b[0m\u001b[1;33m\u001b[0m\u001b[0m\n",
      "\u001b[1;31mKeyboardInterrupt\u001b[0m: Interrupted by user"
     ]
    }
   ],
   "source": [
    "def bmi(w, h):\n",
    "    h_m = h / 100.0\n",
    "    result = w / (h_m * h_m)\n",
    "    return result\n",
    "\n",
    "for i in range(3):\n",
    "    h = int(input(\"Please enter height in (cm): \"))\n",
    "    w = float(input(\"Please enter weight in (kg): \"))\n",
    "\n",
    "    x=bmi(w,h)\n",
    "    print(\"BMI = \", x)\n",
    "\n",
    "    if x <18.5:\n",
    "        print(\"體重過輕\")\n",
    "    elif x>=18.5 and x<24:\n",
    "        print(\"健康體位\")\n",
    "    elif x>=24 and x<27:\n",
    "        print(\"過重\")\n",
    "    elif x>=27 and x<=30:\n",
    "        print(\"輕度肥胖\")\n",
    "\n",
    "    \n",
    "    elif x>=30 and x<=35:\n",
    "        print(\"中度肥胖\")\n",
    "    elif x>=35:\n",
    "        print(\"重度肥胖\")\n",
    "    else:\n",
    "        print(\"F\")\n",
    "    \n"
   ]
  },
  {
   "cell_type": "markdown",
   "metadata": {},
   "source": [
    "## 5.7 Nested conditionals (巢套條件)\n",
    "\n",
    "One conditional can also be nested within another.  We could have\n",
    "written the example in the previous section like this:\n",
    "\n",
    "```\n",
    "if x == y:\n",
    "    print('x and y are equal')\n",
    "else:\n",
    "    if x < y:\n",
    "        print('x is less than y')\n",
    "    else:\n",
    "        print('x is greater than y')\n",
    "```\n",
    "\n",
    "The outer conditional contains two branches.  The\n",
    "first branch contains a simple statement.  The second branch\n",
    "contains another <code>if</code> statement, which has two branches of its\n",
    "own.  Those two branches are both simple statements,\n",
    "although they could have been conditional statements as well.\n",
    "\n",
    "Although the indentation of the statements makes the structure\n",
    "apparent, **nested conditionals** become difficult to read very\n",
    "quickly.  It is a good idea to avoid them when you can.\n",
    "\n",
    "<font color=\"red\">Logical operators often provide a way to simplify nested conditional\n",
    "statements.  For example, we can rewrite the following code using a\n",
    "single conditional:</font>\n",
    "\n",
    "```\n",
    "if 0 < x:\n",
    "    if x < 10:\n",
    "        print('x is a positive single-digit number.')\n",
    "```\n",
    "\n",
    "<font color=\"red\">The <code>print</code> statement runs only if we make it past both\n",
    "conditionals, so we can get the same effect with the <code>and</code> operator:</font>\n",
    "\n",
    "```\n",
    "if 0 < x and x < 10:\n",
    "    print('x is a positive single-digit number.')\n",
    "```\n",
    "\n",
    "For this kind of condition, Python provides a more concise option:\n",
    "\n",
    "```\n",
    "if 0 < x < 10:\n",
    "    print('x is a positive single-digit number.')\n",
    "```\n"
   ]
  },
  {
   "cell_type": "code",
   "execution_count": null,
   "metadata": {
    "scrolled": true
   },
   "outputs": [],
   "source": [
    "x = int(input(\"enter x:\"))\n",
    "y = int(input(\"enter Y:\"))\n",
    "if x == y:\n",
    "    print('x and y are equal')\n",
    "else:\n",
    "    if x < y:\n",
    "        print('x is less than y')\n",
    "    else:\n",
    "        print('x is greater than y')\n",
    "print(x, y)"
   ]
  },
  {
   "cell_type": "markdown",
   "metadata": {},
   "source": [
    "## 5.8 Recursion (遞迴)\n",
    "\n",
    "It is legal for one function to call another;\n",
    "it is also legal for a function to call itself.  It may not be obvious\n",
    "why that is a good thing, but it turns out to be one of the most\n",
    "magical things a program can do.\n",
    "For example, look at the following function:\n",
    "\n",
    "```\n",
    "def countdown(n):\n",
    "    if n <= 0:\n",
    "        print('Blastoff!')\n",
    "    else:\n",
    "        print(n)\n",
    "        countdown(n-1)\n",
    "```\n",
    "\n",
    "If `n` is 0 or negative, it outputs the word, `\"Blastoff!\"`\n",
    "Otherwise, it outputs `n` and then calls a function named `countdown`---itself---passing `n-1` as an argument.\n",
    "\n",
    "What happens if we call this function like this?\n",
    "\n",
    "```\n",
    ">>> countdown(3)\n",
    "```\n",
    "\n",
    "The execution of <code>countdown</code> begins with <code>n=3</code>, and since\n",
    "<code>n</code> is greater than 0, it outputs the value 3, and then calls itself...\n",
    "\n",
    "> The execution of <code>countdown</code> begins with `n=2`, and since\n",
    "    `n` is greater than 0, it outputs the value 2, and then calls itself...\n",
    ">> The execution of `countdown` begins with `n=1`, and since\n",
    "        `n` is greater than 0, it outputs the value 1, and then calls itself...\n",
    ">>> The execution of `countdown` begins with `n=0`, and since `n` is not greater than 0, it outputs the word, `\"Blastoff!\"` and then returns.  \n",
    "\n",
    ">> The `countdown` that got `n=1` returns.  \n",
    "\n",
    "> The `countdown` that got `n=2` returns.\n",
    "\n",
    "The `countdown` that got `n=3` returns.\n",
    "\n",
    "And then you're back in `__main__`.  So, the\n",
    "total output looks like this:\n",
    "\n",
    "```\n",
    "3\n",
    "2\n",
    "1\n",
    "Blastoff!\n",
    "```\n",
    "\n",
    "A function that calls itself is **recursive**; the process of\n",
    "executing it is called **recursion**.\n",
    "\n",
    "As another example, we can write a function that prints a\n",
    "string `n` times.\n",
    "\n",
    "```\n",
    "def print_n(s, n):\n",
    "    if n <= 0:\n",
    "        return\n",
    "    print(s)\n",
    "    print_n(s, n-1)\n",
    "```\n",
    "\n",
    "If `n <= 0` the **return statement** exits the function.  The\n",
    "flow of execution immediately returns to the caller, and the remaining\n",
    "lines of the function don't run.\n",
    "\n",
    "The rest of the function is similar to `countdown`: it displays\n",
    "`s` and then calls itself to display `s` $n-1$ additional\n",
    "times.  So the number of lines of output is `1 + (n - 1)`, which\n",
    "adds up to `n`.\n",
    "\n",
    "For simple examples like this, it is probably easier to use a `for` loop.  But we will see examples later that are hard to write with a `for` loop and easy to write with recursion, so it is\n",
    "good to start early.\n"
   ]
  },
  {
   "cell_type": "code",
   "execution_count": null,
   "metadata": {},
   "outputs": [],
   "source": [
    "def print_n(s, n):\n",
    "    if n <= 0:\n",
    "        return\n",
    "    print(s)\n",
    "    print_n(s, n-1)\n",
    "\n",
    "a = 8\n",
    "b = 3\n",
    "print_n(a,b)"
   ]
  },
  {
   "cell_type": "markdown",
   "metadata": {},
   "source": [
    "## 5.9 Stack diagrams for recursive functions\n",
    "\n",
    "In Section 3.9, we used a stack diagram (堆疊圖) to represent\n",
    "the state of a program during a function call.  The same kind of\n",
    "diagram can help interpret a recursive function.\n",
    "\n",
    "Every time a function gets called, Python creates a\n",
    "frame to contain the function's local variables and parameters.\n",
    "For a recursive function, there might be more than one frame on the\n",
    "stack at the same time.\n",
    "\n",
    "Figure 5.1 shows a stack diagram for `countdown` called with `n = 3`.\n",
    "\n",
    "As usual, the top of the stack is the frame for `__main__`.\n",
    "It is empty because we did not create any variables in \n",
    "`__main__` or pass any arguments to it.\n",
    "\n",
    "The four `countdown` frames have different values for the\n",
    "parameter `n`.  The bottom of the stack, where `n=0`, is\n",
    "called the **base case (基礎情況)**.  It does not make a recursive call, so\n",
    "there are no more frames.\n",
    "\n",
    "<font color=\"red\">As an exercise, draw a stack diagram for <code>print_n</code> called with\n",
    "<code>s = 'Hello'</code> and <code>n=2</code>.\n",
    "Then write a function called <code>do_n</code> that takes a function\n",
    "object and a number, <code>n</code>, as arguments, and that calls\n",
    "the given function `n` times.</font>\n",
    "\n",
    "\n",
    "<img src=\"fig5_01.png\">"
   ]
  },
  {
   "cell_type": "code",
   "execution_count": null,
   "metadata": {},
   "outputs": [],
   "source": [
    "'''\n",
    "As an exercise, draw a stack diagram for print_n called with s = 'Hello' and n=2.\n",
    "Then write a function called do_n that takes a function object and a number, n, \n",
    "as arguments, and that calls the given function n times.\n",
    "'''\n",
    "\n",
    "def print_n(s, n):\n",
    "    if n <= 0:\n",
    "        return\n",
    "    print(s)\n",
    "    print_n(s, n-1)\n",
    "    \n",
    "def do_n(fun, n):\n",
    "    for i in range(n):\n",
    "        fun('Hello', n)\n",
    "    \n",
    "num_times = 2\n",
    "do_n(print_n, num_times)"
   ]
  },
  {
   "cell_type": "markdown",
   "metadata": {},
   "source": [
    "## <font color=\"red\">練習2</font>\n",
    "\n",
    "1. 將 countdown() 改寫為 for loop 的方式執行\n",
    "\n",
    "2. 將 print_n() 改寫為 for loop 的方式執行\n",
    "\n",
    "3. 畫出呼叫 print_n('Hello', 2) 的 stack diagram\n"
   ]
  },
  {
   "cell_type": "code",
   "execution_count": 7,
   "metadata": {},
   "outputs": [
    {
     "name": "stdout",
     "output_type": "stream",
     "text": [
      "5\n",
      "4\n",
      "3\n",
      "2\n",
      "1\n"
     ]
    }
   ],
   "source": [
    "for i in range(5,0,-1):\n",
    "    print(i)\n",
    "    \n",
    "    "
   ]
  },
  {
   "cell_type": "code",
   "execution_count": 8,
   "metadata": {},
   "outputs": [
    {
     "name": "stdout",
     "output_type": "stream",
     "text": [
      "8\n",
      "6\n",
      "4\n",
      "2\n"
     ]
    }
   ],
   "source": [
    "s=8\n",
    "\n",
    "for i in range(s,0,-2):\n",
    "    print (s)\n",
    "    s=s-2"
   ]
  },
  {
   "cell_type": "markdown",
   "metadata": {},
   "source": [
    "<img src=\"bb1.jpg\" width=\"50%\">"
   ]
  },
  {
   "cell_type": "markdown",
   "metadata": {},
   "source": [
    "## 5.10 Infinite recursion (無限遞迴)\n",
    "\n",
    "If a recursion never reaches a base case, it goes on making\n",
    "recursive calls forever, and the program never terminates.  This is\n",
    "known as **infinite recursion**, and it is generally not\n",
    "a good idea.  Here is a minimal program with an infinite recursion:\n",
    "\n",
    "```\n",
    "def recurse():\n",
    "    recurse()\n",
    "```\n",
    "\n",
    "In most programming environments, a program with infinite recursion\n",
    "does not really run forever.  Python reports an error\n",
    "message when the maximum recursion depth is reached:\n",
    "\n",
    "```\n",
    "  File \"<stdin>\", line 2, in recurse\n",
    "  File \"<stdin>\", line 2, in recurse\n",
    "  File \"<stdin>\", line 2, in recurse\n",
    "                  .   \n",
    "                  .\n",
    "                  .\n",
    "  File \"<stdin>\", line 2, in recurse\n",
    "RuntimeError: Maximum recursion depth exceeded\n",
    "```\n",
    "\n",
    "This traceback is a little bigger than the one we saw in the\n",
    "previous chapter.  When the error occurs, there are 1000\n",
    "`recurse` frames on the stack!\n",
    "\n",
    "If you encounter an infinite recursion by accident, review\n",
    "your function to confirm that there is a base case that does not\n",
    "make a recursive call.  And if there is a base case, check whether\n",
    "you are guaranteed to reach it.\n"
   ]
  },
  {
   "cell_type": "markdown",
   "metadata": {},
   "source": [
    "### 以下程式示範 infinite recursion"
   ]
  },
  {
   "cell_type": "code",
   "execution_count": null,
   "metadata": {},
   "outputs": [],
   "source": [
    "def recurse():\n",
    "    recurse()\n",
    "    \n",
    "recurse()"
   ]
  },
  {
   "cell_type": "code",
   "execution_count": null,
   "metadata": {},
   "outputs": [],
   "source": [
    "def recurse(n):\n",
    "    print('n = ', n)\n",
    "    n = n + 1\n",
    "    recurse(n)\n",
    "    \n",
    "recurse(0)"
   ]
  },
  {
   "cell_type": "markdown",
   "metadata": {},
   "source": [
    "### 以下範例中的 recurse() 中的 n 為 local variable (區域變數)\n",
    "### 請注意：程式有錯誤，為什麼？"
   ]
  },
  {
   "cell_type": "code",
   "execution_count": null,
   "metadata": {},
   "outputs": [],
   "source": [
    "n = 0\n",
    "\n",
    "def recurse():\n",
    "    n = n + 1\n",
    "    print('n = ', n)\n",
    "    recurse()\n",
    "    \n",
    "recurse()"
   ]
  },
  {
   "cell_type": "markdown",
   "metadata": {},
   "source": [
    "### 以下範例使用 global variable (全域變數)\n",
    "### 變數 n 在 `__main__` 中被定義，在  recurse() 中以 global n 表示 n 為全域變數"
   ]
  },
  {
   "cell_type": "code",
   "execution_count": null,
   "metadata": {},
   "outputs": [],
   "source": [
    "n = 0\n",
    "\n",
    "def recurse():\n",
    "    global n\n",
    "    n = n + 1\n",
    "    print('n = ', n)\n",
    "    recurse()\n",
    "    \n",
    "recurse()"
   ]
  },
  {
   "cell_type": "markdown",
   "metadata": {},
   "source": [
    "## 5.11 Keyboard input (鍵盤輸入)\n",
    "\n",
    "The programs we have written so far accept no input from the user.\n",
    "They just do the same thing every time.\n",
    "\n",
    "Python provides a built-in function called `input` that\n",
    "stops the program and\n",
    "waits for the user to type something.  When the user presses `Return` or `Enter`, the program resumes and `input`\n",
    "returns what the user typed as a string.  In Python 2, the same\n",
    "function is called `raw_input`.\n",
    "\n",
    "```\n",
    ">>> text = input()\n",
    "What are you waiting for?\n",
    ">>> text\n",
    "'What are you waiting for?'\n",
    "```\n",
    "\n",
    "Before getting input from the user, it is a good idea to print a\n",
    "prompt telling the user what to type.  `input` can take a\n",
    "prompt as an argument:\n",
    "\n",
    "```\n",
    ">>> name = input('What...is your name?\\n')\n",
    "What...is your name?\n",
    "Arthur, King of the Britons!\n",
    ">>> name\n",
    "'Arthur, King of the Britons!'\n",
    "```\n",
    "\n",
    "<font color=\"red\">The sequence `\\n` at the end of the prompt represents a **newline**, which is a special character that causes a line break.\n",
    "That's why the user's input appears below the prompt.\n",
    "\n",
    "If you expect the user to type an integer, you can try to convert\n",
    "the return value to `int`:</font>\n",
    "\n",
    "```\n",
    ">>> prompt = 'What...is the airspeed velocity of an unladen swallow?\\n'\n",
    ">>> speed = input(prompt)\n",
    "What...is the airspeed velocity of an unladen swallow?\n",
    "42\n",
    ">>> int(speed)\n",
    "42\n",
    "```\n",
    "\n",
    "But if the user types something other than a string of digits,\n",
    "you get an error:\n",
    "\n",
    "```\n",
    ">>> speed = input(prompt)\n",
    "What...is the airspeed velocity of an unladen swallow?\n",
    "What do you mean, an African or a European swallow?\n",
    ">>> int(speed)\n",
    "ValueError: invalid literal for int() with base 10\n",
    "```\n",
    "\n",
    "We will see how to handle this kind of error later."
   ]
  },
  {
   "cell_type": "code",
   "execution_count": null,
   "metadata": {},
   "outputs": [],
   "source": [
    "def countdown(n):\n",
    "    if n <= 0:\n",
    "        print('Blastoff!')\n",
    "    else:\n",
    "        print(n)\n",
    "        countdown(n-1)\n",
    "        \n",
    "x = 10\n",
    "countdown(x)"
   ]
  },
  {
   "cell_type": "code",
   "execution_count": null,
   "metadata": {},
   "outputs": [],
   "source": [
    "def print_n(s, n):\n",
    "    if n <= 0:\n",
    "        return\n",
    "    print(s)\n",
    "    print_n(s, n-1)\n",
    "    \n",
    "name = \"Peter\"\n",
    "print_n(name, 5)"
   ]
  },
  {
   "cell_type": "code",
   "execution_count": null,
   "metadata": {},
   "outputs": [],
   "source": [
    "def print_n(s, n):\n",
    "    if n <= 0:\n",
    "        return\n",
    "    print(s, ',n = %d' % n)\n",
    "    print_n(s, n-1)\n",
    "    \n",
    "name = \"Peter\"\n",
    "print_n(name, 3)"
   ]
  },
  {
   "cell_type": "code",
   "execution_count": null,
   "metadata": {},
   "outputs": [],
   "source": [
    "def print_n(s, n):\n",
    "    for i in range(n):\n",
    "        if i == 2:\n",
    "            return\n",
    "        print(s, ', i = %d' % i)\n",
    "    print(\"for is finished\")\n",
    "    \n",
    "name = \"Peter\"\n",
    "print_n(name, 5)\n",
    "print(\"the end\")\n"
   ]
  },
  {
   "cell_type": "code",
   "execution_count": null,
   "metadata": {},
   "outputs": [],
   "source": [
    "def print_n(s, n):\n",
    "    for i in range(n):\n",
    "        print('s = {}, i = {}'.format(s,i))\n",
    "    \n",
    "name = \"Peter\"\n",
    "print_n(name, 3)"
   ]
  },
  {
   "cell_type": "markdown",
   "metadata": {},
   "source": [
    "### 以下程式為階乘函數的範例\n",
    "\n",
    "在數學中，正整數的階乘（英語：Factorial）是所有小於及等於該數的正整數的積，計為n!，例如5的階乘計為5!，其值為120：\n",
    "\n",
    "$5!=5\\times 4\\times 3\\times 2\\times 1=120$\n",
    "\n",
    "參考資料：\n",
    "https://zh.wikipedia.org/wiki/%E9%9A%8E%E4%B9%98\n",
    "\n",
    "#### 以下版本使用 recursion "
   ]
  },
  {
   "cell_type": "code",
   "execution_count": null,
   "metadata": {},
   "outputs": [],
   "source": [
    "def factorial(n):\n",
    "    if n == 0:\n",
    "        return 1\n",
    "    else:\n",
    "        return n * factorial(n-1)\n",
    "        \n",
    "x = 5\n",
    "factorial(x)"
   ]
  },
  {
   "cell_type": "markdown",
   "metadata": {},
   "source": [
    "#### 以下版本使用 for loop"
   ]
  },
  {
   "cell_type": "code",
   "execution_count": null,
   "metadata": {},
   "outputs": [],
   "source": [
    "def fact(n):\n",
    "    ret = 1\n",
    "    for i in range(n):\n",
    "        ret = ret * (i+1)\n",
    "    return ret\n",
    "        \n",
    "x = 5\n",
    "print(fact(x))"
   ]
  },
  {
   "cell_type": "code",
   "execution_count": null,
   "metadata": {},
   "outputs": [],
   "source": [
    "fact(6)"
   ]
  },
  {
   "cell_type": "markdown",
   "metadata": {},
   "source": [
    "### 設計function的好處是可以促進程式碼的再利用\n",
    "### 以下範例使用 for loop 重複測試 fact() 函式"
   ]
  },
  {
   "cell_type": "code",
   "execution_count": null,
   "metadata": {},
   "outputs": [],
   "source": [
    "def fact(n):\n",
    "    ret = 1\n",
    "    for i in range(n):\n",
    "        ret = ret * (i+1)\n",
    "    return ret\n",
    "        \n",
    "for i in range(3):\n",
    "    n = int(input('please enter an integer:'))\n",
    "    result = fact(n)\n",
    "    print('fact({}) = {}'.format(n, result))"
   ]
  },
  {
   "cell_type": "markdown",
   "metadata": {},
   "source": [
    "## 5.12 Debugging\n",
    "\n",
    "When a syntax or runtime error occurs, the error message contains\n",
    "a lot of information, but it can be overwhelming.  The most\n",
    "useful parts are usually:\n",
    "\n",
    "- What kind of error it was, and\n",
    "\n",
    "- Where it occurred.\n",
    "\n",
    "Syntax errors are usually easy to find, but there are a few\n",
    "gotchas.  Whitespace errors can be tricky because spaces and\n",
    "tabs are invisible and we are used to ignoring them.\n",
    "\n",
    "```\n",
    ">>> x = 5\n",
    ">>>  y = 6\n",
    "  File \"<stdin>\", line 1\n",
    "    y = 6\n",
    "    ^\n",
    "IndentationError: unexpected indent\n",
    "```\n",
    "\n",
    "In this example, the problem is that the second line is indented by\n",
    "one space.  But the error message points to `y`, which is\n",
    "misleading.  In general, error messages indicate where the problem was\n",
    "discovered, but the actual error might be earlier in the code,\n",
    "sometimes on a previous line.\n",
    "\n",
    "The same is true of runtime errors.  Suppose you are trying\n",
    "to compute a signal-to-noise ratio in decibels.  The formula\n",
    "is $SNR_{db} = 10 \\log_{10} (P_{signal} / P_{noise})$.  In Python,\n",
    "you might write something like this:\n",
    "\n",
    "```\n",
    "import math\n",
    "signal_power = 9\n",
    "noise_power = 10\n",
    "ratio = signal_power // noise_power\n",
    "decibels = 10 * math.log10(ratio)\n",
    "print(decibels)\n",
    "```\n",
    "\n",
    "When you run this program, you get an exception:\n",
    "\n",
    "```\n",
    "Traceback (most recent call last):\n",
    "  File \"snr.py\", line 5, in ?\n",
    "    decibels = 10 * math.log10(ratio)\n",
    "ValueError: math domain error\n",
    "```\n",
    "\n",
    "The error message indicates line 5, but there is nothing\n",
    "wrong with that line.  To find the real error, it might be\n",
    "useful to print the value of `ratio`, which turns out to\n",
    "be 0.  The problem is in line 4, which uses floor division\n",
    "instead of floating-point division.\n",
    "\n",
    "You should take the time to read error messages carefully, but don't\n",
    "assume that everything they say is correct."
   ]
  },
  {
   "cell_type": "markdown",
   "metadata": {},
   "source": [
    "## 5.13 Glossary\n",
    "\n",
    "\\begin{description}\n",
    "\n",
    "\\item[floor division:] An operator, denoted {\\tt //}, that divides two\n",
    "  numbers and rounds down (toward negative infinity) to an integer.\n",
    "  \\index{floor division} \n",
    "  \\index{division!floor}\n",
    "\n",
    "\\item[modulus operator:]  An operator, denoted with a percent sign\n",
    "({\\tt \\%}), that works on integers and returns the remainder when one\n",
    "number is divided by another.\n",
    "\\index{modulus operator}\n",
    "\\index{operator!modulus}\n",
    "\n",
    "\\item[boolean expression:]  An expression whose value is either \n",
    "{\\tt True} or {\\tt False}.\n",
    "\\index{boolean expression}\n",
    "\\index{expression!boolean}\n",
    "\n",
    "\\item[relational operator:] One of the operators that compares\n",
    "its operands: {\\tt ==}, {\\tt !=}, {\\tt >}, {\\tt <}, {\\tt >=}, and {\\tt <=}.\n",
    "\n",
    "\\item[logical operator:] One of the operators that combines boolean\n",
    "expressions: {\\tt and}, {\\tt or}, and {\\tt not}.\n",
    "\n",
    "\\item[conditional statement:]  A statement that controls the flow of\n",
    "execution depending on some condition.\n",
    "\\index{conditional statement}\n",
    "\\index{statement!conditional}\n",
    "\n",
    "\\item[condition:] The boolean expression in a conditional statement\n",
    "that determines which branch runs.\n",
    "\\index{condition}\n",
    "\n",
    "\\item[compound statement:]  A statement that consists of a header\n",
    "and a body.  The header ends with a colon (:).  The body is indented\n",
    "relative to the header.\n",
    "\\index{compound statement}\n",
    "\n",
    "\\item[branch:] One of the alternative sequences of statements in\n",
    "a conditional statement.\n",
    "\\index{branch}\n",
    "\n",
    "\\item[chained conditional:]  A conditional statement with a series\n",
    "of alternative branches.\n",
    "\\index{chained conditional}\n",
    "\\index{conditional!chained}\n",
    "\n",
    "\\item[nested conditional:]  A conditional statement that appears\n",
    "in one of the branches of another conditional statement.\n",
    "\\index{nested conditional}\n",
    "\\index{conditional!nested}\n",
    "\n",
    "\\item[return statement:] A statement that causes a function to\n",
    "end immediately and return to the caller.\n",
    "\n",
    "\\item[recursion:]  The process of calling the function that is\n",
    "currently executing.\n",
    "\\index{recursion}\n",
    "\n",
    "\\item[base case:]  A conditional branch in a\n",
    "recursive function that does not make a recursive call.\n",
    "\\index{base case}\n",
    "\n",
    "\\item[infinite recursion:]  A recursion that doesn't have a\n",
    "base case, or never reaches it.  Eventually, an infinite recursion\n",
    "causes a runtime error."
   ]
  },
  {
   "cell_type": "markdown",
   "metadata": {},
   "source": [
    "## <font color=\"red\">練習3</font>\n",
    "\n",
    "### 完成 Exercise 5.1 至 5.4 的練習"
   ]
  },
  {
   "cell_type": "markdown",
   "metadata": {},
   "source": [
    "## 5.14 Exercises\n",
    "\n",
    "### Exercise 5.1 \n",
    "\n",
    "The `time` module provides a function, also named `time`, that\n",
    "returns the current Greenwich Mean Time in `\"the epoch\"`, which is\n",
    "an arbitrary time used as a reference point.  On UNIX systems, the\n",
    "epoch is 1 January 1970.\n",
    "\n",
    "```\n",
    ">>> import time\n",
    ">>> time.time()\n",
    "1437746094.5735958\n",
    "```\n",
    "\n",
    "Write a script that reads the current time and converts it to\n",
    "a time of day in hours, minutes, and seconds, plus the number of\n",
    "days since the epoch (時期；時代；重要時期).\n"
   ]
  },
  {
   "cell_type": "code",
   "execution_count": 2,
   "metadata": {},
   "outputs": [
    {
     "name": "stdout",
     "output_type": "stream",
     "text": [
      "幾秒: 1674741709.9777472\n",
      "幾分: 27912361.0\n",
      "幾小時: 465206.0\n",
      "幾天: 19383.0\n"
     ]
    }
   ],
   "source": [
    "import time\n",
    "s=(time.time())\n",
    "print (\"幾秒:\", s )\n",
    "\n",
    "m=s//60\n",
    "print (\"幾分:\", m )\n",
    "\n",
    "h=m//60\n",
    "print (\"幾小時:\", h )\n",
    "\n",
    "d=h//24\n",
    "print (\"幾天:\", d )\n",
    "\n",
    "\n",
    "\n",
    "\n",
    "\n"
   ]
  },
  {
   "cell_type": "markdown",
   "metadata": {},
   "source": [
    "### Exercise 5.2\n",
    "\n",
    "Fermat's Last Theorem says that there are no positive integers\n",
    "$a$, $b$, and $c$ such that\n",
    "\n",
    "$a^n + b^n = c^n$\n",
    "\n",
    "for any values of $n$ greater than 2.\n",
    "\n",
    "1. Write a function named `check_fermat` that takes four\n",
    "parameters---`a`, `b`, `c` and `n`---and\n",
    "checks to see if Fermat's theorem holds.  If\n",
    "$n$ is greater than 2 and \n",
    "\n",
    "    $a^n + b^n = c^n$\n",
    "\n",
    "    the program should print, `\"Holy smokes, Fermat was wrong!\"`\n",
    "Otherwise the program should print, `\"No, that doesn't work.\"`\n",
    "\n",
    "\n",
    "\n",
    "2. Write a function that prompts the user to input values\n",
    "for `a`, `b`, `c` and `n`, converts them to\n",
    "integers, and uses `check_fermat` to check whether they\n",
    "violate Fermat's theorem."
   ]
  },
  {
   "cell_type": "code",
   "execution_count": 7,
   "metadata": {},
   "outputs": [
    {
     "name": "stdout",
     "output_type": "stream",
     "text": [
      "請輸入a:3\n",
      "請輸入b:4\n",
      "請輸入c:5\n",
      "請輸入n:2\n",
      "True\n",
      "Holy smokes, Fermat was wrong!\n"
     ]
    }
   ],
   "source": [
    "def check_fermat(a,b,c,n):\n",
    "    if n >= 2:   \n",
    "        print (a**n+b**n==c**n)\n",
    "        print(\"Holy smokes, Fermat was wrong!\")\n",
    "    else:\n",
    "        print(\"No, that doesn't work.\")\n",
    "    \n",
    "\n",
    "a1=int(input(\"請輸入a:\"))\n",
    "b1=int(input(\"請輸入b:\"))\n",
    "c1=int(input(\"請輸入c:\"))\n",
    "n1=int(input(\"請輸入n:\"))\n",
    "\n",
    "check_fermat(a1,b1,c1,n1)"
   ]
  },
  {
   "cell_type": "code",
   "execution_count": null,
   "metadata": {},
   "outputs": [],
   "source": []
  },
  {
   "cell_type": "markdown",
   "metadata": {},
   "source": [
    "### Exercise 5.3\n",
    "\n",
    "If you are given three sticks, you may or may not be able to arrange\n",
    "them in a triangle.  For example, if one of the sticks is 12 inches\n",
    "long and the other two are one inch long, you will\n",
    "not be able to get the short sticks to meet in the middle.  For any\n",
    "three lengths, there is a simple test to see if it is possible to form\n",
    "a triangle:\n",
    "\n",
    "    If any of the three lengths is greater than the sum of the other\n",
    "    two, then you cannot form a triangle.  Otherwise, you\n",
    "    can.  (If the sum of two lengths equals the third, they form\n",
    "    what is called a ``degenerate'' triangle.)\n",
    "\n",
    "\n",
    "1. Write a function named `is_triangle` that takes three\n",
    "  integers as arguments, and that prints either `\"Yes\"` or `\"No\"`, depending\n",
    "  on whether you can or cannot form a triangle from sticks with the\n",
    "  given lengths.\n",
    "  \n",
    "\n",
    "2. Write a function that prompts the user to input three stick\n",
    "  lengths, converts them to integers, and uses `is_triangle` to\n",
    "  check whether sticks with the given lengths can form a triangle.\n"
   ]
  },
  {
   "cell_type": "code",
   "execution_count": 3,
   "metadata": {},
   "outputs": [
    {
     "name": "stdout",
     "output_type": "stream",
     "text": [
      "請輸入邊長1:3\n",
      "請輸入邊長2:4\n",
      "請輸入邊長3:5\n",
      "Yes\n"
     ]
    }
   ],
   "source": [
    "def is_triangle(a,b,c):\n",
    "    \n",
    "        if a+b==c or b+c==a or a+c==b:\n",
    "            print(\"degenerate triangle\")\n",
    "        \n",
    "        elif a+b<c or b+c<a or a+c<b:\n",
    "            print(\"No\")\n",
    "\n",
    "        else:\n",
    "            print(\"Yes\")\n",
    "\n",
    "length1=int(input(\"請輸入邊長1:\"))\n",
    "length2=int(input(\"請輸入邊長2:\"))\n",
    "length3=int(input(\"請輸入邊長3:\"))\n",
    "        \n",
    "    \n",
    "is_triangle(length1,length2,length3)"
   ]
  },
  {
   "cell_type": "markdown",
   "metadata": {},
   "source": [
    "### Exercise 5.4\n",
    "\n",
    "What is the output of the following program?\n",
    "Draw a stack diagram that shows the state of the program\n",
    "when it prints the result.\n",
    "\n",
    "```\n",
    "def recurse(n, s):\n",
    "    if n == 0:\n",
    "        print(s)\n",
    "    else:\n",
    "        recurse(n-1, n+s)\n",
    "\n",
    "recurse(3, 0)\n",
    "```\n",
    "\n",
    "1. What would happen if you called this function like this: `recurse(-1, 0)`?\n",
    "\n",
    "2. Write a docstring that explains everything someone would need to know in order to use this function (and nothing else)."
   ]
  },
  {
   "cell_type": "markdown",
   "metadata": {},
   "source": [
    "<img src=\"bb2.jpg\" width=\"50%\">"
   ]
  },
  {
   "cell_type": "code",
   "execution_count": null,
   "metadata": {},
   "outputs": [],
   "source": [
    "def recurse(n, s):\n",
    "    if n == 0:\n",
    "        print(s)\n",
    "    else:\n",
    "        recurse(n-1, n+s)\n",
    "        \n",
    "recurse(-1, 0)"
   ]
  },
  {
   "cell_type": "code",
   "execution_count": null,
   "metadata": {},
   "outputs": [],
   "source": [
    "因為n<0 會一直跳到else的部分 導致程式無法執行"
   ]
  },
  {
   "cell_type": "markdown",
   "metadata": {},
   "source": [
    "n必須大於等於0"
   ]
  },
  {
   "cell_type": "code",
   "execution_count": null,
   "metadata": {},
   "outputs": [],
   "source": [
    "def recurse(n, s):\n",
    "    if n == 0:\n",
    "        print(s)\n",
    "    else:\n",
    "        recurse(n-1, n+s)\n",
    "\n",
    "recurse(1.1, 0)\n",
    "\n",
    "#古典數不行"
   ]
  },
  {
   "cell_type": "markdown",
   "metadata": {},
   "source": [
    "### Exercise 5.5 和 5.6 需要用到 Chapter 4 裡面的 turtle module"
   ]
  },
  {
   "cell_type": "markdown",
   "metadata": {},
   "source": [
    "<img src=\"fig5_02.png\">\n",
    "\n",
    "<img src=\"snowflake.png\">"
   ]
  }
 ],
 "metadata": {
  "kernelspec": {
   "display_name": "Python 3 (ipykernel)",
   "language": "python",
   "name": "python3"
  },
  "language_info": {
   "codemirror_mode": {
    "name": "ipython",
    "version": 3
   },
   "file_extension": ".py",
   "mimetype": "text/x-python",
   "name": "python",
   "nbconvert_exporter": "python",
   "pygments_lexer": "ipython3",
   "version": "3.9.7"
  }
 },
 "nbformat": 4,
 "nbformat_minor": 4
}
