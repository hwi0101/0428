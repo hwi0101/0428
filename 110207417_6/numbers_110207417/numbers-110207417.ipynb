{
 "cells": [
  {
   "cell_type": "markdown",
   "id": "cff7b1e1",
   "metadata": {},
   "source": [
    "# 以下的程式為數字系統的範例"
   ]
  },
  {
   "cell_type": "markdown",
   "id": "c96a5f35",
   "metadata": {},
   "source": [
    "## 參考資料\n",
    "\n",
    "### 鳥哥私房菜 - 第零章、計算機概論\n",
    "網址：https://linux.vbird.org/linux_basic/centos7/0105computers.php\n",
    "\n",
    "鳥哥私房菜之 \"第零章、計算機概論\" 介紹很多電腦相關的知識，極力推薦大家仔細閱讀。\n",
    "\n",
    "<img src=\"vbird.png\">"
   ]
  },
  {
   "cell_type": "markdown",
   "id": "48003e35",
   "metadata": {},
   "source": [
    "## 資料表示方式\n",
    "\n",
    "我們目前使用的電腦只能認識 0 與 1，所有的數位化資料不論是：Word文件、PPT簡報檔、數位相機的照片、聲音、影片，在電腦都是以 0 和 1 表示，所以電腦常用的數位化資料是以二進位表示的。\n",
    "\n",
    "\n",
    "### **<font color=\"red\">一個二進位元 (binary digit, 簡稱 bit，位元) 可以表示 0 或 1，電腦儲存資料時的最小單元是 byte (位元組)，一個 byte 由 8 個 bit 所組成。</font>**\n",
    "\n",
    "\n",
    "### **<font color=\"red\">1 byte = 8 bits</font>**\n",
    "\n",
    "\n",
    "### <font color=\"red\">二進位就是逢二進位，由 1~8 個 bit 所組成的記憶體以二進位表示，可以表示的數值範圍如下圖所示：</font>\n",
    "\n",
    "<img src=\"bits.png\">\n",
    "\n",
    "\n",
    "### <font color=\"red\">由表格可知，n 個 bit 由 0 和 1 構成的組合有 $2^n$ 種，上面的表格由 Excel 產生，其精度有限制，以下程式列出1~8 bytes 可以表示的組合數 </font>\n"
   ]
  },
  {
   "cell_type": "code",
   "execution_count": 1,
   "id": "b8e526ef",
   "metadata": {},
   "outputs": [
    {
     "name": "stdout",
     "output_type": "stream",
     "text": [
      "bytes: 1, bits:  8, pow(2,  8):                            256\n",
      "bytes: 2, bits: 16, pow(2, 16):                         65,536\n",
      "bytes: 3, bits: 24, pow(2, 24):                     16,777,216\n",
      "bytes: 4, bits: 32, pow(2, 32):                  4,294,967,296\n",
      "bytes: 5, bits: 40, pow(2, 40):              1,099,511,627,776\n",
      "bytes: 6, bits: 48, pow(2, 48):            281,474,976,710,656\n",
      "bytes: 7, bits: 56, pow(2, 56):         72,057,594,037,927,936\n",
      "bytes: 8, bits: 64, pow(2, 64):     18,446,744,073,709,551,616\n"
     ]
    }
   ],
   "source": [
    "from math import pow\n",
    "\n",
    "for i in range(1,9):\n",
    "    num_bits = i * 8\n",
    "    print('bytes: {}, bits: {:>2}, pow(2, {:>2}): {:>30,}'.format(i, num_bits, num_bits, int(pow(2, num_bits))))"
   ]
  },
  {
   "cell_type": "markdown",
   "id": "cdbef72a",
   "metadata": {},
   "source": [
    "## 數字系統\n",
    "\n",
    "### 參考資料：二、八、十與十六進位 (數字系統) 轉換教學  \n",
    "\n",
    "https://www.footmark.com.tw/news/introduction-to-computer/digital-system-conversion/\n",
    "\n",
    "### 此網頁中有很詳細的介紹數字系統，和轉換的方式，建議詳讀\n",
    "\n",
    "<img src=\"numbers2.png\">\n",
    "\n",
    "<img src=\"numbers3.png\">\n",
    "\n",
    "- <h3>二進位(binary)：逢2進位，數字符號：0, 1。</h3>\n",
    "- <h3>八進位(octal)：逢8進位，數字符號：0, 1, 2, 3, 4, 5, 6, 7。</h3>\n",
    "- <h3>十進位(decimal)：逢10進位，數字符號：0, 1, 2, 3, 4, 5, 6, 7, 8, 9。</h3>\n",
    "- <h3>十六進位(hexadecimal)：逢16進位，數字符號：0, 1, 2, 3, 4, 5, 6, 7, 8, 9, 10 → A, 11 → B, 12 → C, 13 → D, 14 → E, 15 → F。</h3>"
   ]
  },
  {
   "cell_type": "markdown",
   "id": "3d6b5c5d",
   "metadata": {},
   "source": [
    "## 二進位和十進位的互相轉換\n",
    "\n",
    "我們平常使用的數字系統使用十進位，電腦則使用二進位，兩者之間的轉換可參考 **<font color=\"red\">鳥哥私房菜 - 第零章、計算機概論</font>** 的文章如下：\n",
    "\n",
    "<img src=\"vbird2.png\">"
   ]
  },
  {
   "cell_type": "markdown",
   "id": "39a40de1",
   "metadata": {},
   "source": [
    "## 以下程式將十進位轉換為二進位 (以字串表示)"
   ]
  },
  {
   "cell_type": "code",
   "execution_count": 2,
   "id": "ffb6406e",
   "metadata": {},
   "outputs": [
    {
     "name": "stdout",
     "output_type": "stream",
     "text": [
      "decimal: 106, binary: 1101010\n"
     ]
    }
   ],
   "source": [
    "decimal_number = 106\n",
    "\n",
    "n = decimal_number\n",
    "s = \"\"\n",
    "while n >= 2:\n",
    "    remainder = n % 2\n",
    "    \n",
    "    s = str(remainder) + s\n",
    "    \n",
    "    n = n // 2\n",
    "    \n",
    "s = str(n) + s\n",
    "print('decimal: {}, binary: {}'.format(decimal_number, s))\n",
    "    "
   ]
  },
  {
   "cell_type": "code",
   "execution_count": 3,
   "id": "56fe8bde",
   "metadata": {},
   "outputs": [
    {
     "name": "stdout",
     "output_type": "stream",
     "text": [
      "decimal: 10, binary: 1010\n"
     ]
    }
   ],
   "source": [
    "decimal_number = 10\n",
    "\n",
    "n = decimal_number\n",
    "s = \"\"\n",
    "while n >= 2:\n",
    "    remainder = n % 2\n",
    "    \n",
    "    s = str(remainder) + s\n",
    "    \n",
    "    n = n // 2\n",
    "    \n",
    "s = str(n) + s\n",
    "print('decimal: {}, binary: {}'.format(decimal_number, s))\n",
    "    "
   ]
  },
  {
   "cell_type": "code",
   "execution_count": 4,
   "id": "142ef558",
   "metadata": {},
   "outputs": [
    {
     "name": "stdout",
     "output_type": "stream",
     "text": [
      "decimal: 5, binary: 101\n"
     ]
    }
   ],
   "source": [
    "decimal_number = 5\n",
    "\n",
    "n = decimal_number\n",
    "s = \"\"\n",
    "while n >= 2:\n",
    "    remainder = n % 2\n",
    "    \n",
    "    s = str(remainder) + s\n",
    "    \n",
    "    n = n // 2\n",
    "    \n",
    "s = str(n) + s\n",
    "print('decimal: {}, binary: {}'.format(decimal_number, s))\n",
    "    "
   ]
  },
  {
   "cell_type": "markdown",
   "id": "632e9b16",
   "metadata": {},
   "source": [
    "## 上面的範例是測試將 10 進位轉換為 2進位的表示法，分別用 106, 10, 5 進行測試\n",
    "## 以下程式將轉換的步驟寫成 function，就可以重複利用程式碼"
   ]
  },
  {
   "cell_type": "code",
   "execution_count": null,
   "id": "17c833b1",
   "metadata": {},
   "outputs": [],
   "source": [
    "def decimal_2_binary(n):\n",
    "    s = \"\"\n",
    "    while n >= 2:\n",
    "        remainder = n % 2\n",
    "\n",
    "        s = str(remainder) + s\n",
    "\n",
    "        n = n // 2\n",
    "\n",
    "    s = str(n) + s\n",
    "    \n",
    "    return s\n",
    "\n",
    "for i in range(3):\n",
    "    dec = int(input('please enter a decimal integer:'))\n",
    "    result = decimal_2_binary(dec)\n",
    "    print('decimal: {}, binary: {}'.format(dec, result))"
   ]
  },
  {
   "cell_type": "markdown",
   "id": "6fc6dfbf",
   "metadata": {},
   "source": [
    "## 以下程式將二進位 (以字串表示) 轉換為十進位"
   ]
  },
  {
   "cell_type": "code",
   "execution_count": null,
   "id": "cb83fd03",
   "metadata": {},
   "outputs": [],
   "source": [
    "bits = '1101010'\n",
    "\n",
    "num_bits = len(bits)\n",
    "\n",
    "decimal = 0\n",
    "s = bits + ' ='\n",
    "s2 = 'decimal = '\n",
    "\n",
    "for i in range(num_bits):\n",
    "    power = num_bits - i - 1\n",
    "    \n",
    "    bit = bits[i]\n",
    "    \n",
    "    s = s + ' {}x2**{}'.format(bit, power)\n",
    "    \n",
    "    n = int(bit) * 2 ** power\n",
    "    \n",
    "    s2 = s2 + ' {}'.format(n)\n",
    "    \n",
    "    decimal = decimal + n\n",
    "    \n",
    "    if i < num_bits - 1:\n",
    "        s = s + ' +'\n",
    "        s2 = s2 + ' +'\n",
    "        \n",
    "    print('i = {}, s = {}'.format(i,s))\n",
    "    \n",
    "print('result: ', s)\n",
    "print('{} = {}'.format(s2, decimal))"
   ]
  },
  {
   "cell_type": "markdown",
   "id": "56bda0b9",
   "metadata": {},
   "source": [
    "## 八進位(octal)就是逢八進位，可以將二進位的bits每3個一組，以八進位表示\n",
    "\n",
    "## 十六進位(hexadecimal)就是逢十六進位，可以將二進位的bits每4個一組，以十六進位表示\n",
    "\n",
    "<img src=\"numbers.png\">\n",
    "\n",
    "## 以下程式示範 2進位(binary)、8進位(octal)、16進位(hexadecimal) 的表示法"
   ]
  },
  {
   "cell_type": "code",
   "execution_count": null,
   "id": "75094915",
   "metadata": {},
   "outputs": [],
   "source": [
    "bin(215)  # 將數值以 2 進位的字串表示"
   ]
  },
  {
   "cell_type": "code",
   "execution_count": null,
   "id": "52cfb900",
   "metadata": {},
   "outputs": [],
   "source": [
    "oct(215)  # 將數值以 8 進位的字串表示"
   ]
  },
  {
   "cell_type": "code",
   "execution_count": null,
   "id": "01d90330",
   "metadata": {},
   "outputs": [],
   "source": [
    "hex(215)  # 將數值以 16 進位的字串表示"
   ]
  },
  {
   "cell_type": "markdown",
   "id": "398513ac",
   "metadata": {},
   "source": [
    "## 在 Python 中表示2進位、8進位、16進位的方式\n",
    "### 2進位：<font color=\"red\">0b</font>11010111\n",
    "### 8進位：<font color=\"red\">0o</font>327\n",
    "### 16進位：<font color=\"red\">0x</font>d7"
   ]
  },
  {
   "cell_type": "code",
   "execution_count": null,
   "id": "53751b66",
   "metadata": {},
   "outputs": [],
   "source": [
    "print(215)          # decimal\n",
    "print(0b11010111)   # binary\n",
    "print(0o327)        # octal\n",
    "print(0xd7)         # hexadecimal"
   ]
  },
  {
   "cell_type": "markdown",
   "id": "5b50a0ba",
   "metadata": {},
   "source": [
    "## <font color=\"red\">練習1</font>\n",
    "\n",
    "閱讀 **<font color=\"red\">鳥哥私房菜 - 第零章、計算機概論</font>** 關於數字系統的文章，自行找一個10進位的整數，轉換為 binary, octal, hexadecimal，將計算的過程用 PowerPoint 或 Word 呈現然後截圖，或是用手寫的方式把演算過程寫出來，然後拍照，將影像插入筆記本中。"
   ]
  },
  {
   "cell_type": "markdown",
   "id": "8e31f93a",
   "metadata": {},
   "source": [
    "<img src=\"bb3.jpg\" width=\"50%\">"
   ]
  },
  {
   "cell_type": "markdown",
   "id": "c1191e1f",
   "metadata": {},
   "source": [
    "## <font color=\"red\">練習2</font>\n",
    "\n",
    "### 撰寫一個Pyhon程式測試數字系統的轉換\n",
    "1. <font color=\"red\">設計一個function名為 number_system</font>，可以接受一個10進位整數的argument，然後印出這個整數的對應的 2進位、8進位、16進位表示方式 (可參考上面的程式範例)，function沒有傳回值 (return value)。\n",
    "2. 利用 for loop 測試 <font color=\"red\">number_system()</font> 函式，在迴圈裡面接受使用者輸入測試的資料，然後呼叫 <font color=\"red\">number_system()</font> 函式測試其功能，迴圈執行共3次。"
   ]
  },
  {
   "cell_type": "code",
   "execution_count": 3,
   "id": "bc58c1b4",
   "metadata": {},
   "outputs": [
    {
     "name": "stdout",
     "output_type": "stream",
     "text": [
      "please enter a decimal integer:77\n",
      "1001101\n",
      "115\n",
      "413\n"
     ]
    }
   ],
   "source": [
    "def decimal_2_binary(n):\n",
    "    s = \"\"\n",
    "    while n >= 2:\n",
    "        remainder = n % 2\n",
    "\n",
    "        s = str(remainder) + s\n",
    "\n",
    "        n = n // 2\n",
    "\n",
    "    s = str(n) + s\n",
    "    \n",
    "    print(s)\n",
    "    \n",
    "def decimal_8_binary(x):\n",
    "    y = \"\"\n",
    "    while x >= 8:\n",
    "        remainder = x % 8\n",
    "\n",
    "        y = str(remainder) + y\n",
    "\n",
    "        x = x // 8\n",
    "\n",
    "    y = str(x) + y   \n",
    "    \n",
    "    print (y)\n",
    "    \n",
    "    \n",
    "def decimal_16_binary(j):\n",
    "    k = \"\"\n",
    "    while j >= 16:\n",
    "        remainder = j % 16\n",
    "\n",
    "        k = str(remainder) + k\n",
    "\n",
    "        j = j // 16\n",
    "\n",
    "    k = str(j) + k   \n",
    "    \n",
    "    print (k)\n",
    "    \n",
    "    \n",
    "dec = int(input('please enter a decimal integer:'))\n",
    "\n",
    "\n",
    "result1 = decimal_2_binary(dec)\n",
    "    \n",
    "result2 = decimal_8_binary(dec)\n",
    "\n",
    "result3 = decimal_16_binary(dec)\n",
    "\n",
    "    \n",
    "\n",
    "\n"
   ]
  },
  {
   "cell_type": "code",
   "execution_count": null,
   "id": "23df1624",
   "metadata": {},
   "outputs": [],
   "source": [
    "def decimal_2_binary(n):\n",
    "    print(bin(n))\n",
    "    \n",
    "def decimal_8_binary(x):\n",
    "    print(oct(x))\n",
    "    \n",
    "def decimal_16_binary(j):\n",
    "    print(hex(j))\n",
    "    \n",
    "for i in range(3):\n",
    "    dec = int(input('please enter a decimal integer:'))\n",
    "    result1 = decimal_2_binary(dec)\n",
    "        \n",
    "    result2 = decimal_8_binary(dec)\n",
    "    \n",
    "    result3 = decimal_16_binary(dec)\n",
    "    \n",
    "    \n"
   ]
  },
  {
   "cell_type": "code",
   "execution_count": null,
   "id": "33a29ce7",
   "metadata": {},
   "outputs": [],
   "source": []
  }
 ],
 "metadata": {
  "kernelspec": {
   "display_name": "Python 3 (ipykernel)",
   "language": "python",
   "name": "python3"
  },
  "language_info": {
   "codemirror_mode": {
    "name": "ipython",
    "version": 3
   },
   "file_extension": ".py",
   "mimetype": "text/x-python",
   "name": "python",
   "nbconvert_exporter": "python",
   "pygments_lexer": "ipython3",
   "version": "3.9.7"
  }
 },
 "nbformat": 4,
 "nbformat_minor": 5
}
