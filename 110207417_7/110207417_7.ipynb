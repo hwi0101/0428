{
 "cells": [
  {
   "cell_type": "markdown",
   "metadata": {},
   "source": [
    "# Chapter 6 \n",
    "# Fruitful functions\n",
    "\n",
    "Many of the Python functions we have used, such as the math\n",
    "functions, produce return values.  But the functions we've written\n",
    "are all void: they have an effect, like printing a value\n",
    "or moving a turtle, but they don't have a return value.  In\n",
    "this chapter you will learn to write fruitful functions."
   ]
  },
  {
   "cell_type": "markdown",
   "metadata": {},
   "source": [
    "## 6.1 Return values\n",
    "\n",
    "Calling the function generates a return\n",
    "value, which we usually assign to a variable or use as part of an\n",
    "expression.\n",
    "\n",
    "```\n",
    "e = math.exp(1.0)\n",
    "height = radius * math.sin(radians)\n",
    "```\n",
    "\n",
    "The functions we have written so far are void.  Speaking casually,\n",
    "they have no return value; more precisely,\n",
    "their return value is `None`.\n",
    "\n",
    "In this chapter, we are (finally) going to write fruitful functions.\n",
    "The first example is `area`, which returns the area of a circle\n",
    "with the given radius:\n",
    "\n",
    "```\n",
    "def area(radius):\n",
    "    a = math.pi * radius**2\n",
    "    return a\n",
    "```\n",
    "\n",
    "We have seen the `return` statement before, but in a fruitful\n",
    "function the `return` statement includes\n",
    "an expression.  \n",
    "\n",
    "<font color=\"red\">This statement means: <b>\"Return immediately from\n",
    "    this function and use the following expression as a return value.\"</b></font>\n",
    "The expression can be arbitrarily complicated, so we could\n",
    "have written this function more concisely:\n",
    "\n",
    "```\n",
    "def area(radius):\n",
    "    return math.pi * radius**2\n",
    "```\n",
    "\n",
    "On the other hand, **<font color=\"red\">temporary variables (暫時變數)</font>** like `a` can make\n",
    "debugging easier.\n",
    "\n",
    "Sometimes it is useful to have multiple return statements, one in each\n",
    "branch of a conditional:\n",
    "\n",
    "```\n",
    "def absolute_value(x):\n",
    "    if x < 0:\n",
    "        return -x\n",
    "    else:\n",
    "        return x\n",
    "```\n",
    "\n",
    "<font color=\"red\">Since these `return` statements are in an alternative conditional,\n",
    "only one runs.</font>\n",
    "\n",
    "As soon as a return statement runs, the function\n",
    "terminates without executing any subsequent statements.\n",
    "Code that appears after a <code>return</code> statement, or any other place\n",
    "the flow of execution can never reach, is called **<font color=\"red\">dead code</font>**.\n",
    "\n",
    "In a fruitful function, it is a good idea to ensure\n",
    "that every possible path through the program hits a\n",
    "<code>return</code> statement.  For example:\n",
    "\n",
    "```\n",
    "def absolute_value(x):\n",
    "    if x < 0:\n",
    "        return -x\n",
    "    if x > 0:\n",
    "        return x\n",
    "```\n",
    "\n",
    "This function is incorrect because if `x` happens to be 0,\n",
    "neither condition is true, and the function ends without hitting a\n",
    "<code>return</code> statement.  If the flow of execution gets to the end\n",
    "of a function, the return value is <code><font color=\"red\"><b>None</b></font></code>, which is not\n",
    "the absolute value of 0.\n",
    "\n",
    "\n",
    "```\n",
    ">>> print(absolute_value(0))\n",
    "None\n",
    "```\n",
    "\n",
    "By the way, Python provides a built-in function called \n",
    "`abs` that computes absolute values.\n",
    "\n",
    "As an exercise, write a `compare` function that\n",
    "takes two values, `x` and `y`, and returns `1` if `x > y`,\n",
    "`0` if `x == y`, and `-1` if `x < y`."
   ]
  },
  {
   "cell_type": "markdown",
   "metadata": {},
   "source": [
    "### <font color=\"red\">以下的範例中，函式 area() 有定義一個暫時變數 a，與 `__main__` 中的變數 a 為兩個不同的物件；return 會立刻從 function 返回，return 後面的運算式 (expression) 為回傳值(return value)，此例中的 a 為 return value</font>"
   ]
  },
  {
   "cell_type": "code",
   "execution_count": 2,
   "metadata": {},
   "outputs": [
    {
     "name": "stdout",
     "output_type": "stream",
     "text": [
      "3.141592653589793 12.566370614359172\n"
     ]
    }
   ],
   "source": [
    "import math\n",
    "\n",
    "def area(radius):\n",
    "    a = math.pi * radius**2\n",
    "    return a\n",
    "\n",
    "a = area(1)\n",
    "b = area(2)\n",
    "\n",
    "print(a, b)"
   ]
  },
  {
   "cell_type": "markdown",
   "metadata": {},
   "source": [
    "### <font color=\"red\">如以下的範例，return 後面的運算式 (expression) 可以很複雜，因此不須定義暫時變數；另一方面，使用暫時變數可以列印運算式的結果，有助於除錯。</font>"
   ]
  },
  {
   "cell_type": "code",
   "execution_count": 1,
   "metadata": {},
   "outputs": [
    {
     "name": "stdout",
     "output_type": "stream",
     "text": [
      "3.141592653589793 12.566370614359172\n"
     ]
    }
   ],
   "source": [
    "import math\n",
    "\n",
    "def area(radius):\n",
    "    return math.pi * radius**2\n",
    "\n",
    "a = area(1)\n",
    "b = area(2)\n",
    "\n",
    "print(a, b)"
   ]
  },
  {
   "cell_type": "markdown",
   "metadata": {},
   "source": [
    "### <font color=\"red\">以下的範例中有2個 return 在二擇一的路徑，只有一個會回傳。</font>"
   ]
  },
  {
   "cell_type": "code",
   "execution_count": 1,
   "metadata": {},
   "outputs": [
    {
     "name": "stdout",
     "output_type": "stream",
     "text": [
      "input parameter x =  -1\n",
      "1\n",
      "input parameter x =  5\n",
      "5\n"
     ]
    }
   ],
   "source": [
    "def absolute_value(x):\n",
    "    \n",
    "    print('input parameter x = ', x)\n",
    "    \n",
    "    if x < 0:\n",
    "        return -x\n",
    "    else:\n",
    "        return x\n",
    "    \n",
    "x = -1\n",
    "y = 5\n",
    "print(absolute_value(x))\n",
    "print(absolute_value(y))"
   ]
  },
  {
   "cell_type": "markdown",
   "metadata": {},
   "source": [
    "### <font color=\"red\">在fruitful function中須確保每一個可能的路徑都會回傳。以下的範例有錯誤，如果參數 $x$ 為0沒有回傳值。</font>"
   ]
  },
  {
   "cell_type": "code",
   "execution_count": 3,
   "metadata": {},
   "outputs": [
    {
     "name": "stdout",
     "output_type": "stream",
     "text": [
      "5\n",
      "<class 'int'>\n",
      "5.0\n",
      "<class 'float'>\n",
      "None\n",
      "<class 'NoneType'>\n"
     ]
    }
   ],
   "source": [
    "def absolute_value2(x):\n",
    "    if x < 0:\n",
    "        return -x\n",
    "    if x > 0:\n",
    "        return x\n",
    "\n",
    "x = 5\n",
    "y = 5.0\n",
    "z = 0\n",
    "print(absolute_value2(x))\n",
    "print(type(absolute_value2(x)))\n",
    "print(absolute_value2(y))\n",
    "print(type(absolute_value2(y)))\n",
    "print(absolute_value2(z))\n",
    "print(type(absolute_value2(z)))"
   ]
  },
  {
   "cell_type": "markdown",
   "metadata": {},
   "source": [
    "## 6.2 Incremental development\n",
    "\n",
    "As you write larger functions, you might find yourself\n",
    "spending more time debugging.\n",
    "\n",
    "To deal with increasingly complex programs,\n",
    "you might want to try a process called\n",
    "**incremental development (漸進式發展)**.  The goal of incremental development\n",
    "is to avoid long debugging sessions by adding and testing only\n",
    "a small amount of code at a time.\n",
    "\n",
    "As an example, suppose you want to find the distance between two\n",
    "points, given by the coordinates $(x_1, y_1)$ and $(x_2, y_2)$.\n",
    "By the Pythagorean theorem, the distance is:\n",
    "\n",
    "$distance = \\sqrt{(x_2 - x_1)^2 + (y_2 - y_1)^2}$\n",
    "\n",
    "The first step is to consider what a `distance` function should\n",
    "look like in Python.  In other words, <font color=\"red\">what are the inputs (parameters)\n",
    "and what is the output (return value)</font>?\n",
    "\n",
    "In this case, the inputs are two points, which you can represent\n",
    "using four numbers.  The return value is the distance represented by\n",
    "a floating-point value.\n",
    "\n",
    "Immediately you can write an outline of the function:\n",
    "\n",
    "```\n",
    "def distance(x1, y1, x2, y2):\n",
    "    return 0.0\n",
    "```\n",
    "\n",
    "Obviously, this version doesn't compute distances; it always returns\n",
    "zero.  But it is syntactically correct, and it runs, which means that\n",
    "you can test it before you make it more complicated.\n",
    "\n",
    "To test the new function, call it with sample arguments:\n",
    "\n",
    "```\n",
    ">>> distance(1, 2, 4, 6)\n",
    "0.0\n",
    "```\n",
    "\n",
    "I chose these values so that the horizontal distance is 3 and the\n",
    "vertical distance is 4; that way, the result is 5, the hypotenuse (直角三角形之斜邊)\n",
    "of a 3-4-5 right triangle. When testing a function, it is\n",
    "useful to know the right answer.\n",
    "\n",
    "At this point we have confirmed that the function is syntactically\n",
    "correct, and we can start adding code to the body.\n",
    "A reasonable next step is to find the differences\n",
    "$x_2 - x_1$ and $y_2 - y_1$.  The next version stores those values in\n",
    "temporary variables and prints them.\n",
    "\n",
    "```\n",
    "def distance(x1, y1, x2, y2):\n",
    "    dx = x2 - x1\n",
    "    dy = y2 - y1\n",
    "    print('dx is', dx)\n",
    "    print('dy is', dy)\n",
    "    return 0.0\n",
    "```\n",
    "\n",
    "If the function is working, it should display `\"dx is 3\"` and \n",
    "`\"dy is 4\"`.  If so, we know that the function is getting the right\n",
    "arguments and performing the first computation correctly.  If not,\n",
    "there are only a few lines to check.\n",
    "\n",
    "Next we compute the sum of squares of `dx` and `dy`:\n",
    "\n",
    "```\n",
    "def distance(x1, y1, x2, y2):\n",
    "    dx = x2 - x1\n",
    "    dy = y2 - y1\n",
    "    dsquared = dx**2 + dy**2\n",
    "    print('dsquared is: ', dsquared)\n",
    "    return 0.0\n",
    "```\n",
    "\n",
    "Again, you would run the program at this stage and check the output\n",
    "(which should be 25).\n",
    "Finally, you can use `math.sqrt` to compute and return the result:\n",
    "\n",
    "```\n",
    "def distance(x1, y1, x2, y2):\n",
    "    dx = x2 - x1\n",
    "    dy = y2 - y1\n",
    "    dsquared = dx**2 + dy**2\n",
    "    result = math.sqrt(dsquared)\n",
    "    return result\n",
    "```\n",
    "\n",
    "If that works correctly, you are done.  Otherwise, you might\n",
    "want to print the value of `result` before the return\n",
    "statement.\n",
    "\n",
    "The final version of the function doesn't display anything when it\n",
    "runs; it only returns a value.  The `print` statements we wrote\n",
    "are useful for debugging, but once you get the function working, you\n",
    "should remove them.  Code like that is called **scaffolding** (scaffold, 鷹架、臨時舞台)\n",
    "because it is helpful for building the program but is not part of the\n",
    "final product.\n",
    "\n",
    "When you start out, you should add only a line or two of code at a\n",
    "time.  As you gain more experience, you might find yourself writing\n",
    "and debugging bigger chunks.  Either way, incremental development\n",
    "can save you a lot of debugging time.\n",
    "\n",
    "The key aspects of the process are:\n",
    "\n",
    "1. Start with a working program and make small incremental changes. \n",
    "At any point, if there is an error, you should have a good idea\n",
    "where it is.\n",
    "\n",
    "2. Use variables to hold intermediate values so you can\n",
    "display and check them.\n",
    "\n",
    "3. Once the program is working, you might want to remove some of\n",
    "the scaffolding or consolidate multiple statements into compound\n",
    "expressions, but only if it does not make the program difficult to\n",
    "read.\n",
    "\n",
    "As an exercise, use incremental development to write a function\n",
    "called `hypotenuse` that returns the length of the hypotenuse of a\n",
    "right triangle given the lengths of the other two legs as arguments.\n",
    "Record each stage of the development process as you go.\n"
   ]
  },
  {
   "cell_type": "code",
   "execution_count": 4,
   "metadata": {},
   "outputs": [
    {
     "data": {
      "text/plain": [
       "0.0"
      ]
     },
     "execution_count": 4,
     "metadata": {},
     "output_type": "execute_result"
    }
   ],
   "source": [
    "def distance(x1, y1, x2, y2):\n",
    "    return 0.0\n",
    "\n",
    "x1 = 0\n",
    "y1 = 0\n",
    "x2 = 4\n",
    "y2 = 3\n",
    "distance(x1,y1,x2,y2)"
   ]
  },
  {
   "cell_type": "code",
   "execution_count": 4,
   "metadata": {},
   "outputs": [
    {
     "ename": "TypeError",
     "evalue": "distance() missing 1 required positional argument: 'y2'",
     "output_type": "error",
     "traceback": [
      "\u001b[1;31m---------------------------------------------------------------------------\u001b[0m",
      "\u001b[1;31mTypeError\u001b[0m                                 Traceback (most recent call last)",
      "\u001b[1;32m<ipython-input-4-644df77ee182>\u001b[0m in \u001b[0;36m<module>\u001b[1;34m\u001b[0m\n\u001b[0;32m      6\u001b[0m \u001b[0mx2\u001b[0m \u001b[1;33m=\u001b[0m \u001b[1;36m4\u001b[0m\u001b[1;33m\u001b[0m\u001b[1;33m\u001b[0m\u001b[0m\n\u001b[0;32m      7\u001b[0m \u001b[0my2\u001b[0m \u001b[1;33m=\u001b[0m \u001b[1;36m3\u001b[0m\u001b[1;33m\u001b[0m\u001b[1;33m\u001b[0m\u001b[0m\n\u001b[1;32m----> 8\u001b[1;33m \u001b[0mdistance\u001b[0m\u001b[1;33m(\u001b[0m\u001b[0mx1\u001b[0m\u001b[1;33m,\u001b[0m\u001b[0my1\u001b[0m\u001b[1;33m,\u001b[0m\u001b[0mx2\u001b[0m\u001b[1;33m)\u001b[0m\u001b[1;33m\u001b[0m\u001b[1;33m\u001b[0m\u001b[0m\n\u001b[0m",
      "\u001b[1;31mTypeError\u001b[0m: distance() missing 1 required positional argument: 'y2'"
     ]
    }
   ],
   "source": [
    "def distance(x1, y1, x2, y2):\n",
    "    return 0.0\n",
    "\n",
    "x1 = 0\n",
    "y1 = 0\n",
    "x2 = 4\n",
    "y2 = 3\n",
    "distance(x1,y1,x2)"
   ]
  },
  {
   "cell_type": "code",
   "execution_count": 5,
   "metadata": {},
   "outputs": [
    {
     "name": "stdout",
     "output_type": "stream",
     "text": [
      "dx is 4\n",
      "dy is 3\n"
     ]
    },
    {
     "data": {
      "text/plain": [
       "0.0"
      ]
     },
     "execution_count": 5,
     "metadata": {},
     "output_type": "execute_result"
    }
   ],
   "source": [
    "def distance(x1, y1, x2, y2):\n",
    "    dx = x2 - x1\n",
    "    dy = y2 - y1\n",
    "    print('dx is', dx)\n",
    "    print('dy is', dy)\n",
    "    return 0.0\n",
    "\n",
    "x1 = 0\n",
    "y1 = 0\n",
    "x2 = 4\n",
    "y2 = 3\n",
    "distance(x1,y1,x2,y2)"
   ]
  },
  {
   "cell_type": "code",
   "execution_count": 6,
   "metadata": {},
   "outputs": [
    {
     "data": {
      "text/plain": [
       "5.0"
      ]
     },
     "execution_count": 6,
     "metadata": {},
     "output_type": "execute_result"
    }
   ],
   "source": [
    "import math\n",
    "\n",
    "def distance(x1, y1, x2, y2):\n",
    "    dx = x2 - x1\n",
    "    dy = y2 - y1\n",
    "    dsquared = dx**2 + dy**2\n",
    "    result = math.sqrt(dsquared)\n",
    "    return result\n",
    "\n",
    "x1 = 0\n",
    "y1 = 0\n",
    "x2 = 4\n",
    "y2 = 3\n",
    "distance(x1,y1,x2,y2)"
   ]
  },
  {
   "cell_type": "code",
   "execution_count": 4,
   "metadata": {},
   "outputs": [
    {
     "data": {
      "text/plain": [
       "5.0"
      ]
     },
     "execution_count": 4,
     "metadata": {},
     "output_type": "execute_result"
    }
   ],
   "source": [
    "import math\n",
    "\n",
    "def distance(x1, y1, x2, y2):\n",
    "    dx = x2 - x1\n",
    "    dy = y2 - y1\n",
    "    dsquared = dx**2 + dy**2\n",
    "    result = math.sqrt(dsquared)\n",
    "    return result\n",
    "\n",
    "x1 = 0\n",
    "y1 = 0\n",
    "x2 = 4\n",
    "y2 = 3\n",
    "distance(x1,y1,x2,y2)"
   ]
  },
  {
   "cell_type": "code",
   "execution_count": 6,
   "metadata": {},
   "outputs": [
    {
     "name": "stdout",
     "output_type": "stream",
     "text": [
      "the distance =  5.0\n"
     ]
    }
   ],
   "source": [
    "def distance(x1, y1, x2, y2):\n",
    "    dx = x2 - x1\n",
    "    dy = y2 - y1\n",
    "    dsquared = dx**2 + dy**2\n",
    "    result = dsquared ** 0.5\n",
    "    return result\n",
    "\n",
    "x1 = 0\n",
    "y1 = 0\n",
    "x2 = 4\n",
    "y2 = 3\n",
    "d = distance(x1,y1,x2,y2)\n",
    "print(\"the distance = \", d)"
   ]
  },
  {
   "cell_type": "code",
   "execution_count": 5,
   "metadata": {},
   "outputs": [
    {
     "name": "stdout",
     "output_type": "stream",
     "text": [
      "the distance =  5.0\n",
      "d =  None\n"
     ]
    }
   ],
   "source": [
    "def distance(x1, y1, x2, y2):\n",
    "    dx = x2 - x1\n",
    "    dy = y2 - y1\n",
    "    dsquared = dx**2 + dy**2\n",
    "    result = dsquared ** 0.5\n",
    "    print(\"the distance = \", result)\n",
    "\n",
    "x1 = 0\n",
    "y1 = 0\n",
    "x2 = 4\n",
    "y2 = 3\n",
    "d = distance(x1,y1,x2,y2)\n",
    "print(\"d = \", d)"
   ]
  },
  {
   "cell_type": "markdown",
   "metadata": {},
   "source": [
    "## <font color=\"red\">練習1</font>\n",
    "\n",
    "As an exercise, use incremental development to write a function called hypotenuse that returns the length of the hypotenuse of a right triangle given the lengths of the other two legs as arguments. Record each stage of the development process as you go.\n"
   ]
  },
  {
   "cell_type": "code",
   "execution_count": 7,
   "metadata": {},
   "outputs": [
    {
     "name": "stdout",
     "output_type": "stream",
     "text": [
      "請輸入邊長一:3\n",
      "請輸入邊長二:4\n",
      "斜邊為: 5.0\n"
     ]
    }
   ],
   "source": [
    "import math\n",
    "\n",
    "def hypotenuse(a,b):\n",
    "    result = math.sqrt(a**2+b**2)\n",
    "    return result\n",
    "    \n",
    "    \n",
    "a1 = int(input('請輸入邊長一:'))   \n",
    "b1 = int(input('請輸入邊長二:'))\n",
    "\n",
    "h=hypotenuse(a1,b1)\n",
    "\n",
    "print(\"斜邊為:\",h)"
   ]
  },
  {
   "cell_type": "markdown",
   "metadata": {},
   "source": [
    "## 6.3 Composition\n",
    "\n",
    "As you should expect by now, you can call one function from within\n",
    "another.  As an example, we'll write a function that takes two points,\n",
    "the center of the circle and a point on the perimeter, and computes\n",
    "the area of the circle.\n",
    "\n",
    "Assume that the center point is stored in the variables `xc` and\n",
    "`yc`, and the perimeter point is in `xp` and `yp`. The\n",
    "first step is to find the radius of the circle, which is the distance\n",
    "between the two points.  We just wrote a function, `distance`, that does that:\n",
    "\n",
    "```\n",
    "radius = distance(xc, yc, xp, yp)\n",
    "```\n",
    "\n",
    "The next step is to find the area of a circle with that radius;\n",
    "we just wrote that, too:\n",
    "\n",
    "```\n",
    "result = area(radius)\n",
    "```\n",
    "\n",
    "Encapsulating these steps in a function, we get:\n",
    "\n",
    "```\n",
    "def circle_area(xc, yc, xp, yp):\n",
    "    radius = distance(xc, yc, xp, yp)\n",
    "    result = area(radius)\n",
    "    return result\n",
    "```\n",
    "\n",
    "The temporary variables `radius`} and `result` are useful for\n",
    "development and debugging, but once the program is working, we can\n",
    "make it more concise by composing the function calls:\n",
    "\n",
    "```\n",
    "def circle_area(xc, yc, xp, yp):\n",
    "    return area(distance(xc, yc, xp, yp))\n",
    "```"
   ]
  },
  {
   "cell_type": "code",
   "execution_count": 10,
   "metadata": {},
   "outputs": [
    {
     "name": "stdout",
     "output_type": "stream",
     "text": [
      "area =  78.53981633974483\n"
     ]
    }
   ],
   "source": [
    "import math\n",
    "\n",
    "def distance(x1, y1, x2, y2):\n",
    "    dx = x2 - x1\n",
    "    dy = y2 - y1\n",
    "    dsquared = dx**2 + dy**2\n",
    "    result = dsquared ** 0.5\n",
    "    return result\n",
    "\n",
    "def area(radius):\n",
    "    return math.pi * radius**2\n",
    "\n",
    "def circle_area(xc, yc, xp, yp):\n",
    "    radius = distance(xc, yc, xp, yp)\n",
    "    result = area(radius)\n",
    "    return result\n",
    "\n",
    "xc = 0\n",
    "yc = 0\n",
    "xp = 4\n",
    "yp = 3\n",
    "\n",
    "result = circle_area(xc, yc, xp, yp)\n",
    "\n",
    "print('area = ', result)"
   ]
  },
  {
   "cell_type": "code",
   "execution_count": 12,
   "metadata": {},
   "outputs": [
    {
     "name": "stdout",
     "output_type": "stream",
     "text": [
      "area =  78.53981633974483\n"
     ]
    }
   ],
   "source": [
    "import math\n",
    "\n",
    "def distance(x1, y1, x2, y2):\n",
    "    dx = x2 - x1\n",
    "    dy = y2 - y1\n",
    "    dsquared = dx**2 + dy**2\n",
    "    result = dsquared ** 0.5\n",
    "    return result\n",
    "\n",
    "def area(radius):\n",
    "    return math.pi * radius**2\n",
    "\n",
    "def circle_area(xc, yc, xp, yp):\n",
    "    return area(distance(xc, yc, xp, yp))\n",
    "\n",
    "xc = 0\n",
    "yc = 0\n",
    "xp = 4\n",
    "yp = 3\n",
    "\n",
    "result = circle_area(xc, yc, xp, yp)\n",
    "\n",
    "print('area = ', result)"
   ]
  },
  {
   "cell_type": "markdown",
   "metadata": {},
   "source": [
    "## 6.4 Boolean functions\n",
    "\n",
    "Functions can return booleans, which is often convenient for hiding\n",
    "complicated tests inside functions. \n",
    "For example:\n",
    "\n",
    "```\n",
    "def is_divisible(x, y):\n",
    "    if x % y == 0:\n",
    "        return True\n",
    "    else:\n",
    "        return False\n",
    "```\n",
    "\n",
    "It is common to give boolean functions names that sound like yes/no\n",
    "questions; `\"is_divisible\"` returns either `True` or `False`\n",
    "to indicate whether `x` is divisible by `y`.\n",
    "\n",
    "Here is an example:\n",
    "\n",
    "```\n",
    ">>> is_divisible(6, 4)\n",
    "False\n",
    ">>> is_divisible(6, 3)\n",
    "True\n",
    "```\n",
    "\n",
    "The result of the `==` operator is a boolean, so we can write the\n",
    "function more concisely by returning it directly:\n",
    "\n",
    "```\n",
    "def is_divisible(x, y):\n",
    "    return x % y == 0\n",
    "```\n",
    "\n",
    "Boolean functions are often used in conditional statements:\n",
    "\n",
    "```\n",
    "if is_divisible(x, y):\n",
    "    print('x is divisible by y')\n",
    "```\n",
    "\n",
    "It might be tempting to write something like:\n",
    "\n",
    "```\n",
    "if is_divisible(x, y) == True:\n",
    "    print('x is divisible by y')\n",
    "```\n",
    "\n",
    "But the extra comparison is unnecessary.\n",
    "\n",
    "As an exercise, write a function `\"is_between(x, y, z)\"` that\n",
    "returns `True` if $x \\le y \\le z$ or `False` otherwise.\n"
   ]
  },
  {
   "cell_type": "code",
   "execution_count": 13,
   "metadata": {},
   "outputs": [
    {
     "name": "stdout",
     "output_type": "stream",
     "text": [
      "False\n",
      "True\n"
     ]
    }
   ],
   "source": [
    "def is_divisible(x, y):\n",
    "    if x % y == 0:\n",
    "        return True\n",
    "    else:\n",
    "        return False\n",
    "    \n",
    "a = is_divisible(6, 4)\n",
    "b = is_divisible(6, 3)\n",
    "print(a)\n",
    "print(b)"
   ]
  },
  {
   "cell_type": "code",
   "execution_count": 14,
   "metadata": {},
   "outputs": [
    {
     "name": "stdout",
     "output_type": "stream",
     "text": [
      "False\n",
      "True\n",
      "x is divisible by y\n"
     ]
    }
   ],
   "source": [
    "def is_divisible(x, y):\n",
    "    return x % y == 0\n",
    "    \n",
    "a = is_divisible(6, 4)\n",
    "b = is_divisible(6, 3)\n",
    "print(a)\n",
    "print(b)\n",
    "\n",
    "x = 6\n",
    "y = 2\n",
    "\n",
    "if is_divisible(x, y):\n",
    "    print('x is divisible by y')"
   ]
  },
  {
   "cell_type": "code",
   "execution_count": 7,
   "metadata": {},
   "outputs": [
    {
     "name": "stdout",
     "output_type": "stream",
     "text": [
      "False\n",
      "True\n",
      "x is not divisible by y\n"
     ]
    }
   ],
   "source": [
    "def is_divisible(x, y):\n",
    "    return x % y == 0\n",
    "    \n",
    "a = is_divisible(6, 4)\n",
    "b = is_divisible(6, 3)\n",
    "print(a)\n",
    "print(b)\n",
    "\n",
    "x = 6\n",
    "y = 4\n",
    "\n",
    "if is_divisible(x, y):\n",
    "    print('x is divisible by y')\n",
    "else:\n",
    "    print('x is not divisible by y')"
   ]
  },
  {
   "cell_type": "markdown",
   "metadata": {},
   "source": [
    "## 6.5 More recursion\n",
    "\n",
    "<font color=\"red\">We have only covered a small subset of Python, but you might\n",
    "be interested to know that this subset is a ***complete***\n",
    "programming language, which means that anything that can be\n",
    "computed can be expressed in this language.  Any program ever written\n",
    "could be rewritten using only the language features you have learned\n",
    "so far (actually, you would need a few commands to control devices\n",
    "like the mouse, disks, etc., but that's all).</font>\n",
    "\n",
    "Proving that claim is a nontrivial exercise first accomplished by Alan\n",
    "Turing, one of the first computer scientists (some would argue that he\n",
    "was a mathematician, but a lot of early computer scientists started as\n",
    "mathematicians).  Accordingly, it is known as the Turing Thesis.\n",
    "For a more complete (and accurate) discussion of the Turing Thesis,\n",
    "I recommend Michael Sipser's book ***Introduction to the\n",
    "Theory of Computation***.\n",
    "\n",
    "To give you an idea of what you can do with the tools you have learned\n",
    "so far, we'll evaluate a few recursively defined mathematical\n",
    "functions.  A recursive definition is similar to a circular\n",
    "definition, in the sense that the definition contains a reference to\n",
    "the thing being defined.  A truly circular definition is not very\n",
    "useful:\n",
    "\n",
    "**vorpal**: An adjective used to describe something that is vorpal.\n",
    "\n",
    "If you saw that definition in the dictionary, you might be annoyed. On\n",
    "the other hand, if you looked up the definition of the factorial\n",
    "function, denoted with the symbol $!$, you might get something like\n",
    "this:\n",
    "\n",
    "$$\n",
    "\\begin{align}\n",
    "&0! = 1 \\\\\n",
    "&n! = n (n-1)! \n",
    "\\end{align}\n",
    "$$\n",
    "\n",
    "This definition says that the factorial of 0 is 1, and the factorial\n",
    "of any other value, $n$, is $n$ multiplied by the factorial of $n-1$.\n",
    "\n",
    "So $3!$ is 3 times $2!$, which is 2 times $1!$, which is 1 times\n",
    "$0!$. Putting it all together, $3!$ equals 3 times 2 times 1 times 1,\n",
    "which is 6.\n",
    "\n",
    "If you can write a recursive definition of something, you can\n",
    "write a Python program to evaluate it. The first step is to decide\n",
    "what the parameters should be.  In this case it should be clear\n",
    "that `factorial` takes an integer:\n",
    "\n",
    "```\n",
    "def factorial(n):\n",
    "```\n",
    "\n",
    "If the argument happens to be 0, all we have to do is return 1:\n",
    "\n",
    "```\n",
    "def factorial(n):\n",
    "    if n == 0:\n",
    "        return 1\n",
    "```\n",
    "\n",
    "Otherwise, and this is the interesting part, we have to make a\n",
    "recursive call to find the factorial of $n-1$ and then multiply it by\n",
    "$n$:\n",
    "\n",
    "```\n",
    "def factorial(n):\n",
    "    if n == 0:\n",
    "        return 1\n",
    "    else:\n",
    "        recurse = factorial(n-1)\n",
    "        result = n * recurse\n",
    "        return result\n",
    "```\n",
    "\n",
    "The flow of execution for this program is similar to the flow of `countdown` in Section 5.8.  If we call `factorial`\n",
    "with the value 3:\n",
    "\n",
    "Since 3 is not 0, we take the second branch and calculate the factorial\n",
    "of `n-1`...\n",
    "\n",
    "> Since 2 is not 0, we take the second branch and calculate the factorial of\n",
    "`n-1`...\n",
    "\n",
    ">> Since 1 is not 0, we take the second branch and calculate the factorial\n",
    "  of `n-1`...\n",
    "\n",
    ">>> Since 0 equals 0, we take the first branch and return 1\n",
    "    without making any more recursive calls.\n",
    "\n",
    ">> The return value, 1, is multiplied by $n$, which is 1, and the\n",
    "  result is returned.\n",
    "\n",
    "> The return value, 1, is multiplied by $n$, which is 2, and the\n",
    "result is returned.\n",
    "\n",
    "The return value (2) is multiplied by $n$, which is 3, and the result, 6,\n",
    "becomes the return value of the function call that started the whole\n",
    "process.\n",
    "\n",
    "Figure 6.1 shows what the stack diagram looks like for\n",
    "this sequence of function calls.\n",
    "\n",
    "The return values are shown being passed back up the stack.  In each\n",
    "frame, the return value is the value of `result`, which is the\n",
    "product of `n` and `recurse`.\n",
    "\n",
    "In the last frame, the local\n",
    "variables `recurse`and `result` do not exist, because\n",
    "the branch that creates them does not run.\n",
    "\n",
    "<img src=\"fig6_01.png\">"
   ]
  },
  {
   "cell_type": "code",
   "execution_count": 16,
   "metadata": {},
   "outputs": [
    {
     "name": "stdout",
     "output_type": "stream",
     "text": [
      "None\n"
     ]
    }
   ],
   "source": [
    "def factorial(n):\n",
    "    if n == 0:\n",
    "        return 1\n",
    "\n",
    "n = 5\n",
    "ret = factorial(n)\n",
    "print(ret)"
   ]
  },
  {
   "cell_type": "code",
   "execution_count": 8,
   "metadata": {},
   "outputs": [
    {
     "name": "stdout",
     "output_type": "stream",
     "text": [
      "2432902008176640000\n"
     ]
    }
   ],
   "source": [
    "def factorial(n):\n",
    "    if n == 0:\n",
    "        return 1\n",
    "    else:\n",
    "        recurse = factorial(n-1)\n",
    "        result = n * recurse\n",
    "        return result\n",
    "    \n",
    "n = 20\n",
    "ret = factorial(n)\n",
    "print(ret)"
   ]
  },
  {
   "cell_type": "code",
   "execution_count": 1,
   "metadata": {},
   "outputs": [
    {
     "name": "stdout",
     "output_type": "stream",
     "text": [
      "factorial(0) = 1\n",
      "factorial(1) = 1\n",
      "factorial(2) = 2\n",
      "factorial(3) = 6\n",
      "factorial(4) = 24\n",
      "factorial(5) = 120\n",
      "factorial(6) = 720\n",
      "factorial(7) = 5040\n",
      "factorial(8) = 40320\n",
      "factorial(9) = 362880\n",
      "factorial(10) = 3628800\n",
      "factorial(11) = 39916800\n",
      "factorial(12) = 479001600\n",
      "factorial(13) = 6227020800\n",
      "factorial(14) = 87178291200\n",
      "factorial(15) = 1307674368000\n",
      "factorial(16) = 20922789888000\n",
      "factorial(17) = 355687428096000\n",
      "factorial(18) = 6402373705728000\n",
      "factorial(19) = 121645100408832000\n",
      "factorial(20) = 2432902008176640000\n"
     ]
    }
   ],
   "source": [
    "def factorial(n):\n",
    "    if n == 0:\n",
    "        return 1\n",
    "    else:\n",
    "        recurse = factorial(n-1)\n",
    "        result = n * recurse\n",
    "        return result\n",
    "    \n",
    "for i in range(21):\n",
    "    ret = factorial(i)\n",
    "    print('factorial({}) = {}'.format(i, ret))"
   ]
  },
  {
   "cell_type": "markdown",
   "metadata": {},
   "source": [
    "## 6.6 Leap of faith\n",
    "\n",
    "Following the flow of execution is one way to read programs, but\n",
    "it can quickly become overwhelming.  An\n",
    "alternative is what I call the <code>\"leap of faith\" (信仰之跳躍)</code>.  When you come to a\n",
    "function call, instead of following the flow of execution, you `assume` that the function works correctly and returns the right\n",
    "result.\n",
    "\n",
    "In fact, you are already practicing this leap of faith when you use\n",
    "built-in functions.  When you call `math.cos` or `math.exp`,\n",
    "you don't examine the bodies of those functions.  You just\n",
    "assume that they work because the people who wrote the built-in\n",
    "functions were good programmers.\n",
    "\n",
    "The same is true when you call one of your own functions.  For\n",
    "example, in Section 6.4, we wrote a function called \n",
    "<code>\"is_divisible\"</code> that determines whether one number is divisible by\n",
    "another.  Once we have convinced ourselves that this function is\n",
    "correct---by examining the code and testing---we can use the function\n",
    "without looking at the body again.\n",
    "\n",
    "The same is true of recursive programs.  When you get to the recursive\n",
    "call, instead of following the flow of execution, you should assume\n",
    "that the recursive call works (returns the correct result) and then ask\n",
    "yourself, \"Assuming that I can find the factorial of $n-1$, can I\n",
    "compute the factorial of $n$?\"  It is clear that you\n",
    "can, by multiplying by $n$.\n",
    "\n",
    "Of course, it's a bit strange to assume that the function works\n",
    "correctly when you haven't finished writing it, but that's why\n",
    "it's called a leap of faith!"
   ]
  },
  {
   "cell_type": "markdown",
   "metadata": {},
   "source": [
    "## 6.7 One more example\n",
    "\n",
    "After `factorial`, the most common example of a recursively\n",
    "defined mathematical function is `fibonacci`, which has the\n",
    "following definition (see http://en.wikipedia.org/wiki/Fibonacci_number):\n",
    "\n",
    "$$\n",
    "\\begin{align}\n",
    "&fibonacci(0) = 0 \\\\\n",
    "&fibonacci(1) = 1 \\\\\n",
    "&fibonacci(n) = fibonacci(n-1) + fibonacci(n-2)\n",
    "\\end{align}\n",
    "$$\n",
    "\n",
    "Translated into Python, it looks like this:\n",
    "\n",
    "```\n",
    "def fibonacci(n):\n",
    "    if n == 0:\n",
    "        return 0\n",
    "    elif  n == 1:\n",
    "        return 1\n",
    "    else:\n",
    "        return fibonacci(n-1) + fibonacci(n-2)\n",
    "```\n",
    "\n",
    "If you try to follow the flow of execution here, even for fairly\n",
    "small values of $n$, your head explodes.  But according to the\n",
    "leap of faith, if you assume that the two recursive calls\n",
    "work correctly, then it is clear that you get\n",
    "the right result by adding them together.\n"
   ]
  },
  {
   "cell_type": "code",
   "execution_count": 2,
   "metadata": {},
   "outputs": [
    {
     "name": "stdout",
     "output_type": "stream",
     "text": [
      "1\n",
      "2\n",
      "3\n"
     ]
    }
   ],
   "source": [
    "def fibonacci(n):\n",
    "    if n == 0:\n",
    "        return 0\n",
    "    elif n == 1:\n",
    "        return 1\n",
    "    else:\n",
    "        return fibonacci(n-1) + fibonacci(n-2)\n",
    "    \n",
    "ret = fibonacci(2)\n",
    "print(ret)\n",
    "print(fibonacci(3))\n",
    "print(fibonacci(4))"
   ]
  },
  {
   "cell_type": "markdown",
   "metadata": {},
   "source": [
    "### 以下的範例透過 for loop (for 迴圈)重複呼叫 fibonacci()，在輸出資訊時利用字串\n",
    "### 及 for loop 的控制變數 i 讓要表達的資訊更為清楚"
   ]
  },
  {
   "cell_type": "code",
   "execution_count": 5,
   "metadata": {},
   "outputs": [
    {
     "name": "stdout",
     "output_type": "stream",
     "text": [
      "f( 0 ) =  0\n",
      "f( 1 ) =  1\n",
      "f( 2 ) =  1\n",
      "f( 3 ) =  2\n",
      "f( 4 ) =  3\n",
      "f( 5 ) =  5\n",
      "f( 6 ) =  8\n",
      "f( 7 ) =  13\n",
      "f( 8 ) =  21\n",
      "f( 9 ) =  34\n",
      "f( 10 ) =  55\n",
      "f( 11 ) =  89\n",
      "f( 12 ) =  144\n",
      "f( 13 ) =  233\n",
      "f( 14 ) =  377\n",
      "f( 15 ) =  610\n",
      "f( 16 ) =  987\n",
      "f( 17 ) =  1597\n",
      "f( 18 ) =  2584\n",
      "f( 19 ) =  4181\n"
     ]
    }
   ],
   "source": [
    "def fibonacci(n):\n",
    "    if n == 0:\n",
    "        return 0\n",
    "    elif n == 1:\n",
    "        return 1\n",
    "    else:\n",
    "        return fibonacci(n-1) + fibonacci(n-2)\n",
    "    \n",
    "for i in range(20):\n",
    "    print(\"f(\", i, \") = \", fibonacci(i) )\n"
   ]
  },
  {
   "cell_type": "markdown",
   "metadata": {},
   "source": [
    "### 以下的範例在輸出資訊時利用 format 做格式的設定"
   ]
  },
  {
   "cell_type": "code",
   "execution_count": 6,
   "metadata": {},
   "outputs": [
    {
     "name": "stdout",
     "output_type": "stream",
     "text": [
      "please enter n:5\n",
      "<class 'str'>\n",
      "f(0) = 0\n",
      "f(1) = 1\n",
      "f(2) = 1\n",
      "f(3) = 2\n",
      "f(4) = 3\n"
     ]
    }
   ],
   "source": [
    "def fibonacci(n):\n",
    "    if n == 0:\n",
    "        return 0\n",
    "    elif n == 1:\n",
    "        return 1\n",
    "    else:\n",
    "        return fibonacci(n-1) + fibonacci(n-2)\n",
    "\n",
    "s = input('please enter n:')\n",
    "print(type(s))\n",
    "n = int(s)\n",
    "for i in range(n):\n",
    "    print(\"f({}) = {}\".format(i, fibonacci(i)))\n"
   ]
  },
  {
   "cell_type": "markdown",
   "metadata": {},
   "source": [
    "### 以下的範例在輸出資訊時利用 % 做格式的設定"
   ]
  },
  {
   "cell_type": "code",
   "execution_count": 7,
   "metadata": {},
   "outputs": [
    {
     "name": "stdout",
     "output_type": "stream",
     "text": [
      "please enter n:5\n",
      "<class 'str'>\n",
      "f(0) = 0\n",
      "f(1) = 1\n",
      "f(2) = 1\n",
      "f(3) = 2\n",
      "f(4) = 3\n"
     ]
    }
   ],
   "source": [
    "def fibonacci(n):\n",
    "    if n == 0:\n",
    "        return 0\n",
    "    elif n == 1:\n",
    "        return 1\n",
    "    else:\n",
    "        return fibonacci(n-1) + fibonacci(n-2)\n",
    "\n",
    "s = input('please enter n:')\n",
    "print(type(s))\n",
    "n = int(s)\n",
    "for i in range(n):\n",
    "    print(\"f(%d) = %d\" % (i,fibonacci(i)))"
   ]
  },
  {
   "cell_type": "markdown",
   "metadata": {},
   "source": [
    "## 6.8 Checking types\n",
    "\n",
    "What happens if we call `factorial` and give it 1.5 as an argument?\n",
    "\n",
    "```\n",
    ">>> factorial(1.5)\n",
    "```\n",
    "\n",
    "RuntimeError: Maximum recursion depth exceeded\n",
    "\n",
    "It looks like an infinite recursion.  How can that be?  The function\n",
    "has a base case---when `n == 0`.  But if `n` is not an integer,\n",
    "we can *miss* the base case and recurse forever.\n",
    "\n",
    "In the first recursive call, the value of `n` is 0.5.\n",
    "In the next, it is -0.5.  From there, it gets smaller\n",
    "(more negative), but it will never be 0.\n",
    "\n",
    "We have two choices.  We can try to generalize the `factorial`\n",
    "function to work with floating-point numbers, or we can make `factorial` check the type of its argument.  \n",
    "The first option is called the gamma function and it's a\n",
    "little beyond the scope of this book.  So we'll go for the second.\n",
    "\n",
    "We can use the built-in function `isinstance` to verify the type\n",
    "of the argument.  While we're at it, we can also make sure the\n",
    "argument is positive:\n",
    "\n",
    "```\n",
    "def factorial(n):\n",
    "    if not isinstance(n, int):\n",
    "        print('Factorial is only defined for integers.')\n",
    "        return None\n",
    "    elif n < 0:\n",
    "        print('Factorial is not defined for negative integers.')\n",
    "        return None\n",
    "    elif n == 0:\n",
    "        return 1\n",
    "    else:\n",
    "        return n * factorial(n-1)\n",
    "```\n",
    "\n",
    "The first base case handles nonintegers; the\n",
    "second handles negative integers.  In both cases, the program prints\n",
    "an error message and returns `None` to indicate that something\n",
    "went wrong:\n",
    "\n",
    "```\n",
    ">>> print(factorial('fred'))\n",
    "Factorial is only defined for integers.\n",
    "None\n",
    ">>> print(factorial(-2))\n",
    "Factorial is not defined for negative integers.\n",
    "None\n",
    "```\n",
    "\n",
    "If we get past both checks, we know that $n$ is positive or zero, so we can prove that the recursion terminates.\n",
    "\n",
    "This program demonstrates a pattern sometimes called a **guardian**.\n",
    "The first two conditionals act as guardians, protecting the code that\n",
    "follows from values that might cause an error.  The guardians make it\n",
    "possible to prove the correctness of the code.\n",
    "\n",
    "In Section 11.4 we will see a more flexible alternative to printing\n",
    "an error message: raising an exception."
   ]
  },
  {
   "cell_type": "markdown",
   "metadata": {},
   "source": [
    "## 6.9 Debugging\n",
    "\n",
    "Breaking a large program into smaller functions creates natural\n",
    "checkpoints for debugging.  If a function is not\n",
    "working, there are three possibilities to consider:\n",
    "\n",
    "- There is something wrong with the arguments the function\n",
    "is getting; a precondition is violated.\n",
    "\n",
    "- There is something wrong with the function; a postcondition\n",
    "is violated.\n",
    "\n",
    "- There is something wrong with the return value or the\n",
    "way it is being used.\n",
    "\n",
    "To rule out the first possibility, you can add a `print` statement\n",
    "at the beginning of the function and display the values of the\n",
    "parameters (and maybe their types).  Or you can write code\n",
    "that checks the preconditions explicitly.\n",
    "\n",
    "If the parameters look good, add a `print` statement before each\n",
    "`return` statement and display the return value.  If\n",
    "possible, check the result by hand.  Consider calling the\n",
    "function with values that make it easy to check the result\n",
    "(as in Section 6.2).\n",
    "\n",
    "If the function seems to be working, look at the function call\n",
    "to make sure the return value is being used correctly (or used\n",
    "at all!).\n",
    "\n",
    "Adding print statements at the beginning and end of a function\n",
    "can help make the flow of execution more visible.\n",
    "For example, here is a version of `factorial` with\n",
    "print statements:\n",
    "\n",
    "```\n",
    "def factorial(n):\n",
    "    space = ' ' * (4 * n)\n",
    "    print(space, 'factorial', n)\n",
    "    if n == 0:\n",
    "        print(space, 'returning 1')\n",
    "        return 1\n",
    "    else:\n",
    "        recurse = factorial(n-1)\n",
    "        result = n * recurse\n",
    "        print(space, 'returning', result)\n",
    "        return result\n",
    "```\n",
    "\n",
    "`space` is a string of space characters that controls the\n",
    "indentation of the output.  Here is the result of `factorial(4)` :\n",
    "\n",
    "```\n",
    "                 factorial 4\n",
    "             factorial 3\n",
    "         factorial 2\n",
    "     factorial 1\n",
    " factorial 0\n",
    " returning 1\n",
    "     returning 1\n",
    "         returning 2\n",
    "             returning 6\n",
    "                 returning 24\n",
    "```\n",
    "\n",
    "If you are confused about the flow of execution, this kind of\n",
    "output can be helpful.  It takes some time to develop effective\n",
    "scaffolding, but a little bit of scaffolding can save a lot of debugging.\n"
   ]
  },
  {
   "cell_type": "markdown",
   "metadata": {},
   "source": [
    "## 6.10 Glossary\n",
    "\n",
    "- **temporary variable**:  A variable used to store an intermediate value in\n",
    "a complex calculation.\n",
    "\n",
    "- **dead code**:  Part of a program that can never run, often because\n",
    "it appears after a `return` statement.\n",
    "\n",
    "- **incremental development**:  A program development plan intended to\n",
    "avoid debugging by adding and testing only\n",
    "a small amount of code at a time.\n",
    "\n",
    "- **scaffolding**:  Code that is used during program development but is\n",
    "not part of the final version.\n",
    "\n",
    "- **guardian**:  A programming pattern that uses a conditional\n",
    "statement to check for and handle circumstances that\n",
    "might cause an error.\n"
   ]
  },
  {
   "cell_type": "markdown",
   "metadata": {},
   "source": [
    "## <font color=\"red\">練習2</font>\n",
    "\n",
    "Design a function named `rect`, which takes four arguments that are (x,y) coordinates of two diagonal points (對角點). It returns:\n",
    "- extent (範圍): the $x_{min}, y_{min}, x_{max}, y_{max}$\n",
    "- center (中心點): the $x_{c}, y_{c}$ coordinates of the center\n",
    "- area (面積): the area of the rectangle formed by these two points,\n",
    "- perimeter (周長): the perimeter of the rectangle formed by these two points,\n",
    "- size (對角線長度): the diagonal length of the rectangle formed by these two points,\n",
    "- width (寬度): the width of the rectangle formed by these two points,\n",
    "- height (長度): the height of the rectangle formed by these two points\n",
    "\n",
    "你設計的程式需使用以下的 function\n",
    "\n",
    "1. 6.1 的 absolute_value() 和 6.2 的 distance()\n",
    "\n",
    "2. 6.1 的練習：設計一個 function 名為 compare，函式接受 x 和 y 兩個值，回傳： 1 若 x > y； 0 若 x == y；-1 若 x < y\n",
    "                                                                               \n",
    "3. 利用 for 迴圈輸入5次測試資料，驗證程式是否正確\n",
    "\n",
    "4. 參考 [AnacondaPrompt執行程式方法20220420.pdf] 的方法進行測試\n",
    "\n",
    "<img src=\"rect.png\">\n"
   ]
  },
  {
   "cell_type": "code",
   "execution_count": 16,
   "metadata": {},
   "outputs": [
    {
     "name": "stdout",
     "output_type": "stream",
     "text": [
      "請輸入x1:1\n",
      "請輸入y1:0\n",
      "請輸入x2:0\n",
      "請輸入y2:1\n",
      "xmin是 0 xmax是 1 ymin是 0 ymax是 1\n",
      "(1, 4, 1.4142135623730951, 1, 1)\n",
      "請輸入x1:2\n",
      "請輸入y1:0\n",
      "請輸入x2:0\n",
      "請輸入y2:2\n",
      "xmin是 0 xmax是 2 ymin是 0 ymax是 2\n",
      "(4, 8, 2.8284271247461903, 2, 2)\n",
      "請輸入x1:3\n",
      "請輸入y1:0\n",
      "請輸入x2:0\n",
      "請輸入y2:3\n",
      "xmin是 0 xmax是 3 ymin是 0 ymax是 3\n",
      "(9, 12, 4.242640687119285, 3, 3)\n",
      "請輸入x1:4\n",
      "請輸入y1:0\n",
      "請輸入x2:0\n",
      "請輸入y2:4\n",
      "xmin是 0 xmax是 4 ymin是 0 ymax是 4\n",
      "(16, 16, 5.656854249492381, 4, 4)\n",
      "請輸入x1:5\n",
      "請輸入y1:0\n",
      "請輸入x2:0\n",
      "請輸入y2:5\n",
      "xmin是 0 xmax是 5 ymin是 0 ymax是 5\n",
      "(25, 20, 7.0710678118654755, 5, 5)\n"
     ]
    }
   ],
   "source": [
    "import math\n",
    "\n",
    "def rect(x1,y1,x2,y2):\n",
    "    if x1>x2 and y1<y2:\n",
    "        xmin=x2\n",
    "        xmax=x1\n",
    "        ymin=y1\n",
    "        ymax=y2\n",
    "        print(\"xmin是\",xmin,\"xmax是\",xmax,\"ymin是\",ymin,\"ymax是\",ymax)\n",
    "        \n",
    "        area=(x1-x2)*(y2-y1)\n",
    "        \n",
    "\n",
    "        perimeter=(x1-x2)*2+(y2-y1)*2\n",
    "        \n",
    "        \n",
    "        size=math.sqrt((x1-x2)**2+(y1-y2)**2)\n",
    "       \n",
    "        \n",
    "        width=x1-x2\n",
    "        \n",
    "        \n",
    "        height=y2-y1\n",
    "        \n",
    "        \n",
    "        return area,perimeter ,size , width , height\n",
    "    \n",
    "        \n",
    "        \n",
    "    elif x1<x2 and y1>y2:\n",
    "        xmin=x1\n",
    "        xmax=x2\n",
    "        ymin=y2\n",
    "        ymax=y1\n",
    "        print(\"xmin是\",xmin,\"xmax是\",xmax,\"ymin是\",ymin,\"ymax是\",ymax)\n",
    "        \n",
    "        area=(x2-x1)*(y1-y2)\n",
    "        \n",
    "        perimeter=(x2-x1)*2+(y1-y2)*2\n",
    "        \n",
    "        \n",
    "        size=math.sqrt((x1-x2)**2+(y1-y2)**2)\n",
    "       \n",
    "        \n",
    "        width=x2-x1\n",
    "        \n",
    "        \n",
    "        height=y1-y2\n",
    "        \n",
    "        \n",
    "        return area,perimeter ,size,width,height\n",
    "    \n",
    "\n",
    "for i in range(5):\n",
    "    \n",
    "    a1 = int(input('請輸入x1:'))   \n",
    "    b1 = int(input('請輸入y1:'))\n",
    "    a2 = int(input('請輸入x2:'))   \n",
    "    b2 = int(input('請輸入y2:'))\n",
    "\n",
    "    l=rect(a1,b1,a2,b2)\n",
    "\n",
    "\n",
    "    print(l)"
   ]
  },
  {
   "cell_type": "markdown",
   "metadata": {},
   "source": [
    "## <font color=\"red\">練習3</font>\n",
    "\n",
    "### 完成 Exercise 6.1 至 6.5 的練習"
   ]
  },
  {
   "cell_type": "markdown",
   "metadata": {},
   "source": [
    "## 6.11 Exercises\n",
    "\n",
    "### Exercise 6.1\n",
    "\n",
    "Draw a stack diagram for the following program.  What does the program print?\n",
    "\n",
    "```\n",
    "def b(z):\n",
    "    prod = a(z, z)\n",
    "    print(z, prod)\n",
    "    return prod\n",
    "\n",
    "def a(x, y):\n",
    "    x = x + 1\n",
    "    return x * y\n",
    "\n",
    "def c(x, y, z):\n",
    "    total = x + y + z\n",
    "    square = b(total)**2\n",
    "    return square\n",
    "\n",
    "x = 1\n",
    "y = x + 1\n",
    "print(c(x, y+3, x+y))\n",
    "```\n",
    "\n",
    "### Exercise 6.2\n",
    "\n",
    "The Ackermann function, $A(m, n)$, is defined:\n",
    "\n",
    "$$\n",
    "A(m, n) = \\begin{cases} \n",
    "              n+1 & \\mbox{if } m = 0 \\\\ \n",
    "        A(m-1, 1) & \\mbox{if } m > 0 \\mbox{ and } n = 0 \\\\ \n",
    "A(m-1, A(m, n-1)) & \\mbox{if } m > 0 \\mbox{ and } n > 0.\n",
    "\\end{cases} \n",
    "$$\n",
    "\n",
    "See http://en.wikipedia.org/wiki/Ackermann_function.\n",
    "\n",
    "Write a function named `ack` that evaluates the Ackermann function.\n",
    "Use your function to evaluate `ack(3, 4)`, which should be 125.\n",
    "What happens for larger values of `m` and `n`?\n",
    "Solution: http://thinkpython2.com/code/ackermann.py.\n",
    "\n",
    "### 6.3 Exercise\n",
    "\n",
    "A palindrome is a word that is spelled the same backward and\n",
    "forward, like \"noon\" and \"redivider\".  Recursively, a word\n",
    "is a palindrome if the first and last letters are the same\n",
    "and the middle is a palindrome.\n",
    "\n",
    "The following are functions that take a string argument and\n",
    "return the first, last, and middle letters:\n",
    "\n",
    "```\n",
    "def first(word):\n",
    "    return word[0]\n",
    "\n",
    "def last(word):\n",
    "    return word[-1]\n",
    "\n",
    "def middle(word):\n",
    "    return word[1:-1]\n",
    "```\n",
    "\n",
    "We'll see how they work in Chapter 8.\n",
    "\n",
    "1. Type these functions into a file named `palindrome.py`\n",
    "and test them out.  What happens if you call `middle` with\n",
    "a string with two letters?  One letter?  What about the empty\n",
    "string, which is written '' and contains no letters?\n",
    "\n",
    "2. Write a function called \"is_palindrome\" that takes\n",
    "a string argument and returns `True` if it is a palindrome\n",
    "and `False` otherwise.  Remember that you can use the\n",
    "built-in function `len` to check the length of a string.\n",
    "\n",
    "Solution: http://thinkpython2.com/code/palindrome_soln.py.\n",
    "\n",
    "### Exercise 6.4\n",
    "\n",
    "A number, $a$, is a power of $b$ if it is divisible by $b$\n",
    "and $a/b$ is a power of $b$.  Write a function called\n",
    "\"is_power\" that takes parameters `a` and `b`\n",
    "and returns `True` if `a` is a power of `b`.\n",
    "Note: you will have to think about the base case.\n",
    "\n",
    "\n",
    "### Exercise 6.5\n",
    "\n",
    "The greatest common divisor (GCD) of $a$ and $b$ is the largest number\n",
    "that divides both of them with no remainder.  \n",
    "\n",
    "One way to find the GCD of two numbers is based on the observation\n",
    "that if $r$ is the remainder when $a$ is divided by $b$, then $gcd(a,\n",
    "b) = gcd(b, r)$.  As a base case, we can use $gcd(a, 0) = a$.\n",
    "\n",
    "Write a function called\n",
    "`gcd` that takes parameters `a` and `b`\n",
    "and returns their greatest common divisor.\n",
    "\n",
    "Credit: This exercise is based on an example from Abelson and\n",
    "Sussman's ***Structure and Interpretation of Computer Programs***.\n"
   ]
  },
  {
   "cell_type": "markdown",
   "metadata": {},
   "source": [
    "6.1\n",
    "<img src=\"601.jpg\" width=\"50%\">\n"
   ]
  },
  {
   "cell_type": "code",
   "execution_count": 9,
   "metadata": {},
   "outputs": [
    {
     "name": "stdout",
     "output_type": "stream",
     "text": [
      "125\n"
     ]
    }
   ],
   "source": [
    "#6.2\n",
    "\n",
    "from __future__ import print_function, division\n",
    "\n",
    "\n",
    "def ackermann(m, n):\n",
    "    if m == 0:\n",
    "        return n+1\n",
    "    if n == 0:\n",
    "        return ackermann(m-1, 1)\n",
    "    return ackermann(m-1, ackermann(m, n-1))\n",
    "\n",
    "\n",
    "print(ackermann(3, 4))"
   ]
  },
  {
   "cell_type": "code",
   "execution_count": 8,
   "metadata": {},
   "outputs": [
    {
     "name": "stdout",
     "output_type": "stream",
     "text": [
      "False\n",
      "True\n",
      "True\n",
      "True\n"
     ]
    }
   ],
   "source": [
    "#6.3\n",
    "\n",
    "from __future__ import print_function, division\n",
    "\n",
    "\n",
    "def first(word):\n",
    "    return word[0]\n",
    "\n",
    "\n",
    "def last(word):\n",
    "    return word[-1]\n",
    "\n",
    "\n",
    "def middle(word):\n",
    "    return word[1:-1]\n",
    "\n",
    "\n",
    "def is_palindrome(word):\n",
    "    if len(word) <= 1:\n",
    "        return True\n",
    "    if first(word) != last(word):\n",
    "        return False\n",
    "    return is_palindrome(middle(word))\n",
    "\n",
    "\n",
    "print(is_palindrome('allen'))\n",
    "print(is_palindrome('bob'))\n",
    "print(is_palindrome('otto'))\n",
    "print(is_palindrome('redivider'))"
   ]
  },
  {
   "cell_type": "code",
   "execution_count": 4,
   "metadata": {},
   "outputs": [
    {
     "name": "stdout",
     "output_type": "stream",
     "text": [
      "請輸入a:3\n",
      "請輸入b:3\n",
      "結果為: True\n"
     ]
    }
   ],
   "source": [
    "#6.4\n",
    "\n",
    "def is_power(a,b):\n",
    "    if (a % b == 0):\n",
    "        return True\n",
    "    \n",
    "        if (a/b == 1):\n",
    "            return True\n",
    "        else:\n",
    "            (is_power (a/b, b) )\n",
    "    else:\n",
    "        return False\n",
    "    \n",
    "a1 = int(input('請輸入a:'))   \n",
    "b1 = int(input('請輸入b:'))\n",
    "\n",
    "j=is_power(a1,b1)\n",
    "\n",
    "print(\"結果為:\",j)"
   ]
  },
  {
   "cell_type": "code",
   "execution_count": 5,
   "metadata": {},
   "outputs": [
    {
     "name": "stdout",
     "output_type": "stream",
     "text": [
      "請輸入a:5\n",
      "請輸入b:3\n",
      "結果為: 1\n"
     ]
    }
   ],
   "source": [
    "#6.5\n",
    "\n",
    "def gcd(a, b):\n",
    "    if b == 0:\n",
    "        return a\n",
    "    r = a % b\n",
    "    return gcd(b, r)\n",
    "\n",
    "a1 = int(input('請輸入a:'))   \n",
    "b1 = int(input('請輸入b:'))\n",
    "\n",
    "k=gcd(a1,b1)\n",
    "\n",
    "print(\"結果為:\",k)"
   ]
  },
  {
   "cell_type": "markdown",
   "metadata": {},
   "source": []
  },
  {
   "cell_type": "code",
   "execution_count": null,
   "metadata": {},
   "outputs": [],
   "source": []
  }
 ],
 "metadata": {
  "kernelspec": {
   "display_name": "Python 3 (ipykernel)",
   "language": "python",
   "name": "python3"
  },
  "language_info": {
   "codemirror_mode": {
    "name": "ipython",
    "version": 3
   },
   "file_extension": ".py",
   "mimetype": "text/x-python",
   "name": "python",
   "nbconvert_exporter": "python",
   "pygments_lexer": "ipython3",
   "version": "3.9.7"
  }
 },
 "nbformat": 4,
 "nbformat_minor": 1
}
