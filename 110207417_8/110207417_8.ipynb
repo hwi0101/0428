{
 "cells": [
  {
   "cell_type": "markdown",
   "metadata": {},
   "source": [
    "# Chapter 7\n",
    "# Iteration\n",
    "\n",
    "This chapter is about **iteration (迭代)**, which is the ability to run\n",
    "a block of statements repeatedly.  We saw a kind of iteration,\n",
    "using recursion, in Section 5.8.\n",
    "We saw another kind, using a `for` loop,\n",
    "in Section 4.2.  In this chapter we'll see yet another\n",
    "kind, using a `while` statement.\n",
    "But first I want to say a little more about variable assignment.\n"
   ]
  },
  {
   "cell_type": "markdown",
   "metadata": {},
   "source": [
    "## 7.1 Reassignment\n",
    "\n",
    "As you may have discovered, it is legal to make more than one\n",
    "assignment to the same variable.  A new assignment makes an existing\n",
    "variable refer to a new value (and stop referring to the old value).\n",
    "\n",
    "```\n",
    ">>> x = 5\n",
    ">>> x\n",
    "5\n",
    ">>> x = 7\n",
    ">>> x\n",
    "7\n",
    "```\n",
    "\n",
    "The first time we display \n",
    "`x`, its value is 5; the second time, its\n",
    "value is 7.\n",
    "\n",
    "Figure 7.1 shows what **reassignment (重新指派)** looks\n",
    "like in a state diagram.\n",
    "\n",
    "At this point I want to address a common source of\n",
    "confusion.\n",
    "Because Python uses the equal sign (`=`) for assignment, it is\n",
    "tempting to interpret a statement like `a = b` as a\n",
    "mathematical\n",
    "proposition of equality; that is, the claim that `a` and\n",
    "`b` are equal.  But this interpretation is wrong.\n",
    "\n",
    "First, equality is a symmetric relationship and assignment is not.  For\n",
    "example, in mathematics, if $a=7$ then $7=a$.  But in Python, the\n",
    "statement `a = 7` is legal and `7 = a` is not.\n",
    "\n",
    "Also, in mathematics, a proposition of equality is either true or\n",
    "false for all time.  If $a=b$ now, then $a$ will always equal $b$.\n",
    "In Python, an assignment statement can make two variables equal, but\n",
    "they don't have to stay that way:\n",
    "\n",
    "```\n",
    ">>> a = 5\n",
    ">>> b = a    # a and b are now equal\n",
    ">>> a = 3    # a and b are no longer equal\n",
    ">>> b\n",
    "5\n",
    "```\n",
    "\n",
    "The third line changes the value of `a` but does not change the\n",
    "value of `b`, so they are no longer equal. \n",
    "\n",
    "Reassigning variables is often useful, but you should use it\n",
    "with caution.  If the values of variables change frequently, it can\n",
    "make the code difficult to read and debug.\n",
    "\n",
    "<img src=\"fig7_01.png\">"
   ]
  },
  {
   "cell_type": "markdown",
   "metadata": {},
   "source": [
    "## 7.2 Updating variables\n",
    "\n",
    "A common kind of reassignment is an **update (更新)**,\n",
    "where the new value of the variable depends on the old.\n",
    "\n",
    "```\n",
    ">>> x = x + 1\n",
    "```\n",
    "\n",
    "This means \"get the current value of `x`, add one, and then\n",
    "update `x` with the new value.\"\n",
    "\n",
    "If you try to update a variable that doesn't exist, you get an\n",
    "error, because Python evaluates the right side before it assigns\n",
    "a value to `x`:\n",
    "\n",
    "```\n",
    ">>> x = x + 1\n",
    "NameError: name 'x' is not defined\n",
    "```\n",
    "\n",
    "Before you can update a variable, you have to **initialize (初始化)**\n",
    "it, usually with a simple assignment:\n",
    "\n",
    "```\n",
    ">>> x = 0\n",
    ">>> x = x + 1\n",
    "```\n",
    "\n",
    "Updating a variable by adding 1 is called an **increment (增量)**;\n",
    "subtracting 1 is called a **decrement (減量)**.\n"
   ]
  },
  {
   "cell_type": "code",
   "execution_count": 1,
   "metadata": {},
   "outputs": [
    {
     "name": "stdout",
     "output_type": "stream",
     "text": [
      "1\n"
     ]
    }
   ],
   "source": [
    "x = 0\n",
    "x += 1  # x = x + 1\n",
    "print(x)"
   ]
  },
  {
   "cell_type": "code",
   "execution_count": 2,
   "metadata": {},
   "outputs": [
    {
     "name": "stdout",
     "output_type": "stream",
     "text": [
      "5\n"
     ]
    }
   ],
   "source": [
    "x = 0\n",
    "d = 5\n",
    "x += d  # x = x + d\n",
    "print(x)"
   ]
  },
  {
   "cell_type": "code",
   "execution_count": 3,
   "metadata": {},
   "outputs": [
    {
     "name": "stdout",
     "output_type": "stream",
     "text": [
      "4\n"
     ]
    }
   ],
   "source": [
    "a = 5\n",
    "a -= 1  # a = a - 1\n",
    "print(a)"
   ]
  },
  {
   "cell_type": "code",
   "execution_count": 4,
   "metadata": {},
   "outputs": [
    {
     "name": "stdout",
     "output_type": "stream",
     "text": [
      "10\n"
     ]
    }
   ],
   "source": [
    "a = 5\n",
    "a *= 2  # a = a * 2\n",
    "print(a)"
   ]
  },
  {
   "cell_type": "code",
   "execution_count": 5,
   "metadata": {},
   "outputs": [
    {
     "name": "stdout",
     "output_type": "stream",
     "text": [
      "2.5\n"
     ]
    }
   ],
   "source": [
    "a = 5\n",
    "a /= 2  # a = a / 2\n",
    "print(a)"
   ]
  },
  {
   "cell_type": "markdown",
   "metadata": {},
   "source": [
    "## 7.3 The `while` statement\n",
    "\n",
    "Computers are often used to automate repetitive tasks.  Repeating\n",
    "identical or similar tasks without making errors is something that\n",
    "computers do well and people do poorly.  In a computer program,\n",
    "repetition is also called **iteration (迭代)**.\n",
    "\n",
    "We have already seen two functions, `countdown` and\n",
    "`print_n`, that iterate using recursion.  Because iteration is so\n",
    "common, Python provides language features to make it easier.\n",
    "One is the `for` statement we saw in Section 4.2.\n",
    "We'll get back to that later.\n",
    "\n",
    "Another is the `while` statement.  Here is a version of `countdown` that uses a `while` statement:\n",
    "\n",
    "```\n",
    "def countdown(n):\n",
    "    while n > 0:\n",
    "        print(n)\n",
    "        n = n - 1\n",
    "    print('Blastoff!')\n",
    "```\n",
    "\n",
    "You can almost read the `while` statement as if it were English.\n",
    "It means, \"While `n` is greater than 0,\n",
    "display the value of `n` and then decrement\n",
    "`n`.  When you get to 0, display the word `Blastoff!`\"\n",
    "\n",
    "More formally, here is the flow of execution for a `while` statement:\n",
    "\n",
    "1. Determine whether the condition is true or false.\n",
    "\n",
    "2. If false, exit the `while` statement\n",
    "and continue execution at the next statement.\n",
    "\n",
    "3. If the condition is true, run the\n",
    "body and then go back to step 1.\n",
    "\n",
    "This type of flow is called a loop because the third step\n",
    "loops back around to the top.  \n",
    "\n",
    "The body of the loop should change the value of one or more variables\n",
    "so that the condition becomes false eventually and the loop\n",
    "terminates.  Otherwise the loop will repeat forever, which is called\n",
    "an **infinite loop (無限迴路、無窮迴圈)**.  An endless source of amusement for computer\n",
    "scientists is the observation that the directions on shampoo,\n",
    "\"Lather (起泡), rinse (沖洗), repeat (重複)\", are an infinite loop.\n",
    "\n",
    "In the case of `countdown`, we can prove that the loop\n",
    "terminates: if `n` is zero or negative, the loop never runs.\n",
    "Otherwise, `n` gets smaller each time through the\n",
    "loop, so eventually we have to get to 0.\n",
    "\n",
    "For some other loops, it is not so easy to tell.  For example:\n",
    "\n",
    "```\n",
    "def sequence(n):\n",
    "    while n != 1:\n",
    "        print(n)\n",
    "        if n % 2 == 0:        # n is even\n",
    "            n = n / 2\n",
    "        else:                 # n is odd\n",
    "            n = n*3 + 1\n",
    "```\n",
    "\n",
    "The condition for this loop is `n != 1`, so the loop will continue\n",
    "until `n` is `1`, which makes the condition false.\n",
    "\n",
    "Each time through the loop, the program outputs the value of `n`\n",
    "and then checks whether it is even or odd.  If it is even, `n` is\n",
    "divided by 2.  If it is odd, the value of `n` is replaced with\n",
    "`n*3 + 1`. For example, if the argument passed to `sequence`\n",
    "is 3, the resulting values of `n` are 3, 10, 5, 16, 8, 4, 2, 1.\n",
    "\n",
    "Since `n` sometimes increases and sometimes decreases, there is no\n",
    "obvious proof that `n` will ever reach 1, or that the program\n",
    "terminates.  For some particular values of `n`, we can prove\n",
    "termination.  For example, if the starting value is a power of two,\n",
    "`n` will be even every time through the loop\n",
    "until it reaches 1. The previous example ends with such a sequence,\n",
    "starting with 16.\n",
    "\n",
    "The hard question is whether we can prove that this program terminates\n",
    "for *all* positive values of `n`.  So far, no one has\n",
    "been able to prove it *or* disprove it!  \n",
    "\n",
    "(See http://en.wikipedia.org/wiki/Collatz_conjecture.)\n",
    "\n",
    "As an exercise, rewrite the function `print_n` from\n",
    "Section 5.8 using iteration instead of recursion.\n"
   ]
  },
  {
   "cell_type": "code",
   "execution_count": 6,
   "metadata": {},
   "outputs": [
    {
     "name": "stdout",
     "output_type": "stream",
     "text": [
      "6\n"
     ]
    }
   ],
   "source": [
    "x = 5\n",
    "x = x + 1\n",
    "print(x)"
   ]
  },
  {
   "cell_type": "code",
   "execution_count": 7,
   "metadata": {},
   "outputs": [
    {
     "name": "stdout",
     "output_type": "stream",
     "text": [
      "6\n"
     ]
    }
   ],
   "source": [
    "x = 5\n",
    "x += 1\n",
    "print(x)"
   ]
  },
  {
   "cell_type": "markdown",
   "metadata": {},
   "source": [
    "### 以下範例使用 while 控制迴圈，注意 n 需遞減才能讓迴圈中斷"
   ]
  },
  {
   "cell_type": "code",
   "execution_count": 8,
   "metadata": {},
   "outputs": [
    {
     "name": "stdout",
     "output_type": "stream",
     "text": [
      "5\n",
      "4\n",
      "3\n",
      "2\n",
      "1\n",
      "Blastoff!\n"
     ]
    }
   ],
   "source": [
    "def countdown(n):\n",
    "    while n > 0:\n",
    "        print(n)\n",
    "        n = n-1\n",
    "    print('Blastoff!')\n",
    "    \n",
    "countdown(5)"
   ]
  },
  {
   "cell_type": "markdown",
   "metadata": {},
   "source": [
    "### 以下範例使用 for 控制迴圈，注意 range() 的用法"
   ]
  },
  {
   "cell_type": "code",
   "execution_count": 9,
   "metadata": {},
   "outputs": [
    {
     "name": "stdout",
     "output_type": "stream",
     "text": [
      "5\n",
      "4\n",
      "3\n",
      "2\n",
      "1\n",
      "Blastoff!\n"
     ]
    }
   ],
   "source": [
    "def countdown(n):\n",
    "    for i in range(n,0,-1):\n",
    "        print(i)\n",
    "    print('Blastoff!')\n",
    "        \n",
    "countdown(5)"
   ]
  },
  {
   "cell_type": "code",
   "execution_count": 10,
   "metadata": {},
   "outputs": [
    {
     "name": "stdout",
     "output_type": "stream",
     "text": [
      "range(0, 5)\n",
      "0\n",
      "1\n",
      "2\n",
      "3\n",
      "4\n"
     ]
    }
   ],
   "source": [
    "x = range(5)\n",
    "print(x)\n",
    "\n",
    "for i in x:\n",
    "    print(i)"
   ]
  },
  {
   "cell_type": "code",
   "execution_count": 11,
   "metadata": {},
   "outputs": [
    {
     "name": "stdout",
     "output_type": "stream",
     "text": [
      "range(5, 10)\n",
      "5\n",
      "6\n",
      "7\n",
      "8\n",
      "9\n"
     ]
    }
   ],
   "source": [
    "x = range(5,10)\n",
    "print(x)\n",
    "\n",
    "for i in x:\n",
    "    print(i)"
   ]
  },
  {
   "cell_type": "code",
   "execution_count": 12,
   "metadata": {},
   "outputs": [
    {
     "name": "stdout",
     "output_type": "stream",
     "text": [
      "range(1, 10, 3)\n",
      "1\n",
      "4\n",
      "7\n"
     ]
    }
   ],
   "source": [
    "x = range(1,10,3)\n",
    "print(x)\n",
    "\n",
    "for i in x:\n",
    "    print(i)"
   ]
  },
  {
   "cell_type": "markdown",
   "metadata": {},
   "source": [
    "### 以下的 sequence() 函式中，每一次在迴圈裡 n 都會改變，難以證明最後會達到 n == 1 而結束"
   ]
  },
  {
   "cell_type": "code",
   "execution_count": 13,
   "metadata": {},
   "outputs": [
    {
     "name": "stdout",
     "output_type": "stream",
     "text": [
      "3\n",
      "10\n",
      "5.0\n",
      "16.0\n",
      "8.0\n",
      "4.0\n",
      "2.0\n"
     ]
    }
   ],
   "source": [
    "def sequence(n):\n",
    "    while n != 1:\n",
    "        print(n)\n",
    "        if n % 2 == 0:        # n is even\n",
    "            n = n / 2\n",
    "        else:                 # n is odd\n",
    "            n = n*3 + 1\n",
    "            \n",
    "sequence(3)"
   ]
  },
  {
   "cell_type": "code",
   "execution_count": 14,
   "metadata": {},
   "outputs": [
    {
     "name": "stdout",
     "output_type": "stream",
     "text": [
      "16\n",
      "8.0\n",
      "4.0\n",
      "2.0\n"
     ]
    }
   ],
   "source": [
    "def sequence(n):\n",
    "    while n != 1:\n",
    "        print(n)\n",
    "        if n % 2 == 0:        # n is even\n",
    "            n = n / 2\n",
    "        else:                 # n is odd\n",
    "            n = n*3 + 1\n",
    "            \n",
    "sequence(16)"
   ]
  },
  {
   "cell_type": "code",
   "execution_count": 15,
   "metadata": {},
   "outputs": [
    {
     "name": "stdout",
     "output_type": "stream",
     "text": [
      "25\n",
      "76\n",
      "38.0\n",
      "19.0\n",
      "58.0\n",
      "29.0\n",
      "88.0\n",
      "44.0\n",
      "22.0\n",
      "11.0\n",
      "34.0\n",
      "17.0\n",
      "52.0\n",
      "26.0\n",
      "13.0\n",
      "40.0\n",
      "20.0\n",
      "10.0\n",
      "5.0\n",
      "16.0\n",
      "8.0\n",
      "4.0\n",
      "2.0\n"
     ]
    }
   ],
   "source": [
    "def sequence(n):\n",
    "    while n != 1:\n",
    "        print(n)\n",
    "        if n % 2 == 0:        # n is even\n",
    "            n = n / 2\n",
    "        else:                 # n is odd\n",
    "            n = n*3 + 1\n",
    "            \n",
    "sequence(25)"
   ]
  },
  {
   "cell_type": "markdown",
   "metadata": {},
   "source": [
    "## 7.4 break\n",
    "\n",
    "Sometimes you don't know it's time to end a loop until you get half\n",
    "way through the body.  In that case you can use the `break`\n",
    "statement to jump out of the loop.\n",
    "\n",
    "For example, suppose you want to take input from the user until they\n",
    "type `done`.  You could write:\n",
    "\n",
    "```\n",
    "while True:\n",
    "    line = input('> ')\n",
    "    if line == 'done':\n",
    "        break\n",
    "    print(line)\n",
    "\n",
    "print('Done!')\n",
    "```\n",
    "\n",
    "The loop condition is `True`, which is always true, so the\n",
    "loop runs until it hits the break statement.\n",
    "\n",
    "Each time through, it prompts the user with an angle bracket.\n",
    "If the user types `done`, the `break` statement exits\n",
    "the loop.  Otherwise the program echoes whatever the user types\n",
    "and goes back to the top of the loop.  Here's a sample run:\n",
    "\n",
    "```\n",
    "> not done\n",
    "not done\n",
    "> done\n",
    "Done!\n",
    "```\n",
    "\n",
    "This way of writing `while` loops is common because you\n",
    "can check the condition anywhere in the loop (not just at the\n",
    "top) and you can express the stop condition affirmatively\n",
    "(\"stop when this happens\") rather than negatively (\"keep going\n",
    "until that happens\").\n"
   ]
  },
  {
   "cell_type": "code",
   "execution_count": 1,
   "metadata": {},
   "outputs": [
    {
     "name": "stdout",
     "output_type": "stream",
     "text": [
      "> done\n",
      "Done!\n"
     ]
    }
   ],
   "source": [
    "while True:\n",
    "    line = input('> ')\n",
    "    if line == 'done':\n",
    "        break\n",
    "    print(line)\n",
    "\n",
    "print('Done!')"
   ]
  },
  {
   "cell_type": "markdown",
   "metadata": {},
   "source": [
    "## 7.5 Square roots\n",
    "\n",
    "Loops are often used in programs that compute\n",
    "numerical results by starting with an approximate answer and\n",
    "iteratively improving it.\n",
    "\n",
    "For example, one way of computing square roots is Newton's method.\n",
    "Suppose that you want to know the square root of $a$.  If you start\n",
    "with almost any estimate, $x$, you can compute a better\n",
    "estimate with the following formula:\n",
    "\n",
    "$$ y = \\frac{x + a/x}{2}$$\n",
    "\n",
    "\n",
    "For example, if $a$ is 4 and $x$ is 3:\n",
    "\n",
    "```\n",
    ">>> a = 4\n",
    ">>> x = 3\n",
    ">>> y = (x + a/x) / 2\n",
    ">>> y\n",
    "2.16666666667\n",
    "```\n",
    "\n",
    "The result is closer to the correct answer ($\\sqrt{4} = 2$).  If we\n",
    "repeat the process with the new estimate, it gets even closer:\n",
    "\n",
    "```\n",
    ">>> x = y\n",
    ">>> y = (x + a/x) / 2\n",
    ">>> y\n",
    "2.00641025641\n",
    "```\n",
    "\n",
    "After a few more updates, the estimate is almost exact:\n",
    "\n",
    "```\n",
    ">>> x = y\n",
    ">>> y = (x + a/x) / 2\n",
    ">>> y\n",
    "2.00001024003\n",
    ">>> x = y\n",
    ">>> y = (x + a/x) / 2\n",
    ">>> y\n",
    "2.00000000003\n",
    "```\n",
    "\n",
    "In general we don't know ahead of time how many steps it takes\n",
    "to get to the right answer, but we know when we get there\n",
    "because the estimate\n",
    "stops changing:\n",
    "\n",
    "```\n",
    ">>> x = y\n",
    ">>> y = (x + a/x) / 2\n",
    ">>> y\n",
    "2.0\n",
    ">>> x = y\n",
    ">>> y = (x + a/x) / 2\n",
    ">>> y\n",
    "2.0\n",
    "```\n",
    "\n",
    "When`y == x`, we can stop.  Here is a loop that starts\n",
    "with an initial estimate, `x`, and improves it until it\n",
    "stops changing:\n",
    "\n",
    "```\n",
    "while True:\n",
    "    print(x)\n",
    "    y = (x + a/x) / 2\n",
    "    if y == x:\n",
    "        break\n",
    "    x = y\n",
    "```\n",
    "\n",
    "<font color=\"red\">For most values of <code>a</code> this works fine, but in general it is\n",
    "dangerous to test <code>float</code> equality.\n",
    "Floating-point values are only approximately right:\n",
    "most rational numbers, like $1/3$, and irrational numbers, like\n",
    "$\\sqrt{2}$, can't be represented exactly with a <code>float</code>.\n",
    "\n",
    "Rather than checking whether <code>x</code> and <code>y</code> are exactly equal, it\n",
    "is safer to use the built-in function <code>abs</code> to compute the\n",
    "absolute value, or magnitude, of the difference between them:\n",
    "\n",
    "```\n",
    "    if abs(y-x) < epsilon:\n",
    "        break\n",
    "```\n",
    "\n",
    "Where \"epsilon\" has a value like `0.0000001` that\n",
    "determines how close is close enough.</font>"
   ]
  },
  {
   "cell_type": "code",
   "execution_count": null,
   "metadata": {},
   "outputs": [],
   "source": [
    "def abs(x):\n",
    "    if x < 0:\n",
    "        return -x\n",
    "    else:\n",
    "        return x\n",
    "    \n",
    "def square_root(a):\n",
    "    epsilon = 1e-6\n",
    "    \n",
    "    # initial value\n",
    "    x = 3.0\n",
    "    \n",
    "    while True:\n",
    "        \n",
    "        y = (x + a/x) / 2\n",
    "        print(\"x = \", x, \" , y = \", y)\n",
    "        \n",
    "        if abs(y-x) < epsilon:\n",
    "        #if (y == x):\n",
    "            break\n",
    "            \n",
    "        x = y\n",
    "    return y\n",
    "    \n",
    "print(square_root(4))\n",
    "print(square_root(5))\n",
    "print(square_root(9))\n",
    "print(square_root(625))\n",
    "print(square_root(9999))"
   ]
  },
  {
   "cell_type": "markdown",
   "metadata": {},
   "source": [
    "## 7.6 Algorithms\n",
    "\n",
    "Newton's method is an example of an **algorithm**: it is a\n",
    "mechanical process for solving a category of problems (in this\n",
    "case, computing square roots).\n",
    "\n",
    "To understand what an algorithm is, it might help to start with\n",
    "something that is not an algorithm.  When you learned to multiply\n",
    "single-digit numbers, you probably memorized the multiplication table.\n",
    "In effect, you memorized 100 specific solutions.  That kind of\n",
    "knowledge is not algorithmic.\n",
    "\n",
    "But if you were \"lazy\", you might have learned a few\n",
    "tricks.  For example, to find the product of $n$ and 9, you can\n",
    "write $n-1$ as the first digit and $10-n$ as the second\n",
    "digit.  This trick is a general solution for multiplying any\n",
    "single-digit number by 9.  That's an algorithm!\n",
    "\n",
    "Similarly, the techniques you learned for addition with carrying,\n",
    "subtraction with borrowing, and long division are all algorithms.  One\n",
    "of the characteristics of algorithms is that they do not require any\n",
    "intelligence to carry out.  They are mechanical processes where\n",
    "each step follows from the last according to a simple set of rules.\n",
    "\n",
    "Executing algorithms is boring, but designing them is interesting,\n",
    "intellectually challenging, and a central part of computer science.\n",
    "\n",
    "Some of the things that people do naturally, without difficulty or\n",
    "conscious thought, are the hardest to express algorithmically.\n",
    "Understanding natural language is a good example.  We all do it, but\n",
    "so far no one has been able to explain ***how*** we do it, at least\n",
    "not in the form of an algorithm."
   ]
  },
  {
   "cell_type": "markdown",
   "metadata": {},
   "source": [
    "## 7.7 Debugging\n",
    "\n",
    "As you start writing bigger programs, you might find yourself\n",
    "spending more time debugging.  More code means more chances to\n",
    "make an error and more places for bugs to hide.\n",
    "\n",
    "One way to cut your debugging time is \"debugging by bisection\".\n",
    "For example, if there are 100 lines in your program and you\n",
    "check them one at a time, it would take 100 steps.\n",
    "\n",
    "Instead, try to break the problem in half.  Look at the middle\n",
    "of the program, or near it, for an intermediate value you\n",
    "can check.  Add a `print` statement (or something else\n",
    "that has a verifiable effect) and run the program.\n",
    "\n",
    "If the mid-point check is incorrect, there must be a problem in the\n",
    "first half of the program.  If it is correct, the problem is\n",
    "in the second half.\n",
    "\n",
    "Every time you perform a check like this, you halve the number of\n",
    "lines you have to search.  After six steps (which is fewer than 100),\n",
    "you would be down to one or two lines of code, at least in theory.\n",
    "\n",
    "In practice it is not always clear what\n",
    "the \"middle of the program\" is and not always possible to\n",
    "check it.  It doesn't make sense to count lines and find the\n",
    "exact midpoint.  Instead, think about places\n",
    "in the program where there might be errors and places where it\n",
    "is easy to put a check.  Then choose a spot where you\n",
    "think the chances are about the same that the bug is before\n",
    "or after the check."
   ]
  },
  {
   "cell_type": "markdown",
   "metadata": {},
   "source": [
    "## 7.8 Glossary\n",
    "\n",
    "- **reassignment:** Assigning a new value to a variable that\n",
    "already exists.\n",
    "\n",
    "- **update:** An assignment where the new value of the variable\n",
    "depends on the old.\n",
    "\n",
    "- **initialization:** An assignment that gives an initial value to\n",
    "a variable that will be updated.\n",
    "\n",
    "- **increment:** An update that increases the value of a variable\n",
    "(often by one).\n",
    "\n",
    "- **decrement:** An update that decreases the value of a variable.\n",
    "\n",
    "- **iteration:** Repeated execution of a set of statements using\n",
    "either a recursive function call or a loop.\n",
    "\n",
    "- **infinite loop:** A loop in which the terminating condition is\n",
    "never satisfied.\n",
    "\n",
    "- **algorithm:**  A general process for solving a category of\n",
    "problems.\n"
   ]
  },
  {
   "cell_type": "markdown",
   "metadata": {},
   "source": [
    "## <font color=\"red\">練習1</font>\n",
    "\n",
    "### 完成 Exercise 7.1 至 7.3 的練習"
   ]
  },
  {
   "cell_type": "markdown",
   "metadata": {},
   "source": [
    "## 7.9 Exercises\n",
    "\n",
    "### Exercise 7.1\n",
    "\n",
    "Copy the loop from Section 7.5\n",
    "and encapsulate it in a function called\n",
    "`mysqrt` that takes `a` as a parameter, chooses a\n",
    "reasonable value of `x`, and returns an estimate of the square\n",
    "root of `a`.\n",
    "\n",
    "To test it, write a function named `test_square_root`\n",
    "that prints a table like this:\n",
    "\n",
    "```\n",
    "a   mysqrt(a)     math.sqrt(a)  diff\n",
    "-   ---------     ------------  ----\n",
    "1.0 1.0           1.0           0.0\n",
    "2.0 1.41421356237 1.41421356237 2.22044604925e-16\n",
    "3.0 1.73205080757 1.73205080757 0.0\n",
    "4.0 2.0           2.0           0.0\n",
    "5.0 2.2360679775  2.2360679775  0.0\n",
    "6.0 2.44948974278 2.44948974278 0.0\n",
    "7.0 2.64575131106 2.64575131106 0.0\n",
    "8.0 2.82842712475 2.82842712475 4.4408920985e-16\n",
    "9.0 3.0           3.0           0.0\n",
    "```\n",
    "\n",
    "The first column is a number, $a$; the second column is the square\n",
    "root of $a$ computed with `mysqrt`; the third column is the\n",
    "square root computed by `math.sqrt`; the fourth column is the\n",
    "absolute value of the difference between the two estimates."
   ]
  },
  {
   "cell_type": "code",
   "execution_count": 3,
   "metadata": {},
   "outputs": [
    {
     "name": "stdout",
     "output_type": "stream",
     "text": [
      "a      mysqrt(a)      math.sqrt(a)      diff\n",
      "---    ---------      ------------      ----\n"
     ]
    },
    {
     "ename": "NameError",
     "evalue": "name 'a' is not defined",
     "output_type": "error",
     "traceback": [
      "\u001b[1;31m---------------------------------------------------------------------------\u001b[0m",
      "\u001b[1;31mNameError\u001b[0m                                 Traceback (most recent call last)",
      "\u001b[1;32m~\\AppData\\Local\\Temp/ipykernel_21004/3491035830.py\u001b[0m in \u001b[0;36m<module>\u001b[1;34m\u001b[0m\n\u001b[0;32m     22\u001b[0m         \u001b[0mprint\u001b[0m\u001b[1;33m(\u001b[0m\u001b[0mq\u001b[0m\u001b[1;33m,\u001b[0m\u001b[1;34m\" \"\u001b[0m\u001b[1;33m*\u001b[0m\u001b[1;36m2\u001b[0m\u001b[1;33m,\u001b[0m\u001b[1;34m\"{:<13f}\"\u001b[0m\u001b[1;33m.\u001b[0m\u001b[0mformat\u001b[0m\u001b[1;33m(\u001b[0m\u001b[0mw\u001b[0m\u001b[1;33m)\u001b[0m\u001b[1;33m,\u001b[0m\u001b[1;34m\" \"\u001b[0m\u001b[1;33m*\u001b[0m\u001b[1;36m2\u001b[0m\u001b[1;33m,\u001b[0m\u001b[1;34m\"{:<13f}\"\u001b[0m\u001b[1;33m.\u001b[0m\u001b[0mformat\u001b[0m\u001b[1;33m(\u001b[0m\u001b[0me\u001b[0m\u001b[1;33m)\u001b[0m\u001b[1;33m,\u001b[0m\u001b[1;34m\" \"\u001b[0m\u001b[1;33m*\u001b[0m\u001b[1;36m2\u001b[0m\u001b[1;33m,\u001b[0m\u001b[0mr\u001b[0m\u001b[1;33m)\u001b[0m\u001b[1;33m\u001b[0m\u001b[1;33m\u001b[0m\u001b[0m\n\u001b[0;32m     23\u001b[0m \u001b[1;33m\u001b[0m\u001b[0m\n\u001b[1;32m---> 24\u001b[1;33m \u001b[0mtest_square_root\u001b[0m\u001b[1;33m(\u001b[0m\u001b[0ma\u001b[0m\u001b[1;33m)\u001b[0m\u001b[1;33m\u001b[0m\u001b[1;33m\u001b[0m\u001b[0m\n\u001b[0m",
      "\u001b[1;31mNameError\u001b[0m: name 'a' is not defined"
     ]
    }
   ],
   "source": [
    "import math\n",
    "\n",
    "print(\"a\", \" \"*4, \"mysqrt(a)\" ,\" \"*4, \"math.sqrt(a)\", \" \"*4, \"diff\")\n",
    "print(\"-\"*3 ,\" \"*2, \"-\"*9 ,\" \"*4,\"-\"*12 ,\" \"*4, \"-\"*4 )\n",
    "\n",
    "def mysqrt(a):\n",
    "    x = a/2\n",
    "    while True:\n",
    "        estimated_root = (x + a/x) / 2\n",
    "        if estimated_root == x:\n",
    "            return estimated_root\n",
    "            break\n",
    "        x = estimated_root\n",
    "        \n",
    "def test_square_root(a):\n",
    "    for a in range(1,10):\n",
    "        q=float(a)\n",
    "        w=mysqrt(a)\n",
    "        e=math.sqrt(a)\n",
    "        r=abs(mysqrt(a) - math.sqrt(a))\n",
    "        \n",
    "        print(q,\" \"*2,\"{:<13f}\".format(w),\" \"*2,\"{:<13f}\".format(e),\" \"*2,r)\n",
    "        \n",
    "test_square_root(a)    "
   ]
  },
  {
   "cell_type": "markdown",
   "metadata": {},
   "source": [
    "### Exercise 7.2\n",
    "\n",
    "The built-in function `eval` takes a string and evaluates\n",
    "it using the Python interpreter.  For example:\n",
    "\n",
    "```\n",
    ">>> eval('1 + 2 * 3')\n",
    "7\n",
    ">>> import math\n",
    ">>> eval('math.sqrt(5)')\n",
    "2.2360679774997898\n",
    ">>> eval('type(math.pi)')\n",
    "<class 'float'>\n",
    "```\n",
    "\n",
    "Write a function called `eval_loop` that iteratively\n",
    "prompts the user, takes the resulting input and evaluates\n",
    "it using `eval`, and prints the result.\n",
    "\n",
    "It should continue until the user enters \"done\", and then\n",
    "return the value of the last expression it evaluated."
   ]
  },
  {
   "cell_type": "code",
   "execution_count": null,
   "metadata": {},
   "outputs": [],
   "source": [
    "def eval_loop():\n",
    "    \n",
    "    while True:\n",
    "        user_input = input(\">>> \")\n",
    "        \n",
    "        if eval(user_input) == 'done':  \n",
    "            break\n",
    "        print(eval(user_input))\n",
    "\n",
    "    return eval(user_input)\n",
    "\n",
    "eval_loop()"
   ]
  },
  {
   "cell_type": "markdown",
   "metadata": {},
   "source": [
    "### Exercise 7.3\n",
    "\n",
    "The mathematician Srinivasa Ramanujan found an\n",
    "infinite series\n",
    "that can be used to generate a numerical\n",
    "approximation of $1 / \\pi$:\n",
    "\n",
    "$$\n",
    "\\frac{1}{\\pi} = \\frac{2\\sqrt{2}}{9801} \n",
    "\\sum^\\infty_{k=0} \\frac{(4k)!(1103+26390k)}{(k!)^4 396^{4k}}\n",
    "$$\n",
    "\n",
    "Write a function called `estimate_pi` that uses this formula\n",
    "to compute and return an estimate of $\\pi$.  It should use a `while`\n",
    "loop to compute terms of the summation until the last term is\n",
    "smaller than `1e-15` (which is Python notation for $10^{-15}$).\n",
    "You can check the result by comparing it to `math.pi`.\n",
    "\n",
    "Solution: http://thinkpython2.com/code/pi.py.\n"
   ]
  },
  {
   "cell_type": "code",
   "execution_count": null,
   "metadata": {},
   "outputs": [],
   "source": [
    "from __future__ import print_function, division\n",
    "\n",
    "import math\n",
    "\n",
    "\n",
    "def factorial(n):\n",
    "    if n == 0:\n",
    "        return 1\n",
    "    else:\n",
    "        recurse = factorial(n-1)\n",
    "        result = n * recurse\n",
    "        return result\n",
    "\n",
    "\n",
    "def estimate_pi():\n",
    "    total = 0\n",
    "    k = 0\n",
    "    factor = 2 * math.sqrt(2) / 9801\n",
    "    while True:\n",
    "        num = factorial(4*k) * (1103 + 26390*k)\n",
    "        den = factorial(k)**4 * 396**(4*k)\n",
    "        \n",
    "        total += num / den\n",
    "        term = factor * num/den\n",
    "        \n",
    "        if abs(term) < 1e-15:\n",
    "            break\n",
    "        k += 1\n",
    "    \n",
    "    return 1 / (factor * total)\n",
    "\n",
    "print(estimate_pi())"
   ]
  },
  {
   "cell_type": "markdown",
   "metadata": {},
   "source": [
    "## <font color=\"red\">練習2</font>\n",
    "\n",
    "1. 利用 random 產生介於 1 至 6 的整數，模擬丟擲一個骰子 $6 \\times 10^n$ 次，$1 <= n <= 7$。\n",
    "2. 統計骰子每一面出現的次數，驗證其公正性(公正的骰子每一面出現的次數應該相近)，輸出的格式如下表所示。\n",
    "3. 畫出程式的流程圖。\n",
    "\n",
    "```\n",
    "       N        1        2        3        4        5        6\n",
    "      60       13       12        9       12        6        8\n",
    "     600       99      102       94       97      105      103\n",
    "    6000     1081      999      986      934      989     1011\n",
    "   60000    10134    10041     9943     9981     9968     9933\n",
    "  600000   100379   100378   100345    99273    99603   100022\n",
    " 6000000  1001395   999785   998274  1001996   999694   998856\n",
    "60000000 10002066 10000833  9999945  9996924 10000903  9999329\n",
    "```\n",
    "### 流程圖參考資料：\n",
    "Flowchart Elements <br>\n",
    "https://www.tutorialspoint.com/programming_methodologies/programming_methodologies_flowchart_elements.htm\n",
    "\n",
    "Flowchart Tutorial <br>\n",
    "https://online.visual-paradigm.com/diagrams/tutorials/flowchart-tutorial/"
   ]
  },
  {
   "cell_type": "code",
   "execution_count": 1,
   "metadata": {},
   "outputs": [
    {
     "name": "stdout",
     "output_type": "stream",
     "text": [
      "       N        1        2        3        4        5        6\n",
      "      60        8        8       10       13       13        8\n",
      "     600      113      111      107      104      129       96\n",
      "    6000     1135     1079     1128     1090     1165     1063\n",
      "   60000    11212    11050    11244    11231    11088    10835\n",
      "  600000   111054   110849   110966   111427   111175   111189\n",
      " 6000000  1110645  1111470  1112012  1110321  1110482  1111730\n",
      "60000000 11109505 11110747 11112188 11109456 11107909 11116855\n"
     ]
    }
   ],
   "source": [
    "import random\n",
    "\n",
    "n1 = 0\n",
    "n2 = 0\n",
    "n3 = 0\n",
    "n4 = 0\n",
    "n5 = 0\n",
    "n6 = 0\n",
    "\n",
    "print('{:>8} {:>8} {:>8} {:>8} {:>8} {:>8} {:>8}'.format('N',1,2,3,4,5,6))\n",
    "\n",
    "for i in range(1,8):\n",
    "    N = 6*10**i\n",
    "    for j in range(N):\n",
    "        x = random.randint(1,6)\n",
    "        if x == 1:\n",
    "            n1 = n1 + 1\n",
    "        elif x == 2:\n",
    "            n2 = n2 + 1\n",
    "        elif x == 3:\n",
    "            n3 = n3 + 1\n",
    "        elif x == 4:\n",
    "            n4 = n4 + 1\n",
    "        elif x == 5:\n",
    "            n5 = n5 + 1\n",
    "        else:\n",
    "            n6 = n6 + 1\n",
    "    print('{:>8} {:>8} {:>8} {:>8} {:>8} {:>8} {:>8}'.format(N,n1,n2,n3,n4,n5,n6))     \n",
    "        \n",
    "        "
   ]
  },
  {
   "cell_type": "markdown",
   "metadata": {},
   "source": [
    "<img src=\"703.jpg\">"
   ]
  },
  {
   "cell_type": "markdown",
   "metadata": {},
   "source": [
    "<h3>這是一個示範如何使用迴圈進行統計運算的範例</h3>\n",
    "\n",
    "1. 隨機亂數的用法\n",
    "2. for 迴圈的用法\n",
    "3. 計算累計加總和平均值\n",
    "\n",
    "### Python random documentation\n",
    "https://docs.python.org/3/library/random.html"
   ]
  },
  {
   "cell_type": "code",
   "execution_count": null,
   "metadata": {},
   "outputs": [],
   "source": [
    "import random\n",
    "\n",
    "for i in range(10):\n",
    "    r = random.random()\n",
    "    print('i = {}, r = {}'.format(i, r))"
   ]
  },
  {
   "cell_type": "code",
   "execution_count": null,
   "metadata": {},
   "outputs": [],
   "source": [
    "import random\n",
    "\n",
    "# create a random integer x, 60 <= x <= 100\n",
    "x = random.randint(60,100)\n",
    "print(x)"
   ]
  },
  {
   "cell_type": "code",
   "execution_count": null,
   "metadata": {},
   "outputs": [],
   "source": [
    "num_students = 40\n",
    "\n",
    "# create a series of random integers\n",
    "for i in range(num_students):\n",
    "    x = random.randint(60,100)\n",
    "    print(x)"
   ]
  },
  {
   "cell_type": "code",
   "execution_count": null,
   "metadata": {},
   "outputs": [],
   "source": [
    "num_students = 40\n",
    "\n",
    "# create a series of random integers\n",
    "for i in range(num_students):\n",
    "    x = random.randint(60,100)\n",
    "    print('i = ', i, 'x = ', x)"
   ]
  },
  {
   "cell_type": "code",
   "execution_count": null,
   "metadata": {},
   "outputs": [],
   "source": [
    "import random\n",
    "num_students = 10\n",
    "\n",
    "# initialize the variable sum\n",
    "sum = 0\n",
    "\n",
    "for i in range(num_students):\n",
    "    x = random.randint(60,100)\n",
    "    \n",
    "    # update sum each time we have a new integer\n",
    "    sum = sum + x\n",
    "    print(x, sum)\n",
    "    \n",
    "# calculate the average\n",
    "average = 1.0 * sum / num_students\n",
    "print(\"average = \", average) "
   ]
  },
  {
   "cell_type": "code",
   "execution_count": null,
   "metadata": {},
   "outputs": [],
   "source": [
    "import random\n",
    "\n",
    "num_students = 10\n",
    "\n",
    "# initialize the variable sum\n",
    "sum = 0\n",
    "n = 0\n",
    "for i in range(num_students):\n",
    "    x = random.randint(60,100)\n",
    "    \n",
    "    # update sum each time we have a new integer\n",
    "    if x >= 70:\n",
    "        n = n + 1\n",
    "        sum = sum + x\n",
    "        print(x, sum)\n",
    "    \n",
    "# calculate the average\n",
    "average = 1.0 * sum / n\n",
    "print(\"n = {}, sum = {}, average = {}\".format(n, sum, average)) "
   ]
  },
  {
   "cell_type": "markdown",
   "metadata": {},
   "source": [
    "### 輸出之 format (格式)控制\n",
    "\n",
    "1. {:>8} 代表靠右對齊，佔 8 位\n",
    "2. {:<8} 代表靠左對齊，佔 8 位\n",
    "3. {:^8} 代表置中對齊，佔 8 位"
   ]
  },
  {
   "cell_type": "code",
   "execution_count": null,
   "metadata": {},
   "outputs": [],
   "source": [
    "print('{:>8} {:>8} {:>8} {:>8} {:>8} {:>8} {:>8}'.format('N',1,2,3,4,5,6))\n",
    "print('{:>8} {:>8} {:>8} {:>8} {:>8} {:>8} {:>8}'.format(6000,1081,999,986,934,989,1011))\n",
    "print('{:>8} {:>8} {:>8} {:>8} {:>8} {:>8} {:>8}'.format(60000,10134,10041,9943,9981,9968,9933))\n",
    "print('{:>8} {:>8} {:>8} {:>8} {:>8} {:>8} {:>8}'.format(600000,100379,100378,100345,99273,99603,100022))"
   ]
  },
  {
   "cell_type": "code",
   "execution_count": null,
   "metadata": {},
   "outputs": [],
   "source": [
    "print('{:^9} {:<8} {:>8} {:>8} {:>8} {:>8} {:>8}'.format('N',1,2,3,4,5,6))\n",
    "print('{:^9} {:<8} {:>8} {:>8} {:>8} {:>8} {:>8}'.format(6000,1081,999,986,934,989,1011))\n",
    "print('{:^9} {:<8} {:>8} {:>8} {:>8} {:>8} {:>8}'.format(60000,10134,10041,9943,9981,9968,9933))\n",
    "print('{:^9} {:<8} {:>8} {:>8} {:>8} {:>8} {:>8}'.format(600000,100379,100378,100345,99273,99603,100022))"
   ]
  },
  {
   "cell_type": "code",
   "execution_count": null,
   "metadata": {},
   "outputs": [],
   "source": []
  }
 ],
 "metadata": {
  "kernelspec": {
   "display_name": "Python 3 (ipykernel)",
   "language": "python",
   "name": "python3"
  },
  "language_info": {
   "codemirror_mode": {
    "name": "ipython",
    "version": 3
   },
   "file_extension": ".py",
   "mimetype": "text/x-python",
   "name": "python",
   "nbconvert_exporter": "python",
   "pygments_lexer": "ipython3",
   "version": "3.9.7"
  }
 },
 "nbformat": 4,
 "nbformat_minor": 1
}
