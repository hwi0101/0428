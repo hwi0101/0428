{
 "cells": [
  {
   "cell_type": "markdown",
   "metadata": {},
   "source": [
    "# Computer Programming\n",
    "\n",
    "## Midterm exam (2022/04/13)\n",
    "\n",
    "1. 撰寫一個Python程式，依據下列函式(function)之需求，讓使用者輸入平面直角坐標系中的點坐標(X, Y)或角度的值，然後呼叫這些function\n",
    "    \n",
    "2. 請利用 **Jupyter Notebook** 撰寫程式，並給予適當的註解。<br>\n",
    "\n",
    "3. 注意事項：<br>\n",
    "    - 請將notebook名稱改為你的學號<br>\n",
    "    - 請設計一個歡迎訊息，並顯示功能選項，\n",
    "    - 依據使用者選擇的功能，提示使用者輸入資料，然後呼叫 function，並列印其結果\n",
    "    - 如果使用者選擇的功能不存在，應該輸出警告訊息給予提示\n",
    "    - 你的程式應該從鍵盤讀進測試的資料(點坐標和角度)<br>\n",
    "    - 所有的值(value)和變數(variable)都應注意其型態(type)，設計function應仔細考慮呼叫時要傳什麼argument給它才能達到目的<br>\n",
    "    - function若要傳回多個值，可以在 **return** 之後列出要傳回的值，例如： **return x,y** <br>\n",
    "    - 每一個程式應加上適當的註解，__main__中應該包括輸入資料和呼叫function的指令<br>\n",
    "    - 請將 notebook 上傳到 Moodle 教學平台。<br>\n",
    "    \n",
    "<P>\n",
    "    \n",
    "<img src='fig.png'>\n"
   ]
  },
  {
   "cell_type": "code",
   "execution_count": 2,
   "metadata": {},
   "outputs": [],
   "source": [
    "a=999.99\n",
    "b=801.55\n",
    "c=1680.03\n",
    "d=1264.92\n",
    "e=1878.82\n"
   ]
  },
  {
   "cell_type": "code",
   "execution_count": 3,
   "metadata": {},
   "outputs": [
    {
     "name": "stdout",
     "output_type": "stream",
     "text": [
      "2865.2686865164114\n",
      "2.4104446577006446\n"
     ]
    }
   ],
   "source": [
    "import math\n",
    "\n",
    "a3=math.sqrt(a**2+e**2-2*a*e*(-0.9793))\n",
    "print (a3)\n",
    "\n",
    "a4=(a3/a/e*0.003/math.sqrt(2)*206264.8)\n",
    "a5=(math.sqrt(a**2+e**2)/a/e*0.005*206264.8)\n",
    "\n",
    "\n",
    "print(math.sqrt(a4**2+a5**2+4))\n"
   ]
  },
  {
   "cell_type": "code",
   "execution_count": 4,
   "metadata": {},
   "outputs": [
    {
     "name": "stdout",
     "output_type": "stream",
     "text": [
      "873.229415455011\n",
      "2.635598690694627\n"
     ]
    }
   ],
   "source": [
    "\n",
    "import math\n",
    "\n",
    "b3=math.sqrt(b**2+a**2-2*b*a*(0.5489))\n",
    "print (b3)\n",
    "\n",
    "b4=(b3/b/a*0.003/math.sqrt(2)*206264.8)\n",
    "b5=(math.sqrt(b**2+a**2)/b/a*0.005*206264.8)\n",
    "\n",
    "\n",
    "print(math.sqrt(b4**2+b5**2+4))\n",
    "\n",
    "\n",
    "\n"
   ]
  },
  {
   "cell_type": "code",
   "execution_count": 5,
   "metadata": {},
   "outputs": [
    {
     "name": "stdout",
     "output_type": "stream",
     "text": [
      "2220.325469921628\n",
      "2.5598466062606082\n"
     ]
    }
   ],
   "source": [
    "import math\n",
    "\n",
    "c3=math.sqrt(c**2+b**2-2*c*b*(-0.5439))\n",
    "print (c3)\n",
    "\n",
    "c4=(c3/c/b*0.003/math.sqrt(2)*206264.8)\n",
    "c5=(math.sqrt(c**2+b**2)/c/b*0.005*206264.8)\n",
    "\n",
    "\n",
    "print(math.sqrt(c4**2+c5**2+4))\n",
    "\n"
   ]
  },
  {
   "cell_type": "code",
   "execution_count": 6,
   "metadata": {},
   "outputs": [
    {
     "name": "stdout",
     "output_type": "stream",
     "text": [
      "2619.569101960244\n",
      "2.3092229369753445\n"
     ]
    }
   ],
   "source": [
    "import math\n",
    "\n",
    "d3=math.sqrt(d**2+c**2-2*d*c*(-0.5740))\n",
    "print (d3)\n",
    "\n",
    "d4=(d3/d/c*0.003/math.sqrt(2)*206264.8)\n",
    "d5=(math.sqrt(d**2+c**2)/d/c*0.005*206264.8)\n",
    "\n",
    "\n",
    "print(math.sqrt(d4**2+d5**2+4))\n",
    "\n"
   ]
  },
  {
   "cell_type": "code",
   "execution_count": 7,
   "metadata": {},
   "outputs": [
    {
     "name": "stdout",
     "output_type": "stream",
     "text": [
      "1300.061000532452\n",
      "2.241286512357344\n"
     ]
    }
   ],
   "source": [
    "import math\n",
    "\n",
    "e3=math.sqrt(e**2+d**2-2*e*d*(0.7237))\n",
    "print (e3)\n",
    "\n",
    "e4=(e3/e/d*0.003/math.sqrt(2)*206264.8)\n",
    "e5=(math.sqrt(e**2+d**2)/e/d*0.005*206264.8)\n",
    "\n",
    "\n",
    "print(math.sqrt(e4**2+e5**2+4))\n",
    "\n"
   ]
  },
  {
   "cell_type": "code",
   "execution_count": 11,
   "metadata": {},
   "outputs": [
    {
     "data": {
      "text/plain": [
       "0.011791514745820403"
      ]
     },
     "execution_count": 11,
     "metadata": {},
     "output_type": "execute_result"
    }
   ],
   "source": [
    "import math\n",
    "\n",
    "math.sqrt((0.003)**2+(0.005)**2+(0.0098)**2+(a*3/1000000)**2)\n",
    "\n",
    "\n",
    "\n"
   ]
  },
  {
   "cell_type": "code",
   "execution_count": 12,
   "metadata": {},
   "outputs": [
    {
     "data": {
      "text/plain": [
       "0.011654284260412562"
      ]
     },
     "execution_count": 12,
     "metadata": {},
     "output_type": "execute_result"
    }
   ],
   "source": [
    "math.sqrt((0.003)**2+(0.005)**2+(0.0098)**2+(b*3/1000000)**2)\n"
   ]
  },
  {
   "cell_type": "code",
   "execution_count": 13,
   "metadata": {},
   "outputs": [
    {
     "data": {
      "text/plain": [
       "0.012467658449287902"
      ]
     },
     "execution_count": 13,
     "metadata": {},
     "output_type": "execute_result"
    }
   ],
   "source": [
    "math.sqrt((0.003)**2+(0.005)**2+(0.0098)**2+(c*3/1000000)**2)"
   ]
  },
  {
   "cell_type": "code",
   "execution_count": 14,
   "metadata": {},
   "outputs": [
    {
     "data": {
      "text/plain": [
       "0.012018327814533934"
      ]
     },
     "execution_count": 14,
     "metadata": {},
     "output_type": "execute_result"
    }
   ],
   "source": [
    "math.sqrt((0.003)**2+(0.005)**2+(0.0098)**2+(d*3/1000000)**2)"
   ]
  },
  {
   "cell_type": "code",
   "execution_count": 15,
   "metadata": {},
   "outputs": [
    {
     "data": {
      "text/plain": [
       "0.012720443440839632"
      ]
     },
     "execution_count": 15,
     "metadata": {},
     "output_type": "execute_result"
    }
   ],
   "source": [
    "math.sqrt((0.003)**2+(0.005)**2+(0.0098)**2+(e*3/1000000)**2)"
   ]
  },
  {
   "cell_type": "markdown",
   "metadata": {},
   "source": [
    "## choice 1\n",
    "Design a function that takes an argument, and prints a welcome message such as the following.\n",
    "\n",
    "\"Hello, Peter. Welcome to NCCU!\"\n",
    "\n",
    "where \"Peter\" is the value of the argument.\n",
    "\n",
    "<font color=\"red\">The answer is shown below.</font>"
   ]
  },
  {
   "cell_type": "code",
   "execution_count": null,
   "metadata": {},
   "outputs": [],
   "source": []
  },
  {
   "cell_type": "code",
   "execution_count": null,
   "metadata": {},
   "outputs": [],
   "source": []
  },
  {
   "cell_type": "code",
   "execution_count": 1,
   "metadata": {},
   "outputs": [
    {
     "name": "stdout",
     "output_type": "stream",
     "text": [
      "Hello Peter .Welcome to NCCU!\n"
     ]
    }
   ],
   "source": [
    "def welcome_message(k):\n",
    "    print(\"Hello\",k ,\".Welcome to NCCU!\")\n",
    "    \n",
    "\n",
    "welcome_message(\"Peter\")\n",
    "\n",
    "#"
   ]
  },
  {
   "cell_type": "markdown",
   "metadata": {},
   "source": []
  },
  {
   "cell_type": "markdown",
   "metadata": {},
   "source": [
    "## choice 2\n",
    "Design a function named \"countdown\", which is a recursive function that does countdown based on the given argument.\n",
    "For example, it produces the following output when called with countdown(3).\n",
    "```\n",
    "3\n",
    "2\n",
    "1\n",
    "Blast off!\n",
    "```\n",
    "\n",
    "<font color=\"red\">The answer is shown below.</font>"
   ]
  },
  {
   "cell_type": "markdown",
   "metadata": {},
   "source": [
    "## choice 3\n",
    "Design a function that takes two arguments, which are both numbers. It returns:\n",
    "- 0: if both are equal,\n",
    "- -1: if first argument is less than the second argument,\n",
    "- 1: if the first argument is larger than the second argument.\n"
   ]
  },
  {
   "cell_type": "code",
   "execution_count": 2,
   "metadata": {},
   "outputs": [
    {
     "ename": "KeyboardInterrupt",
     "evalue": "Interrupted by user",
     "output_type": "error",
     "traceback": [
      "\u001b[1;31m---------------------------------------------------------------------------\u001b[0m",
      "\u001b[1;31mKeyboardInterrupt\u001b[0m                         Traceback (most recent call last)",
      "\u001b[1;32m~\\AppData\\Local\\Temp/ipykernel_2276/3815440684.py\u001b[0m in \u001b[0;36m<module>\u001b[1;34m\u001b[0m\n\u001b[0;32m     11\u001b[0m \u001b[1;33m\u001b[0m\u001b[0m\n\u001b[0;32m     12\u001b[0m \u001b[1;33m\u001b[0m\u001b[0m\n\u001b[1;32m---> 13\u001b[1;33m \u001b[0ma1\u001b[0m\u001b[1;33m=\u001b[0m\u001b[0mint\u001b[0m\u001b[1;33m(\u001b[0m\u001b[0minput\u001b[0m\u001b[1;33m(\u001b[0m\u001b[1;34m\"第一個數值:\"\u001b[0m\u001b[1;33m)\u001b[0m\u001b[1;33m)\u001b[0m\u001b[1;33m\u001b[0m\u001b[1;33m\u001b[0m\u001b[0m\n\u001b[0m\u001b[0;32m     14\u001b[0m \u001b[0mb1\u001b[0m\u001b[1;33m=\u001b[0m\u001b[0mint\u001b[0m\u001b[1;33m(\u001b[0m\u001b[0minput\u001b[0m\u001b[1;33m(\u001b[0m\u001b[1;34m\"第二個數值:\"\u001b[0m\u001b[1;33m)\u001b[0m\u001b[1;33m)\u001b[0m\u001b[1;33m\u001b[0m\u001b[1;33m\u001b[0m\u001b[0m\n\u001b[0;32m     15\u001b[0m \u001b[1;33m\u001b[0m\u001b[0m\n",
      "\u001b[1;32mC:\\Anaconda\\lib\\site-packages\\ipykernel\\kernelbase.py\u001b[0m in \u001b[0;36mraw_input\u001b[1;34m(self, prompt)\u001b[0m\n\u001b[0;32m   1004\u001b[0m                 \u001b[1;34m\"raw_input was called, but this frontend does not support input requests.\"\u001b[0m\u001b[1;33m\u001b[0m\u001b[1;33m\u001b[0m\u001b[0m\n\u001b[0;32m   1005\u001b[0m             )\n\u001b[1;32m-> 1006\u001b[1;33m         return self._input_request(\n\u001b[0m\u001b[0;32m   1007\u001b[0m             \u001b[0mstr\u001b[0m\u001b[1;33m(\u001b[0m\u001b[0mprompt\u001b[0m\u001b[1;33m)\u001b[0m\u001b[1;33m,\u001b[0m\u001b[1;33m\u001b[0m\u001b[1;33m\u001b[0m\u001b[0m\n\u001b[0;32m   1008\u001b[0m             \u001b[0mself\u001b[0m\u001b[1;33m.\u001b[0m\u001b[0m_parent_ident\u001b[0m\u001b[1;33m[\u001b[0m\u001b[1;34m\"shell\"\u001b[0m\u001b[1;33m]\u001b[0m\u001b[1;33m,\u001b[0m\u001b[1;33m\u001b[0m\u001b[1;33m\u001b[0m\u001b[0m\n",
      "\u001b[1;32mC:\\Anaconda\\lib\\site-packages\\ipykernel\\kernelbase.py\u001b[0m in \u001b[0;36m_input_request\u001b[1;34m(self, prompt, ident, parent, password)\u001b[0m\n\u001b[0;32m   1049\u001b[0m             \u001b[1;32mexcept\u001b[0m \u001b[0mKeyboardInterrupt\u001b[0m\u001b[1;33m:\u001b[0m\u001b[1;33m\u001b[0m\u001b[1;33m\u001b[0m\u001b[0m\n\u001b[0;32m   1050\u001b[0m                 \u001b[1;31m# re-raise KeyboardInterrupt, to truncate traceback\u001b[0m\u001b[1;33m\u001b[0m\u001b[1;33m\u001b[0m\u001b[0m\n\u001b[1;32m-> 1051\u001b[1;33m                 \u001b[1;32mraise\u001b[0m \u001b[0mKeyboardInterrupt\u001b[0m\u001b[1;33m(\u001b[0m\u001b[1;34m\"Interrupted by user\"\u001b[0m\u001b[1;33m)\u001b[0m \u001b[1;32mfrom\u001b[0m \u001b[1;32mNone\u001b[0m\u001b[1;33m\u001b[0m\u001b[1;33m\u001b[0m\u001b[0m\n\u001b[0m\u001b[0;32m   1052\u001b[0m             \u001b[1;32mexcept\u001b[0m \u001b[0mException\u001b[0m\u001b[1;33m:\u001b[0m\u001b[1;33m\u001b[0m\u001b[1;33m\u001b[0m\u001b[0m\n\u001b[0;32m   1053\u001b[0m                 \u001b[0mself\u001b[0m\u001b[1;33m.\u001b[0m\u001b[0mlog\u001b[0m\u001b[1;33m.\u001b[0m\u001b[0mwarning\u001b[0m\u001b[1;33m(\u001b[0m\u001b[1;34m\"Invalid Message:\"\u001b[0m\u001b[1;33m,\u001b[0m \u001b[0mexc_info\u001b[0m\u001b[1;33m=\u001b[0m\u001b[1;32mTrue\u001b[0m\u001b[1;33m)\u001b[0m\u001b[1;33m\u001b[0m\u001b[1;33m\u001b[0m\u001b[0m\n",
      "\u001b[1;31mKeyboardInterrupt\u001b[0m: Interrupted by user"
     ]
    }
   ],
   "source": [
    "def compare(a,b):\n",
    "    if a==b:\n",
    "        print(0)\n",
    "        return 0\n",
    "    elif a<b:\n",
    "        print(-1)\n",
    "        return -1\n",
    "    else:\n",
    "        print(1)\n",
    "        return 1\n",
    "        \n",
    "    \n",
    "a1=int(input(\"第一個數值:\"))\n",
    "b1=int(input(\"第二個數值:\"))\n",
    "    \n",
    "compare_(a1,b1)"
   ]
  },
  {
   "cell_type": "markdown",
   "metadata": {},
   "source": [
    "## choice 4\n",
    "Design a function named `shape`, which takes four arguments that are (x,y) coordinates of two points. It returns:\n",
    "- 1: if these two points forms a square,\n",
    "- 2: if these two points forms a rectangle,\n",
    "- 0: if there two points overlaps."
   ]
  },
  {
   "cell_type": "code",
   "execution_count": null,
   "metadata": {},
   "outputs": [],
   "source": [
    "def shape(x1,y1,x2,y2):\n",
    "    \n",
    "    if x1>x2 and y1<y2:\n",
    "        if x1-x2==y2-y1:\n",
    "            print(1)\n",
    "        else:\n",
    "            print(2)\n",
    "    \n",
    "    elif x1<x2 and y1>y2:\n",
    "        if x2-x1==y1-y2:\n",
    "            print (1)\n",
    "        else:\n",
    "            print(2)\n",
    "            \n",
    "    elif x1==x2 or y1==y2 :\n",
    "        print (0)\n",
    "        \n",
    "\n",
    "a1 = int(input('請輸入x1:'))   \n",
    "b1 = int(input('請輸入y1:'))\n",
    "a2 = int(input('請輸入x2:'))   \n",
    "b2 = int(input('請輸入y2:'))\n",
    "\n",
    "shape(a1,b1,a2,b2)\n"
   ]
  },
  {
   "cell_type": "code",
   "execution_count": null,
   "metadata": {},
   "outputs": [],
   "source": [
    "import math\n",
    "\n",
    "def shape(x1,y1,x2,y2):\n",
    "    \n",
    "    if (math.sqrt((x1-x2)**2+(y1-y2**2))"
   ]
  },
  {
   "cell_type": "markdown",
   "metadata": {},
   "source": [
    "## choice 5\n",
    "Design a function named `rect`, which takes four arguments that are (x,y) coordinates of two different points. It returns:\n",
    "- extent (範圍): the $x_{min}, y_{min}, x_{max}, y_{max}$\n",
    "- area (面積): the area of the rectangle formed by these two points,\n",
    "- perimeter (周長): the perimeter of the rectangle formed by these two points,\n",
    "- size (對角線長度): the diagonal length of the rectangle formed by these two points,\n",
    "- width (寬度): the width of the rectangle formed by these two points,\n",
    "- height (長度): the height of the rectangle formed by these two points"
   ]
  },
  {
   "cell_type": "code",
   "execution_count": 2,
   "metadata": {},
   "outputs": [
    {
     "name": "stdout",
     "output_type": "stream",
     "text": [
      "請輸入x1:1\n",
      "請輸入y1:0\n",
      "請輸入x2:0\n",
      "請輸入y2:1\n",
      "xmin是 0 xmax是 1 ymin是 0 ymax是 1\n",
      "面積是 1\n",
      "周長是 4\n",
      "對角線長度是 1.4142135623730951\n",
      "寬度是 1\n",
      "長度是 1\n"
     ]
    }
   ],
   "source": [
    "import math\n",
    "\n",
    "def rect(x1,y1,x2,y2):\n",
    "    if x1>x2 and y1<y2:\n",
    "        xmin=x2\n",
    "        xmax=x1\n",
    "        ymin=y1\n",
    "        ymax=y2\n",
    "        print(\"xmin是\",xmin,\"xmax是\",xmax,\"ymin是\",ymin,\"ymax是\",ymax)\n",
    "        \n",
    "        area=(x1-x2)*(y2-y1)\n",
    "        print('面積是',area)\n",
    "\n",
    "        perimeter=(x1-x2)*2+(y2-y1)*2\n",
    "        print('周長是',perimeter)\n",
    "        \n",
    "        size=math.sqrt((x1-x2)**2+(y1-y2)**2)\n",
    "        print('對角線長度是',size)\n",
    "        \n",
    "        width=x1-x2\n",
    "        print('寬度是',width)\n",
    "        \n",
    "        height=y2-y1\n",
    "        print('長度是',height)\n",
    "        \n",
    "        \n",
    "    elif x1<x2 and y1>y2:\n",
    "        xmin=x1\n",
    "        xmax=x2\n",
    "        ymin=y2\n",
    "        ymax=y1\n",
    "        print(\"xmin是\",xmin,\"xmax是\",xmax,\"ymin是\",ymin,\"ymax是\",ymax)\n",
    "        \n",
    "        area=(x2-x1)*(y1-y2)\n",
    "        print('面積是',area)\n",
    "\n",
    "        perimeter=(x2-x1)*2+(y1-y2)*2\n",
    "        print('周長是',perimeter)\n",
    "        \n",
    "        size=math.sqrt((x1-x2)**2+(y1-y2)**2)\n",
    "        print('對角線長度是',size)\n",
    "        \n",
    "        width=x2-x1\n",
    "        print('寬度是',width)\n",
    "        \n",
    "        height=y1-y2\n",
    "        print('長度是',height)\n",
    "         \n",
    "        \n",
    "a1 = int(input('請輸入x1:'))   \n",
    "b1 = int(input('請輸入y1:'))\n",
    "a2 = int(input('請輸入x2:'))   \n",
    "b2 = int(input('請輸入y2:'))\n",
    "\n",
    "rect(a1,b1,a2,b2)\n",
    "\n",
    "\n",
    "\n"
   ]
  },
  {
   "cell_type": "markdown",
   "metadata": {},
   "source": [
    "## choice 6\n",
    "\n",
    "Design a function named `circle`, which takes four arguments that are (x,y) coordinates of two different points. \n",
    "The first point is the center of a circle, and the second point is located on the circumference of the circle.\n",
    "It returns:\n",
    "    \n",
    "- extent (範圍): the $x_{min}, y_{min}, x_{max}, y_{max}$\n",
    "- radius (半徑): the radius of the circle formed by these two points,\n",
    "- area: the area of the circle formed by these two points,\n",
    "- perimeter: the perimeter of the circle formed by these two points."
   ]
  },
  {
   "cell_type": "code",
   "execution_count": 8,
   "metadata": {},
   "outputs": [
    {
     "ename": "KeyboardInterrupt",
     "evalue": "Interrupted by user",
     "output_type": "error",
     "traceback": [
      "\u001b[1;31m---------------------------------------------------------------------------\u001b[0m",
      "\u001b[1;31mKeyboardInterrupt\u001b[0m                         Traceback (most recent call last)",
      "\u001b[1;32m~\\AppData\\Local\\Temp/ipykernel_2276/2316189968.py\u001b[0m in \u001b[0;36m<module>\u001b[1;34m\u001b[0m\n\u001b[0;32m     72\u001b[0m \u001b[1;33m\u001b[0m\u001b[0m\n\u001b[0;32m     73\u001b[0m \u001b[1;33m\u001b[0m\u001b[0m\n\u001b[1;32m---> 74\u001b[1;33m \u001b[0ma1\u001b[0m \u001b[1;33m=\u001b[0m \u001b[0mint\u001b[0m\u001b[1;33m(\u001b[0m\u001b[0minput\u001b[0m\u001b[1;33m(\u001b[0m\u001b[1;34m'請輸入x1:'\u001b[0m\u001b[1;33m)\u001b[0m\u001b[1;33m)\u001b[0m\u001b[1;33m\u001b[0m\u001b[1;33m\u001b[0m\u001b[0m\n\u001b[0m\u001b[0;32m     75\u001b[0m \u001b[0mb1\u001b[0m \u001b[1;33m=\u001b[0m \u001b[0mint\u001b[0m\u001b[1;33m(\u001b[0m\u001b[0minput\u001b[0m\u001b[1;33m(\u001b[0m\u001b[1;34m'請輸入y1:'\u001b[0m\u001b[1;33m)\u001b[0m\u001b[1;33m)\u001b[0m\u001b[1;33m\u001b[0m\u001b[1;33m\u001b[0m\u001b[0m\n\u001b[0;32m     76\u001b[0m \u001b[0ma2\u001b[0m \u001b[1;33m=\u001b[0m \u001b[0mint\u001b[0m\u001b[1;33m(\u001b[0m\u001b[0minput\u001b[0m\u001b[1;33m(\u001b[0m\u001b[1;34m'請輸入x2:'\u001b[0m\u001b[1;33m)\u001b[0m\u001b[1;33m)\u001b[0m\u001b[1;33m\u001b[0m\u001b[1;33m\u001b[0m\u001b[0m\n",
      "\u001b[1;32mC:\\Anaconda\\lib\\site-packages\\ipykernel\\kernelbase.py\u001b[0m in \u001b[0;36mraw_input\u001b[1;34m(self, prompt)\u001b[0m\n\u001b[0;32m   1004\u001b[0m                 \u001b[1;34m\"raw_input was called, but this frontend does not support input requests.\"\u001b[0m\u001b[1;33m\u001b[0m\u001b[1;33m\u001b[0m\u001b[0m\n\u001b[0;32m   1005\u001b[0m             )\n\u001b[1;32m-> 1006\u001b[1;33m         return self._input_request(\n\u001b[0m\u001b[0;32m   1007\u001b[0m             \u001b[0mstr\u001b[0m\u001b[1;33m(\u001b[0m\u001b[0mprompt\u001b[0m\u001b[1;33m)\u001b[0m\u001b[1;33m,\u001b[0m\u001b[1;33m\u001b[0m\u001b[1;33m\u001b[0m\u001b[0m\n\u001b[0;32m   1008\u001b[0m             \u001b[0mself\u001b[0m\u001b[1;33m.\u001b[0m\u001b[0m_parent_ident\u001b[0m\u001b[1;33m[\u001b[0m\u001b[1;34m\"shell\"\u001b[0m\u001b[1;33m]\u001b[0m\u001b[1;33m,\u001b[0m\u001b[1;33m\u001b[0m\u001b[1;33m\u001b[0m\u001b[0m\n",
      "\u001b[1;32mC:\\Anaconda\\lib\\site-packages\\ipykernel\\kernelbase.py\u001b[0m in \u001b[0;36m_input_request\u001b[1;34m(self, prompt, ident, parent, password)\u001b[0m\n\u001b[0;32m   1049\u001b[0m             \u001b[1;32mexcept\u001b[0m \u001b[0mKeyboardInterrupt\u001b[0m\u001b[1;33m:\u001b[0m\u001b[1;33m\u001b[0m\u001b[1;33m\u001b[0m\u001b[0m\n\u001b[0;32m   1050\u001b[0m                 \u001b[1;31m# re-raise KeyboardInterrupt, to truncate traceback\u001b[0m\u001b[1;33m\u001b[0m\u001b[1;33m\u001b[0m\u001b[0m\n\u001b[1;32m-> 1051\u001b[1;33m                 \u001b[1;32mraise\u001b[0m \u001b[0mKeyboardInterrupt\u001b[0m\u001b[1;33m(\u001b[0m\u001b[1;34m\"Interrupted by user\"\u001b[0m\u001b[1;33m)\u001b[0m \u001b[1;32mfrom\u001b[0m \u001b[1;32mNone\u001b[0m\u001b[1;33m\u001b[0m\u001b[1;33m\u001b[0m\u001b[0m\n\u001b[0m\u001b[0;32m   1052\u001b[0m             \u001b[1;32mexcept\u001b[0m \u001b[0mException\u001b[0m\u001b[1;33m:\u001b[0m\u001b[1;33m\u001b[0m\u001b[1;33m\u001b[0m\u001b[0m\n\u001b[0;32m   1053\u001b[0m                 \u001b[0mself\u001b[0m\u001b[1;33m.\u001b[0m\u001b[0mlog\u001b[0m\u001b[1;33m.\u001b[0m\u001b[0mwarning\u001b[0m\u001b[1;33m(\u001b[0m\u001b[1;34m\"Invalid Message:\"\u001b[0m\u001b[1;33m,\u001b[0m \u001b[0mexc_info\u001b[0m\u001b[1;33m=\u001b[0m\u001b[1;32mTrue\u001b[0m\u001b[1;33m)\u001b[0m\u001b[1;33m\u001b[0m\u001b[1;33m\u001b[0m\u001b[0m\n",
      "\u001b[1;31mKeyboardInterrupt\u001b[0m: Interrupted by user"
     ]
    }
   ],
   "source": [
    "import math\n",
    "\n",
    "def circle(x1,y1,x2,y2):\n",
    "    if x1>x2 and y2>y2:\n",
    "        \n",
    "        xmin=x1\n",
    "        xmax=x2\n",
    "        ymin=y1\n",
    "        ymax=y2\n",
    "        print(\"xmin是\",xmin,\"xmax是\",xmax,\"ymin是\",ymin,\"ymax是\",ymax)\n",
    "        \n",
    "        radius=math.sqrt((x1-x2)**2+(y2-y1)**2)\n",
    "        print(\"半徑為:\",radius)\n",
    "        \n",
    "        area=radius* radius* (math.pi)\n",
    "        print(\"面積為:\",area)\n",
    "        \n",
    "        perimeter=2*radius*(math.pi)\n",
    "        print('周長是',perimeter)\n",
    "        \n",
    "    elif x1>x2 and y2>y1:\n",
    "        \n",
    "        xmin=x1\n",
    "        xmax=x2\n",
    "        ymin=y1\n",
    "        ymax=y2\n",
    "        print(\"xmin是\",xmin,\"xmax是\",xmax,\"ymin是\",ymin,\"ymax是\",ymax)\n",
    "        \n",
    "        radius=math.sqrt((x1-x2)**2+(y2-y1)**2)\n",
    "        print(\"半徑為:\",radius)\n",
    "        \n",
    "        area=radius* radius* (math.pi)\n",
    "        print(\"面積為:\",area)\n",
    "        \n",
    "        perimeter=2*radius*(math.pi)\n",
    "        print('周長是',perimeter)\n",
    "        \n",
    "    elif x2>x1 and y2>y1:\n",
    "        \n",
    "        xmin=x1\n",
    "        xmax=x2\n",
    "        ymin=y1\n",
    "        ymax=y2\n",
    "        print(\"xmin是\",xmin,\"xmax是\",xmax,\"ymin是\",ymin,\"ymax是\",ymax)\n",
    "        \n",
    "        radius=math.sqrt((x1-x2)**2+(y2-y1)**2)\n",
    "        print(\"半徑為:\",radius)\n",
    "        \n",
    "        area=radius* radius* (math.pi)\n",
    "        print(\"面積為:\",area)\n",
    "        \n",
    "        perimeter=2*radius*(math.pi)\n",
    "        print('周長是',perimeter)\n",
    "        \n",
    "    elif x2>x1 and y1>y2:\n",
    "        \n",
    "        xmin=x1\n",
    "        xmax=x2\n",
    "        ymin=y2\n",
    "        ymax=y1\n",
    "        print(\"xmin是\",xmin,\"xmax是\",xmax,\"ymin是\",ymin,\"ymax是\",ymax)\n",
    "        \n",
    "        radius=math.sqrt((x1-x2)**2+(y2-y1)**2)\n",
    "        print(\"半徑為:\",radius)\n",
    "        \n",
    "        area=radius* radius* (math.pi)\n",
    "        print(\"面積為:\",area)\n",
    "        \n",
    "        perimeter=2*radius*(math.pi)\n",
    "        print('周長是',perimeter)\n",
    "        \n",
    "        \n",
    "        \n",
    "a1 = int(input('請輸入x1:'))   \n",
    "b1 = int(input('請輸入y1:'))\n",
    "a2 = int(input('請輸入x2:'))   \n",
    "b2 = int(input('請輸入y2:'))\n",
    "\n",
    "circle(a1,b1,a2,b2)\n",
    "\n",
    "        "
   ]
  },
  {
   "cell_type": "code",
   "execution_count": null,
   "metadata": {},
   "outputs": [],
   "source": []
  },
  {
   "cell_type": "markdown",
   "metadata": {},
   "source": [
    "## choice 7\n",
    "\n",
    "Design a function named `find_xy`, which takes two arguments that are length of a vector (向量) formed\n",
    "by the origin (原點) and a point, and the angle (in degrees) between the vector and the X axis. \n",
    "\n",
    "It returns (x, y) coordinates of the point.\n",
    "\n",
    "#接受長度 和角度(degree)"
   ]
  },
  {
   "cell_type": "code",
   "execution_count": 30,
   "metadata": {},
   "outputs": [
    {
     "name": "stdout",
     "output_type": "stream",
     "text": [
      "長度:5\n",
      "角度:27\n",
      "x座標: 4.455032620941839 y座標: 2.2699524986977337\n"
     ]
    }
   ],
   "source": [
    "import math\n",
    "\n",
    "def xy_(x,y):\n",
    "    degree=y\n",
    "    x1=0+x*(math.cos((y*math.pi)/180))\n",
    "    y1=0+x*(math.sin((y*math.pi)/180))\n",
    "    \n",
    "    print(\"x座標:\",x1,\"y座標:\",y1,)\n",
    "    \n",
    "    \n",
    "    \n",
    "a1=int(input(\"長度:\"))\n",
    "b1=int(input(\"角度:\"))\n",
    "\n",
    "xy_(a1,b1)"
   ]
  },
  {
   "cell_type": "code",
   "execution_count": 19,
   "metadata": {},
   "outputs": [
    {
     "name": "stdout",
     "output_type": "stream",
     "text": [
      "第一個數值:3\n",
      "第二個數值:4\n",
      "-1\n"
     ]
    }
   ],
   "source": [
    "#choice 3\n",
    "def compare(a,b):\n",
    "    if a==b:\n",
    "        result=0\n",
    "    elif a<b:\n",
    "        result=-1\n",
    "    else:\n",
    "        result=1\n",
    "        \n",
    "    print (result)\n",
    "    \n",
    "    return a,b\n",
    "\n",
    "a1=int(input(\"第一個數值:\"))\n",
    "b1=int(input(\"第二個數值:\"))\n",
    "\n",
    "a,b=compare(a1,b1)    \n"
   ]
  },
  {
   "cell_type": "markdown",
   "metadata": {},
   "source": [
    "# <font color=\"red\">To complete the above tasks, use the following program as a basis.</font>"
   ]
  },
  {
   "cell_type": "code",
   "execution_count": 1,
   "metadata": {},
   "outputs": [
    {
     "name": "stdout",
     "output_type": "stream",
     "text": [
      "enter your choice (0 or \"done\" to quit):5\n",
      "choice is 5\n",
      "請輸入x1:1\n",
      "請輸入y1:0\n",
      "請輸入x2:0\n",
      "請輸入y2:1\n",
      "xmin是 0 xmax是 1 ymin是 0 ymax是 1\n",
      "面積是 1\n",
      "周長是 4\n",
      "對角線長度是 1.4142135623730951\n",
      "寬度是 1\n",
      "長度是 1\n"
     ]
    },
    {
     "ename": "NameError",
     "evalue": "name 'perimete' is not defined",
     "output_type": "error",
     "traceback": [
      "\u001b[1;31m---------------------------------------------------------------------------\u001b[0m",
      "\u001b[1;31mNameError\u001b[0m                                 Traceback (most recent call last)",
      "\u001b[1;32m~\\AppData\\Local\\Temp/ipykernel_16492/2653563901.py\u001b[0m in \u001b[0;36m<module>\u001b[1;34m\u001b[0m\n\u001b[0;32m    241\u001b[0m         \u001b[0mb2\u001b[0m \u001b[1;33m=\u001b[0m \u001b[0mint\u001b[0m\u001b[1;33m(\u001b[0m\u001b[0minput\u001b[0m\u001b[1;33m(\u001b[0m\u001b[1;34m'請輸入y2:'\u001b[0m\u001b[1;33m)\u001b[0m\u001b[1;33m)\u001b[0m\u001b[1;33m\u001b[0m\u001b[1;33m\u001b[0m\u001b[0m\n\u001b[0;32m    242\u001b[0m \u001b[1;33m\u001b[0m\u001b[0m\n\u001b[1;32m--> 243\u001b[1;33m         \u001b[0mrect\u001b[0m\u001b[1;33m(\u001b[0m\u001b[0ma1\u001b[0m\u001b[1;33m,\u001b[0m\u001b[0mb1\u001b[0m\u001b[1;33m,\u001b[0m\u001b[0ma2\u001b[0m\u001b[1;33m,\u001b[0m\u001b[0mb2\u001b[0m\u001b[1;33m)\u001b[0m\u001b[1;33m\u001b[0m\u001b[1;33m\u001b[0m\u001b[0m\n\u001b[0m\u001b[0;32m    244\u001b[0m \u001b[1;33m\u001b[0m\u001b[0m\n\u001b[0;32m    245\u001b[0m     \u001b[1;32melif\u001b[0m \u001b[0mchoice\u001b[0m \u001b[1;33m==\u001b[0m \u001b[1;36m6\u001b[0m\u001b[1;33m:\u001b[0m\u001b[1;33m\u001b[0m\u001b[1;33m\u001b[0m\u001b[0m\n",
      "\u001b[1;32m~\\AppData\\Local\\Temp/ipykernel_16492/2653563901.py\u001b[0m in \u001b[0;36mrect\u001b[1;34m(x1, y1, x2, y2)\u001b[0m\n\u001b[0;32m     73\u001b[0m         \u001b[0mprint\u001b[0m\u001b[1;33m(\u001b[0m\u001b[1;34m'長度是'\u001b[0m\u001b[1;33m,\u001b[0m\u001b[0mheight\u001b[0m\u001b[1;33m)\u001b[0m\u001b[1;33m\u001b[0m\u001b[1;33m\u001b[0m\u001b[0m\n\u001b[0;32m     74\u001b[0m \u001b[1;33m\u001b[0m\u001b[0m\n\u001b[1;32m---> 75\u001b[1;33m         \u001b[1;32mreturn\u001b[0m \u001b[0marea\u001b[0m\u001b[1;33m,\u001b[0m\u001b[0mperimete\u001b[0m\u001b[1;33m,\u001b[0m\u001b[0msize\u001b[0m\u001b[1;33m,\u001b[0m\u001b[0mwidth\u001b[0m\u001b[1;33m,\u001b[0m\u001b[0mheight\u001b[0m\u001b[1;33m\u001b[0m\u001b[1;33m\u001b[0m\u001b[0m\n\u001b[0m\u001b[0;32m     76\u001b[0m \u001b[1;33m\u001b[0m\u001b[0m\n\u001b[0;32m     77\u001b[0m \u001b[1;33m\u001b[0m\u001b[0m\n",
      "\u001b[1;31mNameError\u001b[0m: name 'perimete' is not defined"
     ]
    }
   ],
   "source": [
    "# choice 1\n",
    "def hello(name):\n",
    "    print('Hello, {}. Welcome to NCCU!'.format(name))\n",
    "    \n",
    "# choice 2\n",
    "def countdown(n):\n",
    "    if n <= 0:\n",
    "        print('Blast off!')\n",
    "    else:\n",
    "        print(n)\n",
    "        countdown(n-1)\n",
    "    \n",
    "        \n",
    "#choice 3\n",
    "def compare(a,b):\n",
    "    if a==b:\n",
    "        result=0\n",
    "    elif a<b:\n",
    "        result=-1\n",
    "    else:\n",
    "        result=1\n",
    "        \n",
    "    print (result)\n",
    "    \n",
    "    return a,b\n",
    "    \n",
    "#choice 4\n",
    "def shape(x1,y1,x2,y2):\n",
    "    \n",
    "    if x1>x2 and y1<y2:\n",
    "        if x1-x2==y2-y1:\n",
    "            result=(1)\n",
    "        else:\n",
    "            result=(2)\n",
    "    \n",
    "    elif x1<x2 and y1>y2:\n",
    "        if x2-x1==y1-y2:\n",
    "            result=(1)\n",
    "        else:\n",
    "            result=(2)\n",
    "            \n",
    "    elif x1==x2 or y1==y2 :\n",
    "        result=(0)\n",
    "        \n",
    "    print(result)\n",
    "    \n",
    "    return x1,y1,x2,y2\n",
    "\n",
    "#choice 5\n",
    "import math\n",
    "\n",
    "def rect(x1,y1,x2,y2):\n",
    "    if x1>x2 and y1<y2:\n",
    "        xmin=x2\n",
    "        xmax=x1\n",
    "        ymin=y1\n",
    "        ymax=y2\n",
    "        print(\"xmin是\",xmin,\"xmax是\",xmax,\"ymin是\",ymin,\"ymax是\",ymax)\n",
    "        \n",
    "        area=(x1-x2)*(y2-y1)\n",
    "        print('面積是',area)\n",
    "\n",
    "        perimeter=(x1-x2)*2+(y2-y1)*2\n",
    "        print('周長是',perimeter)\n",
    "        \n",
    "        size=math.sqrt((x1-x2)**2+(y1-y2)**2)\n",
    "        print('對角線長度是',size)\n",
    "        \n",
    "        width=x1-x2\n",
    "        print('寬度是',width)\n",
    "        \n",
    "        height=y2-y1\n",
    "        print('長度是',height)\n",
    "        \n",
    "        return area,perimete,size,width,height\n",
    "    \n",
    "        \n",
    "        \n",
    "    elif x1<x2 and y1>y2:\n",
    "        xmin=x1\n",
    "        xmax=x2\n",
    "        ymin=y2\n",
    "        ymax=y1\n",
    "        print(\"xmin是\",xmin,\"xmax是\",xmax,\"ymin是\",ymin,\"ymax是\",ymax)\n",
    "        \n",
    "        area=(x2-x1)*(y1-y2)\n",
    "        print('面積是',area)\n",
    "\n",
    "        perimeter=(x2-x1)*2+(y1-y2)*2\n",
    "        print('周長是',perimeter)\n",
    "        \n",
    "        size=math.sqrt((x1-x2)**2+(y1-y2)**2)\n",
    "        print('對角線長度是',size)\n",
    "        \n",
    "        width=x2-x1\n",
    "        print('寬度是',width)\n",
    "        \n",
    "        height=y1-y2\n",
    "        print('長度是',height)\n",
    "        \n",
    "        return area,perimete,size,width,height\n",
    "        \n",
    "        \n",
    "#choice 6\n",
    "import math\n",
    "\n",
    "def circle(x1,y1,x2,y2):\n",
    "    if x1>x2 and y2>y2:\n",
    "        \n",
    "        xmin=x1\n",
    "        xmax=x2\n",
    "        ymin=y1\n",
    "        ymax=y2\n",
    "        print(\"xmin是\",xmin,\"xmax是\",xmax,\"ymin是\",ymin,\"ymax是\",ymax)\n",
    "        \n",
    "        radius=math.sqrt((x1-x2)**2+(y2-y1)**2)\n",
    "        print(\"半徑為:\",radius)\n",
    "        \n",
    "        area=radius* radius* (math.pi)\n",
    "        print(\"面積為:\",area)\n",
    "        \n",
    "        perimeter=2*radius*(math.pi)\n",
    "        print('周長是',perimeter)\n",
    "        \n",
    "        return radius,area,perimete\n",
    "        \n",
    "    elif x1>x2 and y2>y1:\n",
    "        \n",
    "        xmin=x1\n",
    "        xmax=x2\n",
    "        ymin=y1\n",
    "        ymax=y2\n",
    "        print(\"xmin是\",xmin,\"xmax是\",xmax,\"ymin是\",ymin,\"ymax是\",ymax)\n",
    "        \n",
    "        radius=math.sqrt((x1-x2)**2+(y2-y1)**2)\n",
    "        print(\"半徑為:\",radius)\n",
    "        \n",
    "        area=radius* radius* (math.pi)\n",
    "        print(\"面積為:\",area)\n",
    "        \n",
    "        perimeter=2*radius*(math.pi)\n",
    "        print('周長是',perimeter)\n",
    "        return radius,area,perimete\n",
    "        \n",
    "    elif x2>x1 and y2>y1:\n",
    "        \n",
    "        xmin=x1\n",
    "        xmax=x2\n",
    "        ymin=y1\n",
    "        ymax=y2\n",
    "        print(\"xmin是\",xmin,\"xmax是\",xmax,\"ymin是\",ymin,\"ymax是\",ymax)\n",
    "        \n",
    "        radius=math.sqrt((x1-x2)**2+(y2-y1)**2)\n",
    "        print(\"半徑為:\",radius)\n",
    "        \n",
    "        area=radius* radius* (math.pi)\n",
    "        print(\"面積為:\",area)\n",
    "        \n",
    "        perimeter=2*radius*(math.pi)\n",
    "        print('周長是',perimeter)\n",
    "        return radius,area,perimete\n",
    "    \n",
    "        \n",
    "    elif x2>x1 and y1>y2:\n",
    "        \n",
    "        xmin=x1\n",
    "        xmax=x2\n",
    "        ymin=y2\n",
    "        ymax=y1\n",
    "        print(\"xmin是\",xmin,\"xmax是\",xmax,\"ymin是\",ymin,\"ymax是\",ymax)\n",
    "        \n",
    "        radius=math.sqrt((x1-x2)**2+(y2-y1)**2)\n",
    "        print(\"半徑為:\",radius)\n",
    "        \n",
    "        area=radius* radius* (math.pi)\n",
    "        print(\"面積為:\",area)\n",
    "        \n",
    "        perimeter=2*radius*(math.pi)\n",
    "        print('周長是',perimeter)\n",
    "        return radius,area,perimete\n",
    "        \n",
    "#choice 7\n",
    "\n",
    "import math\n",
    "\n",
    "def xy_(x,y):\n",
    "    degree=y\n",
    "    x1=0+x*(math.cos((y*math.pi)/180))\n",
    "    y1=0+x*(math.sin((y*math.pi)/180))\n",
    "    \n",
    "    print(\"x座標:\",x1,\"y座標:\",y1,)\n",
    "    \n",
    "    return x1,y1\n",
    "    \n",
    "    \n",
    "    \n",
    "    \n",
    "\n",
    "\n",
    "        \n",
    "while(True):\n",
    "    s = input('enter your choice (0 or \"done\" to quit):')\n",
    "    \n",
    "    if s == 'done':\n",
    "        print('choice is done')\n",
    "        break\n",
    "        \n",
    "    choice = int(s)\n",
    "    \n",
    "    if choice == 1:\n",
    "        print('choice is {}'.format(choice))\n",
    "        s = input('enter your name:')\n",
    "        hello(s)\n",
    "    elif choice == 2:\n",
    "        print('choice is {}'.format(choice))\n",
    "        number = int(input('enter an integer number:'))\n",
    "        countdown(number)\n",
    "        \n",
    "        \n",
    "    elif choice == 3:\n",
    "        print('choice is {}'.format(choice))\n",
    "        a1=int(input(\"第一個數值:\"))\n",
    "        b1=int(input(\"第二個數值:\"))\n",
    "\n",
    "        a,b=compare(a1,b1)\n",
    "        \n",
    "    elif choice == 4:\n",
    "        print('choice is {}'.format(choice))\n",
    "        a1 = int(input('請輸入x1:'))   \n",
    "        b1 = int(input('請輸入y1:'))\n",
    "        a2 = int(input('請輸入x2:'))   \n",
    "        b2 = int(input('請輸入y2:'))\n",
    "\n",
    "        x1,y1,x2,y2=shape(a1,b1,a2,b2)\n",
    "        \n",
    "    elif choice == 5:\n",
    "        print('choice is {}'.format(choice))\n",
    "        a1 = int(input('請輸入x1:'))   \n",
    "        b1 = int(input('請輸入y1:'))\n",
    "        a2 = int(input('請輸入x2:'))   \n",
    "        b2 = int(input('請輸入y2:'))\n",
    "\n",
    "        rect(a1,b1,a2,b2)\n",
    "        \n",
    "    elif choice == 6:\n",
    "        print('choice is {}'.format(choice))\n",
    "        a1 = int(input('請輸入x1:'))   \n",
    "        b1 = int(input('請輸入y1:'))\n",
    "        a2 = int(input('請輸入x2:'))   \n",
    "        b2 = int(input('請輸入y2:'))\n",
    "\n",
    "        circle(a1,b1,a2,b2)\n",
    "        \n",
    "    elif choice == 7:\n",
    "        print('choice is {}'.format(choice))\n",
    "        a1=int(input(\"長度:\"))\n",
    "        b1=int(input(\"角度:\"))\n",
    "\n",
    "        xy_(a1,b1)\n",
    "        \n",
    "        \n",
    "        \n",
    "        \n",
    "        \n",
    "    elif choice == 0:\n",
    "        print('choice is 0')\n",
    "        break\n",
    "       \n",
    "        \n",
    "print('*** Thank you! ***')"
   ]
  },
  {
   "cell_type": "markdown",
   "metadata": {},
   "source": [
    "## The following program shows how to return more than one value from a function."
   ]
  },
  {
   "cell_type": "code",
   "execution_count": null,
   "metadata": {},
   "outputs": [],
   "source": [
    "def convert(h):\n",
    "    '''\n",
    "    It takes an argument in centimeter, and returns two values: meter, feet.\n",
    "    '''\n",
    "    m = h / 100.0\n",
    "    ft = h / (2.54 * 12)\n",
    "    \n",
    "    return m, ft\n",
    "\n",
    "cm = float(input('Please enter height in centimeter:'))\n",
    "meter, feet = convert(cm)\n",
    "print('centimeter = ', cm)\n",
    "print('meter = ', meter)\n",
    "print('feet = ', feet)"
   ]
  },
  {
   "cell_type": "code",
   "execution_count": null,
   "metadata": {},
   "outputs": [],
   "source": []
  }
 ],
 "metadata": {
  "kernelspec": {
   "display_name": "Python 3 (ipykernel)",
   "language": "python",
   "name": "python3"
  },
  "language_info": {
   "codemirror_mode": {
    "name": "ipython",
    "version": 3
   },
   "file_extension": ".py",
   "mimetype": "text/x-python",
   "name": "python",
   "nbconvert_exporter": "python",
   "pygments_lexer": "ipython3",
   "version": "3.9.7"
  }
 },
 "nbformat": 4,
 "nbformat_minor": 4
}
